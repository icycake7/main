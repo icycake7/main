{
 "cells": [
  {
   "cell_type": "code",
   "execution_count": 4,
   "id": "a084520d",
   "metadata": {},
   "outputs": [],
   "source": [
    "# Import Dependencies\n",
    "import pandas as pd\n",
    "import numpy as np\n",
    "from scipy import optimize\n",
    "\n",
    "# Plots as needed\n",
    "import matplotlib.pyplot as plt\n",
    "\n",
    "from sklearn.model_selection import train_test_split\n",
    "from sklearn.ensemble import GradientBoostingRegressor\n",
    "from sklearn.preprocessing import StandardScaler\n",
    "from sklearn.preprocessing import OneHotEncoder\n",
    "from sklearn.metrics import mean_squared_error\n",
    "from sklearn.model_selection import GridSearchCV\n",
    "from sklearn.ensemble import RandomForestRegressor\n",
    "from sklearn.linear_model import LassoCV\n",
    "from sklearn.linear_model import ElasticNetCV\n",
    "from sklearn.linear_model import RidgeCV\n",
    "from sklearn.ensemble import VotingRegressor\n",
    "from sklearn.pipeline import make_pipeline\n",
    "from sklearn.pipeline import Pipeline\n",
    "from sklearn.compose import ColumnTransformer\n",
    "from sklearn.impute import SimpleImputer\n",
    "from sklearn.svm import SVR\n",
    "\n",
    "# DB interface\n",
    "from sqlalchemy import create_engine\n",
    "from config import db_password"
   ]
  },
  {
   "cell_type": "markdown",
   "id": "fabeaa4d",
   "metadata": {},
   "source": [
    "## Interface with Database and create DataFrames"
   ]
  },
  {
   "cell_type": "code",
   "execution_count": 5,
   "id": "719bd363",
   "metadata": {},
   "outputs": [],
   "source": [
    "# Construct db string\n",
    "user = 'postgres'\n",
    "host = 'housing-prices.ch2ctomvepex.us-east-1.rds.amazonaws.com'\n",
    "name = 'housing-prices'\n",
    "\n",
    "db_string = f'postgresql://{user}:{db_password}@{host}/{name}'"
   ]
  },
  {
   "cell_type": "code",
   "execution_count": 6,
   "id": "1328639c",
   "metadata": {},
   "outputs": [],
   "source": [
    "# Create Connection Engine\n",
    "\n",
    "engine = create_engine(db_string)"
   ]
  },
  {
   "cell_type": "code",
   "execution_count": 7,
   "id": "a221f6a8",
   "metadata": {},
   "outputs": [
    {
     "data": {
      "text/html": [
       "<div>\n",
       "<style scoped>\n",
       "    .dataframe tbody tr th:only-of-type {\n",
       "        vertical-align: middle;\n",
       "    }\n",
       "\n",
       "    .dataframe tbody tr th {\n",
       "        vertical-align: top;\n",
       "    }\n",
       "\n",
       "    .dataframe thead th {\n",
       "        text-align: right;\n",
       "    }\n",
       "</style>\n",
       "<table border=\"1\" class=\"dataframe\">\n",
       "  <thead>\n",
       "    <tr style=\"text-align: right;\">\n",
       "      <th></th>\n",
       "      <th>price</th>\n",
       "      <th>bedroom</th>\n",
       "      <th>sqft</th>\n",
       "      <th>neighborhood</th>\n",
       "      <th>bathroom</th>\n",
       "      <th>amenity_count</th>\n",
       "      <th>cityid</th>\n",
       "    </tr>\n",
       "  </thead>\n",
       "  <tbody>\n",
       "    <tr>\n",
       "      <th>0</th>\n",
       "      <td>3985</td>\n",
       "      <td>2</td>\n",
       "      <td>920.0</td>\n",
       "      <td>cole valley / ashbury hts</td>\n",
       "      <td>1.0</td>\n",
       "      <td>5</td>\n",
       "      <td>2</td>\n",
       "    </tr>\n",
       "    <tr>\n",
       "      <th>1</th>\n",
       "      <td>3961</td>\n",
       "      <td>1</td>\n",
       "      <td>745.0</td>\n",
       "      <td>SOMA / south beach</td>\n",
       "      <td>1.0</td>\n",
       "      <td>9</td>\n",
       "      <td>2</td>\n",
       "    </tr>\n",
       "    <tr>\n",
       "      <th>2</th>\n",
       "      <td>7435</td>\n",
       "      <td>3</td>\n",
       "      <td>1146.0</td>\n",
       "      <td>SOMA / south beach</td>\n",
       "      <td>2.0</td>\n",
       "      <td>9</td>\n",
       "      <td>2</td>\n",
       "    </tr>\n",
       "    <tr>\n",
       "      <th>3</th>\n",
       "      <td>2785</td>\n",
       "      <td>2</td>\n",
       "      <td>1000.0</td>\n",
       "      <td>alamo square / nopa</td>\n",
       "      <td>1.5</td>\n",
       "      <td>7</td>\n",
       "      <td>2</td>\n",
       "    </tr>\n",
       "    <tr>\n",
       "      <th>4</th>\n",
       "      <td>7250</td>\n",
       "      <td>3</td>\n",
       "      <td>1146.0</td>\n",
       "      <td>SOMA / south beach</td>\n",
       "      <td>2.0</td>\n",
       "      <td>9</td>\n",
       "      <td>2</td>\n",
       "    </tr>\n",
       "  </tbody>\n",
       "</table>\n",
       "</div>"
      ],
      "text/plain": [
       "   price  bedroom    sqft               neighborhood  bathroom  amenity_count  \\\n",
       "0   3985        2   920.0  cole valley / ashbury hts       1.0              5   \n",
       "1   3961        1   745.0         SOMA / south beach       1.0              9   \n",
       "2   7435        3  1146.0         SOMA / south beach       2.0              9   \n",
       "3   2785        2  1000.0        alamo square / nopa       1.5              7   \n",
       "4   7250        3  1146.0         SOMA / south beach       2.0              9   \n",
       "\n",
       "   cityid  \n",
       "0       2  \n",
       "1       2  \n",
       "2       2  \n",
       "3       2  \n",
       "4       2  "
      ]
     },
     "execution_count": 7,
     "metadata": {},
     "output_type": "execute_result"
    }
   ],
   "source": [
    "# Example - load data from RDS into pandas DataFrame\n",
    "\n",
    "sf_db = pd.read_sql_table('sanfran', engine)\n",
    "sf_db.head()"
   ]
  },
  {
   "cell_type": "code",
   "execution_count": 17,
   "id": "f54e8c15",
   "metadata": {},
   "outputs": [
    {
     "data": {
      "text/html": [
       "<div>\n",
       "<style scoped>\n",
       "    .dataframe tbody tr th:only-of-type {\n",
       "        vertical-align: middle;\n",
       "    }\n",
       "\n",
       "    .dataframe tbody tr th {\n",
       "        vertical-align: top;\n",
       "    }\n",
       "\n",
       "    .dataframe thead th {\n",
       "        text-align: right;\n",
       "    }\n",
       "</style>\n",
       "<table border=\"1\" class=\"dataframe\">\n",
       "  <thead>\n",
       "    <tr style=\"text-align: right;\">\n",
       "      <th></th>\n",
       "      <th>price</th>\n",
       "      <th>sqft</th>\n",
       "      <th>beds</th>\n",
       "      <th>bath</th>\n",
       "      <th>laundry</th>\n",
       "      <th>pets</th>\n",
       "      <th>housing_type</th>\n",
       "      <th>parking</th>\n",
       "      <th>hood_district</th>\n",
       "    </tr>\n",
       "  </thead>\n",
       "  <tbody>\n",
       "    <tr>\n",
       "      <th>0</th>\n",
       "      <td>6800</td>\n",
       "      <td>1600.0</td>\n",
       "      <td>2.0</td>\n",
       "      <td>2.0</td>\n",
       "      <td>(a) in-unit</td>\n",
       "      <td>(d) no pets</td>\n",
       "      <td>(c) multi</td>\n",
       "      <td>(b) protected</td>\n",
       "      <td>7.0</td>\n",
       "    </tr>\n",
       "    <tr>\n",
       "      <th>1</th>\n",
       "      <td>3500</td>\n",
       "      <td>550.0</td>\n",
       "      <td>1.0</td>\n",
       "      <td>1.0</td>\n",
       "      <td>(a) in-unit</td>\n",
       "      <td>(a) both</td>\n",
       "      <td>(c) multi</td>\n",
       "      <td>(b) protected</td>\n",
       "      <td>7.0</td>\n",
       "    </tr>\n",
       "    <tr>\n",
       "      <th>2</th>\n",
       "      <td>5100</td>\n",
       "      <td>1300.0</td>\n",
       "      <td>2.0</td>\n",
       "      <td>1.0</td>\n",
       "      <td>(a) in-unit</td>\n",
       "      <td>(a) both</td>\n",
       "      <td>(c) multi</td>\n",
       "      <td>(d) no parking</td>\n",
       "      <td>7.0</td>\n",
       "    </tr>\n",
       "    <tr>\n",
       "      <th>3</th>\n",
       "      <td>9000</td>\n",
       "      <td>3500.0</td>\n",
       "      <td>3.0</td>\n",
       "      <td>2.5</td>\n",
       "      <td>(a) in-unit</td>\n",
       "      <td>(d) no pets</td>\n",
       "      <td>(c) multi</td>\n",
       "      <td>(b) protected</td>\n",
       "      <td>7.0</td>\n",
       "    </tr>\n",
       "    <tr>\n",
       "      <th>4</th>\n",
       "      <td>3100</td>\n",
       "      <td>561.0</td>\n",
       "      <td>1.0</td>\n",
       "      <td>1.0</td>\n",
       "      <td>(c) no laundry</td>\n",
       "      <td>(a) both</td>\n",
       "      <td>(c) multi</td>\n",
       "      <td>(d) no parking</td>\n",
       "      <td>7.0</td>\n",
       "    </tr>\n",
       "  </tbody>\n",
       "</table>\n",
       "</div>"
      ],
      "text/plain": [
       "   price    sqft  beds  bath         laundry         pets housing_type  \\\n",
       "0   6800  1600.0   2.0   2.0     (a) in-unit  (d) no pets    (c) multi   \n",
       "1   3500   550.0   1.0   1.0     (a) in-unit     (a) both    (c) multi   \n",
       "2   5100  1300.0   2.0   1.0     (a) in-unit     (a) both    (c) multi   \n",
       "3   9000  3500.0   3.0   2.5     (a) in-unit  (d) no pets    (c) multi   \n",
       "4   3100   561.0   1.0   1.0  (c) no laundry     (a) both    (c) multi   \n",
       "\n",
       "          parking  hood_district  \n",
       "0   (b) protected            7.0  \n",
       "1   (b) protected            7.0  \n",
       "2  (d) no parking            7.0  \n",
       "3   (b) protected            7.0  \n",
       "4  (d) no parking            7.0  "
      ]
     },
     "execution_count": 17,
     "metadata": {},
     "output_type": "execute_result"
    }
   ],
   "source": [
    "# Example Data from CSV used here\n",
    "\n",
    "# Import Data\n",
    "sf_df = pd.read_csv(\"../../First Segment Rubric - Sample Data/sf_clean.csv\")\n",
    "sf_df.head()"
   ]
  },
  {
   "cell_type": "markdown",
   "id": "46c67201",
   "metadata": {},
   "source": [
    "## Examine data"
   ]
  },
  {
   "cell_type": "code",
   "execution_count": 18,
   "id": "2a2e21fa",
   "metadata": {},
   "outputs": [],
   "source": [
    "# Hood District previously deemed unimportant\n",
    "\n",
    "sf_df = sf_df.drop(columns='hood_district', axis=1)"
   ]
  },
  {
   "cell_type": "code",
   "execution_count": 19,
   "id": "0097d8b0",
   "metadata": {},
   "outputs": [
    {
     "data": {
      "text/plain": [
       "['laundry', 'pets', 'housing_type', 'parking']"
      ]
     },
     "execution_count": 19,
     "metadata": {},
     "output_type": "execute_result"
    }
   ],
   "source": [
    "# List categorical variables\n",
    "sf_cat = sf_df.dtypes[sf_df.dtypes == \"object\"].index.tolist()\n",
    "sf_cat"
   ]
  },
  {
   "cell_type": "code",
   "execution_count": 20,
   "id": "59f279fc",
   "metadata": {},
   "outputs": [
    {
     "data": {
      "text/plain": [
       "['price', 'sqft', 'beds', 'bath']"
      ]
     },
     "execution_count": 20,
     "metadata": {},
     "output_type": "execute_result"
    }
   ],
   "source": [
    "# List numerical variables\n",
    "sf_num = sf_df.dtypes[sf_df.dtypes != \"object\"].index.tolist()\n",
    "sf_num"
   ]
  },
  {
   "cell_type": "code",
   "execution_count": 21,
   "id": "0f2749cf",
   "metadata": {},
   "outputs": [],
   "source": [
    "# Processs the entire DataFrame\n",
    "\n",
    "# TODO: Add imputer to handle np.nan\n",
    "\n",
    "# Encode cat. variables\n",
    "enc = OneHotEncoder(sparse=False)\n",
    "\n",
    "sf_encode = pd.DataFrame(enc.fit_transform(sf_df[sf_cat]))\n",
    "\n",
    "sf_encode.columns = enc.get_feature_names_out(sf_cat)\n",
    "#sf_encode.head()"
   ]
  },
  {
   "cell_type": "code",
   "execution_count": 22,
   "id": "79552101",
   "metadata": {},
   "outputs": [
    {
     "data": {
      "text/html": [
       "<div>\n",
       "<style scoped>\n",
       "    .dataframe tbody tr th:only-of-type {\n",
       "        vertical-align: middle;\n",
       "    }\n",
       "\n",
       "    .dataframe tbody tr th {\n",
       "        vertical-align: top;\n",
       "    }\n",
       "\n",
       "    .dataframe thead th {\n",
       "        text-align: right;\n",
       "    }\n",
       "</style>\n",
       "<table border=\"1\" class=\"dataframe\">\n",
       "  <thead>\n",
       "    <tr style=\"text-align: right;\">\n",
       "      <th></th>\n",
       "      <th>price</th>\n",
       "      <th>sqft</th>\n",
       "      <th>beds</th>\n",
       "      <th>bath</th>\n",
       "      <th>laundry_(a) in-unit</th>\n",
       "      <th>laundry_(b) on-site</th>\n",
       "      <th>laundry_(c) no laundry</th>\n",
       "      <th>pets_(a) both</th>\n",
       "      <th>pets_(b) dogs</th>\n",
       "      <th>pets_(c) cats</th>\n",
       "      <th>pets_(d) no pets</th>\n",
       "      <th>housing_type_(a) single</th>\n",
       "      <th>housing_type_(b) double</th>\n",
       "      <th>housing_type_(c) multi</th>\n",
       "      <th>parking_(a) valet</th>\n",
       "      <th>parking_(b) protected</th>\n",
       "      <th>parking_(c) off-street</th>\n",
       "      <th>parking_(d) no parking</th>\n",
       "    </tr>\n",
       "  </thead>\n",
       "  <tbody>\n",
       "    <tr>\n",
       "      <th>0</th>\n",
       "      <td>6800</td>\n",
       "      <td>1600.0</td>\n",
       "      <td>2.0</td>\n",
       "      <td>2.0</td>\n",
       "      <td>1.0</td>\n",
       "      <td>0.0</td>\n",
       "      <td>0.0</td>\n",
       "      <td>0.0</td>\n",
       "      <td>0.0</td>\n",
       "      <td>0.0</td>\n",
       "      <td>1.0</td>\n",
       "      <td>0.0</td>\n",
       "      <td>0.0</td>\n",
       "      <td>1.0</td>\n",
       "      <td>0.0</td>\n",
       "      <td>1.0</td>\n",
       "      <td>0.0</td>\n",
       "      <td>0.0</td>\n",
       "    </tr>\n",
       "    <tr>\n",
       "      <th>1</th>\n",
       "      <td>3500</td>\n",
       "      <td>550.0</td>\n",
       "      <td>1.0</td>\n",
       "      <td>1.0</td>\n",
       "      <td>1.0</td>\n",
       "      <td>0.0</td>\n",
       "      <td>0.0</td>\n",
       "      <td>1.0</td>\n",
       "      <td>0.0</td>\n",
       "      <td>0.0</td>\n",
       "      <td>0.0</td>\n",
       "      <td>0.0</td>\n",
       "      <td>0.0</td>\n",
       "      <td>1.0</td>\n",
       "      <td>0.0</td>\n",
       "      <td>1.0</td>\n",
       "      <td>0.0</td>\n",
       "      <td>0.0</td>\n",
       "    </tr>\n",
       "    <tr>\n",
       "      <th>2</th>\n",
       "      <td>5100</td>\n",
       "      <td>1300.0</td>\n",
       "      <td>2.0</td>\n",
       "      <td>1.0</td>\n",
       "      <td>1.0</td>\n",
       "      <td>0.0</td>\n",
       "      <td>0.0</td>\n",
       "      <td>1.0</td>\n",
       "      <td>0.0</td>\n",
       "      <td>0.0</td>\n",
       "      <td>0.0</td>\n",
       "      <td>0.0</td>\n",
       "      <td>0.0</td>\n",
       "      <td>1.0</td>\n",
       "      <td>0.0</td>\n",
       "      <td>0.0</td>\n",
       "      <td>0.0</td>\n",
       "      <td>1.0</td>\n",
       "    </tr>\n",
       "    <tr>\n",
       "      <th>3</th>\n",
       "      <td>9000</td>\n",
       "      <td>3500.0</td>\n",
       "      <td>3.0</td>\n",
       "      <td>2.5</td>\n",
       "      <td>1.0</td>\n",
       "      <td>0.0</td>\n",
       "      <td>0.0</td>\n",
       "      <td>0.0</td>\n",
       "      <td>0.0</td>\n",
       "      <td>0.0</td>\n",
       "      <td>1.0</td>\n",
       "      <td>0.0</td>\n",
       "      <td>0.0</td>\n",
       "      <td>1.0</td>\n",
       "      <td>0.0</td>\n",
       "      <td>1.0</td>\n",
       "      <td>0.0</td>\n",
       "      <td>0.0</td>\n",
       "    </tr>\n",
       "    <tr>\n",
       "      <th>4</th>\n",
       "      <td>3100</td>\n",
       "      <td>561.0</td>\n",
       "      <td>1.0</td>\n",
       "      <td>1.0</td>\n",
       "      <td>0.0</td>\n",
       "      <td>0.0</td>\n",
       "      <td>1.0</td>\n",
       "      <td>1.0</td>\n",
       "      <td>0.0</td>\n",
       "      <td>0.0</td>\n",
       "      <td>0.0</td>\n",
       "      <td>0.0</td>\n",
       "      <td>0.0</td>\n",
       "      <td>1.0</td>\n",
       "      <td>0.0</td>\n",
       "      <td>0.0</td>\n",
       "      <td>0.0</td>\n",
       "      <td>1.0</td>\n",
       "    </tr>\n",
       "  </tbody>\n",
       "</table>\n",
       "</div>"
      ],
      "text/plain": [
       "   price    sqft  beds  bath  laundry_(a) in-unit  laundry_(b) on-site  \\\n",
       "0   6800  1600.0   2.0   2.0                  1.0                  0.0   \n",
       "1   3500   550.0   1.0   1.0                  1.0                  0.0   \n",
       "2   5100  1300.0   2.0   1.0                  1.0                  0.0   \n",
       "3   9000  3500.0   3.0   2.5                  1.0                  0.0   \n",
       "4   3100   561.0   1.0   1.0                  0.0                  0.0   \n",
       "\n",
       "   laundry_(c) no laundry  pets_(a) both  pets_(b) dogs  pets_(c) cats  \\\n",
       "0                     0.0            0.0            0.0            0.0   \n",
       "1                     0.0            1.0            0.0            0.0   \n",
       "2                     0.0            1.0            0.0            0.0   \n",
       "3                     0.0            0.0            0.0            0.0   \n",
       "4                     1.0            1.0            0.0            0.0   \n",
       "\n",
       "   pets_(d) no pets  housing_type_(a) single  housing_type_(b) double  \\\n",
       "0               1.0                      0.0                      0.0   \n",
       "1               0.0                      0.0                      0.0   \n",
       "2               0.0                      0.0                      0.0   \n",
       "3               1.0                      0.0                      0.0   \n",
       "4               0.0                      0.0                      0.0   \n",
       "\n",
       "   housing_type_(c) multi  parking_(a) valet  parking_(b) protected  \\\n",
       "0                     1.0                0.0                    1.0   \n",
       "1                     1.0                0.0                    1.0   \n",
       "2                     1.0                0.0                    0.0   \n",
       "3                     1.0                0.0                    1.0   \n",
       "4                     1.0                0.0                    0.0   \n",
       "\n",
       "   parking_(c) off-street  parking_(d) no parking  \n",
       "0                     0.0                     0.0  \n",
       "1                     0.0                     0.0  \n",
       "2                     0.0                     1.0  \n",
       "3                     0.0                     0.0  \n",
       "4                     0.0                     1.0  "
      ]
     },
     "execution_count": 22,
     "metadata": {},
     "output_type": "execute_result"
    }
   ],
   "source": [
    "# Merge  a copy of sf_df and sf_encode\n",
    "sf_fteval = sf_df.copy()\n",
    "sf_fteval = sf_fteval.merge(sf_encode, left_index=True, right_index=True)\n",
    "sf_fteval = sf_fteval.drop(columns=sf_cat, axis=1)\n",
    "sf_fteval.head(5)"
   ]
  },
  {
   "cell_type": "markdown",
   "id": "fc8a8120",
   "metadata": {},
   "source": [
    "### Evaluate Features and Elimate as Appropriate"
   ]
  },
  {
   "cell_type": "code",
   "execution_count": 23,
   "id": "fc67247a",
   "metadata": {},
   "outputs": [
    {
     "data": {
      "text/plain": [
       "<matplotlib.colorbar.Colorbar at 0x261b40dfdc0>"
      ]
     },
     "execution_count": 23,
     "metadata": {},
     "output_type": "execute_result"
    },
    {
     "data": {
      "image/png": "[encoded data removed]",
      "text/plain": [
       "<Figure size 480x480 with 2 Axes>"
      ]
     },
     "metadata": {},
     "output_type": "display_data"
    }
   ],
   "source": [
    "# Ecamine the correlation between features.\n",
    "sf_corr = sf_fteval.corr()\n",
    "\n",
    "# Plot relationship\n",
    "plt.matshow(sf_fteval.corr())\n",
    "plt.xticks(ticks=range(sf_fteval.shape[1]),labels=sf_fteval.columns,rotation=90)\n",
    "plt.yticks(ticks=range(sf_fteval.shape[1]),labels=sf_fteval.columns)\n",
    "plt.colorbar()"
   ]
  },
  {
   "cell_type": "code",
   "execution_count": 61,
   "id": "8ba0f18e",
   "metadata": {},
   "outputs": [
    {
     "data": {
      "text/plain": [
       "([<matplotlib.axis.XTick at 0x261ba3d2b20>,\n",
       "  <matplotlib.axis.XTick at 0x261ba3d2af0>,\n",
       "  <matplotlib.axis.XTick at 0x261bab6e3d0>,\n",
       "  <matplotlib.axis.XTick at 0x261baaf5730>,\n",
       "  <matplotlib.axis.XTick at 0x261baaf5e80>,\n",
       "  <matplotlib.axis.XTick at 0x261bab06610>,\n",
       "  <matplotlib.axis.XTick at 0x261bab06d60>,\n",
       "  <matplotlib.axis.XTick at 0x261bab06d90>,\n",
       "  <matplotlib.axis.XTick at 0x261baaf5be0>,\n",
       "  <matplotlib.axis.XTick at 0x261bab12730>,\n",
       "  <matplotlib.axis.XTick at 0x261bab12e80>,\n",
       "  <matplotlib.axis.XTick at 0x261bab14610>,\n",
       "  <matplotlib.axis.XTick at 0x261bab14d60>,\n",
       "  <matplotlib.axis.XTick at 0x261bab1d4f0>,\n",
       "  <matplotlib.axis.XTick at 0x261bab149a0>,\n",
       "  <matplotlib.axis.XTick at 0x261baaf5220>,\n",
       "  <matplotlib.axis.XTick at 0x261bab1d190>],\n",
       " [Text(0, 0, 'sqft'),\n",
       "  Text(1, 0, 'beds'),\n",
       "  Text(2, 0, 'bath'),\n",
       "  Text(3, 0, 'laundry_(a) in-unit'),\n",
       "  Text(4, 0, 'laundry_(b) on-site'),\n",
       "  Text(5, 0, 'laundry_(c) no laundry'),\n",
       "  Text(6, 0, 'pets_(a) both'),\n",
       "  Text(7, 0, 'pets_(b) dogs'),\n",
       "  Text(8, 0, 'pets_(c) cats'),\n",
       "  Text(9, 0, 'pets_(d) no pets'),\n",
       "  Text(10, 0, 'housing_type_(a) single'),\n",
       "  Text(11, 0, 'housing_type_(b) double'),\n",
       "  Text(12, 0, 'housing_type_(c) multi'),\n",
       "  Text(13, 0, 'parking_(a) valet'),\n",
       "  Text(14, 0, 'parking_(b) protected'),\n",
       "  Text(15, 0, 'parking_(c) off-street'),\n",
       "  Text(16, 0, 'parking_(d) no parking')])"
      ]
     },
     "execution_count": 61,
     "metadata": {},
     "output_type": "execute_result"
    },
    {
     "data": {
      "image/png": "[encoded data removed]",
      "text/plain": [
       "<Figure size 640x480 with 1 Axes>"
      ]
     },
     "metadata": {},
     "output_type": "display_data"
    }
   ],
   "source": [
    "# Unrefined plot of r vs. features\n",
    "\n",
    "plt.plot(sf_corr.price[1:])\n",
    "plt.xticks(ticks=range(len(sf_corr.price[1:])),labels=sf_corr.columns[1:],rotation=90)"
   ]
  },
  {
   "cell_type": "code",
   "execution_count": 48,
   "id": "ce53a7df",
   "metadata": {},
   "outputs": [
    {
     "name": "stdout",
     "output_type": "stream",
     "text": [
      "mean r: 0.1318160630865349\n",
      "median r: 0.03881788093358601\n",
      "std r: 0.32982670692479016\n",
      "mean r2: 0.11976197481784642\n",
      "median r2: 0.025234566055920237\n",
      "std r2: 0.21011031641021746\n"
     ]
    }
   ],
   "source": [
    "# Proposal 1: Eliminate features based on correlation with target\n",
    "\n",
    "# Select a cutoff value for elimination\n",
    "\n",
    "# Possible values or guides\n",
    "\n",
    "mean_r = sf_corr.price[1:].mean()\n",
    "print(f'mean r: {mean_r}')\n",
    "\n",
    "med_r = sf_corr.price[1:].median()\n",
    "print(f'median r: {med_r}')\n",
    "\n",
    "std_r = sf_corr.price[1:].std()\n",
    "print(f'std r: {std_r}')\n",
    "\n",
    "mean_r2 = (sf_corr.price[1:]**2).mean()\n",
    "print(f'mean r2: {mean_r2}')\n",
    "\n",
    "med_r2 = (sf_corr.price[1:]**2).median()\n",
    "print(f'median r2: {med_r2}')\n",
    "\n",
    "std_r2 = (sf_corr.price[1:]**2).std()\n",
    "print(f'std r2: {std_r2}')"
   ]
  },
  {
   "cell_type": "code",
   "execution_count": 63,
   "id": "939b70ba",
   "metadata": {},
   "outputs": [
    {
     "name": "stdout",
     "output_type": "stream",
     "text": [
      "More Higher Correlated: ['price', 'sqft', 'beds', 'bath', 'laundry_(a) in-unit', 'laundry_(b) on-site', 'laundry_(c) no laundry', 'housing_type_(a) single', 'parking_(a) valet', 'parking_(b) protected', 'parking_(d) no parking']\n",
      "Less Correlated: ['pets_(a) both', 'pets_(b) dogs', 'pets_(c) cats', 'pets_(d) no pets', 'housing_type_(b) double', 'housing_type_(c) multi', 'parking_(c) off-street']\n"
     ]
    }
   ],
   "source": [
    "# Generate lists above and below cutoff\n",
    "# In this case the mean or r is chosen\n",
    "\n",
    "higher_corr = []\n",
    "low_corr = []\n",
    "cutoff = mean_r\n",
    "\n",
    "for ft in sf_corr.price.index:\n",
    "    if sf_corr[ft][0] <= -cutoff:\n",
    "        higher_corr.append(ft)\n",
    "    elif sf_corr[ft][0] >= cutoff:\n",
    "        higher_corr.append(ft)\n",
    "    else:\n",
    "        low_corr.append(ft)\n",
    "print(f'More Higher Correlated: {higher_corr}')\n",
    "print(f'Less Correlated: {low_corr}')"
   ]
  },
  {
   "cell_type": "code",
   "execution_count": 64,
   "id": "163af0c0",
   "metadata": {},
   "outputs": [
    {
     "data": {
      "text/html": [
       "<div>\n",
       "<style scoped>\n",
       "    .dataframe tbody tr th:only-of-type {\n",
       "        vertical-align: middle;\n",
       "    }\n",
       "\n",
       "    .dataframe tbody tr th {\n",
       "        vertical-align: top;\n",
       "    }\n",
       "\n",
       "    .dataframe thead th {\n",
       "        text-align: right;\n",
       "    }\n",
       "</style>\n",
       "<table border=\"1\" class=\"dataframe\">\n",
       "  <thead>\n",
       "    <tr style=\"text-align: right;\">\n",
       "      <th></th>\n",
       "      <th>price</th>\n",
       "      <th>sqft</th>\n",
       "      <th>beds</th>\n",
       "      <th>bath</th>\n",
       "      <th>laundry_(a) in-unit</th>\n",
       "      <th>laundry_(b) on-site</th>\n",
       "      <th>laundry_(c) no laundry</th>\n",
       "      <th>housing_type_(a) single</th>\n",
       "      <th>parking_(a) valet</th>\n",
       "      <th>parking_(b) protected</th>\n",
       "      <th>parking_(d) no parking</th>\n",
       "    </tr>\n",
       "  </thead>\n",
       "  <tbody>\n",
       "    <tr>\n",
       "      <th>0</th>\n",
       "      <td>6800</td>\n",
       "      <td>1600.0</td>\n",
       "      <td>2.0</td>\n",
       "      <td>2.0</td>\n",
       "      <td>1.0</td>\n",
       "      <td>0.0</td>\n",
       "      <td>0.0</td>\n",
       "      <td>0.0</td>\n",
       "      <td>0.0</td>\n",
       "      <td>1.0</td>\n",
       "      <td>0.0</td>\n",
       "    </tr>\n",
       "    <tr>\n",
       "      <th>1</th>\n",
       "      <td>3500</td>\n",
       "      <td>550.0</td>\n",
       "      <td>1.0</td>\n",
       "      <td>1.0</td>\n",
       "      <td>1.0</td>\n",
       "      <td>0.0</td>\n",
       "      <td>0.0</td>\n",
       "      <td>0.0</td>\n",
       "      <td>0.0</td>\n",
       "      <td>1.0</td>\n",
       "      <td>0.0</td>\n",
       "    </tr>\n",
       "    <tr>\n",
       "      <th>2</th>\n",
       "      <td>5100</td>\n",
       "      <td>1300.0</td>\n",
       "      <td>2.0</td>\n",
       "      <td>1.0</td>\n",
       "      <td>1.0</td>\n",
       "      <td>0.0</td>\n",
       "      <td>0.0</td>\n",
       "      <td>0.0</td>\n",
       "      <td>0.0</td>\n",
       "      <td>0.0</td>\n",
       "      <td>1.0</td>\n",
       "    </tr>\n",
       "    <tr>\n",
       "      <th>3</th>\n",
       "      <td>9000</td>\n",
       "      <td>3500.0</td>\n",
       "      <td>3.0</td>\n",
       "      <td>2.5</td>\n",
       "      <td>1.0</td>\n",
       "      <td>0.0</td>\n",
       "      <td>0.0</td>\n",
       "      <td>0.0</td>\n",
       "      <td>0.0</td>\n",
       "      <td>1.0</td>\n",
       "      <td>0.0</td>\n",
       "    </tr>\n",
       "    <tr>\n",
       "      <th>4</th>\n",
       "      <td>3100</td>\n",
       "      <td>561.0</td>\n",
       "      <td>1.0</td>\n",
       "      <td>1.0</td>\n",
       "      <td>0.0</td>\n",
       "      <td>0.0</td>\n",
       "      <td>1.0</td>\n",
       "      <td>0.0</td>\n",
       "      <td>0.0</td>\n",
       "      <td>0.0</td>\n",
       "      <td>1.0</td>\n",
       "    </tr>\n",
       "  </tbody>\n",
       "</table>\n",
       "</div>"
      ],
      "text/plain": [
       "   price    sqft  beds  bath  laundry_(a) in-unit  laundry_(b) on-site  \\\n",
       "0   6800  1600.0   2.0   2.0                  1.0                  0.0   \n",
       "1   3500   550.0   1.0   1.0                  1.0                  0.0   \n",
       "2   5100  1300.0   2.0   1.0                  1.0                  0.0   \n",
       "3   9000  3500.0   3.0   2.5                  1.0                  0.0   \n",
       "4   3100   561.0   1.0   1.0                  0.0                  0.0   \n",
       "\n",
       "   laundry_(c) no laundry  housing_type_(a) single  parking_(a) valet  \\\n",
       "0                     0.0                      0.0                0.0   \n",
       "1                     0.0                      0.0                0.0   \n",
       "2                     0.0                      0.0                0.0   \n",
       "3                     0.0                      0.0                0.0   \n",
       "4                     1.0                      0.0                0.0   \n",
       "\n",
       "   parking_(b) protected  parking_(d) no parking  \n",
       "0                    1.0                     0.0  \n",
       "1                    1.0                     0.0  \n",
       "2                    0.0                     1.0  \n",
       "3                    1.0                     0.0  \n",
       "4                    0.0                     1.0  "
      ]
     },
     "execution_count": 64,
     "metadata": {},
     "output_type": "execute_result"
    }
   ],
   "source": [
    "# Remove Less correlated variables\n",
    "\n",
    "sf_final = sf_fteval.copy()\n",
    "\n",
    "sf_final = sf_final[higher_corr]\n",
    "sf_final.head(5)"
   ]
  },
  {
   "cell_type": "markdown",
   "id": "3dc6e24d",
   "metadata": {},
   "source": [
    "### Preprocess Finalized Feature Set"
   ]
  },
  {
   "cell_type": "code",
   "execution_count": 67,
   "id": "77d8e6d0",
   "metadata": {},
   "outputs": [],
   "source": [
    "# Remove target\n",
    "y = sf_final['price'].values\n",
    "X = sf_final.drop(columns=['price'], axis=1).values"
   ]
  },
  {
   "cell_type": "code",
   "execution_count": 68,
   "id": "f44649e7",
   "metadata": {},
   "outputs": [],
   "source": [
    "# Split the preprocessed data into a training and testing dataset\n",
    "X_train, X_test, y_train, y_test = train_test_split(X,y,random_state=42)"
   ]
  },
  {
   "cell_type": "code",
   "execution_count": 69,
   "id": "313ddb60",
   "metadata": {},
   "outputs": [],
   "source": [
    "# Scale the training data\n",
    "scaler = StandardScaler()\n",
    "\n",
    "# Fit the StandardScaler\n",
    "X_scaler = scaler.fit(X_train)\n",
    "\n",
    "# Scale the data\n",
    "X_train_scaled = X_scaler.transform(X_train)\n",
    "X_test_scaled = X_scaler.transform(X_test)"
   ]
  },
  {
   "cell_type": "markdown",
   "id": "5ee4aad1",
   "metadata": {},
   "source": [
    "## Model A: GradientBoostingRegressor"
   ]
  },
  {
   "cell_type": "code",
   "execution_count": 71,
   "id": "a4ed20c3",
   "metadata": {},
   "outputs": [
    {
     "data": {
      "text/plain": [
       "Text(200, 1000000.0, 'Best number of estimators: 57')"
      ]
     },
     "execution_count": 71,
     "metadata": {},
     "output_type": "execute_result"
    },
    {
     "data": {
      "image/png": "[encoded data removed]",
      "text/plain": [
       "<Figure size 640x480 with 1 Axes>"
      ]
     },
     "metadata": {},
     "output_type": "display_data"
    }
   ],
   "source": [
    "# Create Gradient Boosting Regressor Tree\n",
    "gbr = GradientBoostingRegressor(max_depth=2, n_estimators=500, random_state=42)\n",
    "\n",
    "# Fit to training data\n",
    "gbr.fit(X_train_scaled, y_train)\n",
    "\n",
    "# Calc. error vals in predictions\n",
    "errors = [mean_squared_error(y_test, y_pred)\n",
    "         for y_pred in gbr.staged_predict(X_test_scaled)]\n",
    "\n",
    "# Determine best number of estimators\n",
    "best_n_estimators = np.argmin(errors) + 1\n",
    "\n",
    "plt.plot(range(0,500),errors)\n",
    "plt.vlines(np.argmin(errors)+1,0.25e6,1.8e6,color='r')\n",
    "plt.xlabel(\"Number of Estimators\")\n",
    "plt.ylabel(\"Mean Squared Error of Predictions\")\n",
    "plt.title(\"MSE of Predictions by Number of Estimators\")\n",
    "plt.text(200,1e6,f'Best number of estimators: {best_n_estimators}')"
   ]
  },
  {
   "cell_type": "code",
   "execution_count": 72,
   "id": "b6391578",
   "metadata": {},
   "outputs": [
    {
     "name": "stdout",
     "output_type": "stream",
     "text": [
      "Training Score: 0.8360972252556647\n",
      "Testing Score: 0.7602926103726112\n"
     ]
    }
   ],
   "source": [
    "# Train GBR based on new n_estimators\n",
    "\n",
    "gbr = GradientBoostingRegressor(max_depth=2, n_estimators=best_n_estimators, random_state=42)\n",
    "\n",
    "gbr.fit(X_train_scaled, y_train)\n",
    "\n",
    "# Display Score\n",
    "print(f'Training Score: {gbr.score(X_train_scaled, y_train)}')\n",
    "print(f'Testing Score: {gbr.score(X_test_scaled, y_test)}')"
   ]
  },
  {
   "cell_type": "code",
   "execution_count": null,
   "id": "190338be",
   "metadata": {},
   "outputs": [],
   "source": [
    "# TODO: CV"
   ]
  },
  {
   "cell_type": "markdown",
   "id": "d896f6c9",
   "metadata": {},
   "source": [
    "## Model B: Weighted VotingRegressor"
   ]
  },
  {
   "cell_type": "markdown",
   "id": "fccd1876",
   "metadata": {},
   "source": [
    "### Create Models to be Used with GBR"
   ]
  },
  {
   "cell_type": "code",
   "execution_count": 74,
   "id": "f8d4f717",
   "metadata": {},
   "outputs": [
    {
     "name": "stdout",
     "output_type": "stream",
     "text": [
      "Train Score: 0.7419508371584633\n",
      "Test Score: 0.7472508997331809\n"
     ]
    }
   ],
   "source": [
    "# Elastic Net\n",
    "enet = ElasticNetCV(l1_ratio=[.1, .5, .7, .9, .95, .99, 1],\n",
    "                   max_iter=5000, cv=10, n_jobs=-1, random_state=42)\n",
    "enet.fit(X_train_scaled, y_train)\n",
    "\n",
    "print(f'Train Score: {enet.score(X_train_scaled, y_train)}')\n",
    "print(f'Test Score: {enet.score(X_test_scaled, y_test)}')"
   ]
  },
  {
   "cell_type": "code",
   "execution_count": 75,
   "id": "8f15b1a8",
   "metadata": {},
   "outputs": [
    {
     "name": "stdout",
     "output_type": "stream",
     "text": [
      "Training Score: 0.9410426268506719\n",
      "Testing Score: 0.7020422798262653\n"
     ]
    }
   ],
   "source": [
    "# Random Forest\n",
    "rfr = RandomForestRegressor(random_state=42)\n",
    "rfr.fit(X_train_scaled,y_train)\n",
    "\n",
    "# Display Score\n",
    "print(f'Training Score: {rfr.score(X_train_scaled, y_train)}')\n",
    "print(f'Testing Score: {rfr.score(X_test_scaled, y_test)}')"
   ]
  },
  {
   "cell_type": "code",
   "execution_count": 76,
   "id": "a1eba033",
   "metadata": {},
   "outputs": [],
   "source": [
    "# TODO: CV"
   ]
  },
  {
   "cell_type": "code",
   "execution_count": 123,
   "id": "0c3d7c1f",
   "metadata": {
    "scrolled": true
   },
   "outputs": [
    {
     "name": "stdout",
     "output_type": "stream",
     "text": [
      "Training Score: 0.7422027636622568\n",
      "Testing Score: 0.7457731696104914\n"
     ]
    }
   ],
   "source": [
    "from sklearn.linear_model import TweedieRegressor\n",
    "tr = TweedieRegressor(power=0, alpha=0, max_iter=1000)\n",
    "tr.fit(X_train_scaled, y_train)\n",
    "# Display Score\n",
    "print(f'Training Score: {tr.score(X_train_scaled, y_train)}')\n",
    "print(f'Testing Score: {tr.score(X_test_scaled, y_test)}')"
   ]
  },
  {
   "cell_type": "markdown",
   "id": "83a02ec0",
   "metadata": {},
   "source": [
    "### Minimize MSE of models"
   ]
  },
  {
   "cell_type": "code",
   "execution_count": 130,
   "id": "a111467a",
   "metadata": {},
   "outputs": [
    {
     "data": {
      "text/plain": [
       "(4,)"
      ]
     },
     "execution_count": 130,
     "metadata": {},
     "output_type": "execute_result"
    }
   ],
   "source": [
    "# Specify number of estimators\n",
    "n_est = 4\n",
    "\n",
    "# Create a 'weights' array with default values of 1/n_est\n",
    "w = (1/n_est)*np.ones(n_est)\n",
    "w.shape"
   ]
  },
  {
   "cell_type": "code",
   "execution_count": 135,
   "id": "025b7e57",
   "metadata": {},
   "outputs": [],
   "source": [
    "# Create vector of predicted values from each estimator\n",
    "enet_pred = enet.predict(X_test_scaled)\n",
    "gbr_pred = gbr.predict(X_test_scaled)\n",
    "rfr_pred = rfr.predict(X_test_scaled)\n",
    "twee_pred = tr.predict(X_test_scaled)"
   ]
  },
  {
   "cell_type": "code",
   "execution_count": 137,
   "id": "bfe6c57a",
   "metadata": {},
   "outputs": [
    {
     "data": {
      "text/plain": [
       "(248, 4)"
      ]
     },
     "execution_count": 137,
     "metadata": {},
     "output_type": "execute_result"
    }
   ],
   "source": [
    "mod_pred = np.column_stack((enet_pred,gbr_pred,rfr_pred,twee_pred))\n",
    "mod_pred.shape"
   ]
  },
  {
   "cell_type": "code",
   "execution_count": 138,
   "id": "fe26335f",
   "metadata": {},
   "outputs": [],
   "source": [
    "# Define Objective Function\n",
    "def obj_fun(weights=w,y_true=y_test,y_hat=mod_pred, n_estimators=n_est):\n",
    "    return (1/n_est)*np.sum((y_true - (weights@(y_hat.T)))**2)"
   ]
  },
  {
   "cell_type": "code",
   "execution_count": 139,
   "id": "974ca014",
   "metadata": {},
   "outputs": [],
   "source": [
    "# Define constraint(s)\n",
    "def constraints(weights=w):\n",
    "    return (1- np.sum(np.abs(weights)))"
   ]
  },
  {
   "cell_type": "code",
   "execution_count": 143,
   "id": "6ffca660",
   "metadata": {},
   "outputs": [
    {
     "data": {
      "text/plain": [
       "     fun: 31324758.024630807\n",
       "     jac: array([-45974224.5 , -43981717.  , -39517598.25, -45823259.  ])\n",
       " message: 'Optimization terminated successfully'\n",
       "    nfev: 194\n",
       "     nit: 21\n",
       "    njev: 21\n",
       "  status: 0\n",
       " success: True\n",
       "       x: array([2.60835700e-01, 5.87874308e-01, 1.51286758e-01, 3.23385235e-06])"
      ]
     },
     "execution_count": 143,
     "metadata": {},
     "output_type": "execute_result"
    }
   ],
   "source": [
    "res = optimize.minimize(obj_fun, (1/n_est)*np.ones(n_est), method='SLSQP',\n",
    "                  constraints={'fun': constraints,\n",
    "                              'type': 'eq'}, options={'maxiter': 1000})\n",
    "res"
   ]
  },
  {
   "cell_type": "code",
   "execution_count": 144,
   "id": "00af3111",
   "metadata": {},
   "outputs": [
    {
     "data": {
      "text/plain": [
       "array([2.60835700e-01, 5.87874308e-01, 1.51286758e-01, 3.23385235e-06])"
      ]
     },
     "execution_count": 144,
     "metadata": {},
     "output_type": "execute_result"
    }
   ],
   "source": [
    "optimal_mod_weights = res.x\n",
    "optimal_mod_weights"
   ]
  },
  {
   "cell_type": "code",
   "execution_count": 148,
   "id": "d357e56c",
   "metadata": {},
   "outputs": [
    {
     "data": {
      "text/plain": [
       "array([3, 4, 2, 1], dtype=int64)"
      ]
     },
     "execution_count": 148,
     "metadata": {},
     "output_type": "execute_result"
    }
   ],
   "source": [
    "# Scale weights\n",
    "\n",
    "# First argsort returns array with first value is the index of the smallest value\n",
    "# in the array provided\n",
    "scaled_weights = np.argsort(optimal_mod_weights)\n",
    "\n",
    "# Second sort returns array firs value the index of the smallest value of input\n",
    "# Such that the largest value in optimal_mod_weights will have the largest index\n",
    "# The resulting array has sorted and scaled from len(array) to 0\n",
    "\n",
    "scaled_weights = np.argsort(scaled_weights)\n",
    "\n",
    "# Add 1 to prevent zero weights\n",
    "scaled_weights = scaled_weights + 1\n",
    "scaled_weights"
   ]
  },
  {
   "cell_type": "markdown",
   "id": "02838186",
   "metadata": {},
   "source": [
    "### Create VotingRegressor with new weights"
   ]
  },
  {
   "cell_type": "code",
   "execution_count": 149,
   "id": "2b5f2656",
   "metadata": {},
   "outputs": [],
   "source": [
    "vrg = VotingRegressor([('enet',enet),('gbr',gbr),\n",
    "                      ('rfr',rfr),('tweedie',tr)],\n",
    "                     weights=scaled_weights,\n",
    "                     n_jobs=-1)"
   ]
  },
  {
   "cell_type": "code",
   "execution_count": 150,
   "id": "2abd2dec",
   "metadata": {},
   "outputs": [
    {
     "name": "stdout",
     "output_type": "stream",
     "text": [
      "Training Score: 0.8420121507609517\n",
      "Testing Score: 0.7637882773317501\n"
     ]
    }
   ],
   "source": [
    "vrg.fit(X_train_scaled, y_train)\n",
    "\n",
    "# Display Score\n",
    "print(f'Training Score: {vrg.score(X_train_scaled, y_train)}')\n",
    "print(f'Testing Score: {vrg.score(X_test_scaled, y_test)}')"
   ]
  }
 ],
 "metadata": {
  "kernelspec": {
   "display_name": "mlenv2",
   "language": "python",
   "name": "mlenv2"
  },
  "language_info": {
   "codemirror_mode": {
    "name": "ipython",
    "version": 3
   },
   "file_extension": ".py",
   "mimetype": "text/x-python",
   "name": "python",
   "nbconvert_exporter": "python",
   "pygments_lexer": "ipython3",
   "version": "3.9.15"
  }
 },
 "nbformat": 4,
 "nbformat_minor": 5
}
