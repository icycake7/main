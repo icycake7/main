{
 "cells": [
  {
   "cell_type": "code",
   "execution_count": 23,
   "id": "a084520d",
   "metadata": {},
   "outputs": [],
   "source": [
    "# Import Dependencies\n",
    "import pandas as pd\n",
    "import numpy as np\n",
    "import joblib\n",
    "\n",
    "from statsmodels.stats.outliers_influence import variance_inflation_factor\n",
    "from patsy import dmatrices\n",
    "\n",
    "# Plots as needed\n",
    "import matplotlib.pyplot as plt\n",
    "import seaborn as sns\n",
    "\n",
    "# Pre-processing\n",
    "from sklearn.preprocessing import RobustScaler\n",
    "from sklearn.preprocessing import OneHotEncoder\n",
    "from sklearn.pipeline import make_pipeline\n",
    "from sklearn.pipeline import Pipeline\n",
    "from sklearn.compose import ColumnTransformer\n",
    "from sklearn.impute import SimpleImputer\n",
    "\n",
    "# Data split\n",
    "from sklearn.model_selection import StratifiedShuffleSplit\n",
    "\n",
    "# Model\n",
    "from sklearn.ensemble import GradientBoostingRegressor\n",
    "from sklearn.ensemble import RandomForestRegressor\n",
    "from sklearn.linear_model import Lasso\n",
    "from sklearn.linear_model import ElasticNet\n",
    "from sklearn.linear_model import Ridge\n",
    "from sklearn.ensemble import VotingRegressor\n",
    "from sklearn.svm import SVR\n",
    "from sklearn.linear_model import LassoCV\n",
    "from sklearn.linear_model import ElasticNetCV\n",
    "from sklearn.linear_model import RidgeCV\n",
    "from sklearn.ensemble import AdaBoostRegressor\n",
    "from sklearn.linear_model import ARDRegression\n",
    "\n",
    "# Model Validation and Tuning\n",
    "from sklearn.model_selection import GridSearchCV\n",
    "from sklearn.model_selection import RandomizedSearchCV\n",
    "from sklearn.model_selection import cross_val_score\n",
    "\n",
    "# MSE minimization\n",
    "from sklearn.metrics import mean_squared_error\n",
    "from scipy import optimize\n",
    "\n",
    "# DB interface\n",
    "from sqlalchemy import create_engine\n",
    "from config import db_password"
   ]
  },
  {
   "cell_type": "markdown",
   "id": "fabeaa4d",
   "metadata": {},
   "source": [
    "## Interface with Database and create DataFrames"
   ]
  },
  {
   "cell_type": "code",
   "execution_count": 5,
   "id": "719bd363",
   "metadata": {},
   "outputs": [],
   "source": [
    "# Construct db string\n",
    "user = 'postgres'\n",
    "host = 'housing-prices.ch2ctomvepex.us-east-1.rds.amazonaws.com'\n",
    "name = 'housing-prices'\n",
    "\n",
    "db_string = f'postgresql://{user}:{db_password}@{host}/{name}'"
   ]
  },
  {
   "cell_type": "code",
   "execution_count": 6,
   "id": "1328639c",
   "metadata": {},
   "outputs": [],
   "source": [
    "# Create Connection Engine\n",
    "\n",
    "engine = create_engine(db_string)"
   ]
  },
  {
   "cell_type": "code",
   "execution_count": 7,
   "id": "a221f6a8",
   "metadata": {},
   "outputs": [
    {
     "data": {
      "text/html": [
       "<div>\n",
       "<style scoped>\n",
       "    .dataframe tbody tr th:only-of-type {\n",
       "        vertical-align: middle;\n",
       "    }\n",
       "\n",
       "    .dataframe tbody tr th {\n",
       "        vertical-align: top;\n",
       "    }\n",
       "\n",
       "    .dataframe thead th {\n",
       "        text-align: right;\n",
       "    }\n",
       "</style>\n",
       "<table border=\"1\" class=\"dataframe\">\n",
       "  <thead>\n",
       "    <tr style=\"text-align: right;\">\n",
       "      <th></th>\n",
       "      <th>price</th>\n",
       "      <th>bedroom</th>\n",
       "      <th>sqft</th>\n",
       "      <th>neighborhood</th>\n",
       "      <th>bathroom</th>\n",
       "      <th>amenity_count</th>\n",
       "      <th>cityid</th>\n",
       "    </tr>\n",
       "  </thead>\n",
       "  <tbody>\n",
       "    <tr>\n",
       "      <th>0</th>\n",
       "      <td>3985</td>\n",
       "      <td>2</td>\n",
       "      <td>920.0</td>\n",
       "      <td>cole valley / ashbury hts</td>\n",
       "      <td>1.0</td>\n",
       "      <td>5</td>\n",
       "      <td>2</td>\n",
       "    </tr>\n",
       "    <tr>\n",
       "      <th>1</th>\n",
       "      <td>3961</td>\n",
       "      <td>1</td>\n",
       "      <td>745.0</td>\n",
       "      <td>SOMA / south beach</td>\n",
       "      <td>1.0</td>\n",
       "      <td>9</td>\n",
       "      <td>2</td>\n",
       "    </tr>\n",
       "    <tr>\n",
       "      <th>2</th>\n",
       "      <td>7435</td>\n",
       "      <td>3</td>\n",
       "      <td>1146.0</td>\n",
       "      <td>SOMA / south beach</td>\n",
       "      <td>2.0</td>\n",
       "      <td>9</td>\n",
       "      <td>2</td>\n",
       "    </tr>\n",
       "    <tr>\n",
       "      <th>3</th>\n",
       "      <td>2785</td>\n",
       "      <td>2</td>\n",
       "      <td>1000.0</td>\n",
       "      <td>alamo square / nopa</td>\n",
       "      <td>1.5</td>\n",
       "      <td>7</td>\n",
       "      <td>2</td>\n",
       "    </tr>\n",
       "    <tr>\n",
       "      <th>4</th>\n",
       "      <td>7250</td>\n",
       "      <td>3</td>\n",
       "      <td>1146.0</td>\n",
       "      <td>SOMA / south beach</td>\n",
       "      <td>2.0</td>\n",
       "      <td>9</td>\n",
       "      <td>2</td>\n",
       "    </tr>\n",
       "  </tbody>\n",
       "</table>\n",
       "</div>"
      ],
      "text/plain": [
       "   price  bedroom    sqft               neighborhood  bathroom  amenity_count  \\\n",
       "0   3985        2   920.0  cole valley / ashbury hts       1.0              5   \n",
       "1   3961        1   745.0         SOMA / south beach       1.0              9   \n",
       "2   7435        3  1146.0         SOMA / south beach       2.0              9   \n",
       "3   2785        2  1000.0        alamo square / nopa       1.5              7   \n",
       "4   7250        3  1146.0         SOMA / south beach       2.0              9   \n",
       "\n",
       "   cityid  \n",
       "0       2  \n",
       "1       2  \n",
       "2       2  \n",
       "3       2  \n",
       "4       2  "
      ]
     },
     "execution_count": 7,
     "metadata": {},
     "output_type": "execute_result"
    }
   ],
   "source": [
    "# Example - load data from RDS into pandas DataFrame\n",
    "\n",
    "sf_db = pd.read_sql_table('sanfran', engine)\n",
    "sf_db.head()"
   ]
  },
  {
   "cell_type": "code",
   "execution_count": 17,
   "id": "f54e8c15",
   "metadata": {
    "scrolled": true
   },
   "outputs": [
    {
     "data": {
      "text/html": [
       "<div>\n",
       "<style scoped>\n",
       "    .dataframe tbody tr th:only-of-type {\n",
       "        vertical-align: middle;\n",
       "    }\n",
       "\n",
       "    .dataframe tbody tr th {\n",
       "        vertical-align: top;\n",
       "    }\n",
       "\n",
       "    .dataframe thead th {\n",
       "        text-align: right;\n",
       "    }\n",
       "</style>\n",
       "<table border=\"1\" class=\"dataframe\">\n",
       "  <thead>\n",
       "    <tr style=\"text-align: right;\">\n",
       "      <th></th>\n",
       "      <th>price</th>\n",
       "      <th>sqft</th>\n",
       "      <th>beds</th>\n",
       "      <th>bath</th>\n",
       "      <th>laundry</th>\n",
       "      <th>pets</th>\n",
       "      <th>housing_type</th>\n",
       "      <th>parking</th>\n",
       "      <th>hood_district</th>\n",
       "    </tr>\n",
       "  </thead>\n",
       "  <tbody>\n",
       "    <tr>\n",
       "      <th>0</th>\n",
       "      <td>6800</td>\n",
       "      <td>1600.0</td>\n",
       "      <td>2.0</td>\n",
       "      <td>2.0</td>\n",
       "      <td>(a) in-unit</td>\n",
       "      <td>(d) no pets</td>\n",
       "      <td>(c) multi</td>\n",
       "      <td>(b) protected</td>\n",
       "      <td>7.0</td>\n",
       "    </tr>\n",
       "    <tr>\n",
       "      <th>1</th>\n",
       "      <td>3500</td>\n",
       "      <td>550.0</td>\n",
       "      <td>1.0</td>\n",
       "      <td>1.0</td>\n",
       "      <td>(a) in-unit</td>\n",
       "      <td>(a) both</td>\n",
       "      <td>(c) multi</td>\n",
       "      <td>(b) protected</td>\n",
       "      <td>7.0</td>\n",
       "    </tr>\n",
       "    <tr>\n",
       "      <th>2</th>\n",
       "      <td>5100</td>\n",
       "      <td>1300.0</td>\n",
       "      <td>2.0</td>\n",
       "      <td>1.0</td>\n",
       "      <td>(a) in-unit</td>\n",
       "      <td>(a) both</td>\n",
       "      <td>(c) multi</td>\n",
       "      <td>(d) no parking</td>\n",
       "      <td>7.0</td>\n",
       "    </tr>\n",
       "    <tr>\n",
       "      <th>3</th>\n",
       "      <td>9000</td>\n",
       "      <td>3500.0</td>\n",
       "      <td>3.0</td>\n",
       "      <td>2.5</td>\n",
       "      <td>(a) in-unit</td>\n",
       "      <td>(d) no pets</td>\n",
       "      <td>(c) multi</td>\n",
       "      <td>(b) protected</td>\n",
       "      <td>7.0</td>\n",
       "    </tr>\n",
       "    <tr>\n",
       "      <th>4</th>\n",
       "      <td>3100</td>\n",
       "      <td>561.0</td>\n",
       "      <td>1.0</td>\n",
       "      <td>1.0</td>\n",
       "      <td>(c) no laundry</td>\n",
       "      <td>(a) both</td>\n",
       "      <td>(c) multi</td>\n",
       "      <td>(d) no parking</td>\n",
       "      <td>7.0</td>\n",
       "    </tr>\n",
       "  </tbody>\n",
       "</table>\n",
       "</div>"
      ],
      "text/plain": [
       "   price    sqft  beds  bath         laundry         pets housing_type  \\\n",
       "0   6800  1600.0   2.0   2.0     (a) in-unit  (d) no pets    (c) multi   \n",
       "1   3500   550.0   1.0   1.0     (a) in-unit     (a) both    (c) multi   \n",
       "2   5100  1300.0   2.0   1.0     (a) in-unit     (a) both    (c) multi   \n",
       "3   9000  3500.0   3.0   2.5     (a) in-unit  (d) no pets    (c) multi   \n",
       "4   3100   561.0   1.0   1.0  (c) no laundry     (a) both    (c) multi   \n",
       "\n",
       "          parking  hood_district  \n",
       "0   (b) protected            7.0  \n",
       "1   (b) protected            7.0  \n",
       "2  (d) no parking            7.0  \n",
       "3   (b) protected            7.0  \n",
       "4  (d) no parking            7.0  "
      ]
     },
     "execution_count": 17,
     "metadata": {},
     "output_type": "execute_result"
    }
   ],
   "source": [
    "# Example Data from CSV used here\n",
    "\n",
    "# Import Data\n",
    "sf_df = pd.read_csv(\"../../First Segment Rubric - Sample Data/sf_clean.csv\")\n",
    "sf_df.head()"
   ]
  },
  {
   "cell_type": "markdown",
   "id": "6044e416",
   "metadata": {},
   "source": [
    "## Temp Data from CSVs"
   ]
  },
  {
   "cell_type": "code",
   "execution_count": 4,
   "id": "0436e283",
   "metadata": {},
   "outputs": [],
   "source": [
    "# Create city list and general path\n",
    "\n",
    "# TODO: Edit to match RDS table names\n",
    "city_list = ['austin','boston','sf','chandler','chicago','houston','la','pittsburgh','spokane']\n",
    "\n",
    "# Group by city population\n",
    "low_list = ['chandler', 'pittsburgh', 'spokane']\n",
    "mid_list = ['austin', 'boston', 'sf']\n",
    "high_list = ['chicago', 'la', 'houston']\n",
    "\n",
    "# TODO: Edit to match RDS path\n",
    "general_path = '../../First Segment Rubric - Clean/csv/'"
   ]
  },
  {
   "cell_type": "code",
   "execution_count": 29,
   "id": "7b3384a9",
   "metadata": {},
   "outputs": [],
   "source": [
    "# Create dataframes for each pop grouping and overall\n",
    "\n",
    "def build_dfs(cities, gen_path, lowpop_list=[], midpop_list=[], highpop_list=[]):\n",
    "    \n",
    "    # Dummy cityID for cities temp. missing it\n",
    "    dummy_id = 10\n",
    "\n",
    "    low_pop = pd.DataFrame()\n",
    "    mid_pop = pd.DataFrame()\n",
    "    high_pop = pd.DataFrame()\n",
    "    all_pop = pd.DataFrame()\n",
    "\n",
    "    # Iterate through cities to get data\n",
    "    for city in cities:\n",
    "        \n",
    "        city_fp = f'{gen_path}{city}_clean_data.csv'\n",
    "        \n",
    "        \n",
    "        # Determine low, mid, or high pop\n",
    "        \n",
    "        if city in lowpop_list:\n",
    "            \n",
    "            # Create temp city df\n",
    "            city = pd.read_csv(city_fp)\n",
    "        \n",
    "            # Check for cityID\n",
    "            if city.columns[-1] != 'cityID':\n",
    "                city['cityID'] = dummy_id\n",
    "                dummy_id = dummy_id + 1\n",
    "                \n",
    "            # Check for num amen\n",
    "            if 'number of amenities' in city.columns:\n",
    "                city['amenity_count'] = city['number of amenities']\n",
    "                city = city.drop(columns='number of amenities', axis=1)\n",
    "                \n",
    "            # Add class col\n",
    "            city['pop_class'] = 1\n",
    "            \n",
    "            # Add to low df\n",
    "            low_pop = pd.concat([low_pop,city])\n",
    "                \n",
    "        elif city in midpop_list:\n",
    "            \n",
    "           # Create temp city df\n",
    "            city = pd.read_csv(city_fp)\n",
    "        \n",
    "            # Check for cityID\n",
    "            if city.columns[-1] != 'cityID':\n",
    "                city['cityID'] = dummy_id\n",
    "                dummy_id = dummy_id + 1\n",
    "            \n",
    "            # Check for num amen\n",
    "            if 'number of amenities' in city.columns:\n",
    "                city['amenity_count'] = city['number of amenities']\n",
    "                city = city.drop(columns='number of amenities', axis=1)\n",
    "            \n",
    "            # Add class col\n",
    "            city['pop_class'] = 2\n",
    "            \n",
    "            # Add to mid df\n",
    "            mid_pop = pd.concat([mid_pop,city])\n",
    "                \n",
    "        elif city in highpop_list:\n",
    "            \n",
    "            # Create temp city df\n",
    "            city = pd.read_csv(city_fp)\n",
    "        \n",
    "            # Check for cityID\n",
    "            if city.columns[-1] != 'cityID':\n",
    "                city['cityID'] = dummy_id\n",
    "                dummy_id = dummy_id + 1\n",
    "                \n",
    "            # Check for num amen    \n",
    "            if 'number of amenities' in city.columns:\n",
    "                city['amenity_count'] = city['number of amenities']\n",
    "                city = city.drop(columns='number of amenities', axis=1)\n",
    "            \n",
    "            # Add class col\n",
    "            city['pop_class'] = 3\n",
    "            \n",
    "            # Add to high df\n",
    "            high_pop = pd.concat([high_pop,city])\n",
    "        \n",
    "        \n",
    "        # add to all_pop\n",
    "        \n",
    "        all_pop = pd.concat([all_pop,city])\n",
    "        \n",
    "        \n",
    "    return low_pop, mid_pop, high_pop, all_pop"
   ]
  },
  {
   "cell_type": "code",
   "execution_count": 30,
   "id": "226f3072",
   "metadata": {},
   "outputs": [],
   "source": [
    "# Call fn to create dfs\n",
    "low_pop, mid_pop, high_pop, all_pop = build_dfs(city_list, general_path, low_list,\n",
    "                                               mid_list, high_list)"
   ]
  },
  {
   "cell_type": "code",
   "execution_count": 31,
   "id": "62c6e6ce",
   "metadata": {},
   "outputs": [],
   "source": [
    "# Drop duplicate listings if any exist\n",
    "\n",
    "low_pop.drop_duplicates(subset=['price','bedroom','sqft','neighborhood','bathroom','amenity_count'], inplace=True)\n",
    "mid_pop.drop_duplicates(subset=['price','bedroom','sqft','neighborhood','bathroom','amenity_count'], inplace=True)\n",
    "high_pop.drop_duplicates(subset=['price','bedroom','sqft','neighborhood','bathroom','amenity_count'], inplace=True)\n",
    "all_pop.drop_duplicates(subset=['price','bedroom','sqft','neighborhood','bathroom','amenity_count'], inplace=True)"
   ]
  },
  {
   "cell_type": "markdown",
   "id": "46c67201",
   "metadata": {},
   "source": [
    "## Examine data"
   ]
  },
  {
   "cell_type": "code",
   "execution_count": 32,
   "id": "2a2e21fa",
   "metadata": {},
   "outputs": [],
   "source": [
    "# Before examination, split so that the test set remains unobserved\n",
    "\n",
    "# Split using SSS to incorporate data from each of the 3 groups in test and train sets.\n",
    "split = StratifiedShuffleSplit(n_splits=10,test_size=0.2, random_state=42)\n",
    "\n",
    "for train_index, test_index in split.split(all_pop, all_pop['pop_class']):\n",
    "    strat_train_set = all_pop.iloc[train_index]\n",
    "    strat_test_set = all_pop.iloc[test_index]"
   ]
  },
  {
   "cell_type": "code",
   "execution_count": 33,
   "id": "0097d8b0",
   "metadata": {},
   "outputs": [
    {
     "data": {
      "text/html": [
       "<div>\n",
       "<style scoped>\n",
       "    .dataframe tbody tr th:only-of-type {\n",
       "        vertical-align: middle;\n",
       "    }\n",
       "\n",
       "    .dataframe tbody tr th {\n",
       "        vertical-align: top;\n",
       "    }\n",
       "\n",
       "    .dataframe thead th {\n",
       "        text-align: right;\n",
       "    }\n",
       "</style>\n",
       "<table border=\"1\" class=\"dataframe\">\n",
       "  <thead>\n",
       "    <tr style=\"text-align: right;\">\n",
       "      <th></th>\n",
       "      <th>price</th>\n",
       "      <th>bedroom</th>\n",
       "      <th>sqft</th>\n",
       "      <th>bathroom</th>\n",
       "      <th>amenity_count</th>\n",
       "    </tr>\n",
       "  </thead>\n",
       "  <tbody>\n",
       "    <tr>\n",
       "      <th>69</th>\n",
       "      <td>2500</td>\n",
       "      <td>2</td>\n",
       "      <td>860.0</td>\n",
       "      <td>1.0</td>\n",
       "      <td>3</td>\n",
       "    </tr>\n",
       "    <tr>\n",
       "      <th>55</th>\n",
       "      <td>4000</td>\n",
       "      <td>3</td>\n",
       "      <td>1700.0</td>\n",
       "      <td>2.0</td>\n",
       "      <td>5</td>\n",
       "    </tr>\n",
       "    <tr>\n",
       "      <th>58</th>\n",
       "      <td>1518</td>\n",
       "      <td>1</td>\n",
       "      <td>794.0</td>\n",
       "      <td>1.0</td>\n",
       "      <td>6</td>\n",
       "    </tr>\n",
       "    <tr>\n",
       "      <th>79</th>\n",
       "      <td>2200</td>\n",
       "      <td>3</td>\n",
       "      <td>1400.0</td>\n",
       "      <td>2.0</td>\n",
       "      <td>4</td>\n",
       "    </tr>\n",
       "    <tr>\n",
       "      <th>38</th>\n",
       "      <td>2000</td>\n",
       "      <td>3</td>\n",
       "      <td>1491.0</td>\n",
       "      <td>2.5</td>\n",
       "      <td>3</td>\n",
       "    </tr>\n",
       "  </tbody>\n",
       "</table>\n",
       "</div>"
      ],
      "text/plain": [
       "    price  bedroom    sqft  bathroom  amenity_count\n",
       "69   2500        2   860.0       1.0              3\n",
       "55   4000        3  1700.0       2.0              5\n",
       "58   1518        1   794.0       1.0              6\n",
       "79   2200        3  1400.0       2.0              4\n",
       "38   2000        3  1491.0       2.5              3"
      ]
     },
     "execution_count": 33,
     "metadata": {},
     "output_type": "execute_result"
    }
   ],
   "source": [
    "# Create a new df that is a copy of the training set to preserve it.\n",
    "all_train = strat_train_set.copy()\n",
    "\n",
    "# Drop columns not used in analysis\n",
    "all_train.drop(columns=['neighborhood','cityID','pop_class'],axis=1,inplace=True)\n",
    "\n",
    "# Repeat for test set\n",
    "all_test = strat_test_set.copy()\n",
    "all_test.drop(columns=['neighborhood','cityID','pop_class'],axis=1,inplace=True)\n",
    "\n",
    "# Show first 5 rows of training set\n",
    "all_train.head()"
   ]
  },
  {
   "cell_type": "code",
   "execution_count": 10,
   "id": "59f279fc",
   "metadata": {},
   "outputs": [
    {
     "data": {
      "text/plain": [
       "price            1.000000\n",
       "sqft             0.469988\n",
       "bathroom         0.416403\n",
       "bedroom          0.346331\n",
       "amenity_count   -0.039219\n",
       "Name: price, dtype: float64"
      ]
     },
     "execution_count": 10,
     "metadata": {},
     "output_type": "execute_result"
    }
   ],
   "source": [
    "# Create a df of corr between features\n",
    "corr_matrix = all_train.corr()\n",
    "\n",
    "# Display each feature's corr with target\n",
    "corr_matrix.price.sort_values(ascending=False)"
   ]
  },
  {
   "cell_type": "code",
   "execution_count": 11,
   "id": "0f2749cf",
   "metadata": {},
   "outputs": [
    {
     "data": {
      "text/plain": [
       "<AxesSubplot:>"
      ]
     },
     "execution_count": 11,
     "metadata": {},
     "output_type": "execute_result"
    },
    {
     "data": {
      "image/png": "[encoded data removed]",
      "text/plain": [
       "<Figure size 640x480 with 2 Axes>"
      ]
     },
     "metadata": {},
     "output_type": "display_data"
    }
   ],
   "source": [
    "# Plot corr\n",
    "sns.heatmap(corr_matrix)"
   ]
  },
  {
   "cell_type": "code",
   "execution_count": 12,
   "id": "79552101",
   "metadata": {},
   "outputs": [
    {
     "data": {
      "text/plain": [
       "<seaborn.axisgrid.PairGrid at 0x20bab505850>"
      ]
     },
     "execution_count": 12,
     "metadata": {},
     "output_type": "execute_result"
    },
    {
     "data": {
      "image/png": "[encoded data removed]",
      "text/plain": [
       "<Figure size 1250x1250 with 30 Axes>"
      ]
     },
     "metadata": {},
     "output_type": "display_data"
    }
   ],
   "source": [
    "# Examine the dist. of each variable\n",
    "sns.pairplot(all_train)"
   ]
  },
  {
   "cell_type": "markdown",
   "id": "fc8a8120",
   "metadata": {},
   "source": [
    "### Evaluate Features and Elimate as Appropriate"
   ]
  },
  {
   "cell_type": "code",
   "execution_count": 34,
   "id": "fc67247a",
   "metadata": {},
   "outputs": [],
   "source": [
    "# Drop features with corr near zero from train and test dfs\n",
    "\n",
    "all_train.drop(columns=['amenity_count'],axis=1,inplace=True)\n",
    "all_test.drop(columns=['amenity_count'],axis=1,inplace=True)\n"
   ]
  },
  {
   "cell_type": "markdown",
   "id": "3dc6e24d",
   "metadata": {},
   "source": [
    "### Preprocess Finalized Feature Set"
   ]
  },
  {
   "cell_type": "code",
   "execution_count": 35,
   "id": "77d8e6d0",
   "metadata": {},
   "outputs": [],
   "source": [
    "# Remove target\n",
    "\n",
    "X_train = all_train.drop(columns='price').values\n",
    "y_train = all_train.price.values\n",
    "\n",
    "X_test = all_test.drop(columns='price').values\n",
    "y_test = all_test.price.values"
   ]
  },
  {
   "cell_type": "code",
   "execution_count": 36,
   "id": "313ddb60",
   "metadata": {},
   "outputs": [],
   "source": [
    "# Scale using RobustScaler due to spread\n",
    "\n",
    "rs = RobustScaler()\n",
    "\n",
    "robust = rs.fit(X_train)\n",
    "\n",
    "X_train_scaled = robust.transform(X_train)\n",
    "\n",
    "X_test_scaled = robust.transform(X_test)"
   ]
  },
  {
   "cell_type": "markdown",
   "id": "5ee4aad1",
   "metadata": {},
   "source": [
    "## Estimator Construction"
   ]
  },
  {
   "cell_type": "code",
   "execution_count": 37,
   "id": "a4ed20c3",
   "metadata": {},
   "outputs": [],
   "source": [
    "# Create fn to out scores from cross_val_score to select estimators\n",
    "\n",
    "def score_info(scores):\n",
    "    MSE = -scores\n",
    "    print(f'Mean: {MSE.mean()}')\n",
    "    print(f'STD: {MSE.std()}')\n",
    "    return MSE.mean(), MSE.std()"
   ]
  },
  {
   "cell_type": "code",
   "execution_count": 38,
   "id": "b6391578",
   "metadata": {},
   "outputs": [
    {
     "name": "stdout",
     "output_type": "stream",
     "text": [
      "Mean: 1198756.1195334957\n",
      "STD: 554803.0024943643\n"
     ]
    }
   ],
   "source": [
    "# Gradient Boosting Regressor\n",
    "\n",
    "gbr_cvs = cross_val_score(GradientBoostingRegressor(),X_train_scaled,y_train,cv=15,\n",
    "                         scoring = 'neg_mean_squared_error', n_jobs=-1)\n",
    "\n",
    "gbr_mean,gbr_std = score_info(gbr_cvs)"
   ]
  },
  {
   "cell_type": "code",
   "execution_count": 39,
   "id": "190338be",
   "metadata": {},
   "outputs": [
    {
     "name": "stdout",
     "output_type": "stream",
     "text": [
      "Mean: 1182511.0691874612\n",
      "STD: 475984.3633663525\n"
     ]
    }
   ],
   "source": [
    "# Random Forest Regressor\n",
    "\n",
    "rfr_cvs = cross_val_score(RandomForestRegressor(),X_train_scaled,y_train,cv=15,\n",
    "                         scoring = 'neg_mean_squared_error', n_jobs=-1)\n",
    "\n",
    "rfr_mean,rfr_std=score_info(rfr_cvs)"
   ]
  },
  {
   "cell_type": "code",
   "execution_count": 40,
   "id": "c790d2e4",
   "metadata": {},
   "outputs": [
    {
     "name": "stdout",
     "output_type": "stream",
     "text": [
      "Mean: 1141404.6753926119\n",
      "STD: 431803.5702883906\n"
     ]
    }
   ],
   "source": [
    "# Lasso\n",
    "\n",
    "lasso_cvs = cross_val_score(Lasso(),X_train_scaled,y_train,cv=15,\n",
    "                         scoring = 'neg_mean_squared_error', n_jobs=-1)\n",
    "\n",
    "lasso_mean,lasso_std=score_info(lasso_cvs)"
   ]
  },
  {
   "cell_type": "code",
   "execution_count": 41,
   "id": "caeb064f",
   "metadata": {},
   "outputs": [
    {
     "name": "stdout",
     "output_type": "stream",
     "text": [
      "Mean: 1141614.0142516803\n",
      "STD: 432568.52978514193\n"
     ]
    }
   ],
   "source": [
    "# Ridge\n",
    "\n",
    "ridge_cvs = cross_val_score(Ridge(),X_train_scaled,y_train,cv=15,\n",
    "                         scoring = 'neg_mean_squared_error', n_jobs=-1)\n",
    "\n",
    "ridge_mean,ridge_std=score_info(ridge_cvs)"
   ]
  },
  {
   "cell_type": "code",
   "execution_count": 42,
   "id": "1dbdfea4",
   "metadata": {},
   "outputs": [
    {
     "name": "stdout",
     "output_type": "stream",
     "text": [
      "Mean: 1386215.5184837177\n",
      "STD: 544626.7721013158\n"
     ]
    }
   ],
   "source": [
    "# Adaboost\n",
    "\n",
    "ada_cvs = cross_val_score(AdaBoostRegressor(),X_train_scaled,y_train,cv=15,\n",
    "                         scoring = 'neg_mean_squared_error', n_jobs=-1)\n",
    "\n",
    "ada_mean,ada_std=score_info(ada_cvs)"
   ]
  },
  {
   "cell_type": "code",
   "execution_count": 43,
   "id": "70c28583",
   "metadata": {},
   "outputs": [
    {
     "name": "stdout",
     "output_type": "stream",
     "text": [
      "Mean: 1141148.6261171526\n",
      "STD: 432833.82639254513\n"
     ]
    }
   ],
   "source": [
    "#ARDRegression\n",
    "\n",
    "ard_cvs = cross_val_score(ARDRegression(),X_train_scaled,y_train,cv=15,\n",
    "                         scoring = 'neg_mean_squared_error', n_jobs=-1)\n",
    "\n",
    "ard_mean,ard_std=score_info(ard_cvs)"
   ]
  },
  {
   "cell_type": "code",
   "execution_count": 27,
   "id": "11c07ec9",
   "metadata": {},
   "outputs": [],
   "source": [
    "# To-Do: Plots"
   ]
  },
  {
   "cell_type": "markdown",
   "id": "e34e5ea4",
   "metadata": {},
   "source": [
    "## Estimator Tuning"
   ]
  },
  {
   "cell_type": "code",
   "execution_count": 45,
   "id": "b1c9171d",
   "metadata": {},
   "outputs": [
    {
     "name": "stdout",
     "output_type": "stream",
     "text": [
      "Fitting 15 folds for each of 360 candidates, totalling 5400 fits\n"
     ]
    }
   ],
   "source": [
    "# GBR\n",
    "\n",
    "model = GradientBoostingRegressor()\n",
    "\n",
    "\n",
    "mod_params = {\n",
    "    'learning_rate': [.53,.54,.55,.56,.57],\n",
    "    'n_estimators': [4,5,6,7],\n",
    "    'subsample': [1],\n",
    "    'max_depth': [1,2,3],\n",
    "    'random_state': [42],\n",
    "    'max_features': ['sqrt'],\n",
    "    'alpha': [1e-15,1e-13,1e-11,1e-9,1e-7,1e-5]\n",
    "}\n",
    "\n",
    "\n",
    "    \n",
    "model_cv = GridSearchCV(model,mod_params,n_jobs=-1, cv=15, verbose = 1,\n",
    "                                 scoring='neg_mean_squared_error')\n",
    "model_cv.fit(X_train_scaled,y_train)\n",
    "    \n",
    "gbr = model_cv.best_estimator_"
   ]
  },
  {
   "cell_type": "code",
   "execution_count": 46,
   "id": "4e4e7893",
   "metadata": {},
   "outputs": [
    {
     "name": "stdout",
     "output_type": "stream",
     "text": [
      "Fitting 15 folds for each of 26 candidates, totalling 390 fits\n"
     ]
    }
   ],
   "source": [
    "# RFR\n",
    "\n",
    "model = RandomForestRegressor()\n",
    "\n",
    "\n",
    "mod_params = {\n",
    "    'n_estimators': np.arange(12,25),\n",
    "    'random_state': [42],\n",
    "    'max_features': ['sqrt','log2']\n",
    "}\n",
    "\n",
    "    \n",
    "model_cv = GridSearchCV(model,mod_params,n_jobs=-1, cv=15, verbose = 1,\n",
    "                                 scoring='neg_mean_squared_error')\n",
    "model_cv.fit(X_train_scaled,y_train)\n",
    "    \n",
    "rfr = model_cv.best_estimator_"
   ]
  },
  {
   "cell_type": "code",
   "execution_count": 48,
   "id": "3271d196",
   "metadata": {},
   "outputs": [
    {
     "name": "stdout",
     "output_type": "stream",
     "text": [
      "Fitting 15 folds for each of 98 candidates, totalling 1470 fits\n"
     ]
    }
   ],
   "source": [
    "# ADA\n",
    "\n",
    "model = AdaBoostRegressor()\n",
    "\n",
    "\n",
    "mod_params = {\n",
    "    'learning_rate': [.27,.28,.29,.3,.31,.32,.33],\n",
    "    'n_estimators': np.arange(1,15),\n",
    "    'random_state': [42]\n",
    "}\n",
    "\n",
    "    \n",
    "model_cv = GridSearchCV(model,mod_params,n_jobs=-1, cv=15, verbose = 1,\n",
    "                                 scoring='neg_mean_squared_error')\n",
    "model_cv.fit(X_train_scaled,y_train)\n",
    "    \n",
    "ada = model_cv.best_estimator_"
   ]
  },
  {
   "cell_type": "code",
   "execution_count": 49,
   "id": "1b0795ca",
   "metadata": {},
   "outputs": [
    {
     "name": "stdout",
     "output_type": "stream",
     "text": [
      "Fitting 15 folds for each of 1176 candidates, totalling 17640 fits\n"
     ]
    }
   ],
   "source": [
    "# ARD\n",
    "\n",
    "model = ARDRegression(n_iter=1000)\n",
    "\n",
    "\n",
    "mod_params = {\n",
    "    'alpha_1': [1e6,1e7,1e8,1e9,1e10,1e11,1e12],\n",
    "    'alpha_2': [1e-10,1e-9,1e-8,1e-7],\n",
    "    'lambda_1': [1e-30,1e-28,1e-26,1e-24,1e-22,1e-20],\n",
    "    'lambda_2': [1e6,1e7,1e8,1e9,1e10,1e11,1e12]\n",
    "}\n",
    "\n",
    "\n",
    "model_cv = GridSearchCV(model,mod_params,n_jobs=-1, cv=15, verbose = 1,\n",
    "                                 scoring='neg_mean_squared_error')\n",
    "model_cv.fit(X_train_scaled,y_train)\n",
    "    \n",
    "ard = model_cv.best_estimator_\n",
    "    "
   ]
  },
  {
   "cell_type": "code",
   "execution_count": 50,
   "id": "4b3a7d3d",
   "metadata": {},
   "outputs": [],
   "source": [
    "lasso = LassoCV(max_iter=5000, cv=15,n_jobs=-1,\n",
    "               random_state=42)"
   ]
  },
  {
   "cell_type": "code",
   "execution_count": 51,
   "id": "4d40baee",
   "metadata": {},
   "outputs": [],
   "source": [
    "ridge = RidgeCV()"
   ]
  },
  {
   "cell_type": "code",
   "execution_count": 53,
   "id": "03f3b3bb",
   "metadata": {},
   "outputs": [
    {
     "data": {
      "text/html": [
       "<style>#sk-container-id-1 {color: black;background-color: white;}#sk-container-id-1 pre{padding: 0;}#sk-container-id-1 div.sk-toggleable {background-color: white;}#sk-container-id-1 label.sk-toggleable__label {cursor: pointer;display: block;width: 100%;margin-bottom: 0;padding: 0.3em;box-sizing: border-box;text-align: center;}#sk-container-id-1 label.sk-toggleable__label-arrow:before {content: \"▸\";float: left;margin-right: 0.25em;color: #696969;}#sk-container-id-1 label.sk-toggleable__label-arrow:hover:before {color: black;}#sk-container-id-1 div.sk-estimator:hover label.sk-toggleable__label-arrow:before {color: black;}#sk-container-id-1 div.sk-toggleable__content {max-height: 0;max-width: 0;overflow: hidden;text-align: left;background-color: #f0f8ff;}#sk-container-id-1 div.sk-toggleable__content pre {margin: 0.2em;color: black;border-radius: 0.25em;background-color: #f0f8ff;}#sk-container-id-1 input.sk-toggleable__control:checked~div.sk-toggleable__content {max-height: 200px;max-width: 100%;overflow: auto;}#sk-container-id-1 input.sk-toggleable__control:checked~label.sk-toggleable__label-arrow:before {content: \"▾\";}#sk-container-id-1 div.sk-estimator input.sk-toggleable__control:checked~label.sk-toggleable__label {background-color: #d4ebff;}#sk-container-id-1 div.sk-label input.sk-toggleable__control:checked~label.sk-toggleable__label {background-color: #d4ebff;}#sk-container-id-1 input.sk-hidden--visually {border: 0;clip: rect(1px 1px 1px 1px);clip: rect(1px, 1px, 1px, 1px);height: 1px;margin: -1px;overflow: hidden;padding: 0;position: absolute;width: 1px;}#sk-container-id-1 div.sk-estimator {font-family: monospace;background-color: #f0f8ff;border: 1px dotted black;border-radius: 0.25em;box-sizing: border-box;margin-bottom: 0.5em;}#sk-container-id-1 div.sk-estimator:hover {background-color: #d4ebff;}#sk-container-id-1 div.sk-parallel-item::after {content: \"\";width: 100%;border-bottom: 1px solid gray;flex-grow: 1;}#sk-container-id-1 div.sk-label:hover label.sk-toggleable__label {background-color: #d4ebff;}#sk-container-id-1 div.sk-serial::before {content: \"\";position: absolute;border-left: 1px solid gray;box-sizing: border-box;top: 0;bottom: 0;left: 50%;z-index: 0;}#sk-container-id-1 div.sk-serial {display: flex;flex-direction: column;align-items: center;background-color: white;padding-right: 0.2em;padding-left: 0.2em;position: relative;}#sk-container-id-1 div.sk-item {position: relative;z-index: 1;}#sk-container-id-1 div.sk-parallel {display: flex;align-items: stretch;justify-content: center;background-color: white;position: relative;}#sk-container-id-1 div.sk-item::before, #sk-container-id-1 div.sk-parallel-item::before {content: \"\";position: absolute;border-left: 1px solid gray;box-sizing: border-box;top: 0;bottom: 0;left: 50%;z-index: -1;}#sk-container-id-1 div.sk-parallel-item {display: flex;flex-direction: column;z-index: 1;position: relative;background-color: white;}#sk-container-id-1 div.sk-parallel-item:first-child::after {align-self: flex-end;width: 50%;}#sk-container-id-1 div.sk-parallel-item:last-child::after {align-self: flex-start;width: 50%;}#sk-container-id-1 div.sk-parallel-item:only-child::after {width: 0;}#sk-container-id-1 div.sk-dashed-wrapped {border: 1px dashed gray;margin: 0 0.4em 0.5em 0.4em;box-sizing: border-box;padding-bottom: 0.4em;background-color: white;}#sk-container-id-1 div.sk-label label {font-family: monospace;font-weight: bold;display: inline-block;line-height: 1.2em;}#sk-container-id-1 div.sk-label-container {text-align: center;}#sk-container-id-1 div.sk-container {/* jupyter's `normalize.less` sets `[hidden] { display: none; }` but bootstrap.min.css set `[hidden] { display: none !important; }` so we also need the `!important` here to be able to override the default hidden behavior on the sphinx rendered scikit-learn.org. See: https://github.com/scikit-learn/scikit-learn/issues/21755 */display: inline-block !important;position: relative;}#sk-container-id-1 div.sk-text-repr-fallback {display: none;}</style><div id=\"sk-container-id-1\" class=\"sk-top-container\"><div class=\"sk-text-repr-fallback\"><pre>RidgeCV()</pre><b>In a Jupyter environment, please rerun this cell to show the HTML representation or trust the notebook. <br />On GitHub, the HTML representation is unable to render, please try loading this page with nbviewer.org.</b></div><div class=\"sk-container\" hidden><div class=\"sk-item\"><div class=\"sk-estimator sk-toggleable\"><input class=\"sk-toggleable__control sk-hidden--visually\" id=\"sk-estimator-id-1\" type=\"checkbox\" checked><label for=\"sk-estimator-id-1\" class=\"sk-toggleable__label sk-toggleable__label-arrow\">RidgeCV</label><div class=\"sk-toggleable__content\"><pre>RidgeCV()</pre></div></div></div></div></div>"
      ],
      "text/plain": [
       "RidgeCV()"
      ]
     },
     "execution_count": 53,
     "metadata": {},
     "output_type": "execute_result"
    }
   ],
   "source": [
    "# Fit Estimators\n",
    "gbr.fit(X_train_scaled,y_train)\n",
    "rfr.fit(X_train_scaled,y_train)\n",
    "ada.fit(X_train_scaled,y_train)\n",
    "ard.fit(X_train_scaled,y_train)\n",
    "lasso.fit(X_train_scaled,y_train)\n",
    "ridge.fit(X_train_scaled,y_train)"
   ]
  },
  {
   "cell_type": "markdown",
   "id": "d896f6c9",
   "metadata": {},
   "source": [
    "## Weighted VotingRegressor"
   ]
  },
  {
   "cell_type": "markdown",
   "id": "83a02ec0",
   "metadata": {},
   "source": [
    "### Minimize MSE of models"
   ]
  },
  {
   "cell_type": "code",
   "execution_count": 54,
   "id": "a111467a",
   "metadata": {},
   "outputs": [],
   "source": [
    "# Specify number of estimators\n",
    "n_est = 6\n",
    "\n",
    "# Create a 'weights' array with default values of 1/n_est\n",
    "w = (1/n_est)*np.ones(n_est)"
   ]
  },
  {
   "cell_type": "code",
   "execution_count": 55,
   "id": "025b7e57",
   "metadata": {},
   "outputs": [],
   "source": [
    "# Create vector of predicted values from each estimator\n",
    "gbr_pred = gbr.predict(X_test_scaled)\n",
    "rfr_pred = rfr.predict(X_test_scaled)\n",
    "ada_pred = ada.predict(X_test_scaled)\n",
    "ard_pred = ard.predict(X_test_scaled)\n",
    "lasso_pred = lasso.predict(X_test_scaled)\n",
    "ridge_pred = ridge.predict(X_test_scaled)"
   ]
  },
  {
   "cell_type": "code",
   "execution_count": 57,
   "id": "bfe6c57a",
   "metadata": {},
   "outputs": [],
   "source": [
    "# Combine prediction vectors into prediction matrix\n",
    "mod_pred = np.column_stack((gbr_pred,rfr_pred,ada_pred,ard_pred,lasso_pred,ridge_pred))"
   ]
  },
  {
   "cell_type": "code",
   "execution_count": 58,
   "id": "fe26335f",
   "metadata": {},
   "outputs": [],
   "source": [
    "# Define Objective Function\n",
    "def obj_fun(weights=w,y_true=y_test,y_hat=mod_pred, n_estimators=n_est):\n",
    "    return (1/n_est)*np.sum((y_true - (weights@(y_hat.T)))**2)"
   ]
  },
  {
   "cell_type": "code",
   "execution_count": 59,
   "id": "974ca014",
   "metadata": {},
   "outputs": [],
   "source": [
    "# Define constraint(s)\n",
    "def constraints(weights=w):\n",
    "    return (1- np.sum(np.abs(weights)))"
   ]
  },
  {
   "cell_type": "code",
   "execution_count": 60,
   "id": "6ffca660",
   "metadata": {},
   "outputs": [
    {
     "data": {
      "text/plain": [
       "     fun: 15893355.713461893\n",
       "     jac: array([7130828.   , 7972247.875, 7949988.75 , 7495922.5  , 7118060.875,\n",
       "       7381565.375])\n",
       " message: 'Optimization terminated successfully'\n",
       "    nfev: 207\n",
       "     nit: 17\n",
       "    njev: 17\n",
       "  status: 0\n",
       " success: True\n",
       "       x: array([2.45379872e-01, 2.75683772e-01, 3.24535165e-03, 8.21619883e-07,\n",
       "       2.06997389e-01, 2.68692794e-01])"
      ]
     },
     "execution_count": 60,
     "metadata": {},
     "output_type": "execute_result"
    }
   ],
   "source": [
    "res = optimize.minimize(obj_fun, (1/n_est)*np.ones(n_est), method='SLSQP',\n",
    "                  constraints={'fun': constraints,\n",
    "                              'type': 'eq'}, options={'maxiter': 1000})\n",
    "res"
   ]
  },
  {
   "cell_type": "code",
   "execution_count": 61,
   "id": "00af3111",
   "metadata": {},
   "outputs": [],
   "source": [
    "optimal_mod_weights = res.x"
   ]
  },
  {
   "cell_type": "code",
   "execution_count": 62,
   "id": "d357e56c",
   "metadata": {},
   "outputs": [
    {
     "data": {
      "text/plain": [
       "array([4, 6, 2, 1, 3, 5], dtype=int64)"
      ]
     },
     "execution_count": 62,
     "metadata": {},
     "output_type": "execute_result"
    }
   ],
   "source": [
    "# Scale weights\n",
    "\n",
    "# First argsort returns array with first value is the index of the smallest value\n",
    "# in the array provided\n",
    "scaled_weights = np.argsort(optimal_mod_weights)\n",
    "\n",
    "# Second sort returns array firs value the index of the smallest value of input\n",
    "# Such that the largest value in optimal_mod_weights will have the largest index\n",
    "# The resulting array has sorted and scaled from len(array) to 0\n",
    "\n",
    "scaled_weights = np.argsort(scaled_weights)\n",
    "\n",
    "# Add 1 to prevent zero weights\n",
    "scaled_weights = scaled_weights + 1\n",
    "scaled_weights"
   ]
  },
  {
   "cell_type": "markdown",
   "id": "02838186",
   "metadata": {},
   "source": [
    "### Create VotingRegressor with new weights"
   ]
  },
  {
   "cell_type": "code",
   "execution_count": 63,
   "id": "2b5f2656",
   "metadata": {},
   "outputs": [
    {
     "data": {
      "text/html": [
       "<style>#sk-container-id-2 {color: black;background-color: white;}#sk-container-id-2 pre{padding: 0;}#sk-container-id-2 div.sk-toggleable {background-color: white;}#sk-container-id-2 label.sk-toggleable__label {cursor: pointer;display: block;width: 100%;margin-bottom: 0;padding: 0.3em;box-sizing: border-box;text-align: center;}#sk-container-id-2 label.sk-toggleable__label-arrow:before {content: \"▸\";float: left;margin-right: 0.25em;color: #696969;}#sk-container-id-2 label.sk-toggleable__label-arrow:hover:before {color: black;}#sk-container-id-2 div.sk-estimator:hover label.sk-toggleable__label-arrow:before {color: black;}#sk-container-id-2 div.sk-toggleable__content {max-height: 0;max-width: 0;overflow: hidden;text-align: left;background-color: #f0f8ff;}#sk-container-id-2 div.sk-toggleable__content pre {margin: 0.2em;color: black;border-radius: 0.25em;background-color: #f0f8ff;}#sk-container-id-2 input.sk-toggleable__control:checked~div.sk-toggleable__content {max-height: 200px;max-width: 100%;overflow: auto;}#sk-container-id-2 input.sk-toggleable__control:checked~label.sk-toggleable__label-arrow:before {content: \"▾\";}#sk-container-id-2 div.sk-estimator input.sk-toggleable__control:checked~label.sk-toggleable__label {background-color: #d4ebff;}#sk-container-id-2 div.sk-label input.sk-toggleable__control:checked~label.sk-toggleable__label {background-color: #d4ebff;}#sk-container-id-2 input.sk-hidden--visually {border: 0;clip: rect(1px 1px 1px 1px);clip: rect(1px, 1px, 1px, 1px);height: 1px;margin: -1px;overflow: hidden;padding: 0;position: absolute;width: 1px;}#sk-container-id-2 div.sk-estimator {font-family: monospace;background-color: #f0f8ff;border: 1px dotted black;border-radius: 0.25em;box-sizing: border-box;margin-bottom: 0.5em;}#sk-container-id-2 div.sk-estimator:hover {background-color: #d4ebff;}#sk-container-id-2 div.sk-parallel-item::after {content: \"\";width: 100%;border-bottom: 1px solid gray;flex-grow: 1;}#sk-container-id-2 div.sk-label:hover label.sk-toggleable__label {background-color: #d4ebff;}#sk-container-id-2 div.sk-serial::before {content: \"\";position: absolute;border-left: 1px solid gray;box-sizing: border-box;top: 0;bottom: 0;left: 50%;z-index: 0;}#sk-container-id-2 div.sk-serial {display: flex;flex-direction: column;align-items: center;background-color: white;padding-right: 0.2em;padding-left: 0.2em;position: relative;}#sk-container-id-2 div.sk-item {position: relative;z-index: 1;}#sk-container-id-2 div.sk-parallel {display: flex;align-items: stretch;justify-content: center;background-color: white;position: relative;}#sk-container-id-2 div.sk-item::before, #sk-container-id-2 div.sk-parallel-item::before {content: \"\";position: absolute;border-left: 1px solid gray;box-sizing: border-box;top: 0;bottom: 0;left: 50%;z-index: -1;}#sk-container-id-2 div.sk-parallel-item {display: flex;flex-direction: column;z-index: 1;position: relative;background-color: white;}#sk-container-id-2 div.sk-parallel-item:first-child::after {align-self: flex-end;width: 50%;}#sk-container-id-2 div.sk-parallel-item:last-child::after {align-self: flex-start;width: 50%;}#sk-container-id-2 div.sk-parallel-item:only-child::after {width: 0;}#sk-container-id-2 div.sk-dashed-wrapped {border: 1px dashed gray;margin: 0 0.4em 0.5em 0.4em;box-sizing: border-box;padding-bottom: 0.4em;background-color: white;}#sk-container-id-2 div.sk-label label {font-family: monospace;font-weight: bold;display: inline-block;line-height: 1.2em;}#sk-container-id-2 div.sk-label-container {text-align: center;}#sk-container-id-2 div.sk-container {/* jupyter's `normalize.less` sets `[hidden] { display: none; }` but bootstrap.min.css set `[hidden] { display: none !important; }` so we also need the `!important` here to be able to override the default hidden behavior on the sphinx rendered scikit-learn.org. See: https://github.com/scikit-learn/scikit-learn/issues/21755 */display: inline-block !important;position: relative;}#sk-container-id-2 div.sk-text-repr-fallback {display: none;}</style><div id=\"sk-container-id-2\" class=\"sk-top-container\"><div class=\"sk-text-repr-fallback\"><pre>VotingRegressor(estimators=[(&#x27;gbr&#x27;,\n",
       "                             GradientBoostingRegressor(alpha=1e-15,\n",
       "                                                       learning_rate=0.55,\n",
       "                                                       max_depth=1,\n",
       "                                                       max_features=&#x27;sqrt&#x27;,\n",
       "                                                       n_estimators=5,\n",
       "                                                       random_state=42,\n",
       "                                                       subsample=1)),\n",
       "                            (&#x27;rfr&#x27;,\n",
       "                             RandomForestRegressor(max_features=&#x27;sqrt&#x27;,\n",
       "                                                   n_estimators=23,\n",
       "                                                   random_state=42)),\n",
       "                            (&#x27;ada&#x27;,\n",
       "                             AdaBoostRegressor(learning_rate=0.28,\n",
       "                                               n_estimators=5,\n",
       "                                               random_state=42)),\n",
       "                            (&#x27;ard&#x27;,\n",
       "                             ARDRegression(alpha_1=1000000.0, alpha_2=1e-07,\n",
       "                                           lambda_1=1e-30, lambda_2=1000000.0,\n",
       "                                           n_iter=1000)),\n",
       "                            (&#x27;lasso&#x27;,\n",
       "                             LassoCV(cv=15, max_iter=5000, n_jobs=-1,\n",
       "                                     random_state=42)),\n",
       "                            (&#x27;ridge&#x27;, RidgeCV())],\n",
       "                n_jobs=-1, weights=array([4, 6, 2, 1, 3, 5], dtype=int64))</pre><b>In a Jupyter environment, please rerun this cell to show the HTML representation or trust the notebook. <br />On GitHub, the HTML representation is unable to render, please try loading this page with nbviewer.org.</b></div><div class=\"sk-container\" hidden><div class=\"sk-item sk-dashed-wrapped\"><div class=\"sk-label-container\"><div class=\"sk-label sk-toggleable\"><input class=\"sk-toggleable__control sk-hidden--visually\" id=\"sk-estimator-id-2\" type=\"checkbox\" ><label for=\"sk-estimator-id-2\" class=\"sk-toggleable__label sk-toggleable__label-arrow\">VotingRegressor</label><div class=\"sk-toggleable__content\"><pre>VotingRegressor(estimators=[(&#x27;gbr&#x27;,\n",
       "                             GradientBoostingRegressor(alpha=1e-15,\n",
       "                                                       learning_rate=0.55,\n",
       "                                                       max_depth=1,\n",
       "                                                       max_features=&#x27;sqrt&#x27;,\n",
       "                                                       n_estimators=5,\n",
       "                                                       random_state=42,\n",
       "                                                       subsample=1)),\n",
       "                            (&#x27;rfr&#x27;,\n",
       "                             RandomForestRegressor(max_features=&#x27;sqrt&#x27;,\n",
       "                                                   n_estimators=23,\n",
       "                                                   random_state=42)),\n",
       "                            (&#x27;ada&#x27;,\n",
       "                             AdaBoostRegressor(learning_rate=0.28,\n",
       "                                               n_estimators=5,\n",
       "                                               random_state=42)),\n",
       "                            (&#x27;ard&#x27;,\n",
       "                             ARDRegression(alpha_1=1000000.0, alpha_2=1e-07,\n",
       "                                           lambda_1=1e-30, lambda_2=1000000.0,\n",
       "                                           n_iter=1000)),\n",
       "                            (&#x27;lasso&#x27;,\n",
       "                             LassoCV(cv=15, max_iter=5000, n_jobs=-1,\n",
       "                                     random_state=42)),\n",
       "                            (&#x27;ridge&#x27;, RidgeCV())],\n",
       "                n_jobs=-1, weights=array([4, 6, 2, 1, 3, 5], dtype=int64))</pre></div></div></div><div class=\"sk-parallel\"><div class=\"sk-parallel-item\"><div class=\"sk-item\"><div class=\"sk-label-container\"><div class=\"sk-label sk-toggleable\"><label>gbr</label></div></div><div class=\"sk-serial\"><div class=\"sk-item\"><div class=\"sk-estimator sk-toggleable\"><input class=\"sk-toggleable__control sk-hidden--visually\" id=\"sk-estimator-id-3\" type=\"checkbox\" ><label for=\"sk-estimator-id-3\" class=\"sk-toggleable__label sk-toggleable__label-arrow\">GradientBoostingRegressor</label><div class=\"sk-toggleable__content\"><pre>GradientBoostingRegressor(alpha=1e-15, learning_rate=0.55, max_depth=1,\n",
       "                          max_features=&#x27;sqrt&#x27;, n_estimators=5, random_state=42,\n",
       "                          subsample=1)</pre></div></div></div></div></div></div><div class=\"sk-parallel-item\"><div class=\"sk-item\"><div class=\"sk-label-container\"><div class=\"sk-label sk-toggleable\"><label>rfr</label></div></div><div class=\"sk-serial\"><div class=\"sk-item\"><div class=\"sk-estimator sk-toggleable\"><input class=\"sk-toggleable__control sk-hidden--visually\" id=\"sk-estimator-id-4\" type=\"checkbox\" ><label for=\"sk-estimator-id-4\" class=\"sk-toggleable__label sk-toggleable__label-arrow\">RandomForestRegressor</label><div class=\"sk-toggleable__content\"><pre>RandomForestRegressor(max_features=&#x27;sqrt&#x27;, n_estimators=23, random_state=42)</pre></div></div></div></div></div></div><div class=\"sk-parallel-item\"><div class=\"sk-item\"><div class=\"sk-label-container\"><div class=\"sk-label sk-toggleable\"><label>ada</label></div></div><div class=\"sk-serial\"><div class=\"sk-item\"><div class=\"sk-estimator sk-toggleable\"><input class=\"sk-toggleable__control sk-hidden--visually\" id=\"sk-estimator-id-5\" type=\"checkbox\" ><label for=\"sk-estimator-id-5\" class=\"sk-toggleable__label sk-toggleable__label-arrow\">AdaBoostRegressor</label><div class=\"sk-toggleable__content\"><pre>AdaBoostRegressor(learning_rate=0.28, n_estimators=5, random_state=42)</pre></div></div></div></div></div></div><div class=\"sk-parallel-item\"><div class=\"sk-item\"><div class=\"sk-label-container\"><div class=\"sk-label sk-toggleable\"><label>ard</label></div></div><div class=\"sk-serial\"><div class=\"sk-item\"><div class=\"sk-estimator sk-toggleable\"><input class=\"sk-toggleable__control sk-hidden--visually\" id=\"sk-estimator-id-6\" type=\"checkbox\" ><label for=\"sk-estimator-id-6\" class=\"sk-toggleable__label sk-toggleable__label-arrow\">ARDRegression</label><div class=\"sk-toggleable__content\"><pre>ARDRegression(alpha_1=1000000.0, alpha_2=1e-07, lambda_1=1e-30,\n",
       "              lambda_2=1000000.0, n_iter=1000)</pre></div></div></div></div></div></div><div class=\"sk-parallel-item\"><div class=\"sk-item\"><div class=\"sk-label-container\"><div class=\"sk-label sk-toggleable\"><label>lasso</label></div></div><div class=\"sk-serial\"><div class=\"sk-item\"><div class=\"sk-estimator sk-toggleable\"><input class=\"sk-toggleable__control sk-hidden--visually\" id=\"sk-estimator-id-7\" type=\"checkbox\" ><label for=\"sk-estimator-id-7\" class=\"sk-toggleable__label sk-toggleable__label-arrow\">LassoCV</label><div class=\"sk-toggleable__content\"><pre>LassoCV(cv=15, max_iter=5000, n_jobs=-1, random_state=42)</pre></div></div></div></div></div></div><div class=\"sk-parallel-item\"><div class=\"sk-item\"><div class=\"sk-label-container\"><div class=\"sk-label sk-toggleable\"><label>ridge</label></div></div><div class=\"sk-serial\"><div class=\"sk-item\"><div class=\"sk-estimator sk-toggleable\"><input class=\"sk-toggleable__control sk-hidden--visually\" id=\"sk-estimator-id-8\" type=\"checkbox\" ><label for=\"sk-estimator-id-8\" class=\"sk-toggleable__label sk-toggleable__label-arrow\">RidgeCV</label><div class=\"sk-toggleable__content\"><pre>RidgeCV()</pre></div></div></div></div></div></div></div></div></div></div>"
      ],
      "text/plain": [
       "VotingRegressor(estimators=[('gbr',\n",
       "                             GradientBoostingRegressor(alpha=1e-15,\n",
       "                                                       learning_rate=0.55,\n",
       "                                                       max_depth=1,\n",
       "                                                       max_features='sqrt',\n",
       "                                                       n_estimators=5,\n",
       "                                                       random_state=42,\n",
       "                                                       subsample=1)),\n",
       "                            ('rfr',\n",
       "                             RandomForestRegressor(max_features='sqrt',\n",
       "                                                   n_estimators=23,\n",
       "                                                   random_state=42)),\n",
       "                            ('ada',\n",
       "                             AdaBoostRegressor(learning_rate=0.28,\n",
       "                                               n_estimators=5,\n",
       "                                               random_state=42)),\n",
       "                            ('ard',\n",
       "                             ARDRegression(alpha_1=1000000.0, alpha_2=1e-07,\n",
       "                                           lambda_1=1e-30, lambda_2=1000000.0,\n",
       "                                           n_iter=1000)),\n",
       "                            ('lasso',\n",
       "                             LassoCV(cv=15, max_iter=5000, n_jobs=-1,\n",
       "                                     random_state=42)),\n",
       "                            ('ridge', RidgeCV())],\n",
       "                n_jobs=-1, weights=array([4, 6, 2, 1, 3, 5], dtype=int64))"
      ]
     },
     "execution_count": 63,
     "metadata": {},
     "output_type": "execute_result"
    }
   ],
   "source": [
    "estimators = [('gbr',gbr),('rfr',rfr),('ada',ada),('ard',ard),('lasso',lasso),('ridge',ridge)]\n",
    "\n",
    "vrg = VotingRegressor(estimators,\n",
    "                     weights=scaled_weights,\n",
    "                     n_jobs=-1)\n",
    "\n",
    "vrg.fit(X_train_scaled, y_train)"
   ]
  },
  {
   "cell_type": "code",
   "execution_count": 64,
   "id": "c6705835",
   "metadata": {},
   "outputs": [
    {
     "name": "stdout",
     "output_type": "stream",
     "text": [
      "Mean: 1067709.9638467901\n",
      "STD: 436734.20511730685\n"
     ]
    }
   ],
   "source": [
    "# Compute cv score for comparison\n",
    "vrg_cvs = cross_val_score(vrg,X_train_scaled,y_train,cv=15,\n",
    "                         scoring = 'neg_mean_squared_error', n_jobs=-1)\n",
    "\n",
    "vrg_mean,vrg_std = score_info(vrg_cvs)"
   ]
  },
  {
   "cell_type": "code",
   "execution_count": 65,
   "id": "2abd2dec",
   "metadata": {
    "scrolled": true
   },
   "outputs": [
    {
     "name": "stdout",
     "output_type": "stream",
     "text": [
      "Training Score: 0.4981614829499126\n",
      "Testing Score: 0.23096110843474316\n"
     ]
    }
   ],
   "source": [
    "# Display Score on train vs. test\n",
    "print(f'Training Score: {vrg.score(X_train_scaled, y_train)}')\n",
    "print(f'Testing Score: {vrg.score(X_test_scaled, y_test)}')"
   ]
  }
 ],
 "metadata": {
  "kernelspec": {
   "display_name": "mlenv2",
   "language": "python",
   "name": "mlenv2"
  },
  "language_info": {
   "codemirror_mode": {
    "name": "ipython",
    "version": 3
   },
   "file_extension": ".py",
   "mimetype": "text/x-python",
   "name": "python",
   "nbconvert_exporter": "python",
   "pygments_lexer": "ipython3",
   "version": "3.9.15"
  }
 },
 "nbformat": 4,
 "nbformat_minor": 5
}
