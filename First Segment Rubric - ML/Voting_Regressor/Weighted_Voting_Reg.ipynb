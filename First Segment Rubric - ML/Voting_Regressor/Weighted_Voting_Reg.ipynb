{
 "cells": [
  {
   "cell_type": "markdown",
   "id": "d494763f",
   "metadata": {},
   "source": [
    "### Description\n",
    "\n",
    "#### Evaluates a number of estimators to construct the Voting Regressor meta-estimator with weights such that the mean squared error of the combined predictions of the estimators is minimized.\n",
    "\n",
    "#### version: 1.1\n",
    "\n",
    "#### TODO:\n",
    "- remove unused imports\n",
    "- finalize estimator selection\n",
    "- estimator comp. df\n",
    "- finalize 'fine tuning'\n",
    "- save final estimators\n",
    "- save final voting regressor\n",
    "- plot results\n",
    "- general file cleanup\n",
    "\n",
    "### Done:\n",
    "- prune features\n",
    "- full db integration"
   ]
  },
  {
   "cell_type": "code",
   "execution_count": 5,
   "id": "a084520d",
   "metadata": {},
   "outputs": [],
   "source": [
    "# Import Dependencies\n",
    "import pandas as pd\n",
    "import numpy as np\n",
    "import joblib\n",
    "\n",
    "from statsmodels.stats.outliers_influence import variance_inflation_factor\n",
    "from patsy import dmatrices\n",
    "\n",
    "# Plots as needed\n",
    "import matplotlib.pyplot as plt\n",
    "import seaborn as sns\n",
    "\n",
    "# Pre-processing\n",
    "from sklearn.preprocessing import RobustScaler\n",
    "from sklearn.preprocessing import OneHotEncoder\n",
    "from sklearn.pipeline import make_pipeline\n",
    "from sklearn.pipeline import Pipeline\n",
    "from sklearn.compose import ColumnTransformer\n",
    "from sklearn.impute import SimpleImputer\n",
    "\n",
    "# Data split\n",
    "from sklearn.model_selection import StratifiedShuffleSplit\n",
    "from sklearn.model_selection import train_test_split\n",
    "\n",
    "# Model\n",
    "from sklearn.ensemble import GradientBoostingRegressor\n",
    "from sklearn.ensemble import RandomForestRegressor\n",
    "from sklearn.linear_model import Lasso\n",
    "from sklearn.linear_model import Ridge\n",
    "from sklearn.ensemble import VotingRegressor\n",
    "from sklearn.svm import SVR\n",
    "from sklearn.linear_model import LassoCV\n",
    "from sklearn.linear_model import RidgeCV\n",
    "from sklearn.ensemble import AdaBoostRegressor\n",
    "from sklearn.linear_model import ARDRegression\n",
    "from sklearn.neighbors import KNeighborsRegressor\n",
    "from sklearn.ensemble import BaggingRegressor\n",
    "from sklearn.linear_model import HuberRegressor\n",
    "\n",
    "\n",
    "# Model Validation and Tuning\n",
    "from sklearn.model_selection import GridSearchCV\n",
    "from sklearn.model_selection import RandomizedSearchCV\n",
    "from sklearn.model_selection import cross_val_score\n",
    "from scipy import stats\n",
    "\n",
    "# MSE minimization\n",
    "from sklearn.metrics import mean_squared_error\n",
    "from scipy import optimize\n",
    "\n",
    "# DB interface\n",
    "from sqlalchemy import create_engine\n",
    "from sqlalchemy.ext.automap import automap_base\n",
    "from config import db_password"
   ]
  },
  {
   "cell_type": "markdown",
   "id": "fabeaa4d",
   "metadata": {},
   "source": [
    "## Interface with Database and create DataFrames"
   ]
  },
  {
   "cell_type": "code",
   "execution_count": 2,
   "id": "719bd363",
   "metadata": {},
   "outputs": [],
   "source": [
    "# Construct db string\n",
    "user = 'postgres'\n",
    "host = 'housing-prices.ch2ctomvepex.us-east-1.rds.amazonaws.com'\n",
    "name = 'housing-prices'\n",
    "\n",
    "db_string = f'postgresql://{user}:{db_password}@{host}/{name}'"
   ]
  },
  {
   "cell_type": "code",
   "execution_count": 3,
   "id": "1328639c",
   "metadata": {},
   "outputs": [],
   "source": [
    "# Create Connection Engine\n",
    "\n",
    "engine = create_engine(db_string)"
   ]
  },
  {
   "cell_type": "code",
   "execution_count": 24,
   "id": "e247f485",
   "metadata": {
    "scrolled": true
   },
   "outputs": [],
   "source": [
    "# map to Base to extract metadata\n",
    "Base = automap_base()\n",
    "Base.prepare(engine, reflect=True)"
   ]
  },
  {
   "cell_type": "code",
   "execution_count": 27,
   "id": "5f3daa4e",
   "metadata": {},
   "outputs": [
    {
     "name": "stdout",
     "output_type": "stream",
     "text": [
      "['austin', 'sanfran', 'la', 'boston', 'chandler', 'pittsburgh', 'houston', 'spokane', 'chicago']\n"
     ]
    }
   ],
   "source": [
    "# List of tables corresponding to cities\n",
    "table_names = []\n",
    "city_list = ['austin','boston','sanfran','chandler','chicago','houston','la','pittsburgh','spokane']\n",
    "\n",
    "for k in Base.metadata.tables.keys():\n",
    "    if k in city_list:\n",
    "        table_names.append(k)\n",
    "\n",
    "print(table_names)"
   ]
  },
  {
   "cell_type": "code",
   "execution_count": 29,
   "id": "e90f2fba",
   "metadata": {},
   "outputs": [],
   "source": [
    "# Create df from comb. of all city tables\n",
    "\n",
    "def city_df(eng,city_tables):\n",
    "    \n",
    "    all_pop = pd.DataFrame()\n",
    "    \n",
    "    for city in city_tables:\n",
    "        \n",
    "        # Create temp city df\n",
    "        city = pd.read_sql_table(city, eng)\n",
    "        \n",
    "        # add to all_pop\n",
    "        all_pop = pd.concat([all_pop,city])\n",
    "        \n",
    "    return all_pop"
   ]
  },
  {
   "cell_type": "code",
   "execution_count": 30,
   "id": "13fd4901",
   "metadata": {},
   "outputs": [
    {
     "data": {
      "text/html": [
       "<div>\n",
       "<style scoped>\n",
       "    .dataframe tbody tr th:only-of-type {\n",
       "        vertical-align: middle;\n",
       "    }\n",
       "\n",
       "    .dataframe tbody tr th {\n",
       "        vertical-align: top;\n",
       "    }\n",
       "\n",
       "    .dataframe thead th {\n",
       "        text-align: right;\n",
       "    }\n",
       "</style>\n",
       "<table border=\"1\" class=\"dataframe\">\n",
       "  <thead>\n",
       "    <tr style=\"text-align: right;\">\n",
       "      <th></th>\n",
       "      <th>price</th>\n",
       "      <th>bedroom</th>\n",
       "      <th>sqft</th>\n",
       "      <th>bathroom</th>\n",
       "      <th>amenity_count</th>\n",
       "      <th>cityid</th>\n",
       "    </tr>\n",
       "  </thead>\n",
       "  <tbody>\n",
       "    <tr>\n",
       "      <th>0</th>\n",
       "      <td>1191</td>\n",
       "      <td>1</td>\n",
       "      <td>600.0</td>\n",
       "      <td>1.0</td>\n",
       "      <td>5</td>\n",
       "      <td>1</td>\n",
       "    </tr>\n",
       "    <tr>\n",
       "      <th>1</th>\n",
       "      <td>1425</td>\n",
       "      <td>1</td>\n",
       "      <td>526.0</td>\n",
       "      <td>1.0</td>\n",
       "      <td>5</td>\n",
       "      <td>1</td>\n",
       "    </tr>\n",
       "    <tr>\n",
       "      <th>2</th>\n",
       "      <td>1266</td>\n",
       "      <td>1</td>\n",
       "      <td>578.0</td>\n",
       "      <td>1.0</td>\n",
       "      <td>5</td>\n",
       "      <td>1</td>\n",
       "    </tr>\n",
       "    <tr>\n",
       "      <th>3</th>\n",
       "      <td>1144</td>\n",
       "      <td>1</td>\n",
       "      <td>351.0</td>\n",
       "      <td>1.0</td>\n",
       "      <td>8</td>\n",
       "      <td>1</td>\n",
       "    </tr>\n",
       "    <tr>\n",
       "      <th>4</th>\n",
       "      <td>1775</td>\n",
       "      <td>4</td>\n",
       "      <td>1236.0</td>\n",
       "      <td>2.0</td>\n",
       "      <td>8</td>\n",
       "      <td>1</td>\n",
       "    </tr>\n",
       "  </tbody>\n",
       "</table>\n",
       "</div>"
      ],
      "text/plain": [
       "   price  bedroom    sqft  bathroom  amenity_count  cityid\n",
       "0   1191        1   600.0       1.0              5       1\n",
       "1   1425        1   526.0       1.0              5       1\n",
       "2   1266        1   578.0       1.0              5       1\n",
       "3   1144        1   351.0       1.0              8       1\n",
       "4   1775        4  1236.0       2.0              8       1"
      ]
     },
     "execution_count": 30,
     "metadata": {},
     "output_type": "execute_result"
    }
   ],
   "source": [
    "all_pop = city_df(eng=engine,city_tables=table_names)\n",
    "all_pop.head()"
   ]
  },
  {
   "cell_type": "code",
   "execution_count": 17,
   "id": "f54e8c15",
   "metadata": {
    "scrolled": true
   },
   "outputs": [
    {
     "data": {
      "text/html": [
       "<div>\n",
       "<style scoped>\n",
       "    .dataframe tbody tr th:only-of-type {\n",
       "        vertical-align: middle;\n",
       "    }\n",
       "\n",
       "    .dataframe tbody tr th {\n",
       "        vertical-align: top;\n",
       "    }\n",
       "\n",
       "    .dataframe thead th {\n",
       "        text-align: right;\n",
       "    }\n",
       "</style>\n",
       "<table border=\"1\" class=\"dataframe\">\n",
       "  <thead>\n",
       "    <tr style=\"text-align: right;\">\n",
       "      <th></th>\n",
       "      <th>price</th>\n",
       "      <th>sqft</th>\n",
       "      <th>beds</th>\n",
       "      <th>bath</th>\n",
       "      <th>laundry</th>\n",
       "      <th>pets</th>\n",
       "      <th>housing_type</th>\n",
       "      <th>parking</th>\n",
       "      <th>hood_district</th>\n",
       "    </tr>\n",
       "  </thead>\n",
       "  <tbody>\n",
       "    <tr>\n",
       "      <th>0</th>\n",
       "      <td>6800</td>\n",
       "      <td>1600.0</td>\n",
       "      <td>2.0</td>\n",
       "      <td>2.0</td>\n",
       "      <td>(a) in-unit</td>\n",
       "      <td>(d) no pets</td>\n",
       "      <td>(c) multi</td>\n",
       "      <td>(b) protected</td>\n",
       "      <td>7.0</td>\n",
       "    </tr>\n",
       "    <tr>\n",
       "      <th>1</th>\n",
       "      <td>3500</td>\n",
       "      <td>550.0</td>\n",
       "      <td>1.0</td>\n",
       "      <td>1.0</td>\n",
       "      <td>(a) in-unit</td>\n",
       "      <td>(a) both</td>\n",
       "      <td>(c) multi</td>\n",
       "      <td>(b) protected</td>\n",
       "      <td>7.0</td>\n",
       "    </tr>\n",
       "    <tr>\n",
       "      <th>2</th>\n",
       "      <td>5100</td>\n",
       "      <td>1300.0</td>\n",
       "      <td>2.0</td>\n",
       "      <td>1.0</td>\n",
       "      <td>(a) in-unit</td>\n",
       "      <td>(a) both</td>\n",
       "      <td>(c) multi</td>\n",
       "      <td>(d) no parking</td>\n",
       "      <td>7.0</td>\n",
       "    </tr>\n",
       "    <tr>\n",
       "      <th>3</th>\n",
       "      <td>9000</td>\n",
       "      <td>3500.0</td>\n",
       "      <td>3.0</td>\n",
       "      <td>2.5</td>\n",
       "      <td>(a) in-unit</td>\n",
       "      <td>(d) no pets</td>\n",
       "      <td>(c) multi</td>\n",
       "      <td>(b) protected</td>\n",
       "      <td>7.0</td>\n",
       "    </tr>\n",
       "    <tr>\n",
       "      <th>4</th>\n",
       "      <td>3100</td>\n",
       "      <td>561.0</td>\n",
       "      <td>1.0</td>\n",
       "      <td>1.0</td>\n",
       "      <td>(c) no laundry</td>\n",
       "      <td>(a) both</td>\n",
       "      <td>(c) multi</td>\n",
       "      <td>(d) no parking</td>\n",
       "      <td>7.0</td>\n",
       "    </tr>\n",
       "  </tbody>\n",
       "</table>\n",
       "</div>"
      ],
      "text/plain": [
       "   price    sqft  beds  bath         laundry         pets housing_type  \\\n",
       "0   6800  1600.0   2.0   2.0     (a) in-unit  (d) no pets    (c) multi   \n",
       "1   3500   550.0   1.0   1.0     (a) in-unit     (a) both    (c) multi   \n",
       "2   5100  1300.0   2.0   1.0     (a) in-unit     (a) both    (c) multi   \n",
       "3   9000  3500.0   3.0   2.5     (a) in-unit  (d) no pets    (c) multi   \n",
       "4   3100   561.0   1.0   1.0  (c) no laundry     (a) both    (c) multi   \n",
       "\n",
       "          parking  hood_district  \n",
       "0   (b) protected            7.0  \n",
       "1   (b) protected            7.0  \n",
       "2  (d) no parking            7.0  \n",
       "3   (b) protected            7.0  \n",
       "4  (d) no parking            7.0  "
      ]
     },
     "execution_count": 17,
     "metadata": {},
     "output_type": "execute_result"
    }
   ],
   "source": [
    "# Example Data from CSV used here\n",
    "\n",
    "# Import Data\n",
    "sf_df = pd.read_csv(\"../../First Segment Rubric - Sample Data/sf_clean.csv\")\n",
    "sf_df.head()"
   ]
  },
  {
   "cell_type": "markdown",
   "id": "64f01293",
   "metadata": {},
   "source": [
    "## Temp Data from CSVs"
   ]
  },
  {
   "cell_type": "code",
   "execution_count": 2,
   "id": "8b2bc804",
   "metadata": {},
   "outputs": [],
   "source": [
    "# # Create city list and general path\n",
    "\n",
    "# # TODO: Edit to match RDS table names\n",
    "# city_list = ['austin','boston','sf','chandler','chicago','houston','la','pittsburgh','spokane']\n",
    "\n",
    "# # Group by city population\n",
    "# low_list = ['chandler', 'pittsburgh', 'spokane']\n",
    "# mid_list = ['austin', 'boston', 'sf']\n",
    "# high_list = ['chicago', 'la', 'houston']\n",
    "\n",
    "# # TODO: Edit to match RDS path\n",
    "# general_path = '../../First Segment Rubric - Clean/csv/'"
   ]
  },
  {
   "cell_type": "code",
   "execution_count": 3,
   "id": "03bc7578",
   "metadata": {},
   "outputs": [],
   "source": [
    "# # Create dataframes for each pop grouping and overall\n",
    "\n",
    "\n",
    "# def build_dfs(cities, gen_path, lowpop_list=[], midpop_list=[], highpop_list=[]):\n",
    "    \n",
    "#     # Dummy cityID for cities temp. missing it\n",
    "#     dummy_id = 10\n",
    "\n",
    "#     low_pop = pd.DataFrame()\n",
    "#     mid_pop = pd.DataFrame()\n",
    "#     high_pop = pd.DataFrame()\n",
    "#     all_pop = pd.DataFrame()\n",
    "\n",
    "#     # Iterate through cities to get data\n",
    "#     for city in cities:\n",
    "        \n",
    "#         city_fp = f'{gen_path}{city}_clean_data.csv'\n",
    "        \n",
    "        \n",
    "#         # Determine low, mid, or high pop\n",
    "        \n",
    "#         if city in lowpop_list:\n",
    "            \n",
    "#             # Create temp city df\n",
    "#             city = pd.read_csv(city_fp)\n",
    "        \n",
    "#             # Check for cityID\n",
    "#             if city.columns[-1] != 'cityID':\n",
    "#                 city['cityID'] = dummy_id\n",
    "#                 dummy_id = dummy_id + 1\n",
    "                \n",
    "#             # Check for num amen\n",
    "#             if 'number of amenities' in city.columns:\n",
    "#                 city['amenity_count'] = city['number of amenities']\n",
    "#                 city = city.drop(columns='number of amenities', axis=1)\n",
    "                \n",
    "#             # Add class col\n",
    "#             city['pop_class'] = 1\n",
    "            \n",
    "#             # Add to low df\n",
    "#             low_pop = pd.concat([low_pop,city])\n",
    "                \n",
    "#         elif city in midpop_list:\n",
    "            \n",
    "#            # Create temp city df\n",
    "#             city = pd.read_csv(city_fp)\n",
    "        \n",
    "#             # Check for cityID\n",
    "#             if city.columns[-1] != 'cityID':\n",
    "#                 city['cityID'] = dummy_id\n",
    "#                 dummy_id = dummy_id + 1\n",
    "            \n",
    "#             # Check for num amen\n",
    "#             if 'number of amenities' in city.columns:\n",
    "#                 city['amenity_count'] = city['number of amenities']\n",
    "#                 city = city.drop(columns='number of amenities', axis=1)\n",
    "            \n",
    "#             # Add class col\n",
    "#             city['pop_class'] = 2\n",
    "            \n",
    "#             # Add to mid df\n",
    "#             mid_pop = pd.concat([mid_pop,city])\n",
    "                \n",
    "#         elif city in highpop_list:\n",
    "            \n",
    "#             # Create temp city df\n",
    "#             city = pd.read_csv(city_fp)\n",
    "        \n",
    "#             # Check for cityID\n",
    "#             if city.columns[-1] != 'cityID':\n",
    "#                 city['cityID'] = dummy_id\n",
    "#                 dummy_id = dummy_id + 1\n",
    "                \n",
    "#             # Check for num amen    \n",
    "#             if 'number of amenities' in city.columns:\n",
    "#                 city['amenity_count'] = city['number of amenities']\n",
    "#                 city = city.drop(columns='number of amenities', axis=1)\n",
    "            \n",
    "#             # Add class col\n",
    "#             city['pop_class'] = 3\n",
    "            \n",
    "#             # Add to high df\n",
    "#             high_pop = pd.concat([high_pop,city])\n",
    "        \n",
    "        \n",
    "#         # add to all_pop\n",
    "        \n",
    "#         all_pop = pd.concat([all_pop,city])\n",
    "        \n",
    "        \n",
    "#     return low_pop, mid_pop, high_pop, all_pop"
   ]
  },
  {
   "cell_type": "code",
   "execution_count": 30,
   "id": "c989e4b1",
   "metadata": {},
   "outputs": [],
   "source": [
    "# # Call fn to create dfs\n",
    "# low_pop, mid_pop, high_pop, all_pop = build_dfs(city_list, general_path, low_list,\n",
    "#                                                mid_list, high_list)"
   ]
  },
  {
   "cell_type": "markdown",
   "id": "46c67201",
   "metadata": {},
   "source": [
    "## Examine data"
   ]
  },
  {
   "cell_type": "code",
   "execution_count": 31,
   "id": "36835e6f",
   "metadata": {},
   "outputs": [
    {
     "data": {
      "text/html": [
       "<div>\n",
       "<style scoped>\n",
       "    .dataframe tbody tr th:only-of-type {\n",
       "        vertical-align: middle;\n",
       "    }\n",
       "\n",
       "    .dataframe tbody tr th {\n",
       "        vertical-align: top;\n",
       "    }\n",
       "\n",
       "    .dataframe thead th {\n",
       "        text-align: right;\n",
       "    }\n",
       "</style>\n",
       "<table border=\"1\" class=\"dataframe\">\n",
       "  <thead>\n",
       "    <tr style=\"text-align: right;\">\n",
       "      <th></th>\n",
       "      <th>price</th>\n",
       "      <th>bedroom</th>\n",
       "      <th>sqft</th>\n",
       "      <th>bathroom</th>\n",
       "      <th>amenity_count</th>\n",
       "      <th>cityid</th>\n",
       "    </tr>\n",
       "  </thead>\n",
       "  <tbody>\n",
       "    <tr>\n",
       "      <th>count</th>\n",
       "      <td>4848.000000</td>\n",
       "      <td>4848.000000</td>\n",
       "      <td>4848.000000</td>\n",
       "      <td>4848.000000</td>\n",
       "      <td>4848.000000</td>\n",
       "      <td>4848.000000</td>\n",
       "    </tr>\n",
       "    <tr>\n",
       "      <th>mean</th>\n",
       "      <td>1992.465140</td>\n",
       "      <td>1.668317</td>\n",
       "      <td>937.918936</td>\n",
       "      <td>1.459571</td>\n",
       "      <td>5.587871</td>\n",
       "      <td>4.956271</td>\n",
       "    </tr>\n",
       "    <tr>\n",
       "      <th>std</th>\n",
       "      <td>1188.873793</td>\n",
       "      <td>0.960823</td>\n",
       "      <td>499.195650</td>\n",
       "      <td>0.638668</td>\n",
       "      <td>1.863872</td>\n",
       "      <td>2.668800</td>\n",
       "    </tr>\n",
       "    <tr>\n",
       "      <th>min</th>\n",
       "      <td>225.000000</td>\n",
       "      <td>0.000000</td>\n",
       "      <td>1.000000</td>\n",
       "      <td>0.000000</td>\n",
       "      <td>0.000000</td>\n",
       "      <td>1.000000</td>\n",
       "    </tr>\n",
       "    <tr>\n",
       "      <th>25%</th>\n",
       "      <td>1350.000000</td>\n",
       "      <td>1.000000</td>\n",
       "      <td>665.000000</td>\n",
       "      <td>1.000000</td>\n",
       "      <td>4.000000</td>\n",
       "      <td>3.000000</td>\n",
       "    </tr>\n",
       "    <tr>\n",
       "      <th>50%</th>\n",
       "      <td>1700.000000</td>\n",
       "      <td>2.000000</td>\n",
       "      <td>869.000000</td>\n",
       "      <td>1.000000</td>\n",
       "      <td>6.000000</td>\n",
       "      <td>5.000000</td>\n",
       "    </tr>\n",
       "    <tr>\n",
       "      <th>75%</th>\n",
       "      <td>2370.000000</td>\n",
       "      <td>2.000000</td>\n",
       "      <td>1118.250000</td>\n",
       "      <td>2.000000</td>\n",
       "      <td>7.000000</td>\n",
       "      <td>7.000000</td>\n",
       "    </tr>\n",
       "    <tr>\n",
       "      <th>max</th>\n",
       "      <td>27000.000000</td>\n",
       "      <td>8.000000</td>\n",
       "      <td>15492.000000</td>\n",
       "      <td>5.500000</td>\n",
       "      <td>11.000000</td>\n",
       "      <td>9.000000</td>\n",
       "    </tr>\n",
       "  </tbody>\n",
       "</table>\n",
       "</div>"
      ],
      "text/plain": [
       "              price      bedroom          sqft     bathroom  amenity_count  \\\n",
       "count   4848.000000  4848.000000   4848.000000  4848.000000    4848.000000   \n",
       "mean    1992.465140     1.668317    937.918936     1.459571       5.587871   \n",
       "std     1188.873793     0.960823    499.195650     0.638668       1.863872   \n",
       "min      225.000000     0.000000      1.000000     0.000000       0.000000   \n",
       "25%     1350.000000     1.000000    665.000000     1.000000       4.000000   \n",
       "50%     1700.000000     2.000000    869.000000     1.000000       6.000000   \n",
       "75%     2370.000000     2.000000   1118.250000     2.000000       7.000000   \n",
       "max    27000.000000     8.000000  15492.000000     5.500000      11.000000   \n",
       "\n",
       "            cityid  \n",
       "count  4848.000000  \n",
       "mean      4.956271  \n",
       "std       2.668800  \n",
       "min       1.000000  \n",
       "25%       3.000000  \n",
       "50%       5.000000  \n",
       "75%       7.000000  \n",
       "max       9.000000  "
      ]
     },
     "execution_count": 31,
     "metadata": {},
     "output_type": "execute_result"
    }
   ],
   "source": [
    "all_pop.describe()"
   ]
  },
  {
   "cell_type": "code",
   "execution_count": 32,
   "id": "13605563",
   "metadata": {},
   "outputs": [
    {
     "name": "stdout",
     "output_type": "stream",
     "text": [
      "<class 'pandas.core.frame.DataFrame'>\n",
      "Int64Index: 4848 entries, 0 to 362\n",
      "Data columns (total 6 columns):\n",
      " #   Column         Non-Null Count  Dtype  \n",
      "---  ------         --------------  -----  \n",
      " 0   price          4848 non-null   int64  \n",
      " 1   bedroom        4848 non-null   int64  \n",
      " 2   sqft           4848 non-null   float64\n",
      " 3   bathroom       4848 non-null   float64\n",
      " 4   amenity_count  4848 non-null   int64  \n",
      " 5   cityid         4848 non-null   int64  \n",
      "dtypes: float64(2), int64(4)\n",
      "memory usage: 265.1 KB\n"
     ]
    }
   ],
   "source": [
    "# Check dtypes\n",
    "all_pop.info()"
   ]
  },
  {
   "cell_type": "code",
   "execution_count": 33,
   "id": "4ddad420",
   "metadata": {},
   "outputs": [
    {
     "data": {
      "text/plain": [
       "bedroom             9\n",
       "cityid              9\n",
       "bathroom           11\n",
       "amenity_count      11\n",
       "sqft              987\n",
       "price            1284\n",
       "dtype: int64"
      ]
     },
     "execution_count": 33,
     "metadata": {},
     "output_type": "execute_result"
    }
   ],
   "source": [
    "# Check num unique values\n",
    "all_pop.nunique().sort_values()"
   ]
  },
  {
   "cell_type": "markdown",
   "id": "cf6bb261",
   "metadata": {},
   "source": [
    "### Treat Appropriate Features as Categorical"
   ]
  },
  {
   "cell_type": "code",
   "execution_count": 86,
   "id": "88e489a8",
   "metadata": {},
   "outputs": [
    {
     "name": "stdout",
     "output_type": "stream",
     "text": [
      "['sqft']\n",
      "['bedroom', 'cityid', 'bathroom', 'amenity_count']\n"
     ]
    }
   ],
   "source": [
    "# Treat features with fewer than 15 unique values as cat\n",
    "\n",
    "num_unq = all_pop.drop(columns='price').nunique().sort_values()\n",
    "\n",
    "num_ft, cat_ft = [], []\n",
    "\n",
    "for i in range(all_pop.drop(columns='price').shape[1]):\n",
    "    \n",
    "    if num_unq.values[i] < 15:\n",
    "        cat_ft.append(num_unq.index[i])\n",
    "    else:\n",
    "        num_ft.append(num_unq.index[i])\n",
    "\n",
    "print(num_ft)\n",
    "print(cat_ft)"
   ]
  },
  {
   "cell_type": "code",
   "execution_count": 126,
   "id": "2b121b16",
   "metadata": {},
   "outputs": [
    {
     "data": {
      "image/png": "[encoded data removed]",
      "text/plain": [
       "<Figure size 640x480 with 1 Axes>"
      ]
     },
     "metadata": {},
     "output_type": "display_data"
    }
   ],
   "source": [
    "# Dist of num ft 'sqft' -> appears many outside 1.5*IQR\n",
    "all_t.boxplot(column='sqft')\n",
    "plt.show()"
   ]
  },
  {
   "cell_type": "code",
   "execution_count": 128,
   "id": "ebcfeed4",
   "metadata": {
    "scrolled": false
   },
   "outputs": [],
   "source": [
    "all_t.drop(all_t[all_t.sqft > upper].index, inplace=True)"
   ]
  },
  {
   "cell_type": "code",
   "execution_count": 125,
   "id": "b51064d0",
   "metadata": {
    "scrolled": true
   },
   "outputs": [],
   "source": [
    "all_t = all_pop.copy()\n",
    "\n",
    "# for ft in cat_ft:\n",
    "#     if ft != 'cityid':\n",
    "#         all_t = pd.concat([all_t,pd.DataFrame(pd.get_dummies(all_t[ft],\n",
    "#                                                                        prefix=ft))],axis=1)\n",
    "#         all_t.drop(columns=ft,axis=1,inplace=True)\n",
    "# all_t.head()"
   ]
  },
  {
   "cell_type": "code",
   "execution_count": 127,
   "id": "c05a7a4c",
   "metadata": {},
   "outputs": [
    {
     "name": "stdout",
     "output_type": "stream",
     "text": [
      "-14.875\n",
      "1798.125\n"
     ]
    }
   ],
   "source": [
    "# Calc iqr of sqft and upper/lower bounds\n",
    "sqft_iqr = all_t.sqft.quantile(.75)-all_t.sqft.quantile(.25)\n",
    "upper = 1.5*sqft_iqr + all_t.sqft.quantile(.75)\n",
    "lower =  all_t.sqft.quantile(.25) - 1.5*sqft_iqr\n",
    "print(lower)\n",
    "print(upper)"
   ]
  },
  {
   "cell_type": "code",
   "execution_count": 148,
   "id": "36c44eb2",
   "metadata": {},
   "outputs": [
    {
     "name": "stdout",
     "output_type": "stream",
     "text": [
      "<class 'pandas.core.frame.DataFrame'>\n",
      "Int64Index: 3535 entries, 0 to 362\n",
      "Data columns (total 6 columns):\n",
      " #   Column         Non-Null Count  Dtype  \n",
      "---  ------         --------------  -----  \n",
      " 0   price          3535 non-null   int64  \n",
      " 1   bedroom        3535 non-null   int64  \n",
      " 2   sqft           3535 non-null   float64\n",
      " 3   bathroom       3535 non-null   float64\n",
      " 4   amenity_count  3535 non-null   int64  \n",
      " 5   cityid         3535 non-null   int64  \n",
      "dtypes: float64(2), int64(4)\n",
      "memory usage: 193.3 KB\n"
     ]
    }
   ],
   "source": [
    "all_t.info()"
   ]
  },
  {
   "cell_type": "markdown",
   "id": "0019e22e",
   "metadata": {},
   "source": [
    "## Split Train and Test Data"
   ]
  },
  {
   "cell_type": "code",
   "execution_count": 129,
   "id": "2a2e21fa",
   "metadata": {},
   "outputs": [],
   "source": [
    "# Before examination, split so that the test set remains unobserved\n",
    "\n",
    "# Split using SSS to incorporate data from each of the 3 groups in test and train sets.\n",
    "split = StratifiedShuffleSplit(n_splits=10,test_size=0.2, random_state=42)\n",
    "\n",
    "for train_index, test_index in split.split(all_t, all_t['cityid']):\n",
    "    strat_train_set = all_t.iloc[train_index]\n",
    "    strat_test_set = all_t.iloc[test_index]"
   ]
  },
  {
   "cell_type": "code",
   "execution_count": 130,
   "id": "0097d8b0",
   "metadata": {
    "scrolled": false
   },
   "outputs": [
    {
     "data": {
      "text/html": [
       "<div>\n",
       "<style scoped>\n",
       "    .dataframe tbody tr th:only-of-type {\n",
       "        vertical-align: middle;\n",
       "    }\n",
       "\n",
       "    .dataframe tbody tr th {\n",
       "        vertical-align: top;\n",
       "    }\n",
       "\n",
       "    .dataframe thead th {\n",
       "        text-align: right;\n",
       "    }\n",
       "</style>\n",
       "<table border=\"1\" class=\"dataframe\">\n",
       "  <thead>\n",
       "    <tr style=\"text-align: right;\">\n",
       "      <th></th>\n",
       "      <th>price</th>\n",
       "      <th>bedroom</th>\n",
       "      <th>sqft</th>\n",
       "      <th>bathroom</th>\n",
       "      <th>amenity_count</th>\n",
       "      <th>cityid</th>\n",
       "    </tr>\n",
       "  </thead>\n",
       "  <tbody>\n",
       "    <tr>\n",
       "      <th>182</th>\n",
       "      <td>2995</td>\n",
       "      <td>3</td>\n",
       "      <td>1150.0</td>\n",
       "      <td>2.0</td>\n",
       "      <td>6</td>\n",
       "      <td>6</td>\n",
       "    </tr>\n",
       "    <tr>\n",
       "      <th>132</th>\n",
       "      <td>1605</td>\n",
       "      <td>2</td>\n",
       "      <td>983.0</td>\n",
       "      <td>2.0</td>\n",
       "      <td>5</td>\n",
       "      <td>5</td>\n",
       "    </tr>\n",
       "    <tr>\n",
       "      <th>194</th>\n",
       "      <td>1195</td>\n",
       "      <td>2</td>\n",
       "      <td>1100.0</td>\n",
       "      <td>1.0</td>\n",
       "      <td>6</td>\n",
       "      <td>9</td>\n",
       "    </tr>\n",
       "    <tr>\n",
       "      <th>338</th>\n",
       "      <td>1771</td>\n",
       "      <td>2</td>\n",
       "      <td>1121.0</td>\n",
       "      <td>2.0</td>\n",
       "      <td>3</td>\n",
       "      <td>5</td>\n",
       "    </tr>\n",
       "    <tr>\n",
       "      <th>216</th>\n",
       "      <td>1799</td>\n",
       "      <td>2</td>\n",
       "      <td>1076.0</td>\n",
       "      <td>2.0</td>\n",
       "      <td>6</td>\n",
       "      <td>5</td>\n",
       "    </tr>\n",
       "  </tbody>\n",
       "</table>\n",
       "</div>"
      ],
      "text/plain": [
       "     price  bedroom    sqft  bathroom  amenity_count  cityid\n",
       "182   2995        3  1150.0       2.0              6       6\n",
       "132   1605        2   983.0       2.0              5       5\n",
       "194   1195        2  1100.0       1.0              6       9\n",
       "338   1771        2  1121.0       2.0              3       5\n",
       "216   1799        2  1076.0       2.0              6       5"
      ]
     },
     "execution_count": 130,
     "metadata": {},
     "output_type": "execute_result"
    }
   ],
   "source": [
    "# Create a new df that is a copy of the training set to preserve it.\n",
    "all_train = strat_train_set.copy()\n",
    "\n",
    "# Repeat for test set\n",
    "all_test = strat_test_set.copy()\n",
    "\n",
    "# Show first 5 rows of training set\n",
    "all_train.head()"
   ]
  },
  {
   "cell_type": "code",
   "execution_count": 39,
   "id": "3b13db8c",
   "metadata": {},
   "outputs": [],
   "source": [
    "# Compare Train Test Split\n",
    "train_set,test_set = train_test_split(all_t, test_size=0.2, random_state=42)"
   ]
  },
  {
   "cell_type": "code",
   "execution_count": 41,
   "id": "90b151e4",
   "metadata": {
    "scrolled": true
   },
   "outputs": [
    {
     "data": {
      "text/html": [
       "<div>\n",
       "<style scoped>\n",
       "    .dataframe tbody tr th:only-of-type {\n",
       "        vertical-align: middle;\n",
       "    }\n",
       "\n",
       "    .dataframe tbody tr th {\n",
       "        vertical-align: top;\n",
       "    }\n",
       "\n",
       "    .dataframe thead th {\n",
       "        text-align: right;\n",
       "    }\n",
       "</style>\n",
       "<table border=\"1\" class=\"dataframe\">\n",
       "  <thead>\n",
       "    <tr style=\"text-align: right;\">\n",
       "      <th></th>\n",
       "      <th>Overall</th>\n",
       "      <th>Strat_City</th>\n",
       "      <th>Random</th>\n",
       "      <th>Random %Error</th>\n",
       "      <th>Strat_City %Error</th>\n",
       "    </tr>\n",
       "  </thead>\n",
       "  <tbody>\n",
       "    <tr>\n",
       "      <th>5</th>\n",
       "      <td>0.145008</td>\n",
       "      <td>0.145361</td>\n",
       "      <td>0.125773</td>\n",
       "      <td>-13.264800</td>\n",
       "      <td>0.243141</td>\n",
       "    </tr>\n",
       "    <tr>\n",
       "      <th>1</th>\n",
       "      <td>0.141089</td>\n",
       "      <td>0.141237</td>\n",
       "      <td>0.160825</td>\n",
       "      <td>13.988063</td>\n",
       "      <td>0.104901</td>\n",
       "    </tr>\n",
       "    <tr>\n",
       "      <th>3</th>\n",
       "      <td>0.140883</td>\n",
       "      <td>0.141237</td>\n",
       "      <td>0.151546</td>\n",
       "      <td>7.569093</td>\n",
       "      <td>0.251468</td>\n",
       "    </tr>\n",
       "    <tr>\n",
       "      <th>9</th>\n",
       "      <td>0.140058</td>\n",
       "      <td>0.140206</td>\n",
       "      <td>0.138144</td>\n",
       "      <td>-1.366169</td>\n",
       "      <td>0.105978</td>\n",
       "    </tr>\n",
       "    <tr>\n",
       "      <th>7</th>\n",
       "      <td>0.110355</td>\n",
       "      <td>0.110309</td>\n",
       "      <td>0.111340</td>\n",
       "      <td>0.892957</td>\n",
       "      <td>-0.041237</td>\n",
       "    </tr>\n",
       "    <tr>\n",
       "      <th>8</th>\n",
       "      <td>0.086427</td>\n",
       "      <td>0.086598</td>\n",
       "      <td>0.065979</td>\n",
       "      <td>-23.659179</td>\n",
       "      <td>0.197328</td>\n",
       "    </tr>\n",
       "    <tr>\n",
       "      <th>4</th>\n",
       "      <td>0.085602</td>\n",
       "      <td>0.085567</td>\n",
       "      <td>0.089691</td>\n",
       "      <td>4.776053</td>\n",
       "      <td>-0.041237</td>\n",
       "    </tr>\n",
       "    <tr>\n",
       "      <th>2</th>\n",
       "      <td>0.075701</td>\n",
       "      <td>0.075258</td>\n",
       "      <td>0.074227</td>\n",
       "      <td>-1.947808</td>\n",
       "      <td>-0.585972</td>\n",
       "    </tr>\n",
       "    <tr>\n",
       "      <th>6</th>\n",
       "      <td>0.074876</td>\n",
       "      <td>0.074227</td>\n",
       "      <td>0.082474</td>\n",
       "      <td>10.147397</td>\n",
       "      <td>-0.867343</td>\n",
       "    </tr>\n",
       "  </tbody>\n",
       "</table>\n",
       "</div>"
      ],
      "text/plain": [
       "    Overall  Strat_City    Random  Random %Error  Strat_City %Error\n",
       "5  0.145008    0.145361  0.125773     -13.264800           0.243141\n",
       "1  0.141089    0.141237  0.160825      13.988063           0.104901\n",
       "3  0.140883    0.141237  0.151546       7.569093           0.251468\n",
       "9  0.140058    0.140206  0.138144      -1.366169           0.105978\n",
       "7  0.110355    0.110309  0.111340       0.892957          -0.041237\n",
       "8  0.086427    0.086598  0.065979     -23.659179           0.197328\n",
       "4  0.085602    0.085567  0.089691       4.776053          -0.041237\n",
       "2  0.075701    0.075258  0.074227      -1.947808          -0.585972\n",
       "6  0.074876    0.074227  0.082474      10.147397          -0.867343"
      ]
     },
     "execution_count": 41,
     "metadata": {},
     "output_type": "execute_result"
    }
   ],
   "source": [
    "# df for comparison of test sets\n",
    "split_comp = pd.DataFrame()\n",
    "split_comp['Overall'] = all_t.cityid.value_counts() / len(all_t.cityid)\n",
    "split_comp['Strat_City'] = all_test.cityid.value_counts() / len(all_test.cityid)\n",
    "split_comp['Random'] = test_set.cityid.value_counts() / len(test_set.cityid)\n",
    "split_comp['Random %Error'] = ((split_comp.Random - split_comp.Overall) / split_comp.Overall)*100\n",
    "split_comp['Strat_City %Error'] = ((split_comp.Strat_City - split_comp.Overall) / split_comp.Overall)*100\n",
    "split_comp"
   ]
  },
  {
   "cell_type": "markdown",
   "id": "eb81610a",
   "metadata": {},
   "source": [
    "#### Stratified Shuffle Split demonstrates better representation of the population groupings"
   ]
  },
  {
   "cell_type": "code",
   "execution_count": 131,
   "id": "0fe58614",
   "metadata": {},
   "outputs": [],
   "source": [
    "# Drop columns not used in analysis\n",
    "all_train.drop(columns=['cityid'],axis=1,inplace=True)\n",
    "all_test.drop(columns=['cityid'],axis=1,inplace=True)"
   ]
  },
  {
   "cell_type": "markdown",
   "id": "3dc6e24d",
   "metadata": {},
   "source": [
    "### Preprocess Finalized Feature Set"
   ]
  },
  {
   "cell_type": "code",
   "execution_count": 132,
   "id": "77d8e6d0",
   "metadata": {},
   "outputs": [],
   "source": [
    "# Remove target\n",
    "\n",
    "X_train = all_train.drop(columns='price').values\n",
    "y_train = all_train.price.values\n",
    "\n",
    "X_test = all_test.drop(columns='price').values\n",
    "y_test = all_test.price.values"
   ]
  },
  {
   "cell_type": "code",
   "execution_count": 133,
   "id": "313ddb60",
   "metadata": {},
   "outputs": [],
   "source": [
    "# Scale using RobustScaler due to spread\n",
    "\n",
    "rs = RobustScaler()\n",
    "\n",
    "robust = rs.fit(X_train)\n",
    "\n",
    "X_train_scaled = robust.transform(X_train)\n",
    "\n",
    "X_test_scaled = robust.transform(X_test)"
   ]
  },
  {
   "cell_type": "markdown",
   "id": "5ee4aad1",
   "metadata": {},
   "source": [
    "## Estimator Construction"
   ]
  },
  {
   "cell_type": "code",
   "execution_count": 45,
   "id": "a4ed20c3",
   "metadata": {},
   "outputs": [],
   "source": [
    "# Create fn to out scores from cross_val_score to select estimators\n",
    "\n",
    "def score_info(scores):\n",
    "    MSE = -scores\n",
    "    confidence = 0.95\n",
    "    con_int= stats.t.interval(\n",
    "    confidence,\n",
    "    len(MSE)-1,\n",
    "    loc=MSE.mean(),\n",
    "    scale=stats.sem(MSE))\n",
    "    \n",
    "    print(f'Mean: {MSE.mean()}')\n",
    "    print(f'STD: {MSE.std()}')\n",
    "    print(f'Conf. Interval: {con_int}')\n",
    "    return [MSE.mean(), MSE.std(), con_int[0], con_int[1]]"
   ]
  },
  {
   "cell_type": "code",
   "execution_count": 134,
   "id": "b6391578",
   "metadata": {},
   "outputs": [
    {
     "name": "stdout",
     "output_type": "stream",
     "text": [
      "Mean: 662478.3825001642\n",
      "STD: 102044.63428137738\n",
      "Conf. Interval: (603984.5252181767, 720972.2397821518)\n"
     ]
    }
   ],
   "source": [
    "# Gradient Boosting Regressor\n",
    "\n",
    "gbr_cvs = cross_val_score(GradientBoostingRegressor(random_state=42),X_train_scaled,y_train,cv=15,\n",
    "                         scoring = 'neg_mean_squared_error', n_jobs=-1)\n",
    "\n",
    "gbr_score = score_info(gbr_cvs)"
   ]
  },
  {
   "cell_type": "code",
   "execution_count": 135,
   "id": "190338be",
   "metadata": {},
   "outputs": [
    {
     "name": "stdout",
     "output_type": "stream",
     "text": [
      "Mean: 675854.324006696\n",
      "STD: 114881.78360275742\n",
      "Conf. Interval: (610001.9771225814, 741706.6708908106)\n"
     ]
    }
   ],
   "source": [
    "# Random Forest Regressor\n",
    "\n",
    "rfr_cvs = cross_val_score(RandomForestRegressor(random_state=42),X_train_scaled,y_train,cv=15,\n",
    "                         scoring = 'neg_mean_squared_error', n_jobs=-1)\n",
    "\n",
    "rfr_score =score_info(rfr_cvs)"
   ]
  },
  {
   "cell_type": "code",
   "execution_count": 136,
   "id": "f1a71bf3",
   "metadata": {},
   "outputs": [
    {
     "name": "stdout",
     "output_type": "stream",
     "text": [
      "Mean: 756698.0909064644\n",
      "STD: 108054.38875902574\n",
      "Conf. Interval: (694759.332055757, 818636.8497571717)\n"
     ]
    }
   ],
   "source": [
    "# Lasso\n",
    "\n",
    "lasso_cvs = cross_val_score(LassoCV(),X_train_scaled,y_train,cv=15,\n",
    "                         scoring = 'neg_mean_squared_error', n_jobs=-1)\n",
    "\n",
    "lasso_score=score_info(lasso_cvs)"
   ]
  },
  {
   "cell_type": "code",
   "execution_count": 137,
   "id": "2acea00d",
   "metadata": {},
   "outputs": [
    {
     "name": "stdout",
     "output_type": "stream",
     "text": [
      "Mean: 757604.5325728253\n",
      "STD: 107821.64660933688\n",
      "Conf. Interval: (695799.1857940342, 819409.8793516165)\n"
     ]
    }
   ],
   "source": [
    "# Ridge\n",
    "\n",
    "ridge_cvs = cross_val_score(RidgeCV(),X_train_scaled,y_train,cv=15,\n",
    "                         scoring = 'neg_mean_squared_error', n_jobs=-1)\n",
    "\n",
    "ridge_score=score_info(ridge_cvs)"
   ]
  },
  {
   "cell_type": "code",
   "execution_count": 138,
   "id": "f011aa87",
   "metadata": {},
   "outputs": [
    {
     "name": "stdout",
     "output_type": "stream",
     "text": [
      "Mean: 964186.5970011249\n",
      "STD: 116660.88471676885\n",
      "Conf. Interval: (897314.4367051041, 1031058.7572971457)\n"
     ]
    }
   ],
   "source": [
    "# Adaboost\n",
    "\n",
    "ada_cvs = cross_val_score(AdaBoostRegressor(random_state=42),X_train_scaled,y_train,cv=15,\n",
    "                         scoring = 'neg_mean_squared_error', n_jobs=-1)\n",
    "\n",
    "ada_score=score_info(ada_cvs)"
   ]
  },
  {
   "cell_type": "code",
   "execution_count": 139,
   "id": "a8c3b246",
   "metadata": {},
   "outputs": [
    {
     "name": "stdout",
     "output_type": "stream",
     "text": [
      "Mean: 756226.1554470676\n",
      "STD: 107481.94240676714\n",
      "Conf. Interval: (694615.5333520693, 817836.7775420658)\n"
     ]
    }
   ],
   "source": [
    "#ARDRegression\n",
    "\n",
    "ard_cvs = cross_val_score(ARDRegression(),X_train_scaled,y_train,cv=15,\n",
    "                         scoring = 'neg_mean_squared_error', n_jobs=-1)\n",
    "\n",
    "ard_score=score_info(ard_cvs)"
   ]
  },
  {
   "cell_type": "code",
   "execution_count": 140,
   "id": "856ef2c6",
   "metadata": {},
   "outputs": [
    {
     "name": "stdout",
     "output_type": "stream",
     "text": [
      "Mean: 885884.2620191523\n",
      "STD: 133871.29129374793\n",
      "Conf. Interval: (809146.7807959879, 962621.7432423166)\n"
     ]
    }
   ],
   "source": [
    "# SVM with polynomial kernel\n",
    "\n",
    "svp_cvs = cross_val_score(SVR(kernel='poly'),X_train_scaled,y_train,cv=15,\n",
    "                         scoring = 'neg_mean_squared_error', n_jobs=-1)\n",
    "\n",
    "svp_score = score_info(svp_cvs)"
   ]
  },
  {
   "cell_type": "code",
   "execution_count": 141,
   "id": "70a45fd7",
   "metadata": {},
   "outputs": [
    {
     "name": "stdout",
     "output_type": "stream",
     "text": [
      "Mean: 873512.794551439\n",
      "STD: 133973.97505385077\n",
      "Conf. Interval: (796716.4531123413, 950309.1359905367)\n"
     ]
    }
   ],
   "source": [
    "svl_cvs = cross_val_score(SVR(kernel='linear'),X_train_scaled,y_train,cv=15,\n",
    "                         scoring = 'neg_mean_squared_error', n_jobs=-1)\n",
    "\n",
    "svl_score = score_info(svl_cvs)"
   ]
  },
  {
   "cell_type": "code",
   "execution_count": 142,
   "id": "8d99dd2b",
   "metadata": {},
   "outputs": [
    {
     "name": "stdout",
     "output_type": "stream",
     "text": [
      "Mean: 932262.250711153\n",
      "STD: 142841.52767134487\n",
      "Conf. Interval: (850382.8653579779, 1014141.6360643281)\n"
     ]
    }
   ],
   "source": [
    "svr_cvs = cross_val_score(SVR(),X_train_scaled,y_train,cv=15,\n",
    "                         scoring = 'neg_mean_squared_error', n_jobs=-1)\n",
    "\n",
    "svr_score = score_info(svr_cvs)"
   ]
  },
  {
   "cell_type": "code",
   "execution_count": 143,
   "id": "d447ac45",
   "metadata": {},
   "outputs": [
    {
     "name": "stdout",
     "output_type": "stream",
     "text": [
      "Mean: 903769.2089114421\n",
      "STD: 138952.16498089558\n",
      "Conf. Interval: (824119.2776372116, 983419.1401856726)\n"
     ]
    }
   ],
   "source": [
    "svs_cvs = cross_val_score(SVR(kernel='sigmoid'),X_train_scaled,y_train,cv=15,\n",
    "                         scoring = 'neg_mean_squared_error', n_jobs=-1)\n",
    "\n",
    "svs_score = score_info(svs_cvs)"
   ]
  },
  {
   "cell_type": "code",
   "execution_count": 144,
   "id": "7f731440",
   "metadata": {},
   "outputs": [
    {
     "name": "stdout",
     "output_type": "stream",
     "text": [
      "Mean: 725980.79302638\n",
      "STD: 134981.40974417498\n",
      "Conf. Interval: (648606.9715324834, 803354.6145202767)\n"
     ]
    }
   ],
   "source": [
    "# K nearest regression\n",
    "\n",
    "knn_cvs = cross_val_score(KNeighborsRegressor(),X_train_scaled,y_train,cv=15,\n",
    "                         scoring = 'neg_mean_squared_error', n_jobs=-1)\n",
    "\n",
    "knn_score = score_info(knn_cvs)"
   ]
  },
  {
   "cell_type": "code",
   "execution_count": 145,
   "id": "cb86ec26",
   "metadata": {},
   "outputs": [
    {
     "name": "stdout",
     "output_type": "stream",
     "text": [
      "Mean: 720738.2263654224\n",
      "STD: 122639.82355438708\n",
      "Conf. Interval: (650438.8285911328, 791037.624139712)\n"
     ]
    }
   ],
   "source": [
    "bag_cvs = cross_val_score(BaggingRegressor(random_state=42),X_train_scaled,y_train,cv=15,\n",
    "                         scoring = 'neg_mean_squared_error', n_jobs=-1)\n",
    "\n",
    "bag_score= score_info(bag_cvs)"
   ]
  },
  {
   "cell_type": "code",
   "execution_count": 146,
   "id": "ff9edf46",
   "metadata": {},
   "outputs": [
    {
     "name": "stdout",
     "output_type": "stream",
     "text": [
      "Mean: 799127.8284758372\n",
      "STD: 126502.08152644917\n",
      "Conf. Interval: (726614.5135446585, 871641.143407016)\n"
     ]
    }
   ],
   "source": [
    "hbr_cvs = cross_val_score(HuberRegressor(),X_train_scaled,y_train,cv=15,\n",
    "                         scoring = 'neg_mean_squared_error', n_jobs=-1)\n",
    "\n",
    "huber_score = score_info(hbr_cvs)"
   ]
  },
  {
   "cell_type": "code",
   "execution_count": 112,
   "id": "116def58",
   "metadata": {
    "scrolled": true
   },
   "outputs": [],
   "source": [
    "mod_type = ['Tree','Tree','Lin','Lin','Tree','Lin','Poly','Lin',\n",
    "                       'RBF','Logistic','Cluster','Tree','Lin']\n",
    "est_pre = pd.DataFrame([gbr_score,rfr_score,lasso_score,ridge_score,\n",
    "                       ada_score,ard_score,svp_score,svl_score,\n",
    "                        svr_score,svs_score,knn_score,bag_score,huber_score],\n",
    "                       columns=['Mean MSE','Stdev MSE','CI Low','CI High'],\n",
    "                       index=['GBR','RFR','Lasso','Ridge','AdaB','ARD','SVR(Poly)',\n",
    "                              'SVR(rbf)','SVR(linear)','SVR(sigmoid)','Knearest',\n",
    "                             'Bagging(tree)','Huber'])\n",
    "est_pre['Model_Type'] = mod_type"
   ]
  },
  {
   "cell_type": "code",
   "execution_count": 113,
   "id": "3130754f",
   "metadata": {},
   "outputs": [
    {
     "data": {
      "text/html": [
       "<div>\n",
       "<style scoped>\n",
       "    .dataframe tbody tr th:only-of-type {\n",
       "        vertical-align: middle;\n",
       "    }\n",
       "\n",
       "    .dataframe tbody tr th {\n",
       "        vertical-align: top;\n",
       "    }\n",
       "\n",
       "    .dataframe thead th {\n",
       "        text-align: right;\n",
       "    }\n",
       "</style>\n",
       "<table border=\"1\" class=\"dataframe\">\n",
       "  <thead>\n",
       "    <tr style=\"text-align: right;\">\n",
       "      <th></th>\n",
       "      <th>Mean MSE</th>\n",
       "      <th>Stdev MSE</th>\n",
       "      <th>CI Low</th>\n",
       "      <th>CI High</th>\n",
       "      <th>Model_Type</th>\n",
       "    </tr>\n",
       "  </thead>\n",
       "  <tbody>\n",
       "    <tr>\n",
       "      <th>GBR</th>\n",
       "      <td>659614.006862</td>\n",
       "      <td>106456.351211</td>\n",
       "      <td>598591.272464</td>\n",
       "      <td>7.206367e+05</td>\n",
       "      <td>Tree</td>\n",
       "    </tr>\n",
       "    <tr>\n",
       "      <th>RFR</th>\n",
       "      <td>666772.794803</td>\n",
       "      <td>116491.539687</td>\n",
       "      <td>599997.706187</td>\n",
       "      <td>7.335479e+05</td>\n",
       "      <td>Tree</td>\n",
       "    </tr>\n",
       "    <tr>\n",
       "      <th>Knearest</th>\n",
       "      <td>704433.577897</td>\n",
       "      <td>116734.611288</td>\n",
       "      <td>637519.156177</td>\n",
       "      <td>7.713480e+05</td>\n",
       "      <td>Cluster</td>\n",
       "    </tr>\n",
       "    <tr>\n",
       "      <th>Bagging(tree)</th>\n",
       "      <td>706375.524874</td>\n",
       "      <td>116598.198057</td>\n",
       "      <td>639539.297722</td>\n",
       "      <td>7.732118e+05</td>\n",
       "      <td>Tree</td>\n",
       "    </tr>\n",
       "    <tr>\n",
       "      <th>ARD</th>\n",
       "      <td>726481.933522</td>\n",
       "      <td>109858.156004</td>\n",
       "      <td>663509.222181</td>\n",
       "      <td>7.894546e+05</td>\n",
       "      <td>Lin</td>\n",
       "    </tr>\n",
       "    <tr>\n",
       "      <th>Lasso</th>\n",
       "      <td>726692.905579</td>\n",
       "      <td>107077.069926</td>\n",
       "      <td>665314.363820</td>\n",
       "      <td>7.880714e+05</td>\n",
       "      <td>Lin</td>\n",
       "    </tr>\n",
       "    <tr>\n",
       "      <th>Ridge</th>\n",
       "      <td>727008.057368</td>\n",
       "      <td>107221.761555</td>\n",
       "      <td>665546.575713</td>\n",
       "      <td>7.884695e+05</td>\n",
       "      <td>Lin</td>\n",
       "    </tr>\n",
       "    <tr>\n",
       "      <th>Huber</th>\n",
       "      <td>762378.680349</td>\n",
       "      <td>121781.769845</td>\n",
       "      <td>692571.134709</td>\n",
       "      <td>8.321862e+05</td>\n",
       "      <td>Lin</td>\n",
       "    </tr>\n",
       "    <tr>\n",
       "      <th>SVR(rbf)</th>\n",
       "      <td>871354.529991</td>\n",
       "      <td>133237.978080</td>\n",
       "      <td>794980.075526</td>\n",
       "      <td>9.477290e+05</td>\n",
       "      <td>Lin</td>\n",
       "    </tr>\n",
       "    <tr>\n",
       "      <th>SVR(Poly)</th>\n",
       "      <td>908242.651172</td>\n",
       "      <td>139111.554766</td>\n",
       "      <td>828501.354748</td>\n",
       "      <td>9.879839e+05</td>\n",
       "      <td>Poly</td>\n",
       "    </tr>\n",
       "    <tr>\n",
       "      <th>SVR(sigmoid)</th>\n",
       "      <td>913967.368767</td>\n",
       "      <td>141178.778612</td>\n",
       "      <td>833041.101692</td>\n",
       "      <td>9.948936e+05</td>\n",
       "      <td>Logistic</td>\n",
       "    </tr>\n",
       "    <tr>\n",
       "      <th>SVR(linear)</th>\n",
       "      <td>938817.855825</td>\n",
       "      <td>143205.222627</td>\n",
       "      <td>856729.993848</td>\n",
       "      <td>1.020906e+06</td>\n",
       "      <td>RBF</td>\n",
       "    </tr>\n",
       "    <tr>\n",
       "      <th>AdaB</th>\n",
       "      <td>964954.758265</td>\n",
       "      <td>126617.349278</td>\n",
       "      <td>892375.369742</td>\n",
       "      <td>1.037534e+06</td>\n",
       "      <td>Tree</td>\n",
       "    </tr>\n",
       "  </tbody>\n",
       "</table>\n",
       "</div>"
      ],
      "text/plain": [
       "                    Mean MSE      Stdev MSE         CI Low       CI High  \\\n",
       "GBR            659614.006862  106456.351211  598591.272464  7.206367e+05   \n",
       "RFR            666772.794803  116491.539687  599997.706187  7.335479e+05   \n",
       "Knearest       704433.577897  116734.611288  637519.156177  7.713480e+05   \n",
       "Bagging(tree)  706375.524874  116598.198057  639539.297722  7.732118e+05   \n",
       "ARD            726481.933522  109858.156004  663509.222181  7.894546e+05   \n",
       "Lasso          726692.905579  107077.069926  665314.363820  7.880714e+05   \n",
       "Ridge          727008.057368  107221.761555  665546.575713  7.884695e+05   \n",
       "Huber          762378.680349  121781.769845  692571.134709  8.321862e+05   \n",
       "SVR(rbf)       871354.529991  133237.978080  794980.075526  9.477290e+05   \n",
       "SVR(Poly)      908242.651172  139111.554766  828501.354748  9.879839e+05   \n",
       "SVR(sigmoid)   913967.368767  141178.778612  833041.101692  9.948936e+05   \n",
       "SVR(linear)    938817.855825  143205.222627  856729.993848  1.020906e+06   \n",
       "AdaB           964954.758265  126617.349278  892375.369742  1.037534e+06   \n",
       "\n",
       "              Model_Type  \n",
       "GBR                 Tree  \n",
       "RFR                 Tree  \n",
       "Knearest         Cluster  \n",
       "Bagging(tree)       Tree  \n",
       "ARD                  Lin  \n",
       "Lasso                Lin  \n",
       "Ridge                Lin  \n",
       "Huber                Lin  \n",
       "SVR(rbf)             Lin  \n",
       "SVR(Poly)           Poly  \n",
       "SVR(sigmoid)    Logistic  \n",
       "SVR(linear)          RBF  \n",
       "AdaB                Tree  "
      ]
     },
     "execution_count": 113,
     "metadata": {},
     "output_type": "execute_result"
    }
   ],
   "source": [
    "est_pre.sort_values(by=['Mean MSE','Stdev MSE'])"
   ]
  },
  {
   "cell_type": "code",
   "execution_count": 207,
   "id": "27ed02e5",
   "metadata": {},
   "outputs": [],
   "source": [
    "# To-Do: Plots"
   ]
  },
  {
   "cell_type": "markdown",
   "id": "b126242a",
   "metadata": {},
   "source": [
    "## Estimator Tuning"
   ]
  },
  {
   "cell_type": "code",
   "execution_count": 65,
   "id": "d64b5c68",
   "metadata": {},
   "outputs": [],
   "source": [
    "def mod_imp(model):\n",
    "    scores = cross_val_score(model,X_train_scaled,y_train,cv=15,\n",
    "                         scoring = 'neg_mean_squared_error', n_jobs=-1)\n",
    "    \n",
    "    MSE = -scores\n",
    "    print(f'Mean: {MSE.mean()}')\n",
    "    print(f'STD: {MSE.std()}') "
   ]
  },
  {
   "cell_type": "code",
   "execution_count": 314,
   "id": "15b45cc9",
   "metadata": {},
   "outputs": [],
   "source": [
    "def plot_lc(model,X_d,y_d):\n",
    "    \n",
    "    X, X_val, y, y_val = train_test_split(X_d,y_d, test_size=0.2, random_state=42)\n",
    "    train_err = []\n",
    "    val_err = []\n",
    "    \n",
    "    for k in range(1,len(X)):\n",
    "        model.fit(X[:k],y[:k])\n",
    "        y_pred = model.predict(X[:k])\n",
    "        y_val_pred = model.predict(X_val)\n",
    "        train_err.append(mean_squared_error(y[:k],y_pred[:k]))\n",
    "        val_err.append(mean_squared_error(y_val,y_val_pred))\n",
    "    \n",
    "    plt.plot(train_err,'r-',label='train')\n",
    "    plt.plot(val_err,'b-',label='validation')"
   ]
  },
  {
   "cell_type": "code",
   "execution_count": null,
   "id": "edf364e6",
   "metadata": {},
   "outputs": [],
   "source": [
    "def plot_expect(model,X_train,y_train,X_test,y_test):\n",
    "    model.fit(X_train,y_train)\n",
    "    y_pred = model.predict(X_train)\n",
    "    \n",
    "    plt.plot(X_train,y_train)\n",
    "    plt.plot(X_test,y_test)"
   ]
  },
  {
   "cell_type": "code",
   "execution_count": 111,
   "id": "eeb3b221",
   "metadata": {
    "scrolled": true
   },
   "outputs": [
    {
     "name": "stdout",
     "output_type": "stream",
     "text": [
      "Fitting 15 folds for each of 576 candidates, totalling 8640 fits\n",
      "Mean: 211603.47008663282\n",
      "STD: 50431.40097446247\n"
     ]
    }
   ],
   "source": [
    "# GBR\n",
    "\n",
    "model = GradientBoostingRegressor()\n",
    "\n",
    "\n",
    "mod_params = {\n",
    "    'learning_rate': np.arange(.5,.6,.05),\n",
    "    'n_estimators': np.arange(7,13),\n",
    "    'subsample': np.arange(.93,.97,0.005),\n",
    "    'max_depth': [6,7,8],\n",
    "    'random_state': [42],\n",
    "    'max_features': ['sqrt'],\n",
    "    'alpha': [1e-30,1e-20]\n",
    "}\n",
    "\n",
    "\n",
    "    \n",
    "model_cv = GridSearchCV(model,mod_params,n_jobs=-1, cv=15, verbose = 1,\n",
    "                                 scoring='neg_mean_squared_error')\n",
    "model_cv.fit(X_train_scaled,y_train)\n",
    "    \n",
    "gbr = model_cv.best_estimator_\n",
    "\n",
    "mod_imp(gbr)"
   ]
  },
  {
   "cell_type": "code",
   "execution_count": 325,
   "id": "17e1b987",
   "metadata": {},
   "outputs": [
    {
     "name": "stderr",
     "output_type": "stream",
     "text": [
      "C:\\Users\\Kilpa\\anaconda3\\envs\\mlenv2\\lib\\site-packages\\sklearn\\ensemble\\_gb_losses.py:229: RuntimeWarning: divide by zero encountered in double_scalars\n",
      "  1\n",
      "C:\\Users\\Kilpa\\anaconda3\\envs\\mlenv2\\lib\\site-packages\\sklearn\\ensemble\\_gb_losses.py:229: RuntimeWarning: invalid value encountered in double_scalars\n",
      "  1\n",
      "C:\\Users\\Kilpa\\anaconda3\\envs\\mlenv2\\lib\\site-packages\\sklearn\\ensemble\\_gb_losses.py:229: RuntimeWarning: divide by zero encountered in double_scalars\n",
      "  1\n",
      "C:\\Users\\Kilpa\\anaconda3\\envs\\mlenv2\\lib\\site-packages\\sklearn\\ensemble\\_gb_losses.py:229: RuntimeWarning: invalid value encountered in double_scalars\n",
      "  1\n",
      "C:\\Users\\Kilpa\\anaconda3\\envs\\mlenv2\\lib\\site-packages\\sklearn\\ensemble\\_gb_losses.py:229: RuntimeWarning: divide by zero encountered in double_scalars\n",
      "  1\n",
      "C:\\Users\\Kilpa\\anaconda3\\envs\\mlenv2\\lib\\site-packages\\sklearn\\ensemble\\_gb_losses.py:229: RuntimeWarning: invalid value encountered in double_scalars\n",
      "  1\n",
      "C:\\Users\\Kilpa\\anaconda3\\envs\\mlenv2\\lib\\site-packages\\sklearn\\ensemble\\_gb_losses.py:229: RuntimeWarning: divide by zero encountered in double_scalars\n",
      "  1\n",
      "C:\\Users\\Kilpa\\anaconda3\\envs\\mlenv2\\lib\\site-packages\\sklearn\\ensemble\\_gb_losses.py:229: RuntimeWarning: invalid value encountered in double_scalars\n",
      "  1\n",
      "C:\\Users\\Kilpa\\anaconda3\\envs\\mlenv2\\lib\\site-packages\\sklearn\\ensemble\\_gb_losses.py:229: RuntimeWarning: divide by zero encountered in double_scalars\n",
      "  1\n",
      "C:\\Users\\Kilpa\\anaconda3\\envs\\mlenv2\\lib\\site-packages\\sklearn\\ensemble\\_gb_losses.py:229: RuntimeWarning: invalid value encountered in double_scalars\n",
      "  1\n",
      "C:\\Users\\Kilpa\\anaconda3\\envs\\mlenv2\\lib\\site-packages\\sklearn\\ensemble\\_gb_losses.py:229: RuntimeWarning: divide by zero encountered in double_scalars\n",
      "  1\n",
      "C:\\Users\\Kilpa\\anaconda3\\envs\\mlenv2\\lib\\site-packages\\sklearn\\ensemble\\_gb_losses.py:229: RuntimeWarning: invalid value encountered in double_scalars\n",
      "  1\n",
      "C:\\Users\\Kilpa\\anaconda3\\envs\\mlenv2\\lib\\site-packages\\sklearn\\ensemble\\_gb_losses.py:229: RuntimeWarning: divide by zero encountered in double_scalars\n",
      "  1\n",
      "C:\\Users\\Kilpa\\anaconda3\\envs\\mlenv2\\lib\\site-packages\\sklearn\\ensemble\\_gb_losses.py:229: RuntimeWarning: invalid value encountered in double_scalars\n",
      "  1\n",
      "C:\\Users\\Kilpa\\anaconda3\\envs\\mlenv2\\lib\\site-packages\\sklearn\\ensemble\\_gb_losses.py:229: RuntimeWarning: divide by zero encountered in double_scalars\n",
      "  1\n",
      "C:\\Users\\Kilpa\\anaconda3\\envs\\mlenv2\\lib\\site-packages\\sklearn\\ensemble\\_gb_losses.py:229: RuntimeWarning: invalid value encountered in double_scalars\n",
      "  1\n",
      "C:\\Users\\Kilpa\\anaconda3\\envs\\mlenv2\\lib\\site-packages\\sklearn\\ensemble\\_gb_losses.py:229: RuntimeWarning: divide by zero encountered in double_scalars\n",
      "  1\n",
      "C:\\Users\\Kilpa\\anaconda3\\envs\\mlenv2\\lib\\site-packages\\sklearn\\ensemble\\_gb_losses.py:229: RuntimeWarning: invalid value encountered in double_scalars\n",
      "  1\n",
      "C:\\Users\\Kilpa\\anaconda3\\envs\\mlenv2\\lib\\site-packages\\sklearn\\ensemble\\_gb_losses.py:229: RuntimeWarning: divide by zero encountered in double_scalars\n",
      "  1\n",
      "C:\\Users\\Kilpa\\anaconda3\\envs\\mlenv2\\lib\\site-packages\\sklearn\\ensemble\\_gb_losses.py:229: RuntimeWarning: invalid value encountered in double_scalars\n",
      "  1\n"
     ]
    },
    {
     "data": {
      "image/png": "[encoded data removed]",
      "text/plain": [
       "<Figure size 640x480 with 1 Axes>"
      ]
     },
     "metadata": {},
     "output_type": "display_data"
    }
   ],
   "source": [
    "plot_lc(gbr,X_train_scaled,y_train)"
   ]
  },
  {
   "cell_type": "code",
   "execution_count": 112,
   "id": "dc709341",
   "metadata": {},
   "outputs": [
    {
     "name": "stdout",
     "output_type": "stream",
     "text": [
      "Fitting 15 folds for each of 40 candidates, totalling 600 fits\n",
      "Mean: 206886.09895005455\n",
      "STD: 40508.74146739888\n"
     ]
    }
   ],
   "source": [
    "# RFR\n",
    "\n",
    "model = RandomForestRegressor()\n",
    "\n",
    "\n",
    "mod_params = {\n",
    "    'n_estimators': np.arange(20,40),\n",
    "    'random_state': [42],\n",
    "    'max_features': ['sqrt','log2']\n",
    "}\n",
    "\n",
    "    \n",
    "model_cv = GridSearchCV(model,mod_params,n_jobs=-1, cv=15, verbose = 1,\n",
    "                                 scoring='neg_mean_squared_error')\n",
    "model_cv.fit(X_train_scaled,y_train)\n",
    "    \n",
    "rfr = model_cv.best_estimator_\n",
    "\n",
    "mod_imp(rfr)"
   ]
  },
  {
   "cell_type": "code",
   "execution_count": 324,
   "id": "9cd3396f",
   "metadata": {},
   "outputs": [
    {
     "data": {
      "image/png": "[encoded data removed]",
      "text/plain": [
       "<Figure size 640x480 with 1 Axes>"
      ]
     },
     "metadata": {},
     "output_type": "display_data"
    }
   ],
   "source": [
    "plot_lc(rfr,X_train_scaled,y_train)"
   ]
  },
  {
   "cell_type": "code",
   "execution_count": 113,
   "id": "1cd81d48",
   "metadata": {},
   "outputs": [
    {
     "name": "stdout",
     "output_type": "stream",
     "text": [
      "Fitting 15 folds for each of 70 candidates, totalling 1050 fits\n",
      "Mean: 327759.20803050074\n",
      "STD: 66979.48225631817\n"
     ]
    }
   ],
   "source": [
    "# ADA\n",
    "\n",
    "model = AdaBoostRegressor()\n",
    "\n",
    "\n",
    "mod_params = {\n",
    "    'learning_rate': np.arange(.1,.14,.01),\n",
    "    'n_estimators': np.arange(1,15),\n",
    "    'random_state': [42]\n",
    "}\n",
    "\n",
    "    \n",
    "model_cv = GridSearchCV(model,mod_params,n_jobs=-1, cv=15, verbose = 1,\n",
    "                                 scoring='neg_mean_squared_error')\n",
    "model_cv.fit(X_train_scaled,y_train)\n",
    "    \n",
    "ada = model_cv.best_estimator_\n",
    "\n",
    "mod_imp(ada)"
   ]
  },
  {
   "cell_type": "code",
   "execution_count": 321,
   "id": "b67595a7",
   "metadata": {},
   "outputs": [
    {
     "data": {
      "image/png": "[encoded data removed]",
      "text/plain": [
       "<Figure size 640x480 with 1 Axes>"
      ]
     },
     "metadata": {},
     "output_type": "display_data"
    }
   ],
   "source": [
    "plot_lc(ada,X_train_scaled,y_train)"
   ]
  },
  {
   "cell_type": "code",
   "execution_count": 114,
   "id": "fb2c23cb",
   "metadata": {
    "scrolled": true
   },
   "outputs": [
    {
     "name": "stdout",
     "output_type": "stream",
     "text": [
      "Fitting 15 folds for each of 448 candidates, totalling 6720 fits\n",
      "Mean: 536347.9233470439\n",
      "STD: 90786.71809091064\n"
     ]
    }
   ],
   "source": [
    "# ARD\n",
    "\n",
    "model = ARDRegression(n_iter=1000)\n",
    "\n",
    "\n",
    "mod_params = {\n",
    "    'alpha_1': [1e6,1e7,1e8,1e9,1e10,1e11,1e12],\n",
    "    'alpha_2': [1e-30,1e-25,1e-20,1e-15],\n",
    "    'lambda_1': [1e-35,1e-32,1e-30,1e-28],\n",
    "    'lambda_2': [1e3,1e4,1e5,1e6]\n",
    "}\n",
    "\n",
    "\n",
    "model_cv = GridSearchCV(model,mod_params,n_jobs=-1, cv=15, verbose = 1,\n",
    "                                 scoring='neg_mean_squared_error')\n",
    "model_cv.fit(X_train_scaled,y_train)\n",
    "    \n",
    "ard = model_cv.best_estimator_\n",
    "\n",
    "mod_imp(ard)"
   ]
  },
  {
   "cell_type": "code",
   "execution_count": 332,
   "id": "96eb6122",
   "metadata": {},
   "outputs": [
    {
     "data": {
      "image/png": "[encoded data removed]",
      "text/plain": [
       "<Figure size 640x480 with 1 Axes>"
      ]
     },
     "metadata": {},
     "output_type": "display_data"
    }
   ],
   "source": [
    "plot_lc(ada,X_train_scaled,y_train)"
   ]
  },
  {
   "cell_type": "code",
   "execution_count": 115,
   "id": "14afe7bb",
   "metadata": {},
   "outputs": [
    {
     "name": "stdout",
     "output_type": "stream",
     "text": [
      "Mean: 536590.5521700846\n",
      "STD: 90149.71650413961\n"
     ]
    }
   ],
   "source": [
    "lasso = LassoCV(max_iter=5000, cv=15,n_jobs=-1,\n",
    "               random_state=42)\n",
    "mod_imp(lasso)"
   ]
  },
  {
   "cell_type": "code",
   "execution_count": 116,
   "id": "20d849be",
   "metadata": {},
   "outputs": [
    {
     "name": "stdout",
     "output_type": "stream",
     "text": [
      "Mean: 536710.6734551302\n",
      "STD: 89918.10812301812\n"
     ]
    }
   ],
   "source": [
    "ridge = RidgeCV()\n",
    "mod_imp(ridge)"
   ]
  },
  {
   "cell_type": "code",
   "execution_count": 117,
   "id": "f4a4bce5",
   "metadata": {},
   "outputs": [
    {
     "name": "stdout",
     "output_type": "stream",
     "text": [
      "Fitting 15 folds for each of 110 candidates, totalling 1650 fits\n",
      "Mean: 902290.5111781439\n",
      "STD: 138908.3914706791\n"
     ]
    }
   ],
   "source": [
    "# Poly SVM\n",
    "\n",
    "model = SVR(kernel='poly')\n",
    "\n",
    "\n",
    "mod_params = {\n",
    "    'C': np.arange(.4,.5,.01),\n",
    "    'epsilon': np.arange(0.3,.4,0.01)\n",
    "}\n",
    "\n",
    "\n",
    "model_cv = GridSearchCV(model,mod_params,n_jobs=-1, cv=15, verbose = 1,\n",
    "                                 scoring='neg_mean_squared_error')\n",
    "model_cv.fit(X_train_scaled,y_train)\n",
    "    \n",
    "svp = model_cv.best_estimator_\n",
    "\n",
    "mod_imp(svp)"
   ]
  },
  {
   "cell_type": "code",
   "execution_count": 41,
   "id": "b7b2b679",
   "metadata": {},
   "outputs": [
    {
     "data": {
      "text/plain": [
       "{'C': 0.4900000000000001,\n",
       " 'cache_size': 200,\n",
       " 'coef0': 0.0,\n",
       " 'degree': 3,\n",
       " 'epsilon': 0.4000000000000001,\n",
       " 'gamma': 'scale',\n",
       " 'kernel': 'poly',\n",
       " 'max_iter': -1,\n",
       " 'shrinking': True,\n",
       " 'tol': 0.001,\n",
       " 'verbose': False}"
      ]
     },
     "execution_count": 41,
     "metadata": {},
     "output_type": "execute_result"
    }
   ],
   "source": [
    "svp.get_params()"
   ]
  },
  {
   "cell_type": "code",
   "execution_count": 340,
   "id": "91d0bcbe",
   "metadata": {},
   "outputs": [
    {
     "data": {
      "image/png": "[encoded data removed]",
      "text/plain": [
       "<Figure size 640x480 with 1 Axes>"
      ]
     },
     "metadata": {},
     "output_type": "display_data"
    }
   ],
   "source": [
    "plot_lc(svp,X_train_scaled,y_train)"
   ]
  },
  {
   "cell_type": "code",
   "execution_count": 118,
   "id": "86762a61",
   "metadata": {},
   "outputs": [
    {
     "name": "stdout",
     "output_type": "stream",
     "text": [
      "Fitting 15 folds for each of 20 candidates, totalling 300 fits\n",
      "Mean: 288989.3004259317\n",
      "STD: 74515.2402376014\n"
     ]
    }
   ],
   "source": [
    "# KNN\n",
    "\n",
    "model = KNeighborsRegressor(n_jobs=-1)\n",
    "\n",
    "\n",
    "mod_params = {\n",
    "    'n_neighbors': np.arange(30,40,1),\n",
    "    'weights': ['distance'],\n",
    "    'p': [1,2]\n",
    "    \n",
    "}\n",
    "\n",
    "\n",
    "model_cv = GridSearchCV(model,mod_params,n_jobs=-1, cv=15, verbose = 1,\n",
    "                                 scoring='neg_mean_squared_error')\n",
    "model_cv.fit(X_train_scaled,y_train)\n",
    "    \n",
    "knn = model_cv.best_estimator_\n",
    "\n",
    "mod_imp(knn)"
   ]
  },
  {
   "cell_type": "code",
   "execution_count": 119,
   "id": "bbf5fc4f",
   "metadata": {},
   "outputs": [
    {
     "data": {
      "text/html": [
       "<style>#sk-container-id-3 {color: black;background-color: white;}#sk-container-id-3 pre{padding: 0;}#sk-container-id-3 div.sk-toggleable {background-color: white;}#sk-container-id-3 label.sk-toggleable__label {cursor: pointer;display: block;width: 100%;margin-bottom: 0;padding: 0.3em;box-sizing: border-box;text-align: center;}#sk-container-id-3 label.sk-toggleable__label-arrow:before {content: \"▸\";float: left;margin-right: 0.25em;color: #696969;}#sk-container-id-3 label.sk-toggleable__label-arrow:hover:before {color: black;}#sk-container-id-3 div.sk-estimator:hover label.sk-toggleable__label-arrow:before {color: black;}#sk-container-id-3 div.sk-toggleable__content {max-height: 0;max-width: 0;overflow: hidden;text-align: left;background-color: #f0f8ff;}#sk-container-id-3 div.sk-toggleable__content pre {margin: 0.2em;color: black;border-radius: 0.25em;background-color: #f0f8ff;}#sk-container-id-3 input.sk-toggleable__control:checked~div.sk-toggleable__content {max-height: 200px;max-width: 100%;overflow: auto;}#sk-container-id-3 input.sk-toggleable__control:checked~label.sk-toggleable__label-arrow:before {content: \"▾\";}#sk-container-id-3 div.sk-estimator input.sk-toggleable__control:checked~label.sk-toggleable__label {background-color: #d4ebff;}#sk-container-id-3 div.sk-label input.sk-toggleable__control:checked~label.sk-toggleable__label {background-color: #d4ebff;}#sk-container-id-3 input.sk-hidden--visually {border: 0;clip: rect(1px 1px 1px 1px);clip: rect(1px, 1px, 1px, 1px);height: 1px;margin: -1px;overflow: hidden;padding: 0;position: absolute;width: 1px;}#sk-container-id-3 div.sk-estimator {font-family: monospace;background-color: #f0f8ff;border: 1px dotted black;border-radius: 0.25em;box-sizing: border-box;margin-bottom: 0.5em;}#sk-container-id-3 div.sk-estimator:hover {background-color: #d4ebff;}#sk-container-id-3 div.sk-parallel-item::after {content: \"\";width: 100%;border-bottom: 1px solid gray;flex-grow: 1;}#sk-container-id-3 div.sk-label:hover label.sk-toggleable__label {background-color: #d4ebff;}#sk-container-id-3 div.sk-serial::before {content: \"\";position: absolute;border-left: 1px solid gray;box-sizing: border-box;top: 0;bottom: 0;left: 50%;z-index: 0;}#sk-container-id-3 div.sk-serial {display: flex;flex-direction: column;align-items: center;background-color: white;padding-right: 0.2em;padding-left: 0.2em;position: relative;}#sk-container-id-3 div.sk-item {position: relative;z-index: 1;}#sk-container-id-3 div.sk-parallel {display: flex;align-items: stretch;justify-content: center;background-color: white;position: relative;}#sk-container-id-3 div.sk-item::before, #sk-container-id-3 div.sk-parallel-item::before {content: \"\";position: absolute;border-left: 1px solid gray;box-sizing: border-box;top: 0;bottom: 0;left: 50%;z-index: -1;}#sk-container-id-3 div.sk-parallel-item {display: flex;flex-direction: column;z-index: 1;position: relative;background-color: white;}#sk-container-id-3 div.sk-parallel-item:first-child::after {align-self: flex-end;width: 50%;}#sk-container-id-3 div.sk-parallel-item:last-child::after {align-self: flex-start;width: 50%;}#sk-container-id-3 div.sk-parallel-item:only-child::after {width: 0;}#sk-container-id-3 div.sk-dashed-wrapped {border: 1px dashed gray;margin: 0 0.4em 0.5em 0.4em;box-sizing: border-box;padding-bottom: 0.4em;background-color: white;}#sk-container-id-3 div.sk-label label {font-family: monospace;font-weight: bold;display: inline-block;line-height: 1.2em;}#sk-container-id-3 div.sk-label-container {text-align: center;}#sk-container-id-3 div.sk-container {/* jupyter's `normalize.less` sets `[hidden] { display: none; }` but bootstrap.min.css set `[hidden] { display: none !important; }` so we also need the `!important` here to be able to override the default hidden behavior on the sphinx rendered scikit-learn.org. See: https://github.com/scikit-learn/scikit-learn/issues/21755 */display: inline-block !important;position: relative;}#sk-container-id-3 div.sk-text-repr-fallback {display: none;}</style><div id=\"sk-container-id-3\" class=\"sk-top-container\"><div class=\"sk-text-repr-fallback\"><pre>KNeighborsRegressor(n_jobs=-1, n_neighbors=30, p=1, weights=&#x27;distance&#x27;)</pre><b>In a Jupyter environment, please rerun this cell to show the HTML representation or trust the notebook. <br />On GitHub, the HTML representation is unable to render, please try loading this page with nbviewer.org.</b></div><div class=\"sk-container\" hidden><div class=\"sk-item\"><div class=\"sk-estimator sk-toggleable\"><input class=\"sk-toggleable__control sk-hidden--visually\" id=\"sk-estimator-id-11\" type=\"checkbox\" checked><label for=\"sk-estimator-id-11\" class=\"sk-toggleable__label sk-toggleable__label-arrow\">KNeighborsRegressor</label><div class=\"sk-toggleable__content\"><pre>KNeighborsRegressor(n_jobs=-1, n_neighbors=30, p=1, weights=&#x27;distance&#x27;)</pre></div></div></div></div></div>"
      ],
      "text/plain": [
       "KNeighborsRegressor(n_jobs=-1, n_neighbors=30, p=1, weights='distance')"
      ]
     },
     "execution_count": 119,
     "metadata": {},
     "output_type": "execute_result"
    }
   ],
   "source": [
    "# Fit Estimators\n",
    "gbr.fit(X_train_scaled,y_train)\n",
    "rfr.fit(X_train_scaled,y_train)\n",
    "ada.fit(X_train_scaled,y_train)\n",
    "ard.fit(X_train_scaled,y_train)\n",
    "lasso.fit(X_train_scaled,y_train)\n",
    "ridge.fit(X_train_scaled,y_train)\n",
    "svp.fit(X_train_scaled,y_train)\n",
    "knn.fit(X_train_scaled,y_train)"
   ]
  },
  {
   "cell_type": "markdown",
   "id": "d896f6c9",
   "metadata": {},
   "source": [
    "## Weighted VotingRegressor"
   ]
  },
  {
   "cell_type": "markdown",
   "id": "83a02ec0",
   "metadata": {},
   "source": [
    "### Minimize MSE of models"
   ]
  },
  {
   "cell_type": "code",
   "execution_count": 120,
   "id": "a111467a",
   "metadata": {},
   "outputs": [],
   "source": [
    "# Specify number of estimators\n",
    "n_est = 8\n",
    "\n",
    "# Create a 'weights' array with default values of 1/n_est\n",
    "w = (1/n_est)*np.ones(n_est)"
   ]
  },
  {
   "cell_type": "code",
   "execution_count": 121,
   "id": "025b7e57",
   "metadata": {},
   "outputs": [],
   "source": [
    "# Create vector of predicted values from each estimator\n",
    "gbr_pred = gbr.predict(X_test_scaled)\n",
    "rfr_pred = rfr.predict(X_test_scaled)\n",
    "ada_pred = ada.predict(X_test_scaled)\n",
    "ard_pred = ard.predict(X_test_scaled)\n",
    "lasso_pred = lasso.predict(X_test_scaled)\n",
    "ridge_pred = ridge.predict(X_test_scaled)\n",
    "svp_pred = svp.predict(X_test_scaled)\n",
    "knn_pred = knn.predict(X_test_scaled)"
   ]
  },
  {
   "cell_type": "code",
   "execution_count": 122,
   "id": "bfe6c57a",
   "metadata": {},
   "outputs": [],
   "source": [
    "# Combine prediction vectors into prediction matrix\n",
    "mod_pred = np.column_stack((gbr_pred,rfr_pred,ada_pred,ard_pred,lasso_pred,ridge_pred,\n",
    "                            svp_pred,knn_pred))\n",
    "#mod_pred = np.column_stack((gbr_pred,rfr_pred,lasso_pred,knn_pred))"
   ]
  },
  {
   "cell_type": "code",
   "execution_count": 123,
   "id": "fe26335f",
   "metadata": {},
   "outputs": [],
   "source": [
    "# Define Objective Function\n",
    "def obj_fun(weights=w,y_true=y_test,y_hat=mod_pred, n_estimators=n_est):\n",
    "    return (1/n_est)*np.sum((y_true - (weights@(y_hat.T)))**2)"
   ]
  },
  {
   "cell_type": "code",
   "execution_count": 124,
   "id": "974ca014",
   "metadata": {},
   "outputs": [],
   "source": [
    "# Define constraint(s)\n",
    "def constraints(weights=w):\n",
    "    return (1- np.sum(np.abs(weights)))"
   ]
  },
  {
   "cell_type": "code",
   "execution_count": 125,
   "id": "6ffca660",
   "metadata": {},
   "outputs": [
    {
     "data": {
      "text/plain": [
       "     fun: 20172668.77988167\n",
       "     jac: array([-4194109.  , -4193730.5 , -4194745.  ,   158165.  ,    49150.25,\n",
       "          75071.5 ,  2168829.75, -3738568.  ])\n",
       " message: 'Optimization terminated successfully'\n",
       "    nfev: 1027\n",
       "     nit: 85\n",
       "    njev: 85\n",
       "  status: 0\n",
       " success: True\n",
       "       x: array([ 2.62908400e-01,  5.20733207e-01,  2.16334297e-01,  2.00686355e-07,\n",
       "        2.26767753e-08, -9.52041060e-10,  2.38257355e-08,  2.44065840e-05])"
      ]
     },
     "execution_count": 125,
     "metadata": {},
     "output_type": "execute_result"
    }
   ],
   "source": [
    "res = optimize.minimize(obj_fun, (1/n_est)*np.ones(n_est), method='SLSQP',\n",
    "                  constraints={'fun': constraints,\n",
    "                              'type': 'eq'}, options={'maxiter': 1000})\n",
    "res"
   ]
  },
  {
   "cell_type": "code",
   "execution_count": 126,
   "id": "00af3111",
   "metadata": {},
   "outputs": [],
   "source": [
    "optimal_mod_weights = res.x"
   ]
  },
  {
   "cell_type": "code",
   "execution_count": 127,
   "id": "d357e56c",
   "metadata": {},
   "outputs": [
    {
     "data": {
      "text/plain": [
       "array([7, 8, 6, 4, 2, 1, 3, 5], dtype=int64)"
      ]
     },
     "execution_count": 127,
     "metadata": {},
     "output_type": "execute_result"
    }
   ],
   "source": [
    "# Scale weights\n",
    "\n",
    "# First argsort returns array with first value is the index of the smallest value\n",
    "# in the array provided\n",
    "scaled_weights = np.argsort(optimal_mod_weights)\n",
    "\n",
    "# Second sort returns array firs value the index of the smallest value of input\n",
    "# Such that the largest value in optimal_mod_weights will have the largest index\n",
    "# The resulting array has sorted and scaled from len(array) to 0\n",
    "\n",
    "scaled_weights = np.argsort(scaled_weights)\n",
    "\n",
    "# Add 1 to prevent zero weights\n",
    "scaled_weights = scaled_weights + 1\n",
    "scaled_weights"
   ]
  },
  {
   "cell_type": "markdown",
   "id": "02838186",
   "metadata": {},
   "source": [
    "### Create VotingRegressor with new weights"
   ]
  },
  {
   "cell_type": "code",
   "execution_count": 128,
   "id": "2b5f2656",
   "metadata": {},
   "outputs": [
    {
     "data": {
      "text/html": [
       "<style>#sk-container-id-4 {color: black;background-color: white;}#sk-container-id-4 pre{padding: 0;}#sk-container-id-4 div.sk-toggleable {background-color: white;}#sk-container-id-4 label.sk-toggleable__label {cursor: pointer;display: block;width: 100%;margin-bottom: 0;padding: 0.3em;box-sizing: border-box;text-align: center;}#sk-container-id-4 label.sk-toggleable__label-arrow:before {content: \"▸\";float: left;margin-right: 0.25em;color: #696969;}#sk-container-id-4 label.sk-toggleable__label-arrow:hover:before {color: black;}#sk-container-id-4 div.sk-estimator:hover label.sk-toggleable__label-arrow:before {color: black;}#sk-container-id-4 div.sk-toggleable__content {max-height: 0;max-width: 0;overflow: hidden;text-align: left;background-color: #f0f8ff;}#sk-container-id-4 div.sk-toggleable__content pre {margin: 0.2em;color: black;border-radius: 0.25em;background-color: #f0f8ff;}#sk-container-id-4 input.sk-toggleable__control:checked~div.sk-toggleable__content {max-height: 200px;max-width: 100%;overflow: auto;}#sk-container-id-4 input.sk-toggleable__control:checked~label.sk-toggleable__label-arrow:before {content: \"▾\";}#sk-container-id-4 div.sk-estimator input.sk-toggleable__control:checked~label.sk-toggleable__label {background-color: #d4ebff;}#sk-container-id-4 div.sk-label input.sk-toggleable__control:checked~label.sk-toggleable__label {background-color: #d4ebff;}#sk-container-id-4 input.sk-hidden--visually {border: 0;clip: rect(1px 1px 1px 1px);clip: rect(1px, 1px, 1px, 1px);height: 1px;margin: -1px;overflow: hidden;padding: 0;position: absolute;width: 1px;}#sk-container-id-4 div.sk-estimator {font-family: monospace;background-color: #f0f8ff;border: 1px dotted black;border-radius: 0.25em;box-sizing: border-box;margin-bottom: 0.5em;}#sk-container-id-4 div.sk-estimator:hover {background-color: #d4ebff;}#sk-container-id-4 div.sk-parallel-item::after {content: \"\";width: 100%;border-bottom: 1px solid gray;flex-grow: 1;}#sk-container-id-4 div.sk-label:hover label.sk-toggleable__label {background-color: #d4ebff;}#sk-container-id-4 div.sk-serial::before {content: \"\";position: absolute;border-left: 1px solid gray;box-sizing: border-box;top: 0;bottom: 0;left: 50%;z-index: 0;}#sk-container-id-4 div.sk-serial {display: flex;flex-direction: column;align-items: center;background-color: white;padding-right: 0.2em;padding-left: 0.2em;position: relative;}#sk-container-id-4 div.sk-item {position: relative;z-index: 1;}#sk-container-id-4 div.sk-parallel {display: flex;align-items: stretch;justify-content: center;background-color: white;position: relative;}#sk-container-id-4 div.sk-item::before, #sk-container-id-4 div.sk-parallel-item::before {content: \"\";position: absolute;border-left: 1px solid gray;box-sizing: border-box;top: 0;bottom: 0;left: 50%;z-index: -1;}#sk-container-id-4 div.sk-parallel-item {display: flex;flex-direction: column;z-index: 1;position: relative;background-color: white;}#sk-container-id-4 div.sk-parallel-item:first-child::after {align-self: flex-end;width: 50%;}#sk-container-id-4 div.sk-parallel-item:last-child::after {align-self: flex-start;width: 50%;}#sk-container-id-4 div.sk-parallel-item:only-child::after {width: 0;}#sk-container-id-4 div.sk-dashed-wrapped {border: 1px dashed gray;margin: 0 0.4em 0.5em 0.4em;box-sizing: border-box;padding-bottom: 0.4em;background-color: white;}#sk-container-id-4 div.sk-label label {font-family: monospace;font-weight: bold;display: inline-block;line-height: 1.2em;}#sk-container-id-4 div.sk-label-container {text-align: center;}#sk-container-id-4 div.sk-container {/* jupyter's `normalize.less` sets `[hidden] { display: none; }` but bootstrap.min.css set `[hidden] { display: none !important; }` so we also need the `!important` here to be able to override the default hidden behavior on the sphinx rendered scikit-learn.org. See: https://github.com/scikit-learn/scikit-learn/issues/21755 */display: inline-block !important;position: relative;}#sk-container-id-4 div.sk-text-repr-fallback {display: none;}</style><div id=\"sk-container-id-4\" class=\"sk-top-container\"><div class=\"sk-text-repr-fallback\"><pre>VotingRegressor(estimators=[(&#x27;gbr&#x27;,\n",
       "                             GradientBoostingRegressor(alpha=1e-30,\n",
       "                                                       learning_rate=0.55,\n",
       "                                                       max_depth=7,\n",
       "                                                       max_features=&#x27;sqrt&#x27;,\n",
       "                                                       n_estimators=12,\n",
       "                                                       random_state=42,\n",
       "                                                       subsample=0.9650000000000001)),\n",
       "                            (&#x27;rfr&#x27;,\n",
       "                             RandomForestRegressor(max_features=&#x27;sqrt&#x27;,\n",
       "                                                   n_estimators=32,\n",
       "                                                   random_state=42)),\n",
       "                            (&#x27;ada&#x27;,\n",
       "                             AdaBoostRegressor(learning_rate=0.13,\n",
       "                                               n_estimators=14,\n",
       "                                               random_state=42)),\n",
       "                            (&#x27;...\n",
       "                                           alpha_2=1e-30, lambda_1=1e-35,\n",
       "                                           lambda_2=1000.0, n_iter=1000)),\n",
       "                            (&#x27;lasso&#x27;,\n",
       "                             LassoCV(cv=15, max_iter=5000, n_jobs=-1,\n",
       "                                     random_state=42)),\n",
       "                            (&#x27;ridge&#x27;, RidgeCV()),\n",
       "                            (&#x27;svp&#x27;,\n",
       "                             SVR(C=0.4900000000000001,\n",
       "                                 epsilon=0.4000000000000001, kernel=&#x27;poly&#x27;)),\n",
       "                            (&#x27;knn&#x27;,\n",
       "                             KNeighborsRegressor(n_jobs=-1, n_neighbors=30, p=1,\n",
       "                                                 weights=&#x27;distance&#x27;))],\n",
       "                n_jobs=-1,\n",
       "                weights=array([7, 8, 6, 4, 2, 1, 3, 5], dtype=int64))</pre><b>In a Jupyter environment, please rerun this cell to show the HTML representation or trust the notebook. <br />On GitHub, the HTML representation is unable to render, please try loading this page with nbviewer.org.</b></div><div class=\"sk-container\" hidden><div class=\"sk-item sk-dashed-wrapped\"><div class=\"sk-label-container\"><div class=\"sk-label sk-toggleable\"><input class=\"sk-toggleable__control sk-hidden--visually\" id=\"sk-estimator-id-12\" type=\"checkbox\" ><label for=\"sk-estimator-id-12\" class=\"sk-toggleable__label sk-toggleable__label-arrow\">VotingRegressor</label><div class=\"sk-toggleable__content\"><pre>VotingRegressor(estimators=[(&#x27;gbr&#x27;,\n",
       "                             GradientBoostingRegressor(alpha=1e-30,\n",
       "                                                       learning_rate=0.55,\n",
       "                                                       max_depth=7,\n",
       "                                                       max_features=&#x27;sqrt&#x27;,\n",
       "                                                       n_estimators=12,\n",
       "                                                       random_state=42,\n",
       "                                                       subsample=0.9650000000000001)),\n",
       "                            (&#x27;rfr&#x27;,\n",
       "                             RandomForestRegressor(max_features=&#x27;sqrt&#x27;,\n",
       "                                                   n_estimators=32,\n",
       "                                                   random_state=42)),\n",
       "                            (&#x27;ada&#x27;,\n",
       "                             AdaBoostRegressor(learning_rate=0.13,\n",
       "                                               n_estimators=14,\n",
       "                                               random_state=42)),\n",
       "                            (&#x27;...\n",
       "                                           alpha_2=1e-30, lambda_1=1e-35,\n",
       "                                           lambda_2=1000.0, n_iter=1000)),\n",
       "                            (&#x27;lasso&#x27;,\n",
       "                             LassoCV(cv=15, max_iter=5000, n_jobs=-1,\n",
       "                                     random_state=42)),\n",
       "                            (&#x27;ridge&#x27;, RidgeCV()),\n",
       "                            (&#x27;svp&#x27;,\n",
       "                             SVR(C=0.4900000000000001,\n",
       "                                 epsilon=0.4000000000000001, kernel=&#x27;poly&#x27;)),\n",
       "                            (&#x27;knn&#x27;,\n",
       "                             KNeighborsRegressor(n_jobs=-1, n_neighbors=30, p=1,\n",
       "                                                 weights=&#x27;distance&#x27;))],\n",
       "                n_jobs=-1,\n",
       "                weights=array([7, 8, 6, 4, 2, 1, 3, 5], dtype=int64))</pre></div></div></div><div class=\"sk-parallel\"><div class=\"sk-parallel-item\"><div class=\"sk-item\"><div class=\"sk-label-container\"><div class=\"sk-label sk-toggleable\"><label>gbr</label></div></div><div class=\"sk-serial\"><div class=\"sk-item\"><div class=\"sk-estimator sk-toggleable\"><input class=\"sk-toggleable__control sk-hidden--visually\" id=\"sk-estimator-id-13\" type=\"checkbox\" ><label for=\"sk-estimator-id-13\" class=\"sk-toggleable__label sk-toggleable__label-arrow\">GradientBoostingRegressor</label><div class=\"sk-toggleable__content\"><pre>GradientBoostingRegressor(alpha=1e-30, learning_rate=0.55, max_depth=7,\n",
       "                          max_features=&#x27;sqrt&#x27;, n_estimators=12, random_state=42,\n",
       "                          subsample=0.9650000000000001)</pre></div></div></div></div></div></div><div class=\"sk-parallel-item\"><div class=\"sk-item\"><div class=\"sk-label-container\"><div class=\"sk-label sk-toggleable\"><label>rfr</label></div></div><div class=\"sk-serial\"><div class=\"sk-item\"><div class=\"sk-estimator sk-toggleable\"><input class=\"sk-toggleable__control sk-hidden--visually\" id=\"sk-estimator-id-14\" type=\"checkbox\" ><label for=\"sk-estimator-id-14\" class=\"sk-toggleable__label sk-toggleable__label-arrow\">RandomForestRegressor</label><div class=\"sk-toggleable__content\"><pre>RandomForestRegressor(max_features=&#x27;sqrt&#x27;, n_estimators=32, random_state=42)</pre></div></div></div></div></div></div><div class=\"sk-parallel-item\"><div class=\"sk-item\"><div class=\"sk-label-container\"><div class=\"sk-label sk-toggleable\"><label>ada</label></div></div><div class=\"sk-serial\"><div class=\"sk-item\"><div class=\"sk-estimator sk-toggleable\"><input class=\"sk-toggleable__control sk-hidden--visually\" id=\"sk-estimator-id-15\" type=\"checkbox\" ><label for=\"sk-estimator-id-15\" class=\"sk-toggleable__label sk-toggleable__label-arrow\">AdaBoostRegressor</label><div class=\"sk-toggleable__content\"><pre>AdaBoostRegressor(learning_rate=0.13, n_estimators=14, random_state=42)</pre></div></div></div></div></div></div><div class=\"sk-parallel-item\"><div class=\"sk-item\"><div class=\"sk-label-container\"><div class=\"sk-label sk-toggleable\"><label>ard</label></div></div><div class=\"sk-serial\"><div class=\"sk-item\"><div class=\"sk-estimator sk-toggleable\"><input class=\"sk-toggleable__control sk-hidden--visually\" id=\"sk-estimator-id-16\" type=\"checkbox\" ><label for=\"sk-estimator-id-16\" class=\"sk-toggleable__label sk-toggleable__label-arrow\">ARDRegression</label><div class=\"sk-toggleable__content\"><pre>ARDRegression(alpha_1=100000000000.0, alpha_2=1e-30, lambda_1=1e-35,\n",
       "              lambda_2=1000.0, n_iter=1000)</pre></div></div></div></div></div></div><div class=\"sk-parallel-item\"><div class=\"sk-item\"><div class=\"sk-label-container\"><div class=\"sk-label sk-toggleable\"><label>lasso</label></div></div><div class=\"sk-serial\"><div class=\"sk-item\"><div class=\"sk-estimator sk-toggleable\"><input class=\"sk-toggleable__control sk-hidden--visually\" id=\"sk-estimator-id-17\" type=\"checkbox\" ><label for=\"sk-estimator-id-17\" class=\"sk-toggleable__label sk-toggleable__label-arrow\">LassoCV</label><div class=\"sk-toggleable__content\"><pre>LassoCV(cv=15, max_iter=5000, n_jobs=-1, random_state=42)</pre></div></div></div></div></div></div><div class=\"sk-parallel-item\"><div class=\"sk-item\"><div class=\"sk-label-container\"><div class=\"sk-label sk-toggleable\"><label>ridge</label></div></div><div class=\"sk-serial\"><div class=\"sk-item\"><div class=\"sk-estimator sk-toggleable\"><input class=\"sk-toggleable__control sk-hidden--visually\" id=\"sk-estimator-id-18\" type=\"checkbox\" ><label for=\"sk-estimator-id-18\" class=\"sk-toggleable__label sk-toggleable__label-arrow\">RidgeCV</label><div class=\"sk-toggleable__content\"><pre>RidgeCV()</pre></div></div></div></div></div></div><div class=\"sk-parallel-item\"><div class=\"sk-item\"><div class=\"sk-label-container\"><div class=\"sk-label sk-toggleable\"><label>svp</label></div></div><div class=\"sk-serial\"><div class=\"sk-item\"><div class=\"sk-estimator sk-toggleable\"><input class=\"sk-toggleable__control sk-hidden--visually\" id=\"sk-estimator-id-19\" type=\"checkbox\" ><label for=\"sk-estimator-id-19\" class=\"sk-toggleable__label sk-toggleable__label-arrow\">SVR</label><div class=\"sk-toggleable__content\"><pre>SVR(C=0.4900000000000001, epsilon=0.4000000000000001, kernel=&#x27;poly&#x27;)</pre></div></div></div></div></div></div><div class=\"sk-parallel-item\"><div class=\"sk-item\"><div class=\"sk-label-container\"><div class=\"sk-label sk-toggleable\"><label>knn</label></div></div><div class=\"sk-serial\"><div class=\"sk-item\"><div class=\"sk-estimator sk-toggleable\"><input class=\"sk-toggleable__control sk-hidden--visually\" id=\"sk-estimator-id-20\" type=\"checkbox\" ><label for=\"sk-estimator-id-20\" class=\"sk-toggleable__label sk-toggleable__label-arrow\">KNeighborsRegressor</label><div class=\"sk-toggleable__content\"><pre>KNeighborsRegressor(n_jobs=-1, n_neighbors=30, p=1, weights=&#x27;distance&#x27;)</pre></div></div></div></div></div></div></div></div></div></div>"
      ],
      "text/plain": [
       "VotingRegressor(estimators=[('gbr',\n",
       "                             GradientBoostingRegressor(alpha=1e-30,\n",
       "                                                       learning_rate=0.55,\n",
       "                                                       max_depth=7,\n",
       "                                                       max_features='sqrt',\n",
       "                                                       n_estimators=12,\n",
       "                                                       random_state=42,\n",
       "                                                       subsample=0.9650000000000001)),\n",
       "                            ('rfr',\n",
       "                             RandomForestRegressor(max_features='sqrt',\n",
       "                                                   n_estimators=32,\n",
       "                                                   random_state=42)),\n",
       "                            ('ada',\n",
       "                             AdaBoostRegressor(learning_rate=0.13,\n",
       "                                               n_estimators=14,\n",
       "                                               random_state=42)),\n",
       "                            ('...\n",
       "                                           alpha_2=1e-30, lambda_1=1e-35,\n",
       "                                           lambda_2=1000.0, n_iter=1000)),\n",
       "                            ('lasso',\n",
       "                             LassoCV(cv=15, max_iter=5000, n_jobs=-1,\n",
       "                                     random_state=42)),\n",
       "                            ('ridge', RidgeCV()),\n",
       "                            ('svp',\n",
       "                             SVR(C=0.4900000000000001,\n",
       "                                 epsilon=0.4000000000000001, kernel='poly')),\n",
       "                            ('knn',\n",
       "                             KNeighborsRegressor(n_jobs=-1, n_neighbors=30, p=1,\n",
       "                                                 weights='distance'))],\n",
       "                n_jobs=-1,\n",
       "                weights=array([7, 8, 6, 4, 2, 1, 3, 5], dtype=int64))"
      ]
     },
     "execution_count": 128,
     "metadata": {},
     "output_type": "execute_result"
    }
   ],
   "source": [
    "estimators = [('gbr',gbr),('rfr',rfr),('ada',ada),('ard',ard),('lasso',lasso),('ridge',ridge),\n",
    "            ('svp',svp),('knn',knn)]\n",
    "\n",
    "#estimators = [('gbr',gbr),('rfr',rfr),('lasso',lasso),('knn',knn)]\n",
    "\n",
    "vrg = VotingRegressor(estimators,\n",
    "                     weights=scaled_weights,\n",
    "                     n_jobs=-1)\n",
    "\n",
    "vrg.fit(X_train_scaled, y_train)"
   ]
  },
  {
   "cell_type": "code",
   "execution_count": 129,
   "id": "5314795a",
   "metadata": {},
   "outputs": [
    {
     "name": "stdout",
     "output_type": "stream",
     "text": [
      "Mean: 244199.8159943616\n",
      "STD: 60185.569395113525\n"
     ]
    }
   ],
   "source": [
    "# Compute cv score for comparison\n",
    "vrg_cvs = cross_val_score(vrg,X_train_scaled,y_train,cv=15,\n",
    "                         scoring = 'neg_mean_squared_error', n_jobs=-1)\n",
    "\n",
    "vrg_mean,vrg_std = score_info(vrg_cvs)"
   ]
  },
  {
   "cell_type": "code",
   "execution_count": 130,
   "id": "2abd2dec",
   "metadata": {
    "scrolled": true
   },
   "outputs": [
    {
     "name": "stdout",
     "output_type": "stream",
     "text": [
      "Training Score: 0.8563104425068258\n",
      "Testing Score: 0.7033499591353478\n"
     ]
    }
   ],
   "source": [
    "# Display Score on train vs. test\n",
    "print(f'Training Score: {vrg.score(X_train_scaled, y_train)}')\n",
    "print(f'Testing Score: {vrg.score(X_test_scaled, y_test)}')"
   ]
  },
  {
   "cell_type": "code",
   "execution_count": 131,
   "id": "f7870e6b",
   "metadata": {
    "scrolled": true
   },
   "outputs": [
    {
     "data": {
      "text/plain": [
       "<matplotlib.collections.PathCollection at 0x1876ade5220>"
      ]
     },
     "execution_count": 131,
     "metadata": {},
     "output_type": "execute_result"
    },
    {
     "data": {
      "image/png": "[encoded data removed]",
      "text/plain": [
       "<Figure size 640x480 with 1 Axes>"
      ]
     },
     "metadata": {},
     "output_type": "display_data"
    }
   ],
   "source": [
    "plt.scatter(vrg.predict(X_train_scaled),y_train)\n",
    "#plt.plot(X_train,vrg.predict(X_train))"
   ]
  }
 ],
 "metadata": {
  "kernelspec": {
   "display_name": "mlenv2",
   "language": "python",
   "name": "mlenv2"
  },
  "language_info": {
   "codemirror_mode": {
    "name": "ipython",
    "version": 3
   },
   "file_extension": ".py",
   "mimetype": "text/x-python",
   "name": "python",
   "nbconvert_exporter": "python",
   "pygments_lexer": "ipython3",
   "version": "3.9.15"
  }
 },
 "nbformat": 4,
 "nbformat_minor": 5
}
