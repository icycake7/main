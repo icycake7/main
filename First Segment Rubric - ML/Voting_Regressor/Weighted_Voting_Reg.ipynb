{
 "cells": [
  {
   "cell_type": "markdown",
   "id": "d494763f",
   "metadata": {},
   "source": [
    "### Description\n",
    "\n",
    "#### Evaluates a number of estimators to construct the Voting Regressor meta-estimator with weights such that the mean squared error of the combined predictions of the estimators is minimized.\n",
    "\n",
    "#### version: 1.1\n",
    "\n",
    "#### TODO:\n",
    "- remove unused imports\n",
    "- save final voting regressor\n",
    "- plot results\n",
    "- general file cleanup\n",
    "\n",
    "### Done:\n",
    "- prune features\n",
    "- full db integration\n",
    "- finalize estimator selection\n",
    "- estimator comp. df\n",
    "- finalize 'fine tuning'\n",
    "- save final estimators"
   ]
  },
  {
   "cell_type": "code",
   "execution_count": 1,
   "id": "a084520d",
   "metadata": {},
   "outputs": [],
   "source": [
    "# Import Dependencies\n",
    "import pandas as pd\n",
    "import numpy as np\n",
    "import joblib\n",
    "\n",
    "from statsmodels.stats.outliers_influence import variance_inflation_factor\n",
    "from patsy import dmatrices\n",
    "\n",
    "# Plots as needed\n",
    "import matplotlib.pyplot as plt\n",
    "import seaborn as sns\n",
    "\n",
    "# Pre-processing\n",
    "from sklearn.preprocessing import RobustScaler\n",
    "from sklearn.preprocessing import OneHotEncoder\n",
    "from sklearn.pipeline import make_pipeline\n",
    "from sklearn.pipeline import Pipeline\n",
    "from sklearn.compose import ColumnTransformer\n",
    "from sklearn.impute import SimpleImputer\n",
    "\n",
    "# Data split\n",
    "from sklearn.model_selection import StratifiedShuffleSplit\n",
    "from sklearn.model_selection import train_test_split\n",
    "\n",
    "# Model\n",
    "from sklearn.ensemble import GradientBoostingRegressor\n",
    "from sklearn.ensemble import RandomForestRegressor\n",
    "from sklearn.linear_model import Lasso\n",
    "from sklearn.linear_model import Ridge\n",
    "from sklearn.ensemble import VotingRegressor\n",
    "from sklearn.svm import SVR\n",
    "from sklearn.linear_model import LassoCV\n",
    "from sklearn.linear_model import RidgeCV\n",
    "from sklearn.ensemble import AdaBoostRegressor\n",
    "from sklearn.linear_model import ARDRegression\n",
    "from sklearn.neighbors import KNeighborsRegressor\n",
    "from sklearn.ensemble import BaggingRegressor\n",
    "from sklearn.linear_model import HuberRegressor\n",
    "\n",
    "\n",
    "# Model Validation and Tuning\n",
    "from sklearn.model_selection import GridSearchCV\n",
    "from sklearn.model_selection import RandomizedSearchCV\n",
    "from sklearn.model_selection import cross_val_score\n",
    "from scipy import stats\n",
    "\n",
    "# MSE minimization\n",
    "from sklearn.metrics import mean_squared_error\n",
    "from scipy import optimize\n",
    "\n",
    "# DB interface\n",
    "from sqlalchemy import create_engine\n",
    "from sqlalchemy.ext.automap import automap_base\n",
    "from config import db_password"
   ]
  },
  {
   "cell_type": "markdown",
   "id": "fabeaa4d",
   "metadata": {},
   "source": [
    "## Interface with Database and create DataFrames"
   ]
  },
  {
   "cell_type": "code",
   "execution_count": 2,
   "id": "719bd363",
   "metadata": {},
   "outputs": [],
   "source": [
    "# Construct db string\n",
    "user = 'postgres'\n",
    "host = 'housing-prices.ch2ctomvepex.us-east-1.rds.amazonaws.com'\n",
    "name = 'housing-prices'\n",
    "\n",
    "db_string = f'postgresql://{user}:{db_password}@{host}/{name}'"
   ]
  },
  {
   "cell_type": "code",
   "execution_count": 3,
   "id": "1328639c",
   "metadata": {},
   "outputs": [],
   "source": [
    "# Create Connection Engine\n",
    "\n",
    "engine = create_engine(db_string)"
   ]
  },
  {
   "cell_type": "code",
   "execution_count": 4,
   "id": "0405b20a",
   "metadata": {
    "scrolled": true
   },
   "outputs": [],
   "source": [
    "# map to Base to extract metadata\n",
    "Base = automap_base()\n",
    "Base.prepare(engine, reflect=True)"
   ]
  },
  {
   "cell_type": "code",
   "execution_count": 11,
   "id": "23fabcd9",
   "metadata": {},
   "outputs": [
    {
     "name": "stdout",
     "output_type": "stream",
     "text": [
      "['austin', 'sanfran', 'la', 'boston', 'chandler', 'pittsburgh', 'houston', 'spokane', 'chicago']\n"
     ]
    }
   ],
   "source": [
    "# List of tables corresponding to cities\n",
    "table_names = []\n",
    "city_list = ['austin','boston','sanfran','chandler','chicago','houston','la','pittsburgh','spokane']\n",
    "\n",
    "# Group by city population\n",
    "# To generalize, pop groups can be calc. based on population of known cities in groups.\n",
    "low_list = ['chandler', 'pittsburgh', 'spokane']\n",
    "mid_list = ['austin', 'boston', 'sf']\n",
    "high_list = ['chicago', 'la', 'houston']\n",
    "\n",
    "for k in Base.metadata.tables.keys():\n",
    "    if k in city_list:\n",
    "        table_names.append(k)\n",
    "\n",
    "print(table_names)"
   ]
  },
  {
   "cell_type": "code",
   "execution_count": 15,
   "id": "112f9329",
   "metadata": {},
   "outputs": [],
   "source": [
    "# Create df from comb. of all city tables\n",
    "\n",
    "def city_df(eng,city_tables,lowpop_list=[],midpop_list=[],highpop_list=[]):\n",
    "    \n",
    "    all_pop = pd.DataFrame()\n",
    "    \n",
    "    for city in city_tables:\n",
    "        \n",
    "        if city in lowpop_list:\n",
    "            \n",
    "            # Create temp city df\n",
    "            city = pd.read_sql_table(city, eng)\n",
    "            \n",
    "            # Add class col\n",
    "            city['pop_class'] = 1\n",
    "            \n",
    "            # add to all_pop\n",
    "            all_pop = pd.concat([all_pop,city])\n",
    "            \n",
    "        elif city in midpop_list:\n",
    "            \n",
    "            # Create temp city df\n",
    "            city = pd.read_sql_table(city, eng)\n",
    "            \n",
    "            # Add class col\n",
    "            city['pop_class'] = 2\n",
    "            \n",
    "            # add to all_pop\n",
    "            all_pop = pd.concat([all_pop,city])\n",
    "            \n",
    "        elif city in highpop_list:\n",
    "            \n",
    "            # Create temp city df\n",
    "            city = pd.read_sql_table(city, eng)\n",
    "            \n",
    "            # Add class col\n",
    "            city['pop_class'] = 3\n",
    "            \n",
    "            # add to all_pop\n",
    "            all_pop = pd.concat([all_pop,city])\n",
    "               \n",
    "    return all_pop"
   ]
  },
  {
   "cell_type": "code",
   "execution_count": 16,
   "id": "ed4c488a",
   "metadata": {
    "scrolled": true
   },
   "outputs": [
    {
     "data": {
      "text/html": [
       "<div>\n",
       "<style scoped>\n",
       "    .dataframe tbody tr th:only-of-type {\n",
       "        vertical-align: middle;\n",
       "    }\n",
       "\n",
       "    .dataframe tbody tr th {\n",
       "        vertical-align: top;\n",
       "    }\n",
       "\n",
       "    .dataframe thead th {\n",
       "        text-align: right;\n",
       "    }\n",
       "</style>\n",
       "<table border=\"1\" class=\"dataframe\">\n",
       "  <thead>\n",
       "    <tr style=\"text-align: right;\">\n",
       "      <th></th>\n",
       "      <th>price</th>\n",
       "      <th>bedroom</th>\n",
       "      <th>sqft</th>\n",
       "      <th>bathroom</th>\n",
       "      <th>amenity_count</th>\n",
       "      <th>cityid</th>\n",
       "      <th>pop_class</th>\n",
       "    </tr>\n",
       "  </thead>\n",
       "  <tbody>\n",
       "    <tr>\n",
       "      <th>0</th>\n",
       "      <td>1191</td>\n",
       "      <td>1</td>\n",
       "      <td>600.0</td>\n",
       "      <td>1.0</td>\n",
       "      <td>5</td>\n",
       "      <td>1</td>\n",
       "      <td>2</td>\n",
       "    </tr>\n",
       "    <tr>\n",
       "      <th>1</th>\n",
       "      <td>1425</td>\n",
       "      <td>1</td>\n",
       "      <td>526.0</td>\n",
       "      <td>1.0</td>\n",
       "      <td>5</td>\n",
       "      <td>1</td>\n",
       "      <td>2</td>\n",
       "    </tr>\n",
       "    <tr>\n",
       "      <th>2</th>\n",
       "      <td>1266</td>\n",
       "      <td>1</td>\n",
       "      <td>578.0</td>\n",
       "      <td>1.0</td>\n",
       "      <td>5</td>\n",
       "      <td>1</td>\n",
       "      <td>2</td>\n",
       "    </tr>\n",
       "    <tr>\n",
       "      <th>3</th>\n",
       "      <td>1144</td>\n",
       "      <td>1</td>\n",
       "      <td>351.0</td>\n",
       "      <td>1.0</td>\n",
       "      <td>8</td>\n",
       "      <td>1</td>\n",
       "      <td>2</td>\n",
       "    </tr>\n",
       "    <tr>\n",
       "      <th>4</th>\n",
       "      <td>1775</td>\n",
       "      <td>4</td>\n",
       "      <td>1236.0</td>\n",
       "      <td>2.0</td>\n",
       "      <td>8</td>\n",
       "      <td>1</td>\n",
       "      <td>2</td>\n",
       "    </tr>\n",
       "  </tbody>\n",
       "</table>\n",
       "</div>"
      ],
      "text/plain": [
       "   price  bedroom    sqft  bathroom  amenity_count  cityid  pop_class\n",
       "0   1191        1   600.0       1.0              5       1          2\n",
       "1   1425        1   526.0       1.0              5       1          2\n",
       "2   1266        1   578.0       1.0              5       1          2\n",
       "3   1144        1   351.0       1.0              8       1          2\n",
       "4   1775        4  1236.0       2.0              8       1          2"
      ]
     },
     "execution_count": 16,
     "metadata": {},
     "output_type": "execute_result"
    }
   ],
   "source": [
    "all_pop = city_df(eng=engine,city_tables=table_names,lowpop_list=low_list,\n",
    "                  midpop_list=mid_list,highpop_list=high_list)\n",
    "all_pop.head()"
   ]
  },
  {
   "cell_type": "code",
   "execution_count": 17,
   "id": "48a83894",
   "metadata": {},
   "outputs": [],
   "source": [
    "# Write to csv to prevent constant db calls\n",
    "all_pop.to_csv('all_pop.csv')"
   ]
  },
  {
   "cell_type": "code",
   "execution_count": null,
   "id": "2a9729ba",
   "metadata": {},
   "outputs": [],
   "source": [
    "# Build df from csv if needed\n",
    "# all_pop = pd.read_csv('all_pop.csv')"
   ]
  },
  {
   "cell_type": "markdown",
   "id": "46c67201",
   "metadata": {},
   "source": [
    "## Examine data"
   ]
  },
  {
   "cell_type": "code",
   "execution_count": 18,
   "id": "36835e6f",
   "metadata": {},
   "outputs": [
    {
     "data": {
      "text/html": [
       "<div>\n",
       "<style scoped>\n",
       "    .dataframe tbody tr th:only-of-type {\n",
       "        vertical-align: middle;\n",
       "    }\n",
       "\n",
       "    .dataframe tbody tr th {\n",
       "        vertical-align: top;\n",
       "    }\n",
       "\n",
       "    .dataframe thead th {\n",
       "        text-align: right;\n",
       "    }\n",
       "</style>\n",
       "<table border=\"1\" class=\"dataframe\">\n",
       "  <thead>\n",
       "    <tr style=\"text-align: right;\">\n",
       "      <th></th>\n",
       "      <th>price</th>\n",
       "      <th>bedroom</th>\n",
       "      <th>sqft</th>\n",
       "      <th>bathroom</th>\n",
       "      <th>amenity_count</th>\n",
       "      <th>cityid</th>\n",
       "      <th>pop_class</th>\n",
       "    </tr>\n",
       "  </thead>\n",
       "  <tbody>\n",
       "    <tr>\n",
       "      <th>count</th>\n",
       "      <td>4481.000000</td>\n",
       "      <td>4481.000000</td>\n",
       "      <td>4481.000000</td>\n",
       "      <td>4481.000000</td>\n",
       "      <td>4481.000000</td>\n",
       "      <td>4481.000000</td>\n",
       "      <td>4481.000000</td>\n",
       "    </tr>\n",
       "    <tr>\n",
       "      <th>mean</th>\n",
       "      <td>1842.516849</td>\n",
       "      <td>1.674403</td>\n",
       "      <td>939.883731</td>\n",
       "      <td>1.462174</td>\n",
       "      <td>5.571301</td>\n",
       "      <td>5.198393</td>\n",
       "      <td>1.950904</td>\n",
       "    </tr>\n",
       "    <tr>\n",
       "      <th>std</th>\n",
       "      <td>935.202674</td>\n",
       "      <td>0.942777</td>\n",
       "      <td>494.403762</td>\n",
       "      <td>0.633749</td>\n",
       "      <td>1.864343</td>\n",
       "      <td>2.632753</td>\n",
       "      <td>0.867467</td>\n",
       "    </tr>\n",
       "    <tr>\n",
       "      <th>min</th>\n",
       "      <td>225.000000</td>\n",
       "      <td>0.000000</td>\n",
       "      <td>1.000000</td>\n",
       "      <td>0.000000</td>\n",
       "      <td>0.000000</td>\n",
       "      <td>1.000000</td>\n",
       "      <td>1.000000</td>\n",
       "    </tr>\n",
       "    <tr>\n",
       "      <th>25%</th>\n",
       "      <td>1300.000000</td>\n",
       "      <td>1.000000</td>\n",
       "      <td>680.000000</td>\n",
       "      <td>1.000000</td>\n",
       "      <td>4.000000</td>\n",
       "      <td>3.000000</td>\n",
       "      <td>1.000000</td>\n",
       "    </tr>\n",
       "    <tr>\n",
       "      <th>50%</th>\n",
       "      <td>1653.000000</td>\n",
       "      <td>2.000000</td>\n",
       "      <td>875.000000</td>\n",
       "      <td>1.000000</td>\n",
       "      <td>6.000000</td>\n",
       "      <td>5.000000</td>\n",
       "      <td>2.000000</td>\n",
       "    </tr>\n",
       "    <tr>\n",
       "      <th>75%</th>\n",
       "      <td>2201.000000</td>\n",
       "      <td>2.000000</td>\n",
       "      <td>1114.000000</td>\n",
       "      <td>2.000000</td>\n",
       "      <td>7.000000</td>\n",
       "      <td>7.000000</td>\n",
       "      <td>3.000000</td>\n",
       "    </tr>\n",
       "    <tr>\n",
       "      <th>max</th>\n",
       "      <td>20000.000000</td>\n",
       "      <td>8.000000</td>\n",
       "      <td>15492.000000</td>\n",
       "      <td>5.000000</td>\n",
       "      <td>11.000000</td>\n",
       "      <td>9.000000</td>\n",
       "      <td>3.000000</td>\n",
       "    </tr>\n",
       "  </tbody>\n",
       "</table>\n",
       "</div>"
      ],
      "text/plain": [
       "              price      bedroom          sqft     bathroom  amenity_count  \\\n",
       "count   4481.000000  4481.000000   4481.000000  4481.000000    4481.000000   \n",
       "mean    1842.516849     1.674403    939.883731     1.462174       5.571301   \n",
       "std      935.202674     0.942777    494.403762     0.633749       1.864343   \n",
       "min      225.000000     0.000000      1.000000     0.000000       0.000000   \n",
       "25%     1300.000000     1.000000    680.000000     1.000000       4.000000   \n",
       "50%     1653.000000     2.000000    875.000000     1.000000       6.000000   \n",
       "75%     2201.000000     2.000000   1114.000000     2.000000       7.000000   \n",
       "max    20000.000000     8.000000  15492.000000     5.000000      11.000000   \n",
       "\n",
       "            cityid    pop_class  \n",
       "count  4481.000000  4481.000000  \n",
       "mean      5.198393     1.950904  \n",
       "std       2.632753     0.867467  \n",
       "min       1.000000     1.000000  \n",
       "25%       3.000000     1.000000  \n",
       "50%       5.000000     2.000000  \n",
       "75%       7.000000     3.000000  \n",
       "max       9.000000     3.000000  "
      ]
     },
     "execution_count": 18,
     "metadata": {},
     "output_type": "execute_result"
    }
   ],
   "source": [
    "all_pop.describe()"
   ]
  },
  {
   "cell_type": "code",
   "execution_count": 19,
   "id": "13605563",
   "metadata": {},
   "outputs": [
    {
     "name": "stdout",
     "output_type": "stream",
     "text": [
      "<class 'pandas.core.frame.DataFrame'>\n",
      "Int64Index: 4481 entries, 0 to 362\n",
      "Data columns (total 7 columns):\n",
      " #   Column         Non-Null Count  Dtype  \n",
      "---  ------         --------------  -----  \n",
      " 0   price          4481 non-null   int64  \n",
      " 1   bedroom        4481 non-null   int64  \n",
      " 2   sqft           4481 non-null   float64\n",
      " 3   bathroom       4481 non-null   float64\n",
      " 4   amenity_count  4481 non-null   int64  \n",
      " 5   cityid         4481 non-null   int64  \n",
      " 6   pop_class      4481 non-null   int64  \n",
      "dtypes: float64(2), int64(5)\n",
      "memory usage: 280.1 KB\n"
     ]
    }
   ],
   "source": [
    "# Check dtypes\n",
    "all_pop.info()"
   ]
  },
  {
   "cell_type": "code",
   "execution_count": 20,
   "id": "5fa4cf51",
   "metadata": {},
   "outputs": [],
   "source": [
    "all_t = all_pop.copy()"
   ]
  },
  {
   "cell_type": "code",
   "execution_count": 21,
   "id": "2b121b16",
   "metadata": {},
   "outputs": [
    {
     "data": {
      "image/png": "[encoded data removed]",
      "text/plain": [
       "<Figure size 640x480 with 1 Axes>"
      ]
     },
     "metadata": {},
     "output_type": "display_data"
    }
   ],
   "source": [
    "# Dist of num ft 'sqft' -> appears many outside 1.5*IQR\n",
    "all_t.boxplot(column='sqft')\n",
    "plt.show()"
   ]
  },
  {
   "cell_type": "code",
   "execution_count": 22,
   "id": "c05a7a4c",
   "metadata": {},
   "outputs": [
    {
     "name": "stdout",
     "output_type": "stream",
     "text": [
      "29.0\n",
      "1765.0\n"
     ]
    }
   ],
   "source": [
    "# Calc iqr of sqft and upper/lower bounds\n",
    "sqft_iqr = all_t.sqft.quantile(.75)-all_t.sqft.quantile(.25)\n",
    "upper = 1.5*sqft_iqr + all_t.sqft.quantile(.75)\n",
    "lower =  all_t.sqft.quantile(.25) - 1.5*sqft_iqr\n",
    "print(lower)\n",
    "print(upper)"
   ]
  },
  {
   "cell_type": "code",
   "execution_count": 23,
   "id": "ebcfeed4",
   "metadata": {
    "scrolled": false
   },
   "outputs": [],
   "source": [
    "all_t.drop(all_t[all_t.sqft > upper].index, inplace=True)"
   ]
  },
  {
   "cell_type": "markdown",
   "id": "0019e22e",
   "metadata": {},
   "source": [
    "## Split Train and Test Data"
   ]
  },
  {
   "cell_type": "code",
   "execution_count": 24,
   "id": "2a2e21fa",
   "metadata": {},
   "outputs": [],
   "source": [
    "# Before examination, split so that the test set remains unobserved\n",
    "\n",
    "# Split using SSS to incorporate data from each of the 3 groups in test and train sets.\n",
    "split = StratifiedShuffleSplit(n_splits=10,test_size=0.2, random_state=42)\n",
    "\n",
    "for train_index, test_index in split.split(all_t, all_t['cityid']):\n",
    "    strat_train_set = all_t.iloc[train_index]\n",
    "    strat_test_set = all_t.iloc[test_index]"
   ]
  },
  {
   "cell_type": "code",
   "execution_count": 25,
   "id": "0097d8b0",
   "metadata": {
    "scrolled": false
   },
   "outputs": [
    {
     "data": {
      "text/html": [
       "<div>\n",
       "<style scoped>\n",
       "    .dataframe tbody tr th:only-of-type {\n",
       "        vertical-align: middle;\n",
       "    }\n",
       "\n",
       "    .dataframe tbody tr th {\n",
       "        vertical-align: top;\n",
       "    }\n",
       "\n",
       "    .dataframe thead th {\n",
       "        text-align: right;\n",
       "    }\n",
       "</style>\n",
       "<table border=\"1\" class=\"dataframe\">\n",
       "  <thead>\n",
       "    <tr style=\"text-align: right;\">\n",
       "      <th></th>\n",
       "      <th>price</th>\n",
       "      <th>bedroom</th>\n",
       "      <th>sqft</th>\n",
       "      <th>bathroom</th>\n",
       "      <th>amenity_count</th>\n",
       "      <th>cityid</th>\n",
       "      <th>pop_class</th>\n",
       "    </tr>\n",
       "  </thead>\n",
       "  <tbody>\n",
       "    <tr>\n",
       "      <th>203</th>\n",
       "      <td>975</td>\n",
       "      <td>1</td>\n",
       "      <td>1000.0</td>\n",
       "      <td>1.0</td>\n",
       "      <td>3</td>\n",
       "      <td>6</td>\n",
       "      <td>3</td>\n",
       "    </tr>\n",
       "    <tr>\n",
       "      <th>13</th>\n",
       "      <td>1721</td>\n",
       "      <td>2</td>\n",
       "      <td>1037.0</td>\n",
       "      <td>2.0</td>\n",
       "      <td>5</td>\n",
       "      <td>1</td>\n",
       "      <td>2</td>\n",
       "    </tr>\n",
       "    <tr>\n",
       "      <th>15</th>\n",
       "      <td>1651</td>\n",
       "      <td>2</td>\n",
       "      <td>1003.0</td>\n",
       "      <td>2.0</td>\n",
       "      <td>7</td>\n",
       "      <td>5</td>\n",
       "      <td>1</td>\n",
       "    </tr>\n",
       "    <tr>\n",
       "      <th>425</th>\n",
       "      <td>2480</td>\n",
       "      <td>2</td>\n",
       "      <td>860.0</td>\n",
       "      <td>1.5</td>\n",
       "      <td>7</td>\n",
       "      <td>3</td>\n",
       "      <td>3</td>\n",
       "    </tr>\n",
       "    <tr>\n",
       "      <th>555</th>\n",
       "      <td>2942</td>\n",
       "      <td>1</td>\n",
       "      <td>800.0</td>\n",
       "      <td>1.0</td>\n",
       "      <td>5</td>\n",
       "      <td>3</td>\n",
       "      <td>3</td>\n",
       "    </tr>\n",
       "  </tbody>\n",
       "</table>\n",
       "</div>"
      ],
      "text/plain": [
       "     price  bedroom    sqft  bathroom  amenity_count  cityid  pop_class\n",
       "203    975        1  1000.0       1.0              3       6          3\n",
       "13    1721        2  1037.0       2.0              5       1          2\n",
       "15    1651        2  1003.0       2.0              7       5          1\n",
       "425   2480        2   860.0       1.5              7       3          3\n",
       "555   2942        1   800.0       1.0              5       3          3"
      ]
     },
     "execution_count": 25,
     "metadata": {},
     "output_type": "execute_result"
    }
   ],
   "source": [
    "# Create a new df that is a copy of the training set to preserve it.\n",
    "all_train = strat_train_set.copy()\n",
    "\n",
    "# Repeat for test set\n",
    "all_test = strat_test_set.copy()\n",
    "\n",
    "# Show first 5 rows of training set\n",
    "all_train.head()"
   ]
  },
  {
   "cell_type": "code",
   "execution_count": 26,
   "id": "3b13db8c",
   "metadata": {},
   "outputs": [],
   "source": [
    "# Compare Train Test Split\n",
    "train_set,test_set = train_test_split(all_t, test_size=0.2, random_state=42)"
   ]
  },
  {
   "cell_type": "code",
   "execution_count": 27,
   "id": "90b151e4",
   "metadata": {
    "scrolled": true
   },
   "outputs": [
    {
     "data": {
      "text/html": [
       "<div>\n",
       "<style scoped>\n",
       "    .dataframe tbody tr th:only-of-type {\n",
       "        vertical-align: middle;\n",
       "    }\n",
       "\n",
       "    .dataframe tbody tr th {\n",
       "        vertical-align: top;\n",
       "    }\n",
       "\n",
       "    .dataframe thead th {\n",
       "        text-align: right;\n",
       "    }\n",
       "</style>\n",
       "<table border=\"1\" class=\"dataframe\">\n",
       "  <thead>\n",
       "    <tr style=\"text-align: right;\">\n",
       "      <th></th>\n",
       "      <th>Overall</th>\n",
       "      <th>Strat_City</th>\n",
       "      <th>Random</th>\n",
       "      <th>Random %Error</th>\n",
       "      <th>Strat_City %Error</th>\n",
       "    </tr>\n",
       "  </thead>\n",
       "  <tbody>\n",
       "    <tr>\n",
       "      <th>5</th>\n",
       "      <td>0.159666</td>\n",
       "      <td>0.159226</td>\n",
       "      <td>0.150298</td>\n",
       "      <td>-5.867704</td>\n",
       "      <td>-0.275686</td>\n",
       "    </tr>\n",
       "    <tr>\n",
       "      <th>1</th>\n",
       "      <td>0.154007</td>\n",
       "      <td>0.154762</td>\n",
       "      <td>0.186012</td>\n",
       "      <td>20.781811</td>\n",
       "      <td>0.490467</td>\n",
       "    </tr>\n",
       "    <tr>\n",
       "      <th>3</th>\n",
       "      <td>0.153709</td>\n",
       "      <td>0.153274</td>\n",
       "      <td>0.153274</td>\n",
       "      <td>-0.282911</td>\n",
       "      <td>-0.282911</td>\n",
       "    </tr>\n",
       "    <tr>\n",
       "      <th>9</th>\n",
       "      <td>0.152517</td>\n",
       "      <td>0.153274</td>\n",
       "      <td>0.148810</td>\n",
       "      <td>-2.430943</td>\n",
       "      <td>0.496129</td>\n",
       "    </tr>\n",
       "    <tr>\n",
       "      <th>7</th>\n",
       "      <td>0.115877</td>\n",
       "      <td>0.116071</td>\n",
       "      <td>0.113095</td>\n",
       "      <td>-2.400845</td>\n",
       "      <td>0.167554</td>\n",
       "    </tr>\n",
       "    <tr>\n",
       "      <th>8</th>\n",
       "      <td>0.092940</td>\n",
       "      <td>0.092262</td>\n",
       "      <td>0.084821</td>\n",
       "      <td>-8.735405</td>\n",
       "      <td>-0.729739</td>\n",
       "    </tr>\n",
       "    <tr>\n",
       "      <th>4</th>\n",
       "      <td>0.091749</td>\n",
       "      <td>0.092262</td>\n",
       "      <td>0.089286</td>\n",
       "      <td>-2.684369</td>\n",
       "      <td>0.559485</td>\n",
       "    </tr>\n",
       "    <tr>\n",
       "      <th>6</th>\n",
       "      <td>0.079535</td>\n",
       "      <td>0.078869</td>\n",
       "      <td>0.074405</td>\n",
       "      <td>-6.450642</td>\n",
       "      <td>-0.837681</td>\n",
       "    </tr>\n",
       "  </tbody>\n",
       "</table>\n",
       "</div>"
      ],
      "text/plain": [
       "    Overall  Strat_City    Random  Random %Error  Strat_City %Error\n",
       "5  0.159666    0.159226  0.150298      -5.867704          -0.275686\n",
       "1  0.154007    0.154762  0.186012      20.781811           0.490467\n",
       "3  0.153709    0.153274  0.153274      -0.282911          -0.282911\n",
       "9  0.152517    0.153274  0.148810      -2.430943           0.496129\n",
       "7  0.115877    0.116071  0.113095      -2.400845           0.167554\n",
       "8  0.092940    0.092262  0.084821      -8.735405          -0.729739\n",
       "4  0.091749    0.092262  0.089286      -2.684369           0.559485\n",
       "6  0.079535    0.078869  0.074405      -6.450642          -0.837681"
      ]
     },
     "execution_count": 27,
     "metadata": {},
     "output_type": "execute_result"
    }
   ],
   "source": [
    "# df for comparison of test sets\n",
    "split_comp = pd.DataFrame()\n",
    "split_comp['Overall'] = all_t.cityid.value_counts() / len(all_t.cityid)\n",
    "split_comp['Strat_City'] = all_test.cityid.value_counts() / len(all_test.cityid)\n",
    "split_comp['Random'] = test_set.cityid.value_counts() / len(test_set.cityid)\n",
    "split_comp['Random %Error'] = ((split_comp.Random - split_comp.Overall) / split_comp.Overall)*100\n",
    "split_comp['Strat_City %Error'] = ((split_comp.Strat_City - split_comp.Overall) / split_comp.Overall)*100\n",
    "split_comp"
   ]
  },
  {
   "cell_type": "markdown",
   "id": "eb81610a",
   "metadata": {},
   "source": [
    "#### Stratified Shuffle Split demonstrates better representation of the population groupings"
   ]
  },
  {
   "cell_type": "code",
   "execution_count": 28,
   "id": "0fe58614",
   "metadata": {},
   "outputs": [],
   "source": [
    "# Drop columns not used in analysis\n",
    "all_train.drop(columns=['cityid'],axis=1,inplace=True)\n",
    "all_test.drop(columns=['cityid'],axis=1,inplace=True)"
   ]
  },
  {
   "cell_type": "markdown",
   "id": "3dc6e24d",
   "metadata": {},
   "source": [
    "### Preprocess Finalized Feature Set"
   ]
  },
  {
   "cell_type": "code",
   "execution_count": 29,
   "id": "77d8e6d0",
   "metadata": {},
   "outputs": [],
   "source": [
    "# Remove target\n",
    "\n",
    "X_train = all_train.drop(columns='price').values\n",
    "y_train = all_train.price.values\n",
    "\n",
    "X_test = all_test.drop(columns='price').values\n",
    "y_test = all_test.price.values"
   ]
  },
  {
   "cell_type": "code",
   "execution_count": 30,
   "id": "313ddb60",
   "metadata": {},
   "outputs": [],
   "source": [
    "# Scale using RobustScaler due to spread\n",
    "\n",
    "rs = RobustScaler()\n",
    "\n",
    "robust = rs.fit(X_train)\n",
    "\n",
    "X_train_scaled = robust.transform(X_train)\n",
    "\n",
    "X_test_scaled = robust.transform(X_test)"
   ]
  },
  {
   "cell_type": "markdown",
   "id": "5ee4aad1",
   "metadata": {},
   "source": [
    "## Estimator Construction"
   ]
  },
  {
   "cell_type": "code",
   "execution_count": 31,
   "id": "a4ed20c3",
   "metadata": {},
   "outputs": [],
   "source": [
    "# Create fn to out scores from cross_val_score to select estimators\n",
    "\n",
    "def score_info(scores):\n",
    "    MSE = -scores\n",
    "    confidence = 0.95\n",
    "    con_int= stats.t.interval(\n",
    "    confidence,\n",
    "    len(MSE)-1,\n",
    "    loc=MSE.mean(),\n",
    "    scale=stats.sem(MSE))\n",
    "    \n",
    "    print(f'Mean: {MSE.mean()}')\n",
    "    print(f'STD: {MSE.std()}')\n",
    "    print(f'Conf. Interval: {con_int}')\n",
    "    return [MSE.mean(), MSE.std(), con_int[0], con_int[1]]"
   ]
  },
  {
   "cell_type": "code",
   "execution_count": 32,
   "id": "b6391578",
   "metadata": {},
   "outputs": [
    {
     "name": "stdout",
     "output_type": "stream",
     "text": [
      "Mean: 355769.36000054405\n",
      "STD: 52978.9990020398\n",
      "Conf. Interval: (325400.8254039786, 386137.8945971095)\n"
     ]
    }
   ],
   "source": [
    "# Gradient Boosting Regressor\n",
    "\n",
    "gbr_cvs = cross_val_score(GradientBoostingRegressor(random_state=42),X_train_scaled,y_train,cv=15,\n",
    "                         scoring = 'neg_mean_squared_error', n_jobs=-1)\n",
    "\n",
    "gbr_score = score_info(gbr_cvs)"
   ]
  },
  {
   "cell_type": "code",
   "execution_count": 33,
   "id": "190338be",
   "metadata": {},
   "outputs": [
    {
     "name": "stdout",
     "output_type": "stream",
     "text": [
      "Mean: 326005.2638859776\n",
      "STD: 72901.13005025653\n",
      "Conf. Interval: (284216.9981247711, 367793.5296471841)\n"
     ]
    }
   ],
   "source": [
    "# Random Forest Regressor\n",
    "\n",
    "rfr_cvs = cross_val_score(RandomForestRegressor(random_state=42),X_train_scaled,y_train,cv=15,\n",
    "                         scoring = 'neg_mean_squared_error', n_jobs=-1)\n",
    "\n",
    "rfr_score =score_info(rfr_cvs)"
   ]
  },
  {
   "cell_type": "code",
   "execution_count": 34,
   "id": "f1a71bf3",
   "metadata": {},
   "outputs": [
    {
     "name": "stdout",
     "output_type": "stream",
     "text": [
      "Mean: 446691.07682943344\n",
      "STD: 69964.75477022446\n",
      "Conf. Interval: (406585.9952725325, 486796.15838633437)\n"
     ]
    }
   ],
   "source": [
    "# Lasso\n",
    "\n",
    "lasso_cvs = cross_val_score(LassoCV(),X_train_scaled,y_train,cv=15,\n",
    "                         scoring = 'neg_mean_squared_error', n_jobs=-1)\n",
    "\n",
    "lasso_score=score_info(lasso_cvs)"
   ]
  },
  {
   "cell_type": "code",
   "execution_count": 35,
   "id": "2acea00d",
   "metadata": {},
   "outputs": [
    {
     "name": "stdout",
     "output_type": "stream",
     "text": [
      "Mean: 447200.4761193795\n",
      "STD: 70046.35247513892\n",
      "Conf. Interval: (407048.62126038957, 487352.33097836946)\n"
     ]
    }
   ],
   "source": [
    "# Ridge\n",
    "\n",
    "ridge_cvs = cross_val_score(RidgeCV(),X_train_scaled,y_train,cv=15,\n",
    "                         scoring = 'neg_mean_squared_error', n_jobs=-1)\n",
    "\n",
    "ridge_score=score_info(ridge_cvs)"
   ]
  },
  {
   "cell_type": "code",
   "execution_count": 36,
   "id": "f011aa87",
   "metadata": {},
   "outputs": [
    {
     "name": "stdout",
     "output_type": "stream",
     "text": [
      "Mean: 507996.3089632121\n",
      "STD: 72769.34578370738\n",
      "Conf. Interval: (466283.5843623403, 549709.033564084)\n"
     ]
    }
   ],
   "source": [
    "# Adaboost\n",
    "\n",
    "ada_cvs = cross_val_score(AdaBoostRegressor(random_state=42),X_train_scaled,y_train,cv=15,\n",
    "                         scoring = 'neg_mean_squared_error', n_jobs=-1)\n",
    "\n",
    "ada_score=score_info(ada_cvs)"
   ]
  },
  {
   "cell_type": "code",
   "execution_count": 37,
   "id": "a8c3b246",
   "metadata": {},
   "outputs": [
    {
     "name": "stdout",
     "output_type": "stream",
     "text": [
      "Mean: 445986.2305490941\n",
      "STD: 70177.43360575542\n",
      "Conf. Interval: (405759.2375801914, 486213.2235179968)\n"
     ]
    }
   ],
   "source": [
    "#ARDRegression\n",
    "\n",
    "ard_cvs = cross_val_score(ARDRegression(),X_train_scaled,y_train,cv=15,\n",
    "                         scoring = 'neg_mean_squared_error', n_jobs=-1)\n",
    "\n",
    "ard_score=score_info(ard_cvs)"
   ]
  },
  {
   "cell_type": "code",
   "execution_count": 38,
   "id": "856ef2c6",
   "metadata": {},
   "outputs": [
    {
     "name": "stdout",
     "output_type": "stream",
     "text": [
      "Mean: 586707.4953258284\n",
      "STD: 77625.73222621449\n",
      "Conf. Interval: (542211.0008827236, 631203.9897689333)\n"
     ]
    }
   ],
   "source": [
    "# SVM with polynomial kernel\n",
    "\n",
    "svp_cvs = cross_val_score(SVR(kernel='poly'),X_train_scaled,y_train,cv=15,\n",
    "                         scoring = 'neg_mean_squared_error', n_jobs=-1)\n",
    "\n",
    "svp_score = score_info(svp_cvs)"
   ]
  },
  {
   "cell_type": "code",
   "execution_count": 39,
   "id": "70a45fd7",
   "metadata": {},
   "outputs": [
    {
     "name": "stdout",
     "output_type": "stream",
     "text": [
      "Mean: 523632.53834111884\n",
      "STD: 76202.80161823277\n",
      "Conf. Interval: (479951.6938387639, 567313.3828434737)\n"
     ]
    }
   ],
   "source": [
    "svl_cvs = cross_val_score(SVR(kernel='linear'),X_train_scaled,y_train,cv=15,\n",
    "                         scoring = 'neg_mean_squared_error', n_jobs=-1)\n",
    "\n",
    "svl_score = score_info(svl_cvs)"
   ]
  },
  {
   "cell_type": "code",
   "execution_count": 40,
   "id": "8d99dd2b",
   "metadata": {},
   "outputs": [
    {
     "name": "stdout",
     "output_type": "stream",
     "text": [
      "Mean: 603117.8905392821\n",
      "STD: 83700.19491324002\n",
      "Conf. Interval: (555139.4025941978, 651096.3784843665)\n"
     ]
    }
   ],
   "source": [
    "svr_cvs = cross_val_score(SVR(),X_train_scaled,y_train,cv=15,\n",
    "                         scoring = 'neg_mean_squared_error', n_jobs=-1)\n",
    "\n",
    "svr_score = score_info(svr_cvs)"
   ]
  },
  {
   "cell_type": "code",
   "execution_count": 41,
   "id": "d447ac45",
   "metadata": {},
   "outputs": [
    {
     "name": "stdout",
     "output_type": "stream",
     "text": [
      "Mean: 575688.9606064855\n",
      "STD: 81212.26209811354\n",
      "Conf. Interval: (529136.6014141771, 622241.3197987939)\n"
     ]
    }
   ],
   "source": [
    "svs_cvs = cross_val_score(SVR(kernel='sigmoid'),X_train_scaled,y_train,cv=15,\n",
    "                         scoring = 'neg_mean_squared_error', n_jobs=-1)\n",
    "\n",
    "svs_score = score_info(svs_cvs)"
   ]
  },
  {
   "cell_type": "code",
   "execution_count": 42,
   "id": "7f731440",
   "metadata": {},
   "outputs": [
    {
     "name": "stdout",
     "output_type": "stream",
     "text": [
      "Mean: 373307.63141899445\n",
      "STD: 68298.93165308778\n",
      "Conf. Interval: (334157.43024710374, 412457.83259088517)\n"
     ]
    }
   ],
   "source": [
    "# K nearest regression\n",
    "\n",
    "knn_cvs = cross_val_score(KNeighborsRegressor(),X_train_scaled,y_train,cv=15,\n",
    "                         scoring = 'neg_mean_squared_error', n_jobs=-1)\n",
    "\n",
    "knn_score = score_info(knn_cvs)"
   ]
  },
  {
   "cell_type": "code",
   "execution_count": 43,
   "id": "cb86ec26",
   "metadata": {},
   "outputs": [
    {
     "name": "stdout",
     "output_type": "stream",
     "text": [
      "Mean: 344931.8027452563\n",
      "STD: 79618.6982207739\n",
      "Conf. Interval: (299292.90361547127, 390570.7018750413)\n"
     ]
    }
   ],
   "source": [
    "bag_cvs = cross_val_score(BaggingRegressor(random_state=42),X_train_scaled,y_train,cv=15,\n",
    "                         scoring = 'neg_mean_squared_error', n_jobs=-1)\n",
    "\n",
    "bag_score= score_info(bag_cvs)"
   ]
  },
  {
   "cell_type": "code",
   "execution_count": 44,
   "id": "ff9edf46",
   "metadata": {},
   "outputs": [
    {
     "name": "stdout",
     "output_type": "stream",
     "text": [
      "Mean: 453606.95219848765\n",
      "STD: 73403.13581204064\n",
      "Conf. Interval: (411530.9275208881, 495682.9768760872)\n"
     ]
    }
   ],
   "source": [
    "hbr_cvs = cross_val_score(HuberRegressor(),X_train_scaled,y_train,cv=15,\n",
    "                         scoring = 'neg_mean_squared_error', n_jobs=-1)\n",
    "\n",
    "huber_score = score_info(hbr_cvs)"
   ]
  },
  {
   "cell_type": "code",
   "execution_count": 45,
   "id": "116def58",
   "metadata": {
    "scrolled": true
   },
   "outputs": [],
   "source": [
    "mod_type = ['Tree','Tree','Lin','Lin','Tree','Lin','Poly','Lin',\n",
    "                       'RBF','Logistic','Cluster','Tree','Lin']\n",
    "est_pre = pd.DataFrame([gbr_score,rfr_score,lasso_score,ridge_score,\n",
    "                       ada_score,ard_score,svp_score,svl_score,\n",
    "                        svr_score,svs_score,knn_score,bag_score,huber_score],\n",
    "                       columns=['Mean MSE','Stdev MSE','CI Low','CI High'],\n",
    "                       index=['GBR','RFR','Lasso','Ridge','AdaB','ARD','SVR(Poly)',\n",
    "                              'SVR(rbf)','SVR(linear)','SVR(sigmoid)','Knearest',\n",
    "                             'Bagging(tree)','Huber'])\n",
    "est_pre['Model_Type'] = mod_type"
   ]
  },
  {
   "cell_type": "code",
   "execution_count": 46,
   "id": "3130754f",
   "metadata": {},
   "outputs": [
    {
     "data": {
      "text/html": [
       "<div>\n",
       "<style scoped>\n",
       "    .dataframe tbody tr th:only-of-type {\n",
       "        vertical-align: middle;\n",
       "    }\n",
       "\n",
       "    .dataframe tbody tr th {\n",
       "        vertical-align: top;\n",
       "    }\n",
       "\n",
       "    .dataframe thead th {\n",
       "        text-align: right;\n",
       "    }\n",
       "</style>\n",
       "<table border=\"1\" class=\"dataframe\">\n",
       "  <thead>\n",
       "    <tr style=\"text-align: right;\">\n",
       "      <th></th>\n",
       "      <th>Mean MSE</th>\n",
       "      <th>Stdev MSE</th>\n",
       "      <th>CI Low</th>\n",
       "      <th>CI High</th>\n",
       "      <th>Model_Type</th>\n",
       "    </tr>\n",
       "  </thead>\n",
       "  <tbody>\n",
       "    <tr>\n",
       "      <th>RFR</th>\n",
       "      <td>326005.263886</td>\n",
       "      <td>72901.130050</td>\n",
       "      <td>284216.998125</td>\n",
       "      <td>367793.529647</td>\n",
       "      <td>Tree</td>\n",
       "    </tr>\n",
       "    <tr>\n",
       "      <th>Bagging(tree)</th>\n",
       "      <td>344931.802745</td>\n",
       "      <td>79618.698221</td>\n",
       "      <td>299292.903615</td>\n",
       "      <td>390570.701875</td>\n",
       "      <td>Tree</td>\n",
       "    </tr>\n",
       "    <tr>\n",
       "      <th>GBR</th>\n",
       "      <td>355769.360001</td>\n",
       "      <td>52978.999002</td>\n",
       "      <td>325400.825404</td>\n",
       "      <td>386137.894597</td>\n",
       "      <td>Tree</td>\n",
       "    </tr>\n",
       "    <tr>\n",
       "      <th>Knearest</th>\n",
       "      <td>373307.631419</td>\n",
       "      <td>68298.931653</td>\n",
       "      <td>334157.430247</td>\n",
       "      <td>412457.832591</td>\n",
       "      <td>Cluster</td>\n",
       "    </tr>\n",
       "    <tr>\n",
       "      <th>ARD</th>\n",
       "      <td>445986.230549</td>\n",
       "      <td>70177.433606</td>\n",
       "      <td>405759.237580</td>\n",
       "      <td>486213.223518</td>\n",
       "      <td>Lin</td>\n",
       "    </tr>\n",
       "    <tr>\n",
       "      <th>Lasso</th>\n",
       "      <td>446691.076829</td>\n",
       "      <td>69964.754770</td>\n",
       "      <td>406585.995273</td>\n",
       "      <td>486796.158386</td>\n",
       "      <td>Lin</td>\n",
       "    </tr>\n",
       "    <tr>\n",
       "      <th>Ridge</th>\n",
       "      <td>447200.476119</td>\n",
       "      <td>70046.352475</td>\n",
       "      <td>407048.621260</td>\n",
       "      <td>487352.330978</td>\n",
       "      <td>Lin</td>\n",
       "    </tr>\n",
       "    <tr>\n",
       "      <th>Huber</th>\n",
       "      <td>453606.952198</td>\n",
       "      <td>73403.135812</td>\n",
       "      <td>411530.927521</td>\n",
       "      <td>495682.976876</td>\n",
       "      <td>Lin</td>\n",
       "    </tr>\n",
       "    <tr>\n",
       "      <th>AdaB</th>\n",
       "      <td>507996.308963</td>\n",
       "      <td>72769.345784</td>\n",
       "      <td>466283.584362</td>\n",
       "      <td>549709.033564</td>\n",
       "      <td>Tree</td>\n",
       "    </tr>\n",
       "    <tr>\n",
       "      <th>SVR(rbf)</th>\n",
       "      <td>523632.538341</td>\n",
       "      <td>76202.801618</td>\n",
       "      <td>479951.693839</td>\n",
       "      <td>567313.382843</td>\n",
       "      <td>Lin</td>\n",
       "    </tr>\n",
       "    <tr>\n",
       "      <th>SVR(sigmoid)</th>\n",
       "      <td>575688.960606</td>\n",
       "      <td>81212.262098</td>\n",
       "      <td>529136.601414</td>\n",
       "      <td>622241.319799</td>\n",
       "      <td>Logistic</td>\n",
       "    </tr>\n",
       "    <tr>\n",
       "      <th>SVR(Poly)</th>\n",
       "      <td>586707.495326</td>\n",
       "      <td>77625.732226</td>\n",
       "      <td>542211.000883</td>\n",
       "      <td>631203.989769</td>\n",
       "      <td>Poly</td>\n",
       "    </tr>\n",
       "    <tr>\n",
       "      <th>SVR(linear)</th>\n",
       "      <td>603117.890539</td>\n",
       "      <td>83700.194913</td>\n",
       "      <td>555139.402594</td>\n",
       "      <td>651096.378484</td>\n",
       "      <td>RBF</td>\n",
       "    </tr>\n",
       "  </tbody>\n",
       "</table>\n",
       "</div>"
      ],
      "text/plain": [
       "                    Mean MSE     Stdev MSE         CI Low        CI High  \\\n",
       "RFR            326005.263886  72901.130050  284216.998125  367793.529647   \n",
       "Bagging(tree)  344931.802745  79618.698221  299292.903615  390570.701875   \n",
       "GBR            355769.360001  52978.999002  325400.825404  386137.894597   \n",
       "Knearest       373307.631419  68298.931653  334157.430247  412457.832591   \n",
       "ARD            445986.230549  70177.433606  405759.237580  486213.223518   \n",
       "Lasso          446691.076829  69964.754770  406585.995273  486796.158386   \n",
       "Ridge          447200.476119  70046.352475  407048.621260  487352.330978   \n",
       "Huber          453606.952198  73403.135812  411530.927521  495682.976876   \n",
       "AdaB           507996.308963  72769.345784  466283.584362  549709.033564   \n",
       "SVR(rbf)       523632.538341  76202.801618  479951.693839  567313.382843   \n",
       "SVR(sigmoid)   575688.960606  81212.262098  529136.601414  622241.319799   \n",
       "SVR(Poly)      586707.495326  77625.732226  542211.000883  631203.989769   \n",
       "SVR(linear)    603117.890539  83700.194913  555139.402594  651096.378484   \n",
       "\n",
       "              Model_Type  \n",
       "RFR                 Tree  \n",
       "Bagging(tree)       Tree  \n",
       "GBR                 Tree  \n",
       "Knearest         Cluster  \n",
       "ARD                  Lin  \n",
       "Lasso                Lin  \n",
       "Ridge                Lin  \n",
       "Huber                Lin  \n",
       "AdaB                Tree  \n",
       "SVR(rbf)             Lin  \n",
       "SVR(sigmoid)    Logistic  \n",
       "SVR(Poly)           Poly  \n",
       "SVR(linear)          RBF  "
      ]
     },
     "execution_count": 46,
     "metadata": {},
     "output_type": "execute_result"
    }
   ],
   "source": [
    "est_pre.sort_values(by=['Mean MSE','Stdev MSE'])"
   ]
  },
  {
   "cell_type": "markdown",
   "id": "85057e31",
   "metadata": {},
   "source": [
    "#### Best 8 Models by MSE\n",
    "- RFR (Tree)\n",
    "- Bagging (Tree)\n",
    "- GBR (Tree)\n",
    "- Knearest (cluster)\n",
    "- ARD (lin)\n",
    "- Lasso (lin)\n",
    "- Ridge (lin)\n",
    "- Huber (lin)\n",
    "\n",
    "#### Not significant variation in model type as desired"
   ]
  },
  {
   "cell_type": "markdown",
   "id": "b126242a",
   "metadata": {},
   "source": [
    "## Estimator Tuning"
   ]
  },
  {
   "cell_type": "code",
   "execution_count": 47,
   "id": "d64b5c68",
   "metadata": {},
   "outputs": [],
   "source": [
    "def mod_imp(model):\n",
    "    scores = cross_val_score(model,X_train_scaled,y_train,cv=15,\n",
    "                         scoring = 'neg_mean_squared_error', n_jobs=-1)\n",
    "    \n",
    "    MSE = -scores\n",
    "    confidence = 0.95\n",
    "    con_int= stats.t.interval(\n",
    "    confidence,\n",
    "    len(MSE)-1,\n",
    "    loc=MSE.mean(),\n",
    "    scale=stats.sem(MSE))\n",
    "    \n",
    "    print(f'Mean: {MSE.mean()}')\n",
    "    print(f'STD: {MSE.std()}')\n",
    "    print(f'Conf. Interval: {con_int}')\n",
    "    return [MSE.mean(), MSE.std(), con_int[0], con_int[1]]"
   ]
  },
  {
   "cell_type": "code",
   "execution_count": 54,
   "id": "eeb3b221",
   "metadata": {
    "scrolled": true
   },
   "outputs": [
    {
     "name": "stdout",
     "output_type": "stream",
     "text": [
      "Fitting 15 folds for each of 2400 candidates, totalling 36000 fits\n",
      "Mean: 315485.2577528823\n",
      "STD: 70780.91042752899\n",
      "Conf. Interval: (274912.34079361596, 356058.17471214867)\n"
     ]
    }
   ],
   "source": [
    "# GBR\n",
    "\n",
    "model = GradientBoostingRegressor()\n",
    "\n",
    "\n",
    "mod_params = {\n",
    "    'learning_rate': np.arange(.25,.35,.01),\n",
    "    'n_estimators': np.arange(8,14),\n",
    "    'subsample': np.arange(.93,.97,.005),\n",
    "    'max_depth': np.arange(7,12),\n",
    "    'random_state': [42],\n",
    "    'max_features': ['sqrt'],\n",
    "    'alpha': [1e-30]\n",
    "}\n",
    "\n",
    "\n",
    "    \n",
    "model_cv = GridSearchCV(model,mod_params,n_jobs=-1, cv=15, verbose = 1,\n",
    "                                 scoring='neg_mean_squared_error')\n",
    "model_cv.fit(X_train_scaled,y_train)\n",
    "    \n",
    "gbr = model_cv.best_estimator_\n",
    "\n",
    "gbr_imp = mod_imp(gbr)"
   ]
  },
  {
   "cell_type": "code",
   "execution_count": 56,
   "id": "17e1b987",
   "metadata": {
    "scrolled": true
   },
   "outputs": [
    {
     "data": {
      "text/plain": [
       "['mod_params/gbr.pkl']"
      ]
     },
     "execution_count": 56,
     "metadata": {},
     "output_type": "execute_result"
    }
   ],
   "source": [
    "# Save Tuned Model\n",
    "joblib.dump(gbr,'mod_params/gbr.pkl')"
   ]
  },
  {
   "cell_type": "code",
   "execution_count": 57,
   "id": "dc709341",
   "metadata": {},
   "outputs": [
    {
     "name": "stdout",
     "output_type": "stream",
     "text": [
      "Fitting 15 folds for each of 40 candidates, totalling 600 fits\n",
      "Mean: 322066.22454159067\n",
      "STD: 73874.8489300077\n",
      "Conf. Interval: (279719.8052470206, 364412.6438361607)\n"
     ]
    }
   ],
   "source": [
    "# RFR\n",
    "\n",
    "model = RandomForestRegressor()\n",
    "\n",
    "\n",
    "mod_params = {\n",
    "    'n_estimators': np.arange(20,40),\n",
    "    'random_state': [42],\n",
    "    'max_features': ['sqrt']\n",
    "}\n",
    "\n",
    "    \n",
    "model_cv = GridSearchCV(model,mod_params,n_jobs=-1, cv=15, verbose = 1,\n",
    "                                 scoring='neg_mean_squared_error')\n",
    "model_cv.fit(X_train_scaled,y_train)\n",
    "    \n",
    "rfr = model_cv.best_estimator_\n",
    "\n",
    "rfr_imp = mod_imp(rfr)"
   ]
  },
  {
   "cell_type": "code",
   "execution_count": 60,
   "id": "9cd3396f",
   "metadata": {},
   "outputs": [
    {
     "data": {
      "text/plain": [
       "['mod_params/rfr.pkl']"
      ]
     },
     "execution_count": 60,
     "metadata": {},
     "output_type": "execute_result"
    }
   ],
   "source": [
    "joblib.dump(rfr,'mod_params/rfr.pkl')"
   ]
  },
  {
   "cell_type": "code",
   "execution_count": 61,
   "id": "1cd81d48",
   "metadata": {},
   "outputs": [
    {
     "name": "stdout",
     "output_type": "stream",
     "text": [
      "Fitting 15 folds for each of 49 candidates, totalling 735 fits\n",
      "Mean: 326570.54160154733\n",
      "STD: 70998.63642229642\n",
      "Conf. Interval: (285872.8201059701, 367268.2630971246)\n"
     ]
    }
   ],
   "source": [
    "# Bagging\n",
    "\n",
    "model = BaggingRegressor(random_state=42,n_jobs=-1)\n",
    "\n",
    "\n",
    "mod_params = {\n",
    "    'n_estimators': np.arange(1,50)\n",
    "}\n",
    "\n",
    "    \n",
    "model_cv = GridSearchCV(model,mod_params,n_jobs=-1, cv=15, verbose = 1,\n",
    "                                 scoring='neg_mean_squared_error')\n",
    "model_cv.fit(X_train_scaled,y_train)\n",
    "    \n",
    "bag = model_cv.best_estimator_\n",
    "\n",
    "bag_imp = mod_imp(bag)"
   ]
  },
  {
   "cell_type": "code",
   "execution_count": 63,
   "id": "b67595a7",
   "metadata": {},
   "outputs": [
    {
     "data": {
      "text/plain": [
       "['mod_params/bag.pkl']"
      ]
     },
     "execution_count": 63,
     "metadata": {},
     "output_type": "execute_result"
    }
   ],
   "source": [
    "joblib.dump(bag,'mod_params/bag.pkl')"
   ]
  },
  {
   "cell_type": "code",
   "execution_count": 90,
   "id": "fb2c23cb",
   "metadata": {
    "scrolled": true
   },
   "outputs": [
    {
     "name": "stdout",
     "output_type": "stream",
     "text": [
      "Fitting 15 folds for each of 2 candidates, totalling 30 fits\n",
      "Mean: 445986.1916653749\n",
      "STD: 70177.42036099994\n",
      "Conf. Interval: (405759.20628860913, 486213.1770421407)\n"
     ]
    }
   ],
   "source": [
    "# ARD\n",
    "\n",
    "model = ARDRegression(n_iter=1000)\n",
    "\n",
    "\n",
    "mod_params = {\n",
    "    'alpha_1': [1e-50,1e-25],\n",
    "    'alpha_2': [1e-50],\n",
    "    'lambda_1': [1e-50],\n",
    "    'lambda_2': [1e-50]\n",
    "}\n",
    "\n",
    "\n",
    "model_cv = GridSearchCV(model,mod_params,n_jobs=-1, cv=15, verbose = 1,\n",
    "                                 scoring='neg_mean_squared_error')\n",
    "model_cv.fit(X_train_scaled,y_train)\n",
    "    \n",
    "ard = model_cv.best_estimator_\n",
    "\n",
    "ard_imp = mod_imp(ard)"
   ]
  },
  {
   "cell_type": "code",
   "execution_count": 91,
   "id": "96eb6122",
   "metadata": {},
   "outputs": [
    {
     "data": {
      "text/plain": [
       "['mod_params/ard.pkl']"
      ]
     },
     "execution_count": 91,
     "metadata": {},
     "output_type": "execute_result"
    }
   ],
   "source": [
    "joblib.dump(ard,'mod_params/ard.pkl')"
   ]
  },
  {
   "cell_type": "code",
   "execution_count": 94,
   "id": "14afe7bb",
   "metadata": {},
   "outputs": [
    {
     "name": "stdout",
     "output_type": "stream",
     "text": [
      "Mean: 446585.68210452195\n",
      "STD: 69910.8962257932\n",
      "Conf. Interval: (406511.47325380065, 486659.89095524326)\n"
     ]
    }
   ],
   "source": [
    "lasso = LassoCV(n_alphas=1000,max_iter=5000, cv=15,n_jobs=-1,\n",
    "               random_state=42)\n",
    "lasso_imp = mod_imp(lasso)"
   ]
  },
  {
   "cell_type": "code",
   "execution_count": 95,
   "id": "55936c44",
   "metadata": {},
   "outputs": [
    {
     "data": {
      "text/plain": [
       "['mod_params/lasso.pkl']"
      ]
     },
     "execution_count": 95,
     "metadata": {},
     "output_type": "execute_result"
    }
   ],
   "source": [
    "joblib.dump(lasso,'mod_params/lasso.pkl')"
   ]
  },
  {
   "cell_type": "code",
   "execution_count": 96,
   "id": "20d849be",
   "metadata": {},
   "outputs": [
    {
     "name": "stdout",
     "output_type": "stream",
     "text": [
      "Mean: 447200.4761193869\n",
      "STD: 70046.35247513468\n",
      "Conf. Interval: (407048.6212603994, 487352.3309783744)\n"
     ]
    }
   ],
   "source": [
    "ridge = RidgeCV(alphas=[1e-5,1e-4,1e-3,1e-2,1e-1,1,1e1,1e2],cv=15)\n",
    "ridge_imp = mod_imp(ridge)"
   ]
  },
  {
   "cell_type": "code",
   "execution_count": 97,
   "id": "375204c5",
   "metadata": {},
   "outputs": [
    {
     "data": {
      "text/plain": [
       "['mod_params/ridge.pkl']"
      ]
     },
     "execution_count": 97,
     "metadata": {},
     "output_type": "execute_result"
    }
   ],
   "source": [
    "joblib.dump(ridge,'mod_params/ridge.pkl')"
   ]
  },
  {
   "cell_type": "code",
   "execution_count": 100,
   "id": "86762a61",
   "metadata": {
    "scrolled": true
   },
   "outputs": [
    {
     "name": "stdout",
     "output_type": "stream",
     "text": [
      "Fitting 15 folds for each of 30 candidates, totalling 450 fits\n",
      "Mean: 326619.84599890123\n",
      "STD: 70007.19125805196\n",
      "Conf. Interval: (286490.43906830467, 366749.2529294978)\n"
     ]
    }
   ],
   "source": [
    "# KNN\n",
    "\n",
    "model = KNeighborsRegressor(n_jobs=-1)\n",
    "\n",
    "\n",
    "mod_params = {\n",
    "    'n_neighbors': np.arange(10,40,1),\n",
    "    'weights': ['distance'],\n",
    "    'p': [1]\n",
    "    \n",
    "}\n",
    "\n",
    "\n",
    "model_cv = GridSearchCV(model,mod_params,n_jobs=-1, cv=15, verbose = 1,\n",
    "                                 scoring='neg_mean_squared_error')\n",
    "model_cv.fit(X_train_scaled,y_train)\n",
    "    \n",
    "knn = model_cv.best_estimator_\n",
    "\n",
    "knn_imp = mod_imp(knn)"
   ]
  },
  {
   "cell_type": "code",
   "execution_count": 102,
   "id": "194f23a6",
   "metadata": {},
   "outputs": [
    {
     "data": {
      "text/plain": [
       "['mod_params/knn.pkl']"
      ]
     },
     "execution_count": 102,
     "metadata": {},
     "output_type": "execute_result"
    }
   ],
   "source": [
    "joblib.dump(knn,'mod_params/knn.pkl')"
   ]
  },
  {
   "cell_type": "code",
   "execution_count": 109,
   "id": "d5a17b2f",
   "metadata": {},
   "outputs": [
    {
     "name": "stdout",
     "output_type": "stream",
     "text": [
      "Fitting 15 folds for each of 1000 candidates, totalling 15000 fits\n",
      "Mean: 447194.2585501963\n",
      "STD: 70150.76189864255\n",
      "Conf. Interval: (406982.5542933392, 487405.9628070534)\n"
     ]
    }
   ],
   "source": [
    "# Huber\n",
    "\n",
    "model = HuberRegressor(max_iter=1000)\n",
    "\n",
    "\n",
    "mod_params = {\n",
    "    'epsilon': np.arange(10.5,11.5,.001),\n",
    "    'alpha': [.01]\n",
    "    \n",
    "}\n",
    "\n",
    "\n",
    "model_cv = GridSearchCV(model,mod_params,n_jobs=-1, cv=15, verbose = 1,\n",
    "                                 scoring='neg_mean_squared_error')\n",
    "model_cv.fit(X_train_scaled,y_train)\n",
    "    \n",
    "huber = model_cv.best_estimator_\n",
    "\n",
    "huber_imp = mod_imp(huber)"
   ]
  },
  {
   "cell_type": "code",
   "execution_count": 111,
   "id": "9e1d6f21",
   "metadata": {},
   "outputs": [
    {
     "data": {
      "text/plain": [
       "['mod_params/huber.pkl']"
      ]
     },
     "execution_count": 111,
     "metadata": {},
     "output_type": "execute_result"
    }
   ],
   "source": [
    "joblib.dump(huber,'mod_params/huber.pkl')"
   ]
  },
  {
   "cell_type": "code",
   "execution_count": 114,
   "id": "5189ff57",
   "metadata": {},
   "outputs": [
    {
     "data": {
      "text/html": [
       "<div>\n",
       "<style scoped>\n",
       "    .dataframe tbody tr th:only-of-type {\n",
       "        vertical-align: middle;\n",
       "    }\n",
       "\n",
       "    .dataframe tbody tr th {\n",
       "        vertical-align: top;\n",
       "    }\n",
       "\n",
       "    .dataframe thead th {\n",
       "        text-align: right;\n",
       "    }\n",
       "</style>\n",
       "<table border=\"1\" class=\"dataframe\">\n",
       "  <thead>\n",
       "    <tr style=\"text-align: right;\">\n",
       "      <th></th>\n",
       "      <th>Mean MSE</th>\n",
       "      <th>Stdev MSE</th>\n",
       "      <th>CI Low</th>\n",
       "      <th>CI High</th>\n",
       "    </tr>\n",
       "  </thead>\n",
       "  <tbody>\n",
       "    <tr>\n",
       "      <th>GBR</th>\n",
       "      <td>315485.257753</td>\n",
       "      <td>70780.910428</td>\n",
       "      <td>274912.340794</td>\n",
       "      <td>356058.174712</td>\n",
       "    </tr>\n",
       "    <tr>\n",
       "      <th>RFR</th>\n",
       "      <td>322066.224542</td>\n",
       "      <td>73874.848930</td>\n",
       "      <td>279719.805247</td>\n",
       "      <td>364412.643836</td>\n",
       "    </tr>\n",
       "    <tr>\n",
       "      <th>Bagging(tree)</th>\n",
       "      <td>326570.541602</td>\n",
       "      <td>70998.636422</td>\n",
       "      <td>285872.820106</td>\n",
       "      <td>367268.263097</td>\n",
       "    </tr>\n",
       "    <tr>\n",
       "      <th>ARD</th>\n",
       "      <td>445986.191665</td>\n",
       "      <td>70177.420361</td>\n",
       "      <td>405759.206289</td>\n",
       "      <td>486213.177042</td>\n",
       "    </tr>\n",
       "    <tr>\n",
       "      <th>Lasso</th>\n",
       "      <td>446585.682105</td>\n",
       "      <td>69910.896226</td>\n",
       "      <td>406511.473254</td>\n",
       "      <td>486659.890955</td>\n",
       "    </tr>\n",
       "    <tr>\n",
       "      <th>Ridge</th>\n",
       "      <td>447200.476119</td>\n",
       "      <td>70046.352475</td>\n",
       "      <td>407048.621260</td>\n",
       "      <td>487352.330978</td>\n",
       "    </tr>\n",
       "    <tr>\n",
       "      <th>Knearest</th>\n",
       "      <td>326619.845999</td>\n",
       "      <td>70007.191258</td>\n",
       "      <td>286490.439068</td>\n",
       "      <td>366749.252929</td>\n",
       "    </tr>\n",
       "    <tr>\n",
       "      <th>Huber</th>\n",
       "      <td>447194.258550</td>\n",
       "      <td>70150.761899</td>\n",
       "      <td>406982.554293</td>\n",
       "      <td>487405.962807</td>\n",
       "    </tr>\n",
       "  </tbody>\n",
       "</table>\n",
       "</div>"
      ],
      "text/plain": [
       "                    Mean MSE     Stdev MSE         CI Low        CI High\n",
       "GBR            315485.257753  70780.910428  274912.340794  356058.174712\n",
       "RFR            322066.224542  73874.848930  279719.805247  364412.643836\n",
       "Bagging(tree)  326570.541602  70998.636422  285872.820106  367268.263097\n",
       "ARD            445986.191665  70177.420361  405759.206289  486213.177042\n",
       "Lasso          446585.682105  69910.896226  406511.473254  486659.890955\n",
       "Ridge          447200.476119  70046.352475  407048.621260  487352.330978\n",
       "Knearest       326619.845999  70007.191258  286490.439068  366749.252929\n",
       "Huber          447194.258550  70150.761899  406982.554293  487405.962807"
      ]
     },
     "execution_count": 114,
     "metadata": {},
     "output_type": "execute_result"
    }
   ],
   "source": [
    "est_post = pd.DataFrame([gbr_imp,rfr_imp,bag_imp,ard_imp,lasso_imp,ridge_imp,\n",
    "                       knn_imp,huber_imp],\n",
    "                       columns=['Mean MSE','Stdev MSE','CI Low','CI High'],\n",
    "                       index=['GBR','RFR','Bagging(tree)','ARD','Lasso','Ridge',\n",
    "                              'Knearest','Huber'])\n",
    "est_post"
   ]
  },
  {
   "cell_type": "code",
   "execution_count": null,
   "id": "d1923f54",
   "metadata": {},
   "outputs": [],
   "source": [
    "# Load Models if needed\n",
    "# gbr = joblib.load('model_params/gbr')\n",
    "# rfr = joblib.load('model_params/rfr')\n",
    "# bag = joblib.load('model_params/bag')\n",
    "# ard = joblib.load('model_params/ard')\n",
    "# lasso = joblib.load('model_params/lasso')\n",
    "# ridge = joblib.load('model_params/ridge')\n",
    "# knn = joblib.load('model_params/knn')\n",
    "# huber = joblib.load('model_params/huber')"
   ]
  },
  {
   "cell_type": "code",
   "execution_count": 112,
   "id": "bbf5fc4f",
   "metadata": {},
   "outputs": [
    {
     "data": {
      "text/html": [
       "<style>#sk-container-id-2 {color: black;background-color: white;}#sk-container-id-2 pre{padding: 0;}#sk-container-id-2 div.sk-toggleable {background-color: white;}#sk-container-id-2 label.sk-toggleable__label {cursor: pointer;display: block;width: 100%;margin-bottom: 0;padding: 0.3em;box-sizing: border-box;text-align: center;}#sk-container-id-2 label.sk-toggleable__label-arrow:before {content: \"▸\";float: left;margin-right: 0.25em;color: #696969;}#sk-container-id-2 label.sk-toggleable__label-arrow:hover:before {color: black;}#sk-container-id-2 div.sk-estimator:hover label.sk-toggleable__label-arrow:before {color: black;}#sk-container-id-2 div.sk-toggleable__content {max-height: 0;max-width: 0;overflow: hidden;text-align: left;background-color: #f0f8ff;}#sk-container-id-2 div.sk-toggleable__content pre {margin: 0.2em;color: black;border-radius: 0.25em;background-color: #f0f8ff;}#sk-container-id-2 input.sk-toggleable__control:checked~div.sk-toggleable__content {max-height: 200px;max-width: 100%;overflow: auto;}#sk-container-id-2 input.sk-toggleable__control:checked~label.sk-toggleable__label-arrow:before {content: \"▾\";}#sk-container-id-2 div.sk-estimator input.sk-toggleable__control:checked~label.sk-toggleable__label {background-color: #d4ebff;}#sk-container-id-2 div.sk-label input.sk-toggleable__control:checked~label.sk-toggleable__label {background-color: #d4ebff;}#sk-container-id-2 input.sk-hidden--visually {border: 0;clip: rect(1px 1px 1px 1px);clip: rect(1px, 1px, 1px, 1px);height: 1px;margin: -1px;overflow: hidden;padding: 0;position: absolute;width: 1px;}#sk-container-id-2 div.sk-estimator {font-family: monospace;background-color: #f0f8ff;border: 1px dotted black;border-radius: 0.25em;box-sizing: border-box;margin-bottom: 0.5em;}#sk-container-id-2 div.sk-estimator:hover {background-color: #d4ebff;}#sk-container-id-2 div.sk-parallel-item::after {content: \"\";width: 100%;border-bottom: 1px solid gray;flex-grow: 1;}#sk-container-id-2 div.sk-label:hover label.sk-toggleable__label {background-color: #d4ebff;}#sk-container-id-2 div.sk-serial::before {content: \"\";position: absolute;border-left: 1px solid gray;box-sizing: border-box;top: 0;bottom: 0;left: 50%;z-index: 0;}#sk-container-id-2 div.sk-serial {display: flex;flex-direction: column;align-items: center;background-color: white;padding-right: 0.2em;padding-left: 0.2em;position: relative;}#sk-container-id-2 div.sk-item {position: relative;z-index: 1;}#sk-container-id-2 div.sk-parallel {display: flex;align-items: stretch;justify-content: center;background-color: white;position: relative;}#sk-container-id-2 div.sk-item::before, #sk-container-id-2 div.sk-parallel-item::before {content: \"\";position: absolute;border-left: 1px solid gray;box-sizing: border-box;top: 0;bottom: 0;left: 50%;z-index: -1;}#sk-container-id-2 div.sk-parallel-item {display: flex;flex-direction: column;z-index: 1;position: relative;background-color: white;}#sk-container-id-2 div.sk-parallel-item:first-child::after {align-self: flex-end;width: 50%;}#sk-container-id-2 div.sk-parallel-item:last-child::after {align-self: flex-start;width: 50%;}#sk-container-id-2 div.sk-parallel-item:only-child::after {width: 0;}#sk-container-id-2 div.sk-dashed-wrapped {border: 1px dashed gray;margin: 0 0.4em 0.5em 0.4em;box-sizing: border-box;padding-bottom: 0.4em;background-color: white;}#sk-container-id-2 div.sk-label label {font-family: monospace;font-weight: bold;display: inline-block;line-height: 1.2em;}#sk-container-id-2 div.sk-label-container {text-align: center;}#sk-container-id-2 div.sk-container {/* jupyter's `normalize.less` sets `[hidden] { display: none; }` but bootstrap.min.css set `[hidden] { display: none !important; }` so we also need the `!important` here to be able to override the default hidden behavior on the sphinx rendered scikit-learn.org. See: https://github.com/scikit-learn/scikit-learn/issues/21755 */display: inline-block !important;position: relative;}#sk-container-id-2 div.sk-text-repr-fallback {display: none;}</style><div id=\"sk-container-id-2\" class=\"sk-top-container\"><div class=\"sk-text-repr-fallback\"><pre>HuberRegressor(alpha=0.01, epsilon=10.891999999999783, max_iter=1000)</pre><b>In a Jupyter environment, please rerun this cell to show the HTML representation or trust the notebook. <br />On GitHub, the HTML representation is unable to render, please try loading this page with nbviewer.org.</b></div><div class=\"sk-container\" hidden><div class=\"sk-item\"><div class=\"sk-estimator sk-toggleable\"><input class=\"sk-toggleable__control sk-hidden--visually\" id=\"sk-estimator-id-2\" type=\"checkbox\" checked><label for=\"sk-estimator-id-2\" class=\"sk-toggleable__label sk-toggleable__label-arrow\">HuberRegressor</label><div class=\"sk-toggleable__content\"><pre>HuberRegressor(alpha=0.01, epsilon=10.891999999999783, max_iter=1000)</pre></div></div></div></div></div>"
      ],
      "text/plain": [
       "HuberRegressor(alpha=0.01, epsilon=10.891999999999783, max_iter=1000)"
      ]
     },
     "execution_count": 112,
     "metadata": {},
     "output_type": "execute_result"
    }
   ],
   "source": [
    "# Fit Estimators\n",
    "gbr.fit(X_train_scaled,y_train)\n",
    "rfr.fit(X_train_scaled,y_train)\n",
    "bag.fit(X_train_scaled,y_train)\n",
    "ard.fit(X_train_scaled,y_train)\n",
    "lasso.fit(X_train_scaled,y_train)\n",
    "ridge.fit(X_train_scaled,y_train)\n",
    "knn.fit(X_train_scaled,y_train)\n",
    "huber.fit(X_train_scaled,y_train)"
   ]
  },
  {
   "cell_type": "markdown",
   "id": "d896f6c9",
   "metadata": {},
   "source": [
    "## Weighted VotingRegressor"
   ]
  },
  {
   "cell_type": "markdown",
   "id": "83a02ec0",
   "metadata": {},
   "source": [
    "### Minimize MSE of models"
   ]
  },
  {
   "cell_type": "code",
   "execution_count": 115,
   "id": "a111467a",
   "metadata": {},
   "outputs": [],
   "source": [
    "# Specify number of estimators\n",
    "n_est = 8\n",
    "\n",
    "# Create a 'weights' array with default values of 1/n_est\n",
    "w = (1/n_est)*np.ones(n_est)"
   ]
  },
  {
   "cell_type": "code",
   "execution_count": 137,
   "id": "025b7e57",
   "metadata": {},
   "outputs": [],
   "source": [
    "# Create vector of predicted values from each estimator\n",
    "gbr_pred = gbr.predict(X_test_scaled)\n",
    "rfr_pred = rfr.predict(X_test_scaled)\n",
    "bag_pred= bag.predict(X_test_scaled)\n",
    "ard_pred = ard.predict(X_test_scaled)\n",
    "lasso_pred = lasso.predict(X_test_scaled)\n",
    "ridge_pred = ridge.predict(X_test_scaled)\n",
    "knn_pred = knn.predict(X_test_scaled)\n",
    "huber_pred = huber.predict(X_test_scaled)"
   ]
  },
  {
   "cell_type": "code",
   "execution_count": 138,
   "id": "bfe6c57a",
   "metadata": {},
   "outputs": [],
   "source": [
    "# Combine prediction vectors into prediction matrix\n",
    "mod_pred = np.column_stack((gbr_pred,rfr_pred,bag_pred,ard_pred,lasso_pred,ridge_pred,\n",
    "                            knn_pred,huber_pred))"
   ]
  },
  {
   "cell_type": "code",
   "execution_count": 139,
   "id": "fe26335f",
   "metadata": {},
   "outputs": [],
   "source": [
    "# Define Objective Function\n",
    "def obj_fun(weights=w,y_true=y_test,y_hat=mod_pred, n_estimators=n_est):\n",
    "    return (1/n_est)*np.sum((y_true - (weights@(y_hat.T)))**2)"
   ]
  },
  {
   "cell_type": "code",
   "execution_count": 140,
   "id": "974ca014",
   "metadata": {},
   "outputs": [],
   "source": [
    "# Define constraint(s)\n",
    "def constraints(weights=w):\n",
    "    return (1- np.sum(np.abs(weights)))"
   ]
  },
  {
   "cell_type": "code",
   "execution_count": 141,
   "id": "6ffca660",
   "metadata": {},
   "outputs": [
    {
     "data": {
      "text/plain": [
       "     fun: 28090972.007207327\n",
       "     jac: array([-14193612.75, -14394165.25, -14205564.5 , -11347193.  ,\n",
       "       -11287047.75, -11298535.5 , -15099691.5 , -11311091.5 ])\n",
       " message: 'Optimization terminated successfully'\n",
       "    nfev: 559\n",
       "     nit: 41\n",
       "    njev: 41\n",
       "  status: 0\n",
       " success: True\n",
       "       x: array([1.99605696e-01, 2.43264919e-01, 1.87749811e-02, 2.25386470e-01,\n",
       "       4.83958047e-03, 5.80451843e-07, 2.75720974e-01, 3.24067987e-02])"
      ]
     },
     "execution_count": 141,
     "metadata": {},
     "output_type": "execute_result"
    }
   ],
   "source": [
    "res = optimize.minimize(obj_fun, (1/n_est)*np.ones(n_est), method='SLSQP',\n",
    "                  constraints={'fun': constraints,\n",
    "                              'type': 'eq'}, options={'maxiter': 1000})\n",
    "res"
   ]
  },
  {
   "cell_type": "code",
   "execution_count": 142,
   "id": "00af3111",
   "metadata": {},
   "outputs": [],
   "source": [
    "optimal_mod_weights = res.x"
   ]
  },
  {
   "cell_type": "code",
   "execution_count": 143,
   "id": "d357e56c",
   "metadata": {},
   "outputs": [
    {
     "data": {
      "text/plain": [
       "array([5, 7, 3, 6, 2, 1, 8, 4], dtype=int64)"
      ]
     },
     "execution_count": 143,
     "metadata": {},
     "output_type": "execute_result"
    }
   ],
   "source": [
    "# Scale weights\n",
    "\n",
    "# First argsort returns array with first value is the index of the smallest value\n",
    "# in the array provided\n",
    "scaled_weights = np.argsort(optimal_mod_weights)\n",
    "\n",
    "# Second sort returns array firs value the index of the smallest value of input\n",
    "# Such that the largest value in optimal_mod_weights will have the largest index\n",
    "# The resulting array has sorted and scaled from len(array) to 0\n",
    "\n",
    "scaled_weights = np.argsort(scaled_weights)\n",
    "\n",
    "# Add 1 to prevent zero weights\n",
    "scaled_weights = scaled_weights + 1\n",
    "scaled_weights"
   ]
  },
  {
   "cell_type": "markdown",
   "id": "02838186",
   "metadata": {},
   "source": [
    "### Create VotingRegressor with new weights"
   ]
  },
  {
   "cell_type": "code",
   "execution_count": 144,
   "id": "2b5f2656",
   "metadata": {},
   "outputs": [
    {
     "data": {
      "text/html": [
       "<style>#sk-container-id-5 {color: black;background-color: white;}#sk-container-id-5 pre{padding: 0;}#sk-container-id-5 div.sk-toggleable {background-color: white;}#sk-container-id-5 label.sk-toggleable__label {cursor: pointer;display: block;width: 100%;margin-bottom: 0;padding: 0.3em;box-sizing: border-box;text-align: center;}#sk-container-id-5 label.sk-toggleable__label-arrow:before {content: \"▸\";float: left;margin-right: 0.25em;color: #696969;}#sk-container-id-5 label.sk-toggleable__label-arrow:hover:before {color: black;}#sk-container-id-5 div.sk-estimator:hover label.sk-toggleable__label-arrow:before {color: black;}#sk-container-id-5 div.sk-toggleable__content {max-height: 0;max-width: 0;overflow: hidden;text-align: left;background-color: #f0f8ff;}#sk-container-id-5 div.sk-toggleable__content pre {margin: 0.2em;color: black;border-radius: 0.25em;background-color: #f0f8ff;}#sk-container-id-5 input.sk-toggleable__control:checked~div.sk-toggleable__content {max-height: 200px;max-width: 100%;overflow: auto;}#sk-container-id-5 input.sk-toggleable__control:checked~label.sk-toggleable__label-arrow:before {content: \"▾\";}#sk-container-id-5 div.sk-estimator input.sk-toggleable__control:checked~label.sk-toggleable__label {background-color: #d4ebff;}#sk-container-id-5 div.sk-label input.sk-toggleable__control:checked~label.sk-toggleable__label {background-color: #d4ebff;}#sk-container-id-5 input.sk-hidden--visually {border: 0;clip: rect(1px 1px 1px 1px);clip: rect(1px, 1px, 1px, 1px);height: 1px;margin: -1px;overflow: hidden;padding: 0;position: absolute;width: 1px;}#sk-container-id-5 div.sk-estimator {font-family: monospace;background-color: #f0f8ff;border: 1px dotted black;border-radius: 0.25em;box-sizing: border-box;margin-bottom: 0.5em;}#sk-container-id-5 div.sk-estimator:hover {background-color: #d4ebff;}#sk-container-id-5 div.sk-parallel-item::after {content: \"\";width: 100%;border-bottom: 1px solid gray;flex-grow: 1;}#sk-container-id-5 div.sk-label:hover label.sk-toggleable__label {background-color: #d4ebff;}#sk-container-id-5 div.sk-serial::before {content: \"\";position: absolute;border-left: 1px solid gray;box-sizing: border-box;top: 0;bottom: 0;left: 50%;z-index: 0;}#sk-container-id-5 div.sk-serial {display: flex;flex-direction: column;align-items: center;background-color: white;padding-right: 0.2em;padding-left: 0.2em;position: relative;}#sk-container-id-5 div.sk-item {position: relative;z-index: 1;}#sk-container-id-5 div.sk-parallel {display: flex;align-items: stretch;justify-content: center;background-color: white;position: relative;}#sk-container-id-5 div.sk-item::before, #sk-container-id-5 div.sk-parallel-item::before {content: \"\";position: absolute;border-left: 1px solid gray;box-sizing: border-box;top: 0;bottom: 0;left: 50%;z-index: -1;}#sk-container-id-5 div.sk-parallel-item {display: flex;flex-direction: column;z-index: 1;position: relative;background-color: white;}#sk-container-id-5 div.sk-parallel-item:first-child::after {align-self: flex-end;width: 50%;}#sk-container-id-5 div.sk-parallel-item:last-child::after {align-self: flex-start;width: 50%;}#sk-container-id-5 div.sk-parallel-item:only-child::after {width: 0;}#sk-container-id-5 div.sk-dashed-wrapped {border: 1px dashed gray;margin: 0 0.4em 0.5em 0.4em;box-sizing: border-box;padding-bottom: 0.4em;background-color: white;}#sk-container-id-5 div.sk-label label {font-family: monospace;font-weight: bold;display: inline-block;line-height: 1.2em;}#sk-container-id-5 div.sk-label-container {text-align: center;}#sk-container-id-5 div.sk-container {/* jupyter's `normalize.less` sets `[hidden] { display: none; }` but bootstrap.min.css set `[hidden] { display: none !important; }` so we also need the `!important` here to be able to override the default hidden behavior on the sphinx rendered scikit-learn.org. See: https://github.com/scikit-learn/scikit-learn/issues/21755 */display: inline-block !important;position: relative;}#sk-container-id-5 div.sk-text-repr-fallback {display: none;}</style><div id=\"sk-container-id-5\" class=\"sk-top-container\"><div class=\"sk-text-repr-fallback\"><pre>VotingRegressor(estimators=[(&#x27;gbr&#x27;,\n",
       "                             GradientBoostingRegressor(alpha=1e-30,\n",
       "                                                       learning_rate=0.26,\n",
       "                                                       max_depth=11,\n",
       "                                                       max_features=&#x27;sqrt&#x27;,\n",
       "                                                       n_estimators=9,\n",
       "                                                       random_state=42,\n",
       "                                                       subsample=0.9400000000000001)),\n",
       "                            (&#x27;rfr&#x27;,\n",
       "                             RandomForestRegressor(max_features=&#x27;sqrt&#x27;,\n",
       "                                                   n_estimators=34,\n",
       "                                                   random_state=42)),\n",
       "                            (&#x27;bag&#x27;,\n",
       "                             BaggingRegressor(n_estimators=49, n_jobs=-1,\n",
       "                                              random_state=42)),\n",
       "                            (&#x27;ard&#x27;,\n",
       "                             ARDRe...\n",
       "                             LassoCV(cv=15, max_iter=5000, n_alphas=1000,\n",
       "                                     n_jobs=-1, random_state=42)),\n",
       "                            (&#x27;ridge&#x27;,\n",
       "                             RidgeCV(alphas=[1e-05, 0.0001, 0.001, 0.01, 0.1, 1,\n",
       "                                             10.0, 100.0],\n",
       "                                     cv=15)),\n",
       "                            (&#x27;knn&#x27;,\n",
       "                             KNeighborsRegressor(n_jobs=-1, n_neighbors=30, p=1,\n",
       "                                                 weights=&#x27;distance&#x27;)),\n",
       "                            (&#x27;huber&#x27;,\n",
       "                             HuberRegressor(alpha=0.01,\n",
       "                                            epsilon=10.891999999999783,\n",
       "                                            max_iter=1000))],\n",
       "                n_jobs=-1,\n",
       "                weights=array([5, 7, 3, 6, 2, 1, 8, 4], dtype=int64))</pre><b>In a Jupyter environment, please rerun this cell to show the HTML representation or trust the notebook. <br />On GitHub, the HTML representation is unable to render, please try loading this page with nbviewer.org.</b></div><div class=\"sk-container\" hidden><div class=\"sk-item sk-dashed-wrapped\"><div class=\"sk-label-container\"><div class=\"sk-label sk-toggleable\"><input class=\"sk-toggleable__control sk-hidden--visually\" id=\"sk-estimator-id-21\" type=\"checkbox\" ><label for=\"sk-estimator-id-21\" class=\"sk-toggleable__label sk-toggleable__label-arrow\">VotingRegressor</label><div class=\"sk-toggleable__content\"><pre>VotingRegressor(estimators=[(&#x27;gbr&#x27;,\n",
       "                             GradientBoostingRegressor(alpha=1e-30,\n",
       "                                                       learning_rate=0.26,\n",
       "                                                       max_depth=11,\n",
       "                                                       max_features=&#x27;sqrt&#x27;,\n",
       "                                                       n_estimators=9,\n",
       "                                                       random_state=42,\n",
       "                                                       subsample=0.9400000000000001)),\n",
       "                            (&#x27;rfr&#x27;,\n",
       "                             RandomForestRegressor(max_features=&#x27;sqrt&#x27;,\n",
       "                                                   n_estimators=34,\n",
       "                                                   random_state=42)),\n",
       "                            (&#x27;bag&#x27;,\n",
       "                             BaggingRegressor(n_estimators=49, n_jobs=-1,\n",
       "                                              random_state=42)),\n",
       "                            (&#x27;ard&#x27;,\n",
       "                             ARDRe...\n",
       "                             LassoCV(cv=15, max_iter=5000, n_alphas=1000,\n",
       "                                     n_jobs=-1, random_state=42)),\n",
       "                            (&#x27;ridge&#x27;,\n",
       "                             RidgeCV(alphas=[1e-05, 0.0001, 0.001, 0.01, 0.1, 1,\n",
       "                                             10.0, 100.0],\n",
       "                                     cv=15)),\n",
       "                            (&#x27;knn&#x27;,\n",
       "                             KNeighborsRegressor(n_jobs=-1, n_neighbors=30, p=1,\n",
       "                                                 weights=&#x27;distance&#x27;)),\n",
       "                            (&#x27;huber&#x27;,\n",
       "                             HuberRegressor(alpha=0.01,\n",
       "                                            epsilon=10.891999999999783,\n",
       "                                            max_iter=1000))],\n",
       "                n_jobs=-1,\n",
       "                weights=array([5, 7, 3, 6, 2, 1, 8, 4], dtype=int64))</pre></div></div></div><div class=\"sk-parallel\"><div class=\"sk-parallel-item\"><div class=\"sk-item\"><div class=\"sk-label-container\"><div class=\"sk-label sk-toggleable\"><label>gbr</label></div></div><div class=\"sk-serial\"><div class=\"sk-item\"><div class=\"sk-estimator sk-toggleable\"><input class=\"sk-toggleable__control sk-hidden--visually\" id=\"sk-estimator-id-22\" type=\"checkbox\" ><label for=\"sk-estimator-id-22\" class=\"sk-toggleable__label sk-toggleable__label-arrow\">GradientBoostingRegressor</label><div class=\"sk-toggleable__content\"><pre>GradientBoostingRegressor(alpha=1e-30, learning_rate=0.26, max_depth=11,\n",
       "                          max_features=&#x27;sqrt&#x27;, n_estimators=9, random_state=42,\n",
       "                          subsample=0.9400000000000001)</pre></div></div></div></div></div></div><div class=\"sk-parallel-item\"><div class=\"sk-item\"><div class=\"sk-label-container\"><div class=\"sk-label sk-toggleable\"><label>rfr</label></div></div><div class=\"sk-serial\"><div class=\"sk-item\"><div class=\"sk-estimator sk-toggleable\"><input class=\"sk-toggleable__control sk-hidden--visually\" id=\"sk-estimator-id-23\" type=\"checkbox\" ><label for=\"sk-estimator-id-23\" class=\"sk-toggleable__label sk-toggleable__label-arrow\">RandomForestRegressor</label><div class=\"sk-toggleable__content\"><pre>RandomForestRegressor(max_features=&#x27;sqrt&#x27;, n_estimators=34, random_state=42)</pre></div></div></div></div></div></div><div class=\"sk-parallel-item\"><div class=\"sk-item\"><div class=\"sk-label-container\"><div class=\"sk-label sk-toggleable\"><label>bag</label></div></div><div class=\"sk-serial\"><div class=\"sk-item\"><div class=\"sk-estimator sk-toggleable\"><input class=\"sk-toggleable__control sk-hidden--visually\" id=\"sk-estimator-id-24\" type=\"checkbox\" ><label for=\"sk-estimator-id-24\" class=\"sk-toggleable__label sk-toggleable__label-arrow\">BaggingRegressor</label><div class=\"sk-toggleable__content\"><pre>BaggingRegressor(n_estimators=49, n_jobs=-1, random_state=42)</pre></div></div></div></div></div></div><div class=\"sk-parallel-item\"><div class=\"sk-item\"><div class=\"sk-label-container\"><div class=\"sk-label sk-toggleable\"><label>ard</label></div></div><div class=\"sk-serial\"><div class=\"sk-item\"><div class=\"sk-estimator sk-toggleable\"><input class=\"sk-toggleable__control sk-hidden--visually\" id=\"sk-estimator-id-25\" type=\"checkbox\" ><label for=\"sk-estimator-id-25\" class=\"sk-toggleable__label sk-toggleable__label-arrow\">ARDRegression</label><div class=\"sk-toggleable__content\"><pre>ARDRegression(alpha_1=1e-50, alpha_2=1e-50, lambda_1=1e-50, lambda_2=1e-50,\n",
       "              n_iter=1000)</pre></div></div></div></div></div></div><div class=\"sk-parallel-item\"><div class=\"sk-item\"><div class=\"sk-label-container\"><div class=\"sk-label sk-toggleable\"><label>lasso</label></div></div><div class=\"sk-serial\"><div class=\"sk-item\"><div class=\"sk-estimator sk-toggleable\"><input class=\"sk-toggleable__control sk-hidden--visually\" id=\"sk-estimator-id-26\" type=\"checkbox\" ><label for=\"sk-estimator-id-26\" class=\"sk-toggleable__label sk-toggleable__label-arrow\">LassoCV</label><div class=\"sk-toggleable__content\"><pre>LassoCV(cv=15, max_iter=5000, n_alphas=1000, n_jobs=-1, random_state=42)</pre></div></div></div></div></div></div><div class=\"sk-parallel-item\"><div class=\"sk-item\"><div class=\"sk-label-container\"><div class=\"sk-label sk-toggleable\"><label>ridge</label></div></div><div class=\"sk-serial\"><div class=\"sk-item\"><div class=\"sk-estimator sk-toggleable\"><input class=\"sk-toggleable__control sk-hidden--visually\" id=\"sk-estimator-id-27\" type=\"checkbox\" ><label for=\"sk-estimator-id-27\" class=\"sk-toggleable__label sk-toggleable__label-arrow\">RidgeCV</label><div class=\"sk-toggleable__content\"><pre>RidgeCV(alphas=[1e-05, 0.0001, 0.001, 0.01, 0.1, 1, 10.0, 100.0], cv=15)</pre></div></div></div></div></div></div><div class=\"sk-parallel-item\"><div class=\"sk-item\"><div class=\"sk-label-container\"><div class=\"sk-label sk-toggleable\"><label>knn</label></div></div><div class=\"sk-serial\"><div class=\"sk-item\"><div class=\"sk-estimator sk-toggleable\"><input class=\"sk-toggleable__control sk-hidden--visually\" id=\"sk-estimator-id-28\" type=\"checkbox\" ><label for=\"sk-estimator-id-28\" class=\"sk-toggleable__label sk-toggleable__label-arrow\">KNeighborsRegressor</label><div class=\"sk-toggleable__content\"><pre>KNeighborsRegressor(n_jobs=-1, n_neighbors=30, p=1, weights=&#x27;distance&#x27;)</pre></div></div></div></div></div></div><div class=\"sk-parallel-item\"><div class=\"sk-item\"><div class=\"sk-label-container\"><div class=\"sk-label sk-toggleable\"><label>huber</label></div></div><div class=\"sk-serial\"><div class=\"sk-item\"><div class=\"sk-estimator sk-toggleable\"><input class=\"sk-toggleable__control sk-hidden--visually\" id=\"sk-estimator-id-29\" type=\"checkbox\" ><label for=\"sk-estimator-id-29\" class=\"sk-toggleable__label sk-toggleable__label-arrow\">HuberRegressor</label><div class=\"sk-toggleable__content\"><pre>HuberRegressor(alpha=0.01, epsilon=10.891999999999783, max_iter=1000)</pre></div></div></div></div></div></div></div></div></div></div>"
      ],
      "text/plain": [
       "VotingRegressor(estimators=[('gbr',\n",
       "                             GradientBoostingRegressor(alpha=1e-30,\n",
       "                                                       learning_rate=0.26,\n",
       "                                                       max_depth=11,\n",
       "                                                       max_features='sqrt',\n",
       "                                                       n_estimators=9,\n",
       "                                                       random_state=42,\n",
       "                                                       subsample=0.9400000000000001)),\n",
       "                            ('rfr',\n",
       "                             RandomForestRegressor(max_features='sqrt',\n",
       "                                                   n_estimators=34,\n",
       "                                                   random_state=42)),\n",
       "                            ('bag',\n",
       "                             BaggingRegressor(n_estimators=49, n_jobs=-1,\n",
       "                                              random_state=42)),\n",
       "                            ('ard',\n",
       "                             ARDRe...\n",
       "                             LassoCV(cv=15, max_iter=5000, n_alphas=1000,\n",
       "                                     n_jobs=-1, random_state=42)),\n",
       "                            ('ridge',\n",
       "                             RidgeCV(alphas=[1e-05, 0.0001, 0.001, 0.01, 0.1, 1,\n",
       "                                             10.0, 100.0],\n",
       "                                     cv=15)),\n",
       "                            ('knn',\n",
       "                             KNeighborsRegressor(n_jobs=-1, n_neighbors=30, p=1,\n",
       "                                                 weights='distance')),\n",
       "                            ('huber',\n",
       "                             HuberRegressor(alpha=0.01,\n",
       "                                            epsilon=10.891999999999783,\n",
       "                                            max_iter=1000))],\n",
       "                n_jobs=-1,\n",
       "                weights=array([5, 7, 3, 6, 2, 1, 8, 4], dtype=int64))"
      ]
     },
     "execution_count": 144,
     "metadata": {},
     "output_type": "execute_result"
    }
   ],
   "source": [
    "estimators = [('gbr',gbr),('rfr',rfr),('bag',bag),('ard',ard),('lasso',lasso),('ridge',ridge),\n",
    "            ('knn',knn),('huber',huber)]\n",
    "\n",
    "\n",
    "vrg = VotingRegressor(estimators,\n",
    "                     weights=scaled_weights,\n",
    "                     n_jobs=-1)\n",
    "\n",
    "vrg.fit(X_train_scaled, y_train)"
   ]
  },
  {
   "cell_type": "code",
   "execution_count": 145,
   "id": "5314795a",
   "metadata": {},
   "outputs": [
    {
     "name": "stdout",
     "output_type": "stream",
     "text": [
      "Mean: 313593.68991384096\n",
      "STD: 62866.12170222055\n",
      "Conf. Interval: (277557.6751187658, 349629.70470891614)\n"
     ]
    }
   ],
   "source": [
    "# Compute cv score for comparison\n",
    "vrg_cvs = cross_val_score(vrg,X_train_scaled,y_train,cv=15,\n",
    "                         scoring = 'neg_mean_squared_error', n_jobs=-1)\n",
    "\n",
    "vrg_score = score_info(vrg_cvs)"
   ]
  },
  {
   "cell_type": "code",
   "execution_count": 146,
   "id": "2abd2dec",
   "metadata": {
    "scrolled": true
   },
   "outputs": [
    {
     "name": "stdout",
     "output_type": "stream",
     "text": [
      "Training Score: 0.8042719235349022\n",
      "Testing Score: 0.5115366101479897\n"
     ]
    }
   ],
   "source": [
    "# Display Score on train vs. test\n",
    "print(f'Training Score: {vrg.score(X_train_scaled, y_train)}')\n",
    "print(f'Testing Score: {vrg.score(X_test_scaled, y_test)}')"
   ]
  }
 ],
 "metadata": {
  "kernelspec": {
   "display_name": "mlenv2",
   "language": "python",
   "name": "mlenv2"
  },
  "language_info": {
   "codemirror_mode": {
    "name": "ipython",
    "version": 3
   },
   "file_extension": ".py",
   "mimetype": "text/x-python",
   "name": "python",
   "nbconvert_exporter": "python",
   "pygments_lexer": "ipython3",
   "version": "3.9.15"
  }
 },
 "nbformat": 4,
 "nbformat_minor": 5
}
