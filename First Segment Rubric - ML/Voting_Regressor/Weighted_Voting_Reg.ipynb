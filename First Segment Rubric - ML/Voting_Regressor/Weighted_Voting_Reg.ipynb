{
 "cells": [
  {
   "cell_type": "markdown",
   "id": "d494763f",
   "metadata": {},
   "source": [
    "### Description\n",
    "\n",
    "#### Evaluates a number of estimators to construct the Voting Regressor meta-estimator with weights such that the mean squared error of the combined predictions of the estimators is minimized.\n",
    "\n",
    "#### version: 2.0\n",
    "\n",
    "#### TODO:\n",
    "\n",
    "\n",
    "### Done:\n",
    "- prune features\n",
    "- full db integration\n",
    "- finalize estimator selection\n",
    "- estimator comp. df\n",
    "- finalize 'fine tuning'\n",
    "- save final estimators\n",
    "- save final voting regressor\n",
    "- plot results\n",
    "- general file cleanup\n",
    "- remove unused imports"
   ]
  },
  {
   "cell_type": "code",
   "execution_count": 118,
   "id": "a084520d",
   "metadata": {},
   "outputs": [],
   "source": [
    "# Import Dependencies\n",
    "import pandas as pd\n",
    "import numpy as np\n",
    "import joblib\n",
    "\n",
    "# Plots as needed\n",
    "import matplotlib.pyplot as plt\n",
    "import seaborn as sns\n",
    "\n",
    "# Pre-processing\n",
    "from sklearn.preprocessing import RobustScaler\n",
    "\n",
    "# Data split\n",
    "from sklearn.model_selection import StratifiedShuffleSplit\n",
    "from sklearn.model_selection import train_test_split\n",
    "\n",
    "# Model\n",
    "from sklearn.ensemble import GradientBoostingRegressor\n",
    "from sklearn.ensemble import RandomForestRegressor\n",
    "from sklearn.ensemble import VotingRegressor\n",
    "from sklearn.svm import SVR\n",
    "from sklearn.linear_model import LassoCV\n",
    "from sklearn.linear_model import RidgeCV\n",
    "from sklearn.ensemble import AdaBoostRegressor\n",
    "from sklearn.linear_model import ARDRegression\n",
    "from sklearn.neighbors import KNeighborsRegressor\n",
    "from sklearn.ensemble import BaggingRegressor\n",
    "from sklearn.linear_model import HuberRegressor\n",
    "\n",
    "\n",
    "# Model Validation and Tuning\n",
    "from sklearn.model_selection import GridSearchCV\n",
    "from sklearn.model_selection import cross_val_score\n",
    "from scipy import stats\n",
    "\n",
    "# MSE minimization\n",
    "from sklearn.metrics import mean_squared_error\n",
    "from scipy import optimize\n",
    "\n",
    "# DB interface\n",
    "from sqlalchemy import create_engine\n",
    "from sqlalchemy.ext.automap import automap_base\n",
    "from config import db_password"
   ]
  },
  {
   "cell_type": "markdown",
   "id": "fabeaa4d",
   "metadata": {},
   "source": [
    "## Interface with Database and create DataFrames"
   ]
  },
  {
   "cell_type": "code",
   "execution_count": 6,
   "id": "719bd363",
   "metadata": {},
   "outputs": [],
   "source": [
    "# Construct db string\n",
    "user = 'postgres'\n",
    "host = 'housing-prices.ch2ctomvepex.us-east-1.rds.amazonaws.com'\n",
    "name = 'housing-prices'\n",
    "\n",
    "db_string = f'postgresql://{user}:{db_password}@{host}/{name}'"
   ]
  },
  {
   "cell_type": "code",
   "execution_count": 7,
   "id": "1328639c",
   "metadata": {},
   "outputs": [],
   "source": [
    "# Create Connection Engine\n",
    "\n",
    "engine = create_engine(db_string)"
   ]
  },
  {
   "cell_type": "code",
   "execution_count": 8,
   "id": "0405b20a",
   "metadata": {
    "scrolled": true
   },
   "outputs": [],
   "source": [
    "# map to Base to extract metadata\n",
    "Base = automap_base()\n",
    "Base.prepare(engine, reflect=True)"
   ]
  },
  {
   "cell_type": "code",
   "execution_count": 9,
   "id": "23fabcd9",
   "metadata": {},
   "outputs": [
    {
     "name": "stdout",
     "output_type": "stream",
     "text": [
      "['austin', 'sanfran', 'la', 'boston', 'chandler', 'pittsburgh', 'houston', 'spokane', 'chicago']\n"
     ]
    }
   ],
   "source": [
    "# List of tables corresponding to cities\n",
    "table_names = []\n",
    "city_list = ['austin','boston','sanfran','chandler','chicago','houston','la','pittsburgh','spokane']\n",
    "\n",
    "# Group by city population\n",
    "# To generalize, pop groups can be calc. based on population of known cities in groups.\n",
    "low_list = ['chandler', 'pittsburgh', 'spokane']\n",
    "mid_list = ['austin', 'boston', 'sf']\n",
    "high_list = ['chicago', 'la', 'houston']\n",
    "\n",
    "for k in Base.metadata.tables.keys():\n",
    "    if k in city_list:\n",
    "        table_names.append(k)\n",
    "\n",
    "print(table_names)"
   ]
  },
  {
   "cell_type": "code",
   "execution_count": 10,
   "id": "112f9329",
   "metadata": {},
   "outputs": [],
   "source": [
    "# Create df from comb. of all city tables\n",
    "\n",
    "def city_df(eng,city_tables,lowpop_list=[],midpop_list=[],highpop_list=[]):\n",
    "    \n",
    "    all_pop = pd.DataFrame()\n",
    "    \n",
    "    for city in city_tables:\n",
    "        \n",
    "        if city in lowpop_list:\n",
    "            \n",
    "            # Create temp city df\n",
    "            city = pd.read_sql_table(city, eng)\n",
    "            \n",
    "            # Add class col\n",
    "            city['pop_class'] = 1\n",
    "            \n",
    "            # add to all_pop\n",
    "            all_pop = pd.concat([all_pop,city])\n",
    "            \n",
    "        elif city in midpop_list:\n",
    "            \n",
    "            # Create temp city df\n",
    "            city = pd.read_sql_table(city, eng)\n",
    "            \n",
    "            # Add class col\n",
    "            city['pop_class'] = 2\n",
    "            \n",
    "            # add to all_pop\n",
    "            all_pop = pd.concat([all_pop,city])\n",
    "            \n",
    "        elif city in highpop_list:\n",
    "            \n",
    "            # Create temp city df\n",
    "            city = pd.read_sql_table(city, eng)\n",
    "            \n",
    "            # Add class col\n",
    "            city['pop_class'] = 3\n",
    "            \n",
    "            # add to all_pop\n",
    "            all_pop = pd.concat([all_pop,city])\n",
    "               \n",
    "    return all_pop"
   ]
  },
  {
   "cell_type": "code",
   "execution_count": 11,
   "id": "ed4c488a",
   "metadata": {
    "scrolled": true
   },
   "outputs": [
    {
     "data": {
      "text/html": [
       "<div>\n",
       "<style scoped>\n",
       "    .dataframe tbody tr th:only-of-type {\n",
       "        vertical-align: middle;\n",
       "    }\n",
       "\n",
       "    .dataframe tbody tr th {\n",
       "        vertical-align: top;\n",
       "    }\n",
       "\n",
       "    .dataframe thead th {\n",
       "        text-align: right;\n",
       "    }\n",
       "</style>\n",
       "<table border=\"1\" class=\"dataframe\">\n",
       "  <thead>\n",
       "    <tr style=\"text-align: right;\">\n",
       "      <th></th>\n",
       "      <th>price</th>\n",
       "      <th>bedroom</th>\n",
       "      <th>sqft</th>\n",
       "      <th>bathroom</th>\n",
       "      <th>amenity_count</th>\n",
       "      <th>cityid</th>\n",
       "      <th>pop_class</th>\n",
       "    </tr>\n",
       "  </thead>\n",
       "  <tbody>\n",
       "    <tr>\n",
       "      <th>0</th>\n",
       "      <td>1191</td>\n",
       "      <td>1</td>\n",
       "      <td>600.0</td>\n",
       "      <td>1.0</td>\n",
       "      <td>5</td>\n",
       "      <td>1</td>\n",
       "      <td>2</td>\n",
       "    </tr>\n",
       "    <tr>\n",
       "      <th>1</th>\n",
       "      <td>1425</td>\n",
       "      <td>1</td>\n",
       "      <td>526.0</td>\n",
       "      <td>1.0</td>\n",
       "      <td>5</td>\n",
       "      <td>1</td>\n",
       "      <td>2</td>\n",
       "    </tr>\n",
       "    <tr>\n",
       "      <th>2</th>\n",
       "      <td>1266</td>\n",
       "      <td>1</td>\n",
       "      <td>578.0</td>\n",
       "      <td>1.0</td>\n",
       "      <td>5</td>\n",
       "      <td>1</td>\n",
       "      <td>2</td>\n",
       "    </tr>\n",
       "    <tr>\n",
       "      <th>3</th>\n",
       "      <td>1144</td>\n",
       "      <td>1</td>\n",
       "      <td>351.0</td>\n",
       "      <td>1.0</td>\n",
       "      <td>8</td>\n",
       "      <td>1</td>\n",
       "      <td>2</td>\n",
       "    </tr>\n",
       "    <tr>\n",
       "      <th>4</th>\n",
       "      <td>1775</td>\n",
       "      <td>4</td>\n",
       "      <td>1236.0</td>\n",
       "      <td>2.0</td>\n",
       "      <td>8</td>\n",
       "      <td>1</td>\n",
       "      <td>2</td>\n",
       "    </tr>\n",
       "  </tbody>\n",
       "</table>\n",
       "</div>"
      ],
      "text/plain": [
       "   price  bedroom    sqft  bathroom  amenity_count  cityid  pop_class\n",
       "0   1191        1   600.0       1.0              5       1          2\n",
       "1   1425        1   526.0       1.0              5       1          2\n",
       "2   1266        1   578.0       1.0              5       1          2\n",
       "3   1144        1   351.0       1.0              8       1          2\n",
       "4   1775        4  1236.0       2.0              8       1          2"
      ]
     },
     "execution_count": 11,
     "metadata": {},
     "output_type": "execute_result"
    }
   ],
   "source": [
    "all_pop = city_df(eng=engine,city_tables=table_names,lowpop_list=low_list,\n",
    "                  midpop_list=mid_list,highpop_list=high_list)\n",
    "all_pop.head()"
   ]
  },
  {
   "cell_type": "code",
   "execution_count": 12,
   "id": "e808e495",
   "metadata": {},
   "outputs": [],
   "source": [
    "# Write to csv to prevent constant db calls\n",
    "all_pop.to_csv('all_pop.csv',index=False)"
   ]
  },
  {
   "cell_type": "code",
   "execution_count": 119,
   "id": "7c11b954",
   "metadata": {},
   "outputs": [],
   "source": [
    "# df from csv if needed\n",
    "all_pop = pd.read_csv('all_pop.csv')"
   ]
  },
  {
   "cell_type": "markdown",
   "id": "46c67201",
   "metadata": {},
   "source": [
    "## Examine data"
   ]
  },
  {
   "cell_type": "code",
   "execution_count": 120,
   "id": "36835e6f",
   "metadata": {},
   "outputs": [
    {
     "data": {
      "text/html": [
       "<div>\n",
       "<style scoped>\n",
       "    .dataframe tbody tr th:only-of-type {\n",
       "        vertical-align: middle;\n",
       "    }\n",
       "\n",
       "    .dataframe tbody tr th {\n",
       "        vertical-align: top;\n",
       "    }\n",
       "\n",
       "    .dataframe thead th {\n",
       "        text-align: right;\n",
       "    }\n",
       "</style>\n",
       "<table border=\"1\" class=\"dataframe\">\n",
       "  <thead>\n",
       "    <tr style=\"text-align: right;\">\n",
       "      <th></th>\n",
       "      <th>price</th>\n",
       "      <th>bedroom</th>\n",
       "      <th>sqft</th>\n",
       "      <th>bathroom</th>\n",
       "      <th>amenity_count</th>\n",
       "      <th>cityid</th>\n",
       "      <th>pop_class</th>\n",
       "    </tr>\n",
       "  </thead>\n",
       "  <tbody>\n",
       "    <tr>\n",
       "      <th>count</th>\n",
       "      <td>4481.000000</td>\n",
       "      <td>4481.000000</td>\n",
       "      <td>4481.000000</td>\n",
       "      <td>4481.000000</td>\n",
       "      <td>4481.000000</td>\n",
       "      <td>4481.000000</td>\n",
       "      <td>4481.000000</td>\n",
       "    </tr>\n",
       "    <tr>\n",
       "      <th>mean</th>\n",
       "      <td>1842.516849</td>\n",
       "      <td>1.674403</td>\n",
       "      <td>939.883731</td>\n",
       "      <td>1.462174</td>\n",
       "      <td>5.571301</td>\n",
       "      <td>5.198393</td>\n",
       "      <td>1.950904</td>\n",
       "    </tr>\n",
       "    <tr>\n",
       "      <th>std</th>\n",
       "      <td>935.202674</td>\n",
       "      <td>0.942777</td>\n",
       "      <td>494.403762</td>\n",
       "      <td>0.633749</td>\n",
       "      <td>1.864343</td>\n",
       "      <td>2.632753</td>\n",
       "      <td>0.867467</td>\n",
       "    </tr>\n",
       "    <tr>\n",
       "      <th>min</th>\n",
       "      <td>225.000000</td>\n",
       "      <td>0.000000</td>\n",
       "      <td>1.000000</td>\n",
       "      <td>0.000000</td>\n",
       "      <td>0.000000</td>\n",
       "      <td>1.000000</td>\n",
       "      <td>1.000000</td>\n",
       "    </tr>\n",
       "    <tr>\n",
       "      <th>25%</th>\n",
       "      <td>1300.000000</td>\n",
       "      <td>1.000000</td>\n",
       "      <td>680.000000</td>\n",
       "      <td>1.000000</td>\n",
       "      <td>4.000000</td>\n",
       "      <td>3.000000</td>\n",
       "      <td>1.000000</td>\n",
       "    </tr>\n",
       "    <tr>\n",
       "      <th>50%</th>\n",
       "      <td>1653.000000</td>\n",
       "      <td>2.000000</td>\n",
       "      <td>875.000000</td>\n",
       "      <td>1.000000</td>\n",
       "      <td>6.000000</td>\n",
       "      <td>5.000000</td>\n",
       "      <td>2.000000</td>\n",
       "    </tr>\n",
       "    <tr>\n",
       "      <th>75%</th>\n",
       "      <td>2201.000000</td>\n",
       "      <td>2.000000</td>\n",
       "      <td>1114.000000</td>\n",
       "      <td>2.000000</td>\n",
       "      <td>7.000000</td>\n",
       "      <td>7.000000</td>\n",
       "      <td>3.000000</td>\n",
       "    </tr>\n",
       "    <tr>\n",
       "      <th>max</th>\n",
       "      <td>20000.000000</td>\n",
       "      <td>8.000000</td>\n",
       "      <td>15492.000000</td>\n",
       "      <td>5.000000</td>\n",
       "      <td>11.000000</td>\n",
       "      <td>9.000000</td>\n",
       "      <td>3.000000</td>\n",
       "    </tr>\n",
       "  </tbody>\n",
       "</table>\n",
       "</div>"
      ],
      "text/plain": [
       "              price      bedroom          sqft     bathroom  amenity_count  \\\n",
       "count   4481.000000  4481.000000   4481.000000  4481.000000    4481.000000   \n",
       "mean    1842.516849     1.674403    939.883731     1.462174       5.571301   \n",
       "std      935.202674     0.942777    494.403762     0.633749       1.864343   \n",
       "min      225.000000     0.000000      1.000000     0.000000       0.000000   \n",
       "25%     1300.000000     1.000000    680.000000     1.000000       4.000000   \n",
       "50%     1653.000000     2.000000    875.000000     1.000000       6.000000   \n",
       "75%     2201.000000     2.000000   1114.000000     2.000000       7.000000   \n",
       "max    20000.000000     8.000000  15492.000000     5.000000      11.000000   \n",
       "\n",
       "            cityid    pop_class  \n",
       "count  4481.000000  4481.000000  \n",
       "mean      5.198393     1.950904  \n",
       "std       2.632753     0.867467  \n",
       "min       1.000000     1.000000  \n",
       "25%       3.000000     1.000000  \n",
       "50%       5.000000     2.000000  \n",
       "75%       7.000000     3.000000  \n",
       "max       9.000000     3.000000  "
      ]
     },
     "execution_count": 120,
     "metadata": {},
     "output_type": "execute_result"
    }
   ],
   "source": [
    "all_pop.describe()"
   ]
  },
  {
   "cell_type": "code",
   "execution_count": 121,
   "id": "13605563",
   "metadata": {},
   "outputs": [
    {
     "name": "stdout",
     "output_type": "stream",
     "text": [
      "<class 'pandas.core.frame.DataFrame'>\n",
      "RangeIndex: 4481 entries, 0 to 4480\n",
      "Data columns (total 7 columns):\n",
      " #   Column         Non-Null Count  Dtype  \n",
      "---  ------         --------------  -----  \n",
      " 0   price          4481 non-null   int64  \n",
      " 1   bedroom        4481 non-null   int64  \n",
      " 2   sqft           4481 non-null   float64\n",
      " 3   bathroom       4481 non-null   float64\n",
      " 4   amenity_count  4481 non-null   int64  \n",
      " 5   cityid         4481 non-null   int64  \n",
      " 6   pop_class      4481 non-null   int64  \n",
      "dtypes: float64(2), int64(5)\n",
      "memory usage: 245.2 KB\n"
     ]
    }
   ],
   "source": [
    "# Check dtypes\n",
    "all_pop.info()"
   ]
  },
  {
   "cell_type": "code",
   "execution_count": 122,
   "id": "5fa4cf51",
   "metadata": {},
   "outputs": [],
   "source": [
    "all_t = all_pop.copy()"
   ]
  },
  {
   "cell_type": "code",
   "execution_count": 123,
   "id": "2b121b16",
   "metadata": {},
   "outputs": [
    {
     "data": {
      "image/png": "[encoded data removed]",
      "text/plain": [
       "<Figure size 640x480 with 1 Axes>"
      ]
     },
     "metadata": {},
     "output_type": "display_data"
    }
   ],
   "source": [
    "# Dist of num ft 'sqft' -> appears many outside 1.5*IQR\n",
    "all_t.boxplot(column='sqft')\n",
    "plt.show()"
   ]
  },
  {
   "cell_type": "code",
   "execution_count": 124,
   "id": "c05a7a4c",
   "metadata": {},
   "outputs": [
    {
     "name": "stdout",
     "output_type": "stream",
     "text": [
      "29.0\n",
      "1765.0\n"
     ]
    }
   ],
   "source": [
    "# Calc iqr of sqft and upper/lower bounds\n",
    "sqft_iqr = all_t.sqft.quantile(.75)-all_t.sqft.quantile(.25)\n",
    "upper = 1.5*sqft_iqr + all_t.sqft.quantile(.75)\n",
    "lower =  all_t.sqft.quantile(.25) - 1.5*sqft_iqr\n",
    "print(lower)\n",
    "print(upper)"
   ]
  },
  {
   "cell_type": "code",
   "execution_count": 125,
   "id": "ebcfeed4",
   "metadata": {
    "scrolled": false
   },
   "outputs": [],
   "source": [
    "all_t.drop(all_t[all_t.sqft > upper].index, inplace=True)"
   ]
  },
  {
   "cell_type": "markdown",
   "id": "0019e22e",
   "metadata": {},
   "source": [
    "## Split Train and Test Data"
   ]
  },
  {
   "cell_type": "code",
   "execution_count": 126,
   "id": "2a2e21fa",
   "metadata": {},
   "outputs": [],
   "source": [
    "# Before examination, split so that the test set remains unobserved\n",
    "\n",
    "# Split using SSS to incorporate data from each of the 3 groups in test and train sets.\n",
    "split = StratifiedShuffleSplit(n_splits=10,test_size=0.2, random_state=42)\n",
    "\n",
    "for train_index, test_index in split.split(all_t, all_t['cityid']):\n",
    "    strat_train_set = all_t.iloc[train_index]\n",
    "    strat_test_set = all_t.iloc[test_index]"
   ]
  },
  {
   "cell_type": "code",
   "execution_count": 127,
   "id": "0097d8b0",
   "metadata": {
    "scrolled": false
   },
   "outputs": [
    {
     "data": {
      "text/html": [
       "<div>\n",
       "<style scoped>\n",
       "    .dataframe tbody tr th:only-of-type {\n",
       "        vertical-align: middle;\n",
       "    }\n",
       "\n",
       "    .dataframe tbody tr th {\n",
       "        vertical-align: top;\n",
       "    }\n",
       "\n",
       "    .dataframe thead th {\n",
       "        text-align: right;\n",
       "    }\n",
       "</style>\n",
       "<table border=\"1\" class=\"dataframe\">\n",
       "  <thead>\n",
       "    <tr style=\"text-align: right;\">\n",
       "      <th></th>\n",
       "      <th>price</th>\n",
       "      <th>bedroom</th>\n",
       "      <th>sqft</th>\n",
       "      <th>bathroom</th>\n",
       "      <th>amenity_count</th>\n",
       "      <th>cityid</th>\n",
       "      <th>pop_class</th>\n",
       "    </tr>\n",
       "  </thead>\n",
       "  <tbody>\n",
       "    <tr>\n",
       "      <th>3735</th>\n",
       "      <td>1458</td>\n",
       "      <td>2</td>\n",
       "      <td>875.0</td>\n",
       "      <td>1.0</td>\n",
       "      <td>7</td>\n",
       "      <td>9</td>\n",
       "      <td>1</td>\n",
       "    </tr>\n",
       "    <tr>\n",
       "      <th>1321</th>\n",
       "      <td>1725</td>\n",
       "      <td>2</td>\n",
       "      <td>822.0</td>\n",
       "      <td>2.0</td>\n",
       "      <td>6</td>\n",
       "      <td>3</td>\n",
       "      <td>3</td>\n",
       "    </tr>\n",
       "    <tr>\n",
       "      <th>1141</th>\n",
       "      <td>3070</td>\n",
       "      <td>1</td>\n",
       "      <td>680.0</td>\n",
       "      <td>1.0</td>\n",
       "      <td>7</td>\n",
       "      <td>3</td>\n",
       "      <td>3</td>\n",
       "    </tr>\n",
       "    <tr>\n",
       "      <th>3375</th>\n",
       "      <td>1695</td>\n",
       "      <td>4</td>\n",
       "      <td>1687.0</td>\n",
       "      <td>4.0</td>\n",
       "      <td>5</td>\n",
       "      <td>7</td>\n",
       "      <td>3</td>\n",
       "    </tr>\n",
       "    <tr>\n",
       "      <th>3631</th>\n",
       "      <td>1145</td>\n",
       "      <td>2</td>\n",
       "      <td>928.0</td>\n",
       "      <td>1.0</td>\n",
       "      <td>6</td>\n",
       "      <td>9</td>\n",
       "      <td>1</td>\n",
       "    </tr>\n",
       "  </tbody>\n",
       "</table>\n",
       "</div>"
      ],
      "text/plain": [
       "      price  bedroom    sqft  bathroom  amenity_count  cityid  pop_class\n",
       "3735   1458        2   875.0       1.0              7       9          1\n",
       "1321   1725        2   822.0       2.0              6       3          3\n",
       "1141   3070        1   680.0       1.0              7       3          3\n",
       "3375   1695        4  1687.0       4.0              5       7          3\n",
       "3631   1145        2   928.0       1.0              6       9          1"
      ]
     },
     "execution_count": 127,
     "metadata": {},
     "output_type": "execute_result"
    }
   ],
   "source": [
    "# Create a new df that is a copy of the training set to preserve it.\n",
    "all_train = strat_train_set.copy()\n",
    "\n",
    "# Repeat for test set\n",
    "all_test = strat_test_set.copy()\n",
    "\n",
    "# Show first 5 rows of training set\n",
    "all_train.head()"
   ]
  },
  {
   "cell_type": "code",
   "execution_count": 70,
   "id": "3b13db8c",
   "metadata": {},
   "outputs": [],
   "source": [
    "# Compare Train Test Split\n",
    "train_set,test_set = train_test_split(all_t, test_size=0.2, random_state=42)"
   ]
  },
  {
   "cell_type": "code",
   "execution_count": 71,
   "id": "90b151e4",
   "metadata": {
    "scrolled": true
   },
   "outputs": [
    {
     "data": {
      "text/html": [
       "<div>\n",
       "<style scoped>\n",
       "    .dataframe tbody tr th:only-of-type {\n",
       "        vertical-align: middle;\n",
       "    }\n",
       "\n",
       "    .dataframe tbody tr th {\n",
       "        vertical-align: top;\n",
       "    }\n",
       "\n",
       "    .dataframe thead th {\n",
       "        text-align: right;\n",
       "    }\n",
       "</style>\n",
       "<table border=\"1\" class=\"dataframe\">\n",
       "  <thead>\n",
       "    <tr style=\"text-align: right;\">\n",
       "      <th></th>\n",
       "      <th>Overall</th>\n",
       "      <th>Strat_City</th>\n",
       "      <th>Random</th>\n",
       "      <th>Random %Error</th>\n",
       "      <th>Strat_City %Error</th>\n",
       "    </tr>\n",
       "  </thead>\n",
       "  <tbody>\n",
       "    <tr>\n",
       "      <th>5</th>\n",
       "      <td>0.162541</td>\n",
       "      <td>0.162194</td>\n",
       "      <td>0.163361</td>\n",
       "      <td>0.504299</td>\n",
       "      <td>-0.213589</td>\n",
       "    </tr>\n",
       "    <tr>\n",
       "      <th>3</th>\n",
       "      <td>0.154601</td>\n",
       "      <td>0.155193</td>\n",
       "      <td>0.166861</td>\n",
       "      <td>7.930425</td>\n",
       "      <td>0.382843</td>\n",
       "    </tr>\n",
       "    <tr>\n",
       "      <th>9</th>\n",
       "      <td>0.152032</td>\n",
       "      <td>0.151692</td>\n",
       "      <td>0.140023</td>\n",
       "      <td>-7.898628</td>\n",
       "      <td>-0.223514</td>\n",
       "    </tr>\n",
       "    <tr>\n",
       "      <th>1</th>\n",
       "      <td>0.149229</td>\n",
       "      <td>0.149358</td>\n",
       "      <td>0.162194</td>\n",
       "      <td>8.687546</td>\n",
       "      <td>0.086373</td>\n",
       "    </tr>\n",
       "    <tr>\n",
       "      <th>7</th>\n",
       "      <td>0.112331</td>\n",
       "      <td>0.112019</td>\n",
       "      <td>0.086348</td>\n",
       "      <td>-23.130778</td>\n",
       "      <td>-0.277766</td>\n",
       "    </tr>\n",
       "    <tr>\n",
       "      <th>8</th>\n",
       "      <td>0.096450</td>\n",
       "      <td>0.096849</td>\n",
       "      <td>0.091015</td>\n",
       "      <td>-5.635120</td>\n",
       "      <td>0.413911</td>\n",
       "    </tr>\n",
       "    <tr>\n",
       "      <th>4</th>\n",
       "      <td>0.091079</td>\n",
       "      <td>0.091015</td>\n",
       "      <td>0.107351</td>\n",
       "      <td>17.866140</td>\n",
       "      <td>-0.070012</td>\n",
       "    </tr>\n",
       "    <tr>\n",
       "      <th>6</th>\n",
       "      <td>0.081738</td>\n",
       "      <td>0.081680</td>\n",
       "      <td>0.082847</td>\n",
       "      <td>1.357560</td>\n",
       "      <td>-0.070012</td>\n",
       "    </tr>\n",
       "  </tbody>\n",
       "</table>\n",
       "</div>"
      ],
      "text/plain": [
       "    Overall  Strat_City    Random  Random %Error  Strat_City %Error\n",
       "5  0.162541    0.162194  0.163361       0.504299          -0.213589\n",
       "3  0.154601    0.155193  0.166861       7.930425           0.382843\n",
       "9  0.152032    0.151692  0.140023      -7.898628          -0.223514\n",
       "1  0.149229    0.149358  0.162194       8.687546           0.086373\n",
       "7  0.112331    0.112019  0.086348     -23.130778          -0.277766\n",
       "8  0.096450    0.096849  0.091015      -5.635120           0.413911\n",
       "4  0.091079    0.091015  0.107351      17.866140          -0.070012\n",
       "6  0.081738    0.081680  0.082847       1.357560          -0.070012"
      ]
     },
     "execution_count": 71,
     "metadata": {},
     "output_type": "execute_result"
    }
   ],
   "source": [
    "# df for comparison of test sets\n",
    "split_comp = pd.DataFrame()\n",
    "split_comp['Overall'] = all_t.cityid.value_counts() / len(all_t.cityid)\n",
    "split_comp['Strat_City'] = all_test.cityid.value_counts() / len(all_test.cityid)\n",
    "split_comp['Random'] = test_set.cityid.value_counts() / len(test_set.cityid)\n",
    "split_comp['Random %Error'] = ((split_comp.Random - split_comp.Overall) / split_comp.Overall)*100\n",
    "split_comp['Strat_City %Error'] = ((split_comp.Strat_City - split_comp.Overall) / split_comp.Overall)*100\n",
    "split_comp"
   ]
  },
  {
   "cell_type": "markdown",
   "id": "eb81610a",
   "metadata": {},
   "source": [
    "#### Stratified Shuffle Split demonstrates better representation of the population groupings"
   ]
  },
  {
   "cell_type": "code",
   "execution_count": 128,
   "id": "0fe58614",
   "metadata": {},
   "outputs": [],
   "source": [
    "# Drop columns not used in analysis\n",
    "all_train.drop(columns=['cityid'],axis=1,inplace=True)\n",
    "all_test.drop(columns=['cityid'],axis=1,inplace=True)"
   ]
  },
  {
   "cell_type": "markdown",
   "id": "3dc6e24d",
   "metadata": {},
   "source": [
    "### Preprocess Finalized Feature Set"
   ]
  },
  {
   "cell_type": "code",
   "execution_count": 129,
   "id": "77d8e6d0",
   "metadata": {},
   "outputs": [],
   "source": [
    "# Remove target\n",
    "\n",
    "X_train = all_train.drop(columns='price').values\n",
    "y_train = all_train.price.values\n",
    "\n",
    "X_test = all_test.drop(columns='price').values\n",
    "y_test = all_test.price.values"
   ]
  },
  {
   "cell_type": "code",
   "execution_count": 130,
   "id": "313ddb60",
   "metadata": {},
   "outputs": [],
   "source": [
    "# Scale using RobustScaler due to spread\n",
    "\n",
    "rs = RobustScaler()\n",
    "\n",
    "robust = rs.fit(X_train)\n",
    "\n",
    "X_train_scaled = robust.transform(X_train)\n",
    "\n",
    "X_test_scaled = robust.transform(X_test)"
   ]
  },
  {
   "cell_type": "markdown",
   "id": "5ee4aad1",
   "metadata": {},
   "source": [
    "## Estimator Construction"
   ]
  },
  {
   "cell_type": "code",
   "execution_count": 131,
   "id": "a4ed20c3",
   "metadata": {},
   "outputs": [],
   "source": [
    "# Create fn to out scores from cross_val_score to select estimators\n",
    "\n",
    "def score_info(scores):\n",
    "    MSE = -scores\n",
    "    confidence = 0.95\n",
    "    con_int= stats.t.interval(\n",
    "    confidence,\n",
    "    len(MSE)-1,\n",
    "    loc=MSE.mean(),\n",
    "    scale=stats.sem(MSE))\n",
    "    \n",
    "    print(f'Mean: {MSE.mean()}')\n",
    "    print(f'STD: {MSE.std()}')\n",
    "    print(f'Conf. Interval: {con_int}')\n",
    "    return [MSE.mean(), MSE.std(), con_int[0], con_int[1]]"
   ]
  },
  {
   "cell_type": "code",
   "execution_count": 132,
   "id": "b6391578",
   "metadata": {},
   "outputs": [
    {
     "name": "stdout",
     "output_type": "stream",
     "text": [
      "Mean: 375769.54378802906\n",
      "STD: 125185.79582916485\n",
      "Conf. Interval: (304010.74797744385, 447528.33959861426)\n"
     ]
    }
   ],
   "source": [
    "# Gradient Boosting Regressor\n",
    "\n",
    "gbr_cvs = cross_val_score(GradientBoostingRegressor(random_state=42),X_train_scaled,y_train,cv=15,\n",
    "                         scoring = 'neg_mean_squared_error', n_jobs=-1)\n",
    "\n",
    "gbr_score = score_info(gbr_cvs)"
   ]
  },
  {
   "cell_type": "code",
   "execution_count": 133,
   "id": "190338be",
   "metadata": {},
   "outputs": [
    {
     "name": "stdout",
     "output_type": "stream",
     "text": [
      "Mean: 327341.41506662476\n",
      "STD: 124382.33344828656\n",
      "Conf. Interval: (256043.1786393869, 398639.6514938626)\n"
     ]
    }
   ],
   "source": [
    "# Random Forest Regressor\n",
    "\n",
    "rfr_cvs = cross_val_score(RandomForestRegressor(random_state=42),X_train_scaled,y_train,cv=15,\n",
    "                         scoring = 'neg_mean_squared_error', n_jobs=-1)\n",
    "\n",
    "rfr_score =score_info(rfr_cvs)"
   ]
  },
  {
   "cell_type": "code",
   "execution_count": 134,
   "id": "f1a71bf3",
   "metadata": {},
   "outputs": [
    {
     "name": "stdout",
     "output_type": "stream",
     "text": [
      "Mean: 459008.0778922629\n",
      "STD: 135817.85092985368\n",
      "Conf. Interval: (381154.79295881925, 536861.3628257066)\n"
     ]
    }
   ],
   "source": [
    "# Lasso\n",
    "\n",
    "lasso_cvs = cross_val_score(LassoCV(),X_train_scaled,y_train,cv=15,\n",
    "                         scoring = 'neg_mean_squared_error', n_jobs=-1)\n",
    "\n",
    "lasso_score=score_info(lasso_cvs)"
   ]
  },
  {
   "cell_type": "code",
   "execution_count": 135,
   "id": "2acea00d",
   "metadata": {},
   "outputs": [
    {
     "name": "stdout",
     "output_type": "stream",
     "text": [
      "Mean: 459372.74060649436\n",
      "STD: 135449.16597576332\n",
      "Conf. Interval: (381730.79265552363, 537014.6885574651)\n"
     ]
    }
   ],
   "source": [
    "# Ridge\n",
    "\n",
    "ridge_cvs = cross_val_score(RidgeCV(),X_train_scaled,y_train,cv=15,\n",
    "                         scoring = 'neg_mean_squared_error', n_jobs=-1)\n",
    "\n",
    "ridge_score=score_info(ridge_cvs)"
   ]
  },
  {
   "cell_type": "code",
   "execution_count": 136,
   "id": "f011aa87",
   "metadata": {},
   "outputs": [
    {
     "name": "stdout",
     "output_type": "stream",
     "text": [
      "Mean: 452910.12779503467\n",
      "STD: 135158.21024050328\n",
      "Conf. Interval: (375434.96101167286, 530385.2945783965)\n"
     ]
    }
   ],
   "source": [
    "# Adaboost\n",
    "\n",
    "ada_cvs = cross_val_score(AdaBoostRegressor(random_state=42),X_train_scaled,y_train,cv=15,\n",
    "                         scoring = 'neg_mean_squared_error', n_jobs=-1)\n",
    "\n",
    "ada_score=score_info(ada_cvs)"
   ]
  },
  {
   "cell_type": "code",
   "execution_count": 137,
   "id": "a8c3b246",
   "metadata": {},
   "outputs": [
    {
     "name": "stdout",
     "output_type": "stream",
     "text": [
      "Mean: 458700.2559150482\n",
      "STD: 135575.93340368196\n",
      "Conf. Interval: (380985.6425477241, 536414.8692823723)\n"
     ]
    }
   ],
   "source": [
    "#ARDRegression\n",
    "\n",
    "ard_cvs = cross_val_score(ARDRegression(),X_train_scaled,y_train,cv=15,\n",
    "                         scoring = 'neg_mean_squared_error', n_jobs=-1)\n",
    "\n",
    "ard_score=score_info(ard_cvs)"
   ]
  },
  {
   "cell_type": "code",
   "execution_count": 138,
   "id": "856ef2c6",
   "metadata": {},
   "outputs": [
    {
     "name": "stdout",
     "output_type": "stream",
     "text": [
      "Mean: 597879.5504797599\n",
      "STD: 164470.75239257366\n",
      "Conf. Interval: (503601.89653683215, 692157.2044226876)\n"
     ]
    }
   ],
   "source": [
    "# SVM with polynomial kernel\n",
    "\n",
    "svp_cvs = cross_val_score(SVR(kernel='poly'),X_train_scaled,y_train,cv=15,\n",
    "                         scoring = 'neg_mean_squared_error', n_jobs=-1)\n",
    "\n",
    "svp_score = score_info(svp_cvs)"
   ]
  },
  {
   "cell_type": "code",
   "execution_count": 139,
   "id": "70a45fd7",
   "metadata": {},
   "outputs": [
    {
     "name": "stdout",
     "output_type": "stream",
     "text": [
      "Mean: 524676.0645014547\n",
      "STD: 145736.50093396587\n",
      "Conf. Interval: (441137.2273402404, 608214.901662669)\n"
     ]
    }
   ],
   "source": [
    "svl_cvs = cross_val_score(SVR(kernel='linear'),X_train_scaled,y_train,cv=15,\n",
    "                         scoring = 'neg_mean_squared_error', n_jobs=-1)\n",
    "\n",
    "svl_score = score_info(svl_cvs)"
   ]
  },
  {
   "cell_type": "code",
   "execution_count": 140,
   "id": "8d99dd2b",
   "metadata": {},
   "outputs": [
    {
     "name": "stdout",
     "output_type": "stream",
     "text": [
      "Mean: 611272.5115581024\n",
      "STD: 157090.11523039758\n",
      "Conf. Interval: (521225.5742996407, 701319.4488165642)\n"
     ]
    }
   ],
   "source": [
    "svr_cvs = cross_val_score(SVR(),X_train_scaled,y_train,cv=15,\n",
    "                         scoring = 'neg_mean_squared_error', n_jobs=-1)\n",
    "\n",
    "svr_score = score_info(svr_cvs)"
   ]
  },
  {
   "cell_type": "code",
   "execution_count": 141,
   "id": "d447ac45",
   "metadata": {},
   "outputs": [
    {
     "name": "stdout",
     "output_type": "stream",
     "text": [
      "Mean: 584268.2301776285\n",
      "STD: 152337.9653734048\n",
      "Conf. Interval: (496945.31243744027, 671591.1479178166)\n"
     ]
    }
   ],
   "source": [
    "svs_cvs = cross_val_score(SVR(kernel='sigmoid'),X_train_scaled,y_train,cv=15,\n",
    "                         scoring = 'neg_mean_squared_error', n_jobs=-1)\n",
    "\n",
    "svs_score = score_info(svs_cvs)"
   ]
  },
  {
   "cell_type": "code",
   "execution_count": 142,
   "id": "7f731440",
   "metadata": {},
   "outputs": [
    {
     "name": "stdout",
     "output_type": "stream",
     "text": [
      "Mean: 394820.6296240967\n",
      "STD: 141117.04288712866\n",
      "Conf. Interval: (313929.7506001692, 475711.5086480242)\n"
     ]
    }
   ],
   "source": [
    "# K nearest regression\n",
    "\n",
    "knn_cvs = cross_val_score(KNeighborsRegressor(),X_train_scaled,y_train,cv=15,\n",
    "                         scoring = 'neg_mean_squared_error', n_jobs=-1)\n",
    "\n",
    "knn_score = score_info(knn_cvs)"
   ]
  },
  {
   "cell_type": "code",
   "execution_count": 143,
   "id": "cb86ec26",
   "metadata": {},
   "outputs": [
    {
     "name": "stdout",
     "output_type": "stream",
     "text": [
      "Mean: 344977.9093850372\n",
      "STD: 119315.95671784497\n",
      "Conf. Interval: (276583.81308720657, 413372.00568286784)\n"
     ]
    }
   ],
   "source": [
    "bag_cvs = cross_val_score(BaggingRegressor(random_state=42),X_train_scaled,y_train,cv=15,\n",
    "                         scoring = 'neg_mean_squared_error', n_jobs=-1)\n",
    "\n",
    "bag_score= score_info(bag_cvs)"
   ]
  },
  {
   "cell_type": "code",
   "execution_count": 144,
   "id": "ff9edf46",
   "metadata": {},
   "outputs": [
    {
     "name": "stdout",
     "output_type": "stream",
     "text": [
      "Mean: 465092.1729987663\n",
      "STD: 136563.8052353258\n",
      "Conf. Interval: (386811.29336629267, 543373.0526312399)\n"
     ]
    }
   ],
   "source": [
    "hbr_cvs = cross_val_score(HuberRegressor(),X_train_scaled,y_train,cv=15,\n",
    "                         scoring = 'neg_mean_squared_error', n_jobs=-1)\n",
    "\n",
    "huber_score = score_info(hbr_cvs)"
   ]
  },
  {
   "cell_type": "code",
   "execution_count": 145,
   "id": "116def58",
   "metadata": {
    "scrolled": true
   },
   "outputs": [],
   "source": [
    "mod_type = ['Tree','Tree','Lin','Lin','Tree','Lin','Poly','Lin',\n",
    "                       'RBF','Logistic','Cluster','Tree','Lin']\n",
    "est_pre = pd.DataFrame([gbr_score,rfr_score,lasso_score,ridge_score,\n",
    "                       ada_score,ard_score,svp_score,svl_score,\n",
    "                        svr_score,svs_score,knn_score,bag_score,huber_score],\n",
    "                       columns=['Mean MSE','Stdev MSE','CI Low','CI High'],\n",
    "                       index=['GBR','RFR','Lasso','Ridge','AdaB','ARD','SVR(Poly)',\n",
    "                              'SVR(rbf)','SVR(linear)','SVR(sigmoid)','Knearest',\n",
    "                             'Bagging(tree)','Huber'])\n",
    "est_pre['Model_Type'] = mod_type"
   ]
  },
  {
   "cell_type": "code",
   "execution_count": 46,
   "id": "3130754f",
   "metadata": {},
   "outputs": [
    {
     "data": {
      "text/html": [
       "<div>\n",
       "<style scoped>\n",
       "    .dataframe tbody tr th:only-of-type {\n",
       "        vertical-align: middle;\n",
       "    }\n",
       "\n",
       "    .dataframe tbody tr th {\n",
       "        vertical-align: top;\n",
       "    }\n",
       "\n",
       "    .dataframe thead th {\n",
       "        text-align: right;\n",
       "    }\n",
       "</style>\n",
       "<table border=\"1\" class=\"dataframe\">\n",
       "  <thead>\n",
       "    <tr style=\"text-align: right;\">\n",
       "      <th></th>\n",
       "      <th>Mean MSE</th>\n",
       "      <th>Stdev MSE</th>\n",
       "      <th>CI Low</th>\n",
       "      <th>CI High</th>\n",
       "      <th>Model_Type</th>\n",
       "    </tr>\n",
       "  </thead>\n",
       "  <tbody>\n",
       "    <tr>\n",
       "      <th>RFR</th>\n",
       "      <td>326005.263886</td>\n",
       "      <td>72901.130050</td>\n",
       "      <td>284216.998125</td>\n",
       "      <td>367793.529647</td>\n",
       "      <td>Tree</td>\n",
       "    </tr>\n",
       "    <tr>\n",
       "      <th>Bagging(tree)</th>\n",
       "      <td>344931.802745</td>\n",
       "      <td>79618.698221</td>\n",
       "      <td>299292.903615</td>\n",
       "      <td>390570.701875</td>\n",
       "      <td>Tree</td>\n",
       "    </tr>\n",
       "    <tr>\n",
       "      <th>GBR</th>\n",
       "      <td>355769.360001</td>\n",
       "      <td>52978.999002</td>\n",
       "      <td>325400.825404</td>\n",
       "      <td>386137.894597</td>\n",
       "      <td>Tree</td>\n",
       "    </tr>\n",
       "    <tr>\n",
       "      <th>Knearest</th>\n",
       "      <td>373307.631419</td>\n",
       "      <td>68298.931653</td>\n",
       "      <td>334157.430247</td>\n",
       "      <td>412457.832591</td>\n",
       "      <td>Cluster</td>\n",
       "    </tr>\n",
       "    <tr>\n",
       "      <th>ARD</th>\n",
       "      <td>445986.230549</td>\n",
       "      <td>70177.433606</td>\n",
       "      <td>405759.237580</td>\n",
       "      <td>486213.223518</td>\n",
       "      <td>Lin</td>\n",
       "    </tr>\n",
       "    <tr>\n",
       "      <th>Lasso</th>\n",
       "      <td>446691.076829</td>\n",
       "      <td>69964.754770</td>\n",
       "      <td>406585.995273</td>\n",
       "      <td>486796.158386</td>\n",
       "      <td>Lin</td>\n",
       "    </tr>\n",
       "    <tr>\n",
       "      <th>Ridge</th>\n",
       "      <td>447200.476119</td>\n",
       "      <td>70046.352475</td>\n",
       "      <td>407048.621260</td>\n",
       "      <td>487352.330978</td>\n",
       "      <td>Lin</td>\n",
       "    </tr>\n",
       "    <tr>\n",
       "      <th>Huber</th>\n",
       "      <td>453606.952198</td>\n",
       "      <td>73403.135812</td>\n",
       "      <td>411530.927521</td>\n",
       "      <td>495682.976876</td>\n",
       "      <td>Lin</td>\n",
       "    </tr>\n",
       "    <tr>\n",
       "      <th>AdaB</th>\n",
       "      <td>507996.308963</td>\n",
       "      <td>72769.345784</td>\n",
       "      <td>466283.584362</td>\n",
       "      <td>549709.033564</td>\n",
       "      <td>Tree</td>\n",
       "    </tr>\n",
       "    <tr>\n",
       "      <th>SVR(rbf)</th>\n",
       "      <td>523632.538341</td>\n",
       "      <td>76202.801618</td>\n",
       "      <td>479951.693839</td>\n",
       "      <td>567313.382843</td>\n",
       "      <td>Lin</td>\n",
       "    </tr>\n",
       "    <tr>\n",
       "      <th>SVR(sigmoid)</th>\n",
       "      <td>575688.960606</td>\n",
       "      <td>81212.262098</td>\n",
       "      <td>529136.601414</td>\n",
       "      <td>622241.319799</td>\n",
       "      <td>Logistic</td>\n",
       "    </tr>\n",
       "    <tr>\n",
       "      <th>SVR(Poly)</th>\n",
       "      <td>586707.495326</td>\n",
       "      <td>77625.732226</td>\n",
       "      <td>542211.000883</td>\n",
       "      <td>631203.989769</td>\n",
       "      <td>Poly</td>\n",
       "    </tr>\n",
       "    <tr>\n",
       "      <th>SVR(linear)</th>\n",
       "      <td>603117.890539</td>\n",
       "      <td>83700.194913</td>\n",
       "      <td>555139.402594</td>\n",
       "      <td>651096.378484</td>\n",
       "      <td>RBF</td>\n",
       "    </tr>\n",
       "  </tbody>\n",
       "</table>\n",
       "</div>"
      ],
      "text/plain": [
       "                    Mean MSE     Stdev MSE         CI Low        CI High  \\\n",
       "RFR            326005.263886  72901.130050  284216.998125  367793.529647   \n",
       "Bagging(tree)  344931.802745  79618.698221  299292.903615  390570.701875   \n",
       "GBR            355769.360001  52978.999002  325400.825404  386137.894597   \n",
       "Knearest       373307.631419  68298.931653  334157.430247  412457.832591   \n",
       "ARD            445986.230549  70177.433606  405759.237580  486213.223518   \n",
       "Lasso          446691.076829  69964.754770  406585.995273  486796.158386   \n",
       "Ridge          447200.476119  70046.352475  407048.621260  487352.330978   \n",
       "Huber          453606.952198  73403.135812  411530.927521  495682.976876   \n",
       "AdaB           507996.308963  72769.345784  466283.584362  549709.033564   \n",
       "SVR(rbf)       523632.538341  76202.801618  479951.693839  567313.382843   \n",
       "SVR(sigmoid)   575688.960606  81212.262098  529136.601414  622241.319799   \n",
       "SVR(Poly)      586707.495326  77625.732226  542211.000883  631203.989769   \n",
       "SVR(linear)    603117.890539  83700.194913  555139.402594  651096.378484   \n",
       "\n",
       "              Model_Type  \n",
       "RFR                 Tree  \n",
       "Bagging(tree)       Tree  \n",
       "GBR                 Tree  \n",
       "Knearest         Cluster  \n",
       "ARD                  Lin  \n",
       "Lasso                Lin  \n",
       "Ridge                Lin  \n",
       "Huber                Lin  \n",
       "AdaB                Tree  \n",
       "SVR(rbf)             Lin  \n",
       "SVR(sigmoid)    Logistic  \n",
       "SVR(Poly)           Poly  \n",
       "SVR(linear)          RBF  "
      ]
     },
     "execution_count": 46,
     "metadata": {},
     "output_type": "execute_result"
    }
   ],
   "source": [
    "est_pre.sort_values(by=['Mean MSE','Stdev MSE'])"
   ]
  },
  {
   "cell_type": "markdown",
   "id": "0be7db44",
   "metadata": {},
   "source": [
    "#### Best 8 Models by MSE\n",
    "- RFR (Tree)\n",
    "- Bagging (Tree)\n",
    "- GBR (Tree)\n",
    "- Knearest (cluster)\n",
    "- ARD (lin)\n",
    "- Lasso (lin)\n",
    "- Ridge (lin)\n",
    "- Huber (lin)\n",
    "\n",
    "#### Not significant variation in model type as desired"
   ]
  },
  {
   "cell_type": "markdown",
   "id": "b126242a",
   "metadata": {},
   "source": [
    "## Estimator Tuning"
   ]
  },
  {
   "cell_type": "code",
   "execution_count": 146,
   "id": "d64b5c68",
   "metadata": {},
   "outputs": [],
   "source": [
    "def mod_imp(model):\n",
    "    scores = cross_val_score(model,X_train_scaled,y_train,cv=15,\n",
    "                         scoring = 'neg_mean_squared_error', n_jobs=-1)\n",
    "    \n",
    "    MSE = -scores\n",
    "    confidence = 0.95\n",
    "    con_int= stats.t.interval(\n",
    "    confidence,\n",
    "    len(MSE)-1,\n",
    "    loc=MSE.mean(),\n",
    "    scale=stats.sem(MSE))\n",
    "    \n",
    "    print(f'Mean: {MSE.mean()}')\n",
    "    print(f'STD: {MSE.std()}')\n",
    "    print(f'Conf. Interval: {con_int}')\n",
    "    return [MSE.mean(), MSE.std(), con_int[0], con_int[1]]"
   ]
  },
  {
   "cell_type": "code",
   "execution_count": 147,
   "id": "eeb3b221",
   "metadata": {
    "scrolled": true
   },
   "outputs": [
    {
     "name": "stdout",
     "output_type": "stream",
     "text": [
      "Fitting 15 folds for each of 2400 candidates, totalling 36000 fits\n",
      "Mean: 323050.4373317312\n",
      "STD: 129102.695047085\n",
      "Conf. Interval: (249046.40299925377, 397054.4716642086)\n"
     ]
    }
   ],
   "source": [
    "# GBR\n",
    "\n",
    "model = GradientBoostingRegressor()\n",
    "\n",
    "\n",
    "mod_params = {\n",
    "    'learning_rate': np.arange(.25,.35,.01),\n",
    "    'n_estimators': np.arange(8,14),\n",
    "    'subsample': np.arange(.93,.97,.005),\n",
    "    'max_depth': np.arange(7,12),\n",
    "    'random_state': [42],\n",
    "    'max_features': ['sqrt'],\n",
    "    'alpha': [1e-30]\n",
    "}\n",
    "\n",
    "\n",
    "    \n",
    "model_cv = GridSearchCV(model,mod_params,n_jobs=-1, cv=15, verbose = 1,\n",
    "                                 scoring='neg_mean_squared_error')\n",
    "model_cv.fit(X_train_scaled,y_train)\n",
    "    \n",
    "gbr = model_cv.best_estimator_\n",
    "\n",
    "gbr_imp = mod_imp(gbr)"
   ]
  },
  {
   "cell_type": "code",
   "execution_count": 56,
   "id": "17e1b987",
   "metadata": {
    "scrolled": true
   },
   "outputs": [
    {
     "data": {
      "text/plain": [
       "['mod_params/gbr.pkl']"
      ]
     },
     "execution_count": 56,
     "metadata": {},
     "output_type": "execute_result"
    }
   ],
   "source": [
    "# Save Tuned Model\n",
    "joblib.dump(gbr,'mod_params/gbr.pkl')"
   ]
  },
  {
   "cell_type": "code",
   "execution_count": 148,
   "id": "dc709341",
   "metadata": {},
   "outputs": [
    {
     "name": "stdout",
     "output_type": "stream",
     "text": [
      "Fitting 15 folds for each of 20 candidates, totalling 300 fits\n",
      "Mean: 321591.1757126402\n",
      "STD: 129681.56619692956\n",
      "Conf. Interval: (247255.3218125577, 395927.02961272275)\n"
     ]
    }
   ],
   "source": [
    "# RFR\n",
    "\n",
    "model = RandomForestRegressor()\n",
    "\n",
    "\n",
    "mod_params = {\n",
    "    'n_estimators': np.arange(20,40),\n",
    "    'random_state': [42],\n",
    "    'max_features': ['sqrt']\n",
    "}\n",
    "\n",
    "    \n",
    "model_cv = GridSearchCV(model,mod_params,n_jobs=-1, cv=15, verbose = 1,\n",
    "                                 scoring='neg_mean_squared_error')\n",
    "model_cv.fit(X_train_scaled,y_train)\n",
    "    \n",
    "rfr = model_cv.best_estimator_\n",
    "\n",
    "rfr_imp = mod_imp(rfr)"
   ]
  },
  {
   "cell_type": "code",
   "execution_count": 60,
   "id": "9cd3396f",
   "metadata": {
    "scrolled": true
   },
   "outputs": [
    {
     "data": {
      "text/plain": [
       "['mod_params/rfr.pkl']"
      ]
     },
     "execution_count": 60,
     "metadata": {},
     "output_type": "execute_result"
    }
   ],
   "source": [
    "joblib.dump(rfr,'mod_params/rfr.pkl')"
   ]
  },
  {
   "cell_type": "code",
   "execution_count": 149,
   "id": "1cd81d48",
   "metadata": {},
   "outputs": [
    {
     "name": "stdout",
     "output_type": "stream",
     "text": [
      "Fitting 15 folds for each of 49 candidates, totalling 735 fits\n",
      "Mean: 327956.8830793768\n",
      "STD: 124394.34015688118\n",
      "Conf. Interval: (256651.76418640325, 399262.0019723504)\n"
     ]
    }
   ],
   "source": [
    "# Bagging\n",
    "\n",
    "model = BaggingRegressor(random_state=42,n_jobs=-1)\n",
    "\n",
    "\n",
    "mod_params = {\n",
    "    'n_estimators': np.arange(1,50)\n",
    "}\n",
    "\n",
    "    \n",
    "model_cv = GridSearchCV(model,mod_params,n_jobs=-1, cv=15, verbose = 1,\n",
    "                                 scoring='neg_mean_squared_error')\n",
    "model_cv.fit(X_train_scaled,y_train)\n",
    "    \n",
    "bag = model_cv.best_estimator_\n",
    "\n",
    "bag_imp = mod_imp(bag)"
   ]
  },
  {
   "cell_type": "code",
   "execution_count": 63,
   "id": "b67595a7",
   "metadata": {},
   "outputs": [
    {
     "data": {
      "text/plain": [
       "['mod_params/bag.pkl']"
      ]
     },
     "execution_count": 63,
     "metadata": {},
     "output_type": "execute_result"
    }
   ],
   "source": [
    "joblib.dump(bag,'mod_params/bag.pkl')"
   ]
  },
  {
   "cell_type": "code",
   "execution_count": 150,
   "id": "fb2c23cb",
   "metadata": {
    "scrolled": true
   },
   "outputs": [
    {
     "name": "stdout",
     "output_type": "stream",
     "text": [
      "Fitting 15 folds for each of 2 candidates, totalling 30 fits\n",
      "Mean: 458700.23196134076\n",
      "STD: 135575.93661065368\n",
      "Conf. Interval: (380985.6167557216, 536414.8471669599)\n"
     ]
    }
   ],
   "source": [
    "# ARD\n",
    "\n",
    "model = ARDRegression(n_iter=1000)\n",
    "\n",
    "\n",
    "mod_params = {\n",
    "    'alpha_1': [1e-50,1e-25],\n",
    "    'alpha_2': [1e-50],\n",
    "    'lambda_1': [1e-50],\n",
    "    'lambda_2': [1e-50]\n",
    "}\n",
    "\n",
    "\n",
    "model_cv = GridSearchCV(model,mod_params,n_jobs=-1, cv=15, verbose = 1,\n",
    "                                 scoring='neg_mean_squared_error')\n",
    "model_cv.fit(X_train_scaled,y_train)\n",
    "    \n",
    "ard = model_cv.best_estimator_\n",
    "\n",
    "ard_imp = mod_imp(ard)"
   ]
  },
  {
   "cell_type": "code",
   "execution_count": 91,
   "id": "96eb6122",
   "metadata": {},
   "outputs": [
    {
     "data": {
      "text/plain": [
       "['mod_params/ard.pkl']"
      ]
     },
     "execution_count": 91,
     "metadata": {},
     "output_type": "execute_result"
    }
   ],
   "source": [
    "joblib.dump(ard,'mod_params/ard.pkl')"
   ]
  },
  {
   "cell_type": "code",
   "execution_count": 151,
   "id": "14afe7bb",
   "metadata": {},
   "outputs": [
    {
     "name": "stdout",
     "output_type": "stream",
     "text": [
      "Mean: 459083.15853745904\n",
      "STD: 135743.54517091202\n",
      "Conf. Interval: (381272.46702883753, 536893.8500460805)\n"
     ]
    }
   ],
   "source": [
    "lasso = LassoCV(n_alphas=1000,max_iter=5000, cv=15,n_jobs=-1,\n",
    "               random_state=42)\n",
    "lasso_imp = mod_imp(lasso)"
   ]
  },
  {
   "cell_type": "code",
   "execution_count": 95,
   "id": "a22daadb",
   "metadata": {},
   "outputs": [
    {
     "data": {
      "text/plain": [
       "['mod_params/lasso.pkl']"
      ]
     },
     "execution_count": 95,
     "metadata": {},
     "output_type": "execute_result"
    }
   ],
   "source": [
    "joblib.dump(lasso,'mod_params/lasso.pkl')"
   ]
  },
  {
   "cell_type": "code",
   "execution_count": 152,
   "id": "20d849be",
   "metadata": {},
   "outputs": [
    {
     "name": "stdout",
     "output_type": "stream",
     "text": [
      "Mean: 459201.23091414286\n",
      "STD: 135604.9043925962\n",
      "Conf. Interval: (381470.010844244, 536932.4509840417)\n"
     ]
    }
   ],
   "source": [
    "ridge = RidgeCV(alphas=[1e-5,1e-4,1e-3,1e-2,1e-1,1,1e1,1e2],cv=15)\n",
    "ridge_imp = mod_imp(ridge)"
   ]
  },
  {
   "cell_type": "code",
   "execution_count": 97,
   "id": "95db6934",
   "metadata": {},
   "outputs": [
    {
     "data": {
      "text/plain": [
       "['mod_params/ridge.pkl']"
      ]
     },
     "execution_count": 97,
     "metadata": {},
     "output_type": "execute_result"
    }
   ],
   "source": [
    "joblib.dump(ridge,'mod_params/ridge.pkl')"
   ]
  },
  {
   "cell_type": "code",
   "execution_count": 153,
   "id": "86762a61",
   "metadata": {
    "scrolled": true
   },
   "outputs": [
    {
     "name": "stdout",
     "output_type": "stream",
     "text": [
      "Fitting 15 folds for each of 30 candidates, totalling 450 fits\n",
      "Mean: 325931.5689213379\n",
      "STD: 139751.9397358711\n",
      "Conf. Interval: (245823.19207860954, 406039.94576406624)\n"
     ]
    }
   ],
   "source": [
    "# KNN\n",
    "\n",
    "model = KNeighborsRegressor(n_jobs=-1)\n",
    "\n",
    "\n",
    "mod_params = {\n",
    "    'n_neighbors': np.arange(10,40,1),\n",
    "    'weights': ['distance'],\n",
    "    'p': [1]\n",
    "    \n",
    "}\n",
    "\n",
    "\n",
    "model_cv = GridSearchCV(model,mod_params,n_jobs=-1, cv=15, verbose = 1,\n",
    "                                 scoring='neg_mean_squared_error')\n",
    "model_cv.fit(X_train_scaled,y_train)\n",
    "    \n",
    "knn = model_cv.best_estimator_\n",
    "\n",
    "knn_imp = mod_imp(knn)"
   ]
  },
  {
   "cell_type": "code",
   "execution_count": 102,
   "id": "4c1f5522",
   "metadata": {},
   "outputs": [
    {
     "data": {
      "text/plain": [
       "['mod_params/knn.pkl']"
      ]
     },
     "execution_count": 102,
     "metadata": {},
     "output_type": "execute_result"
    }
   ],
   "source": [
    "joblib.dump(knn,'mod_params/knn.pkl')"
   ]
  },
  {
   "cell_type": "code",
   "execution_count": 154,
   "id": "84da8602",
   "metadata": {},
   "outputs": [
    {
     "name": "stdout",
     "output_type": "stream",
     "text": [
      "Fitting 15 folds for each of 1000 candidates, totalling 15000 fits\n",
      "Mean: 459197.7340513194\n",
      "STD: 135577.7047414754\n",
      "Conf. Interval: (381482.10532066127, 536913.3627819775)\n"
     ]
    }
   ],
   "source": [
    "# Huber\n",
    "\n",
    "model = HuberRegressor(max_iter=1000)\n",
    "\n",
    "\n",
    "mod_params = {\n",
    "    'epsilon': np.arange(10.5,11.5,.001),\n",
    "    'alpha': [.01]\n",
    "    \n",
    "}\n",
    "\n",
    "\n",
    "model_cv = GridSearchCV(model,mod_params,n_jobs=-1, cv=15, verbose = 1,\n",
    "                                 scoring='neg_mean_squared_error')\n",
    "model_cv.fit(X_train_scaled,y_train)\n",
    "    \n",
    "huber = model_cv.best_estimator_\n",
    "\n",
    "huber_imp = mod_imp(huber)"
   ]
  },
  {
   "cell_type": "code",
   "execution_count": 111,
   "id": "07ae9495",
   "metadata": {},
   "outputs": [
    {
     "data": {
      "text/plain": [
       "['mod_params/huber.pkl']"
      ]
     },
     "execution_count": 111,
     "metadata": {},
     "output_type": "execute_result"
    }
   ],
   "source": [
    "joblib.dump(huber,'mod_params/huber.pkl')"
   ]
  },
  {
   "cell_type": "code",
   "execution_count": 155,
   "id": "e3c21fec",
   "metadata": {},
   "outputs": [
    {
     "data": {
      "text/html": [
       "<div>\n",
       "<style scoped>\n",
       "    .dataframe tbody tr th:only-of-type {\n",
       "        vertical-align: middle;\n",
       "    }\n",
       "\n",
       "    .dataframe tbody tr th {\n",
       "        vertical-align: top;\n",
       "    }\n",
       "\n",
       "    .dataframe thead th {\n",
       "        text-align: right;\n",
       "    }\n",
       "</style>\n",
       "<table border=\"1\" class=\"dataframe\">\n",
       "  <thead>\n",
       "    <tr style=\"text-align: right;\">\n",
       "      <th></th>\n",
       "      <th>Mean MSE</th>\n",
       "      <th>Stdev MSE</th>\n",
       "      <th>CI Low</th>\n",
       "      <th>CI High</th>\n",
       "    </tr>\n",
       "  </thead>\n",
       "  <tbody>\n",
       "    <tr>\n",
       "      <th>GBR</th>\n",
       "      <td>323050.437332</td>\n",
       "      <td>129102.695047</td>\n",
       "      <td>249046.402999</td>\n",
       "      <td>397054.471664</td>\n",
       "    </tr>\n",
       "    <tr>\n",
       "      <th>RFR</th>\n",
       "      <td>321591.175713</td>\n",
       "      <td>129681.566197</td>\n",
       "      <td>247255.321813</td>\n",
       "      <td>395927.029613</td>\n",
       "    </tr>\n",
       "    <tr>\n",
       "      <th>Bagging(tree)</th>\n",
       "      <td>327956.883079</td>\n",
       "      <td>124394.340157</td>\n",
       "      <td>256651.764186</td>\n",
       "      <td>399262.001972</td>\n",
       "    </tr>\n",
       "    <tr>\n",
       "      <th>ARD</th>\n",
       "      <td>458700.231961</td>\n",
       "      <td>135575.936611</td>\n",
       "      <td>380985.616756</td>\n",
       "      <td>536414.847167</td>\n",
       "    </tr>\n",
       "    <tr>\n",
       "      <th>Lasso</th>\n",
       "      <td>459083.158537</td>\n",
       "      <td>135743.545171</td>\n",
       "      <td>381272.467029</td>\n",
       "      <td>536893.850046</td>\n",
       "    </tr>\n",
       "    <tr>\n",
       "      <th>Ridge</th>\n",
       "      <td>459201.230914</td>\n",
       "      <td>135604.904393</td>\n",
       "      <td>381470.010844</td>\n",
       "      <td>536932.450984</td>\n",
       "    </tr>\n",
       "    <tr>\n",
       "      <th>Knearest</th>\n",
       "      <td>325931.568921</td>\n",
       "      <td>139751.939736</td>\n",
       "      <td>245823.192079</td>\n",
       "      <td>406039.945764</td>\n",
       "    </tr>\n",
       "    <tr>\n",
       "      <th>Huber</th>\n",
       "      <td>459197.734051</td>\n",
       "      <td>135577.704741</td>\n",
       "      <td>381482.105321</td>\n",
       "      <td>536913.362782</td>\n",
       "    </tr>\n",
       "  </tbody>\n",
       "</table>\n",
       "</div>"
      ],
      "text/plain": [
       "                    Mean MSE      Stdev MSE         CI Low        CI High\n",
       "GBR            323050.437332  129102.695047  249046.402999  397054.471664\n",
       "RFR            321591.175713  129681.566197  247255.321813  395927.029613\n",
       "Bagging(tree)  327956.883079  124394.340157  256651.764186  399262.001972\n",
       "ARD            458700.231961  135575.936611  380985.616756  536414.847167\n",
       "Lasso          459083.158537  135743.545171  381272.467029  536893.850046\n",
       "Ridge          459201.230914  135604.904393  381470.010844  536932.450984\n",
       "Knearest       325931.568921  139751.939736  245823.192079  406039.945764\n",
       "Huber          459197.734051  135577.704741  381482.105321  536913.362782"
      ]
     },
     "execution_count": 155,
     "metadata": {},
     "output_type": "execute_result"
    }
   ],
   "source": [
    "est_post = pd.DataFrame([gbr_imp,rfr_imp,bag_imp,ard_imp,lasso_imp,ridge_imp,\n",
    "                       knn_imp,huber_imp],\n",
    "                       columns=['Mean MSE','Stdev MSE','CI Low','CI High'],\n",
    "                       index=['GBR','RFR','Bagging(tree)','ARD','Lasso','Ridge',\n",
    "                              'Knearest','Huber'])\n",
    "est_post"
   ]
  },
  {
   "cell_type": "code",
   "execution_count": 34,
   "id": "2717362f",
   "metadata": {},
   "outputs": [],
   "source": [
    "# Load Models if needed\n",
    "# gbr = joblib.load('mod_params/gbr.pkl')\n",
    "# rfr = joblib.load('mod_params/rfr.pkl')\n",
    "# bag = joblib.load('mod_params/bag.pkl')\n",
    "# ard = joblib.load('mod_params/ard.pkl')\n",
    "# lasso = joblib.load('mod_params/lasso.pkl')\n",
    "# ridge = joblib.load('mod_params/ridge.pkl')\n",
    "# knn = joblib.load('mod_params/knn.pkl')\n",
    "# huber = joblib.load('mod_params/huber.pkl')"
   ]
  },
  {
   "cell_type": "code",
   "execution_count": 156,
   "id": "bbf5fc4f",
   "metadata": {},
   "outputs": [
    {
     "data": {
      "text/html": [
       "<style>#sk-container-id-5 {color: black;background-color: white;}#sk-container-id-5 pre{padding: 0;}#sk-container-id-5 div.sk-toggleable {background-color: white;}#sk-container-id-5 label.sk-toggleable__label {cursor: pointer;display: block;width: 100%;margin-bottom: 0;padding: 0.3em;box-sizing: border-box;text-align: center;}#sk-container-id-5 label.sk-toggleable__label-arrow:before {content: \"▸\";float: left;margin-right: 0.25em;color: #696969;}#sk-container-id-5 label.sk-toggleable__label-arrow:hover:before {color: black;}#sk-container-id-5 div.sk-estimator:hover label.sk-toggleable__label-arrow:before {color: black;}#sk-container-id-5 div.sk-toggleable__content {max-height: 0;max-width: 0;overflow: hidden;text-align: left;background-color: #f0f8ff;}#sk-container-id-5 div.sk-toggleable__content pre {margin: 0.2em;color: black;border-radius: 0.25em;background-color: #f0f8ff;}#sk-container-id-5 input.sk-toggleable__control:checked~div.sk-toggleable__content {max-height: 200px;max-width: 100%;overflow: auto;}#sk-container-id-5 input.sk-toggleable__control:checked~label.sk-toggleable__label-arrow:before {content: \"▾\";}#sk-container-id-5 div.sk-estimator input.sk-toggleable__control:checked~label.sk-toggleable__label {background-color: #d4ebff;}#sk-container-id-5 div.sk-label input.sk-toggleable__control:checked~label.sk-toggleable__label {background-color: #d4ebff;}#sk-container-id-5 input.sk-hidden--visually {border: 0;clip: rect(1px 1px 1px 1px);clip: rect(1px, 1px, 1px, 1px);height: 1px;margin: -1px;overflow: hidden;padding: 0;position: absolute;width: 1px;}#sk-container-id-5 div.sk-estimator {font-family: monospace;background-color: #f0f8ff;border: 1px dotted black;border-radius: 0.25em;box-sizing: border-box;margin-bottom: 0.5em;}#sk-container-id-5 div.sk-estimator:hover {background-color: #d4ebff;}#sk-container-id-5 div.sk-parallel-item::after {content: \"\";width: 100%;border-bottom: 1px solid gray;flex-grow: 1;}#sk-container-id-5 div.sk-label:hover label.sk-toggleable__label {background-color: #d4ebff;}#sk-container-id-5 div.sk-serial::before {content: \"\";position: absolute;border-left: 1px solid gray;box-sizing: border-box;top: 0;bottom: 0;left: 50%;z-index: 0;}#sk-container-id-5 div.sk-serial {display: flex;flex-direction: column;align-items: center;background-color: white;padding-right: 0.2em;padding-left: 0.2em;position: relative;}#sk-container-id-5 div.sk-item {position: relative;z-index: 1;}#sk-container-id-5 div.sk-parallel {display: flex;align-items: stretch;justify-content: center;background-color: white;position: relative;}#sk-container-id-5 div.sk-item::before, #sk-container-id-5 div.sk-parallel-item::before {content: \"\";position: absolute;border-left: 1px solid gray;box-sizing: border-box;top: 0;bottom: 0;left: 50%;z-index: -1;}#sk-container-id-5 div.sk-parallel-item {display: flex;flex-direction: column;z-index: 1;position: relative;background-color: white;}#sk-container-id-5 div.sk-parallel-item:first-child::after {align-self: flex-end;width: 50%;}#sk-container-id-5 div.sk-parallel-item:last-child::after {align-self: flex-start;width: 50%;}#sk-container-id-5 div.sk-parallel-item:only-child::after {width: 0;}#sk-container-id-5 div.sk-dashed-wrapped {border: 1px dashed gray;margin: 0 0.4em 0.5em 0.4em;box-sizing: border-box;padding-bottom: 0.4em;background-color: white;}#sk-container-id-5 div.sk-label label {font-family: monospace;font-weight: bold;display: inline-block;line-height: 1.2em;}#sk-container-id-5 div.sk-label-container {text-align: center;}#sk-container-id-5 div.sk-container {/* jupyter's `normalize.less` sets `[hidden] { display: none; }` but bootstrap.min.css set `[hidden] { display: none !important; }` so we also need the `!important` here to be able to override the default hidden behavior on the sphinx rendered scikit-learn.org. See: https://github.com/scikit-learn/scikit-learn/issues/21755 */display: inline-block !important;position: relative;}#sk-container-id-5 div.sk-text-repr-fallback {display: none;}</style><div id=\"sk-container-id-5\" class=\"sk-top-container\"><div class=\"sk-text-repr-fallback\"><pre>HuberRegressor(alpha=0.01, epsilon=11.497999999999447, max_iter=1000)</pre><b>In a Jupyter environment, please rerun this cell to show the HTML representation or trust the notebook. <br />On GitHub, the HTML representation is unable to render, please try loading this page with nbviewer.org.</b></div><div class=\"sk-container\" hidden><div class=\"sk-item\"><div class=\"sk-estimator sk-toggleable\"><input class=\"sk-toggleable__control sk-hidden--visually\" id=\"sk-estimator-id-21\" type=\"checkbox\" checked><label for=\"sk-estimator-id-21\" class=\"sk-toggleable__label sk-toggleable__label-arrow\">HuberRegressor</label><div class=\"sk-toggleable__content\"><pre>HuberRegressor(alpha=0.01, epsilon=11.497999999999447, max_iter=1000)</pre></div></div></div></div></div>"
      ],
      "text/plain": [
       "HuberRegressor(alpha=0.01, epsilon=11.497999999999447, max_iter=1000)"
      ]
     },
     "execution_count": 156,
     "metadata": {},
     "output_type": "execute_result"
    }
   ],
   "source": [
    "# Fit Estimators\n",
    "gbr.fit(X_train_scaled,y_train)\n",
    "rfr.fit(X_train_scaled,y_train)\n",
    "bag.fit(X_train_scaled,y_train)\n",
    "ard.fit(X_train_scaled,y_train)\n",
    "lasso.fit(X_train_scaled,y_train)\n",
    "ridge.fit(X_train_scaled,y_train)\n",
    "knn.fit(X_train_scaled,y_train)\n",
    "huber.fit(X_train_scaled,y_train)"
   ]
  },
  {
   "cell_type": "markdown",
   "id": "d896f6c9",
   "metadata": {},
   "source": [
    "## Weighted VotingRegressor"
   ]
  },
  {
   "cell_type": "markdown",
   "id": "83a02ec0",
   "metadata": {},
   "source": [
    "### Minimize MSE of models"
   ]
  },
  {
   "cell_type": "code",
   "execution_count": 157,
   "id": "a111467a",
   "metadata": {},
   "outputs": [],
   "source": [
    "# Specify number of estimators\n",
    "n_est = 8\n",
    "\n",
    "# Create a 'weights' array with default values of 1/n_est\n",
    "w = (1/n_est)*np.ones(n_est)"
   ]
  },
  {
   "cell_type": "code",
   "execution_count": 158,
   "id": "025b7e57",
   "metadata": {},
   "outputs": [],
   "source": [
    "# Create vector of predicted values from each estimator\n",
    "gbr_pred = gbr.predict(X_test_scaled)\n",
    "rfr_pred = rfr.predict(X_test_scaled)\n",
    "bag_pred= bag.predict(X_test_scaled)\n",
    "ard_pred = ard.predict(X_test_scaled)\n",
    "lasso_pred = lasso.predict(X_test_scaled)\n",
    "ridge_pred = ridge.predict(X_test_scaled)\n",
    "knn_pred = knn.predict(X_test_scaled)\n",
    "huber_pred = huber.predict(X_test_scaled)"
   ]
  },
  {
   "cell_type": "code",
   "execution_count": 159,
   "id": "bfe6c57a",
   "metadata": {},
   "outputs": [],
   "source": [
    "# Combine prediction vectors into prediction matrix\n",
    "mod_pred = np.column_stack((gbr_pred,rfr_pred,bag_pred,ard_pred,lasso_pred,ridge_pred,\n",
    "                            knn_pred,huber_pred))"
   ]
  },
  {
   "cell_type": "code",
   "execution_count": 160,
   "id": "fe26335f",
   "metadata": {},
   "outputs": [],
   "source": [
    "# Define Objective Function\n",
    "def obj_fun(weights=w,y_true=y_test,y_hat=mod_pred, n_estimators=n_est):\n",
    "    return (1/n_est)*np.sum((y_true - (weights@(y_hat.T)))**2)"
   ]
  },
  {
   "cell_type": "code",
   "execution_count": 161,
   "id": "974ca014",
   "metadata": {},
   "outputs": [],
   "source": [
    "# Define constraint(s)\n",
    "def constraints(weights=w):\n",
    "    return (1- np.sum(np.abs(weights)))"
   ]
  },
  {
   "cell_type": "code",
   "execution_count": 162,
   "id": "6ffca660",
   "metadata": {},
   "outputs": [
    {
     "data": {
      "text/plain": [
       "     fun: 29890242.539262038\n",
       "     jac: array([-13788671.  , -13725253.25, -13705091.25, -10966596.  ,\n",
       "       -10948698.  , -10911154.75, -14116413.75, -10904079.  ])\n",
       " message: 'Optimization terminated successfully'\n",
       "    nfev: 620\n",
       "     nit: 44\n",
       "    njev: 44\n",
       "  status: 0\n",
       " success: True\n",
       "       x: array([2.95982502e-01, 1.07835807e-01, 6.95790647e-02, 5.52349488e-02,\n",
       "       4.16686476e-02, 2.49077750e-05, 4.29670751e-01, 3.37115503e-06])"
      ]
     },
     "execution_count": 162,
     "metadata": {},
     "output_type": "execute_result"
    }
   ],
   "source": [
    "res = optimize.minimize(obj_fun, (1/n_est)*np.ones(n_est), method='SLSQP',\n",
    "                  constraints={'fun': constraints,\n",
    "                              'type': 'eq'}, options={'maxiter': 1000})\n",
    "res"
   ]
  },
  {
   "cell_type": "code",
   "execution_count": 163,
   "id": "00af3111",
   "metadata": {},
   "outputs": [],
   "source": [
    "optimal_mod_weights = res.x"
   ]
  },
  {
   "cell_type": "code",
   "execution_count": 164,
   "id": "d357e56c",
   "metadata": {},
   "outputs": [
    {
     "data": {
      "text/plain": [
       "array([7, 6, 5, 4, 3, 2, 8, 1], dtype=int64)"
      ]
     },
     "execution_count": 164,
     "metadata": {},
     "output_type": "execute_result"
    }
   ],
   "source": [
    "# Scale weights\n",
    "\n",
    "# First argsort returns array with first value is the index of the smallest value\n",
    "# in the array provided\n",
    "scaled_weights = np.argsort(optimal_mod_weights)\n",
    "\n",
    "# Second sort returns array firs value the index of the smallest value of input\n",
    "# Such that the largest value in optimal_mod_weights will have the largest index\n",
    "# The resulting array has sorted and scaled from len(array) to 0\n",
    "\n",
    "scaled_weights = np.argsort(scaled_weights)\n",
    "\n",
    "# Add 1 to prevent zero weights\n",
    "scaled_weights = scaled_weights + 1\n",
    "scaled_weights"
   ]
  },
  {
   "cell_type": "markdown",
   "id": "02838186",
   "metadata": {},
   "source": [
    "### Create VotingRegressor with new weights"
   ]
  },
  {
   "cell_type": "code",
   "execution_count": 169,
   "id": "2b5f2656",
   "metadata": {},
   "outputs": [
    {
     "data": {
      "text/html": [
       "<style>#sk-container-id-8 {color: black;background-color: white;}#sk-container-id-8 pre{padding: 0;}#sk-container-id-8 div.sk-toggleable {background-color: white;}#sk-container-id-8 label.sk-toggleable__label {cursor: pointer;display: block;width: 100%;margin-bottom: 0;padding: 0.3em;box-sizing: border-box;text-align: center;}#sk-container-id-8 label.sk-toggleable__label-arrow:before {content: \"▸\";float: left;margin-right: 0.25em;color: #696969;}#sk-container-id-8 label.sk-toggleable__label-arrow:hover:before {color: black;}#sk-container-id-8 div.sk-estimator:hover label.sk-toggleable__label-arrow:before {color: black;}#sk-container-id-8 div.sk-toggleable__content {max-height: 0;max-width: 0;overflow: hidden;text-align: left;background-color: #f0f8ff;}#sk-container-id-8 div.sk-toggleable__content pre {margin: 0.2em;color: black;border-radius: 0.25em;background-color: #f0f8ff;}#sk-container-id-8 input.sk-toggleable__control:checked~div.sk-toggleable__content {max-height: 200px;max-width: 100%;overflow: auto;}#sk-container-id-8 input.sk-toggleable__control:checked~label.sk-toggleable__label-arrow:before {content: \"▾\";}#sk-container-id-8 div.sk-estimator input.sk-toggleable__control:checked~label.sk-toggleable__label {background-color: #d4ebff;}#sk-container-id-8 div.sk-label input.sk-toggleable__control:checked~label.sk-toggleable__label {background-color: #d4ebff;}#sk-container-id-8 input.sk-hidden--visually {border: 0;clip: rect(1px 1px 1px 1px);clip: rect(1px, 1px, 1px, 1px);height: 1px;margin: -1px;overflow: hidden;padding: 0;position: absolute;width: 1px;}#sk-container-id-8 div.sk-estimator {font-family: monospace;background-color: #f0f8ff;border: 1px dotted black;border-radius: 0.25em;box-sizing: border-box;margin-bottom: 0.5em;}#sk-container-id-8 div.sk-estimator:hover {background-color: #d4ebff;}#sk-container-id-8 div.sk-parallel-item::after {content: \"\";width: 100%;border-bottom: 1px solid gray;flex-grow: 1;}#sk-container-id-8 div.sk-label:hover label.sk-toggleable__label {background-color: #d4ebff;}#sk-container-id-8 div.sk-serial::before {content: \"\";position: absolute;border-left: 1px solid gray;box-sizing: border-box;top: 0;bottom: 0;left: 50%;z-index: 0;}#sk-container-id-8 div.sk-serial {display: flex;flex-direction: column;align-items: center;background-color: white;padding-right: 0.2em;padding-left: 0.2em;position: relative;}#sk-container-id-8 div.sk-item {position: relative;z-index: 1;}#sk-container-id-8 div.sk-parallel {display: flex;align-items: stretch;justify-content: center;background-color: white;position: relative;}#sk-container-id-8 div.sk-item::before, #sk-container-id-8 div.sk-parallel-item::before {content: \"\";position: absolute;border-left: 1px solid gray;box-sizing: border-box;top: 0;bottom: 0;left: 50%;z-index: -1;}#sk-container-id-8 div.sk-parallel-item {display: flex;flex-direction: column;z-index: 1;position: relative;background-color: white;}#sk-container-id-8 div.sk-parallel-item:first-child::after {align-self: flex-end;width: 50%;}#sk-container-id-8 div.sk-parallel-item:last-child::after {align-self: flex-start;width: 50%;}#sk-container-id-8 div.sk-parallel-item:only-child::after {width: 0;}#sk-container-id-8 div.sk-dashed-wrapped {border: 1px dashed gray;margin: 0 0.4em 0.5em 0.4em;box-sizing: border-box;padding-bottom: 0.4em;background-color: white;}#sk-container-id-8 div.sk-label label {font-family: monospace;font-weight: bold;display: inline-block;line-height: 1.2em;}#sk-container-id-8 div.sk-label-container {text-align: center;}#sk-container-id-8 div.sk-container {/* jupyter's `normalize.less` sets `[hidden] { display: none; }` but bootstrap.min.css set `[hidden] { display: none !important; }` so we also need the `!important` here to be able to override the default hidden behavior on the sphinx rendered scikit-learn.org. See: https://github.com/scikit-learn/scikit-learn/issues/21755 */display: inline-block !important;position: relative;}#sk-container-id-8 div.sk-text-repr-fallback {display: none;}</style><div id=\"sk-container-id-8\" class=\"sk-top-container\"><div class=\"sk-text-repr-fallback\"><pre>VotingRegressor(estimators=[(&#x27;gbr&#x27;,\n",
       "                             GradientBoostingRegressor(alpha=1e-30,\n",
       "                                                       learning_rate=0.32000000000000006,\n",
       "                                                       max_depth=11,\n",
       "                                                       max_features=&#x27;sqrt&#x27;,\n",
       "                                                       n_estimators=10,\n",
       "                                                       random_state=42,\n",
       "                                                       subsample=0.9450000000000001)),\n",
       "                            (&#x27;rfr&#x27;,\n",
       "                             RandomForestRegressor(max_features=&#x27;sqrt&#x27;,\n",
       "                                                   n_estimators=37,\n",
       "                                                   random_state=42)),\n",
       "                            (&#x27;bag&#x27;,\n",
       "                             BaggingRegressor(n_estimators=36, n_jobs=-1,\n",
       "                                              random_state=4...\n",
       "                             LassoCV(cv=15, max_iter=5000, n_alphas=1000,\n",
       "                                     n_jobs=-1, random_state=42)),\n",
       "                            (&#x27;ridge&#x27;,\n",
       "                             RidgeCV(alphas=[1e-05, 0.0001, 0.001, 0.01, 0.1, 1,\n",
       "                                             10.0, 100.0],\n",
       "                                     cv=15)),\n",
       "                            (&#x27;knn&#x27;,\n",
       "                             KNeighborsRegressor(n_jobs=-1, n_neighbors=26, p=1,\n",
       "                                                 weights=&#x27;distance&#x27;)),\n",
       "                            (&#x27;huber&#x27;,\n",
       "                             HuberRegressor(alpha=0.01,\n",
       "                                            epsilon=11.497999999999447,\n",
       "                                            max_iter=1000))],\n",
       "                n_jobs=-1,\n",
       "                weights=array([7, 6, 5, 4, 3, 2, 8, 1], dtype=int64))</pre><b>In a Jupyter environment, please rerun this cell to show the HTML representation or trust the notebook. <br />On GitHub, the HTML representation is unable to render, please try loading this page with nbviewer.org.</b></div><div class=\"sk-container\" hidden><div class=\"sk-item sk-dashed-wrapped\"><div class=\"sk-label-container\"><div class=\"sk-label sk-toggleable\"><input class=\"sk-toggleable__control sk-hidden--visually\" id=\"sk-estimator-id-40\" type=\"checkbox\" ><label for=\"sk-estimator-id-40\" class=\"sk-toggleable__label sk-toggleable__label-arrow\">VotingRegressor</label><div class=\"sk-toggleable__content\"><pre>VotingRegressor(estimators=[(&#x27;gbr&#x27;,\n",
       "                             GradientBoostingRegressor(alpha=1e-30,\n",
       "                                                       learning_rate=0.32000000000000006,\n",
       "                                                       max_depth=11,\n",
       "                                                       max_features=&#x27;sqrt&#x27;,\n",
       "                                                       n_estimators=10,\n",
       "                                                       random_state=42,\n",
       "                                                       subsample=0.9450000000000001)),\n",
       "                            (&#x27;rfr&#x27;,\n",
       "                             RandomForestRegressor(max_features=&#x27;sqrt&#x27;,\n",
       "                                                   n_estimators=37,\n",
       "                                                   random_state=42)),\n",
       "                            (&#x27;bag&#x27;,\n",
       "                             BaggingRegressor(n_estimators=36, n_jobs=-1,\n",
       "                                              random_state=4...\n",
       "                             LassoCV(cv=15, max_iter=5000, n_alphas=1000,\n",
       "                                     n_jobs=-1, random_state=42)),\n",
       "                            (&#x27;ridge&#x27;,\n",
       "                             RidgeCV(alphas=[1e-05, 0.0001, 0.001, 0.01, 0.1, 1,\n",
       "                                             10.0, 100.0],\n",
       "                                     cv=15)),\n",
       "                            (&#x27;knn&#x27;,\n",
       "                             KNeighborsRegressor(n_jobs=-1, n_neighbors=26, p=1,\n",
       "                                                 weights=&#x27;distance&#x27;)),\n",
       "                            (&#x27;huber&#x27;,\n",
       "                             HuberRegressor(alpha=0.01,\n",
       "                                            epsilon=11.497999999999447,\n",
       "                                            max_iter=1000))],\n",
       "                n_jobs=-1,\n",
       "                weights=array([7, 6, 5, 4, 3, 2, 8, 1], dtype=int64))</pre></div></div></div><div class=\"sk-parallel\"><div class=\"sk-parallel-item\"><div class=\"sk-item\"><div class=\"sk-label-container\"><div class=\"sk-label sk-toggleable\"><label>gbr</label></div></div><div class=\"sk-serial\"><div class=\"sk-item\"><div class=\"sk-estimator sk-toggleable\"><input class=\"sk-toggleable__control sk-hidden--visually\" id=\"sk-estimator-id-41\" type=\"checkbox\" ><label for=\"sk-estimator-id-41\" class=\"sk-toggleable__label sk-toggleable__label-arrow\">GradientBoostingRegressor</label><div class=\"sk-toggleable__content\"><pre>GradientBoostingRegressor(alpha=1e-30, learning_rate=0.32000000000000006,\n",
       "                          max_depth=11, max_features=&#x27;sqrt&#x27;, n_estimators=10,\n",
       "                          random_state=42, subsample=0.9450000000000001)</pre></div></div></div></div></div></div><div class=\"sk-parallel-item\"><div class=\"sk-item\"><div class=\"sk-label-container\"><div class=\"sk-label sk-toggleable\"><label>rfr</label></div></div><div class=\"sk-serial\"><div class=\"sk-item\"><div class=\"sk-estimator sk-toggleable\"><input class=\"sk-toggleable__control sk-hidden--visually\" id=\"sk-estimator-id-42\" type=\"checkbox\" ><label for=\"sk-estimator-id-42\" class=\"sk-toggleable__label sk-toggleable__label-arrow\">RandomForestRegressor</label><div class=\"sk-toggleable__content\"><pre>RandomForestRegressor(max_features=&#x27;sqrt&#x27;, n_estimators=37, random_state=42)</pre></div></div></div></div></div></div><div class=\"sk-parallel-item\"><div class=\"sk-item\"><div class=\"sk-label-container\"><div class=\"sk-label sk-toggleable\"><label>bag</label></div></div><div class=\"sk-serial\"><div class=\"sk-item\"><div class=\"sk-estimator sk-toggleable\"><input class=\"sk-toggleable__control sk-hidden--visually\" id=\"sk-estimator-id-43\" type=\"checkbox\" ><label for=\"sk-estimator-id-43\" class=\"sk-toggleable__label sk-toggleable__label-arrow\">BaggingRegressor</label><div class=\"sk-toggleable__content\"><pre>BaggingRegressor(n_estimators=36, n_jobs=-1, random_state=42)</pre></div></div></div></div></div></div><div class=\"sk-parallel-item\"><div class=\"sk-item\"><div class=\"sk-label-container\"><div class=\"sk-label sk-toggleable\"><label>ard</label></div></div><div class=\"sk-serial\"><div class=\"sk-item\"><div class=\"sk-estimator sk-toggleable\"><input class=\"sk-toggleable__control sk-hidden--visually\" id=\"sk-estimator-id-44\" type=\"checkbox\" ><label for=\"sk-estimator-id-44\" class=\"sk-toggleable__label sk-toggleable__label-arrow\">ARDRegression</label><div class=\"sk-toggleable__content\"><pre>ARDRegression(alpha_1=1e-50, alpha_2=1e-50, lambda_1=1e-50, lambda_2=1e-50,\n",
       "              n_iter=1000)</pre></div></div></div></div></div></div><div class=\"sk-parallel-item\"><div class=\"sk-item\"><div class=\"sk-label-container\"><div class=\"sk-label sk-toggleable\"><label>lasso</label></div></div><div class=\"sk-serial\"><div class=\"sk-item\"><div class=\"sk-estimator sk-toggleable\"><input class=\"sk-toggleable__control sk-hidden--visually\" id=\"sk-estimator-id-45\" type=\"checkbox\" ><label for=\"sk-estimator-id-45\" class=\"sk-toggleable__label sk-toggleable__label-arrow\">LassoCV</label><div class=\"sk-toggleable__content\"><pre>LassoCV(cv=15, max_iter=5000, n_alphas=1000, n_jobs=-1, random_state=42)</pre></div></div></div></div></div></div><div class=\"sk-parallel-item\"><div class=\"sk-item\"><div class=\"sk-label-container\"><div class=\"sk-label sk-toggleable\"><label>ridge</label></div></div><div class=\"sk-serial\"><div class=\"sk-item\"><div class=\"sk-estimator sk-toggleable\"><input class=\"sk-toggleable__control sk-hidden--visually\" id=\"sk-estimator-id-46\" type=\"checkbox\" ><label for=\"sk-estimator-id-46\" class=\"sk-toggleable__label sk-toggleable__label-arrow\">RidgeCV</label><div class=\"sk-toggleable__content\"><pre>RidgeCV(alphas=[1e-05, 0.0001, 0.001, 0.01, 0.1, 1, 10.0, 100.0], cv=15)</pre></div></div></div></div></div></div><div class=\"sk-parallel-item\"><div class=\"sk-item\"><div class=\"sk-label-container\"><div class=\"sk-label sk-toggleable\"><label>knn</label></div></div><div class=\"sk-serial\"><div class=\"sk-item\"><div class=\"sk-estimator sk-toggleable\"><input class=\"sk-toggleable__control sk-hidden--visually\" id=\"sk-estimator-id-47\" type=\"checkbox\" ><label for=\"sk-estimator-id-47\" class=\"sk-toggleable__label sk-toggleable__label-arrow\">KNeighborsRegressor</label><div class=\"sk-toggleable__content\"><pre>KNeighborsRegressor(n_jobs=-1, n_neighbors=26, p=1, weights=&#x27;distance&#x27;)</pre></div></div></div></div></div></div><div class=\"sk-parallel-item\"><div class=\"sk-item\"><div class=\"sk-label-container\"><div class=\"sk-label sk-toggleable\"><label>huber</label></div></div><div class=\"sk-serial\"><div class=\"sk-item\"><div class=\"sk-estimator sk-toggleable\"><input class=\"sk-toggleable__control sk-hidden--visually\" id=\"sk-estimator-id-48\" type=\"checkbox\" ><label for=\"sk-estimator-id-48\" class=\"sk-toggleable__label sk-toggleable__label-arrow\">HuberRegressor</label><div class=\"sk-toggleable__content\"><pre>HuberRegressor(alpha=0.01, epsilon=11.497999999999447, max_iter=1000)</pre></div></div></div></div></div></div></div></div></div></div>"
      ],
      "text/plain": [
       "VotingRegressor(estimators=[('gbr',\n",
       "                             GradientBoostingRegressor(alpha=1e-30,\n",
       "                                                       learning_rate=0.32000000000000006,\n",
       "                                                       max_depth=11,\n",
       "                                                       max_features='sqrt',\n",
       "                                                       n_estimators=10,\n",
       "                                                       random_state=42,\n",
       "                                                       subsample=0.9450000000000001)),\n",
       "                            ('rfr',\n",
       "                             RandomForestRegressor(max_features='sqrt',\n",
       "                                                   n_estimators=37,\n",
       "                                                   random_state=42)),\n",
       "                            ('bag',\n",
       "                             BaggingRegressor(n_estimators=36, n_jobs=-1,\n",
       "                                              random_state=4...\n",
       "                             LassoCV(cv=15, max_iter=5000, n_alphas=1000,\n",
       "                                     n_jobs=-1, random_state=42)),\n",
       "                            ('ridge',\n",
       "                             RidgeCV(alphas=[1e-05, 0.0001, 0.001, 0.01, 0.1, 1,\n",
       "                                             10.0, 100.0],\n",
       "                                     cv=15)),\n",
       "                            ('knn',\n",
       "                             KNeighborsRegressor(n_jobs=-1, n_neighbors=26, p=1,\n",
       "                                                 weights='distance')),\n",
       "                            ('huber',\n",
       "                             HuberRegressor(alpha=0.01,\n",
       "                                            epsilon=11.497999999999447,\n",
       "                                            max_iter=1000))],\n",
       "                n_jobs=-1,\n",
       "                weights=array([7, 6, 5, 4, 3, 2, 8, 1], dtype=int64))"
      ]
     },
     "execution_count": 169,
     "metadata": {},
     "output_type": "execute_result"
    }
   ],
   "source": [
    "estimators = [('gbr',gbr),('rfr',rfr),('bag',bag),('ard',ard),('lasso',lasso),('ridge',ridge),\n",
    "            ('knn',knn),('huber',huber)]\n",
    "\n",
    "\n",
    "vrg = VotingRegressor(estimators,\n",
    "                     weights=scaled_weights,\n",
    "                     n_jobs=-1)\n",
    "\n",
    "vrg.fit(X_train_scaled, y_train)"
   ]
  },
  {
   "cell_type": "code",
   "execution_count": 168,
   "id": "5314795a",
   "metadata": {},
   "outputs": [
    {
     "name": "stdout",
     "output_type": "stream",
     "text": [
      "Mean: 320026.7348927679\n",
      "STD: 129592.34398011945\n",
      "Conf. Interval: (245742.02480493212, 394311.4449806037)\n"
     ]
    }
   ],
   "source": [
    "# Compute cv score for comparison\n",
    "vrg_cvs = cross_val_score(vrg,X_train_scaled,y_train,cv=15,\n",
    "                         scoring = 'neg_mean_squared_error', n_jobs=-1)\n",
    "\n",
    "vrg_score = score_info(vrg_cvs)"
   ]
  },
  {
   "cell_type": "code",
   "execution_count": 148,
   "id": "5e3a4cca",
   "metadata": {},
   "outputs": [
    {
     "data": {
      "text/plain": [
       "['mod_params/vrg.pkl']"
      ]
     },
     "execution_count": 148,
     "metadata": {},
     "output_type": "execute_result"
    }
   ],
   "source": [
    "joblib.dump(vrg,'mod_params/vrg.pkl')"
   ]
  },
  {
   "cell_type": "code",
   "execution_count": 167,
   "id": "ed7b9019",
   "metadata": {
    "scrolled": true
   },
   "outputs": [
    {
     "data": {
      "text/html": [
       "<style>#sk-container-id-7 {color: black;background-color: white;}#sk-container-id-7 pre{padding: 0;}#sk-container-id-7 div.sk-toggleable {background-color: white;}#sk-container-id-7 label.sk-toggleable__label {cursor: pointer;display: block;width: 100%;margin-bottom: 0;padding: 0.3em;box-sizing: border-box;text-align: center;}#sk-container-id-7 label.sk-toggleable__label-arrow:before {content: \"▸\";float: left;margin-right: 0.25em;color: #696969;}#sk-container-id-7 label.sk-toggleable__label-arrow:hover:before {color: black;}#sk-container-id-7 div.sk-estimator:hover label.sk-toggleable__label-arrow:before {color: black;}#sk-container-id-7 div.sk-toggleable__content {max-height: 0;max-width: 0;overflow: hidden;text-align: left;background-color: #f0f8ff;}#sk-container-id-7 div.sk-toggleable__content pre {margin: 0.2em;color: black;border-radius: 0.25em;background-color: #f0f8ff;}#sk-container-id-7 input.sk-toggleable__control:checked~div.sk-toggleable__content {max-height: 200px;max-width: 100%;overflow: auto;}#sk-container-id-7 input.sk-toggleable__control:checked~label.sk-toggleable__label-arrow:before {content: \"▾\";}#sk-container-id-7 div.sk-estimator input.sk-toggleable__control:checked~label.sk-toggleable__label {background-color: #d4ebff;}#sk-container-id-7 div.sk-label input.sk-toggleable__control:checked~label.sk-toggleable__label {background-color: #d4ebff;}#sk-container-id-7 input.sk-hidden--visually {border: 0;clip: rect(1px 1px 1px 1px);clip: rect(1px, 1px, 1px, 1px);height: 1px;margin: -1px;overflow: hidden;padding: 0;position: absolute;width: 1px;}#sk-container-id-7 div.sk-estimator {font-family: monospace;background-color: #f0f8ff;border: 1px dotted black;border-radius: 0.25em;box-sizing: border-box;margin-bottom: 0.5em;}#sk-container-id-7 div.sk-estimator:hover {background-color: #d4ebff;}#sk-container-id-7 div.sk-parallel-item::after {content: \"\";width: 100%;border-bottom: 1px solid gray;flex-grow: 1;}#sk-container-id-7 div.sk-label:hover label.sk-toggleable__label {background-color: #d4ebff;}#sk-container-id-7 div.sk-serial::before {content: \"\";position: absolute;border-left: 1px solid gray;box-sizing: border-box;top: 0;bottom: 0;left: 50%;z-index: 0;}#sk-container-id-7 div.sk-serial {display: flex;flex-direction: column;align-items: center;background-color: white;padding-right: 0.2em;padding-left: 0.2em;position: relative;}#sk-container-id-7 div.sk-item {position: relative;z-index: 1;}#sk-container-id-7 div.sk-parallel {display: flex;align-items: stretch;justify-content: center;background-color: white;position: relative;}#sk-container-id-7 div.sk-item::before, #sk-container-id-7 div.sk-parallel-item::before {content: \"\";position: absolute;border-left: 1px solid gray;box-sizing: border-box;top: 0;bottom: 0;left: 50%;z-index: -1;}#sk-container-id-7 div.sk-parallel-item {display: flex;flex-direction: column;z-index: 1;position: relative;background-color: white;}#sk-container-id-7 div.sk-parallel-item:first-child::after {align-self: flex-end;width: 50%;}#sk-container-id-7 div.sk-parallel-item:last-child::after {align-self: flex-start;width: 50%;}#sk-container-id-7 div.sk-parallel-item:only-child::after {width: 0;}#sk-container-id-7 div.sk-dashed-wrapped {border: 1px dashed gray;margin: 0 0.4em 0.5em 0.4em;box-sizing: border-box;padding-bottom: 0.4em;background-color: white;}#sk-container-id-7 div.sk-label label {font-family: monospace;font-weight: bold;display: inline-block;line-height: 1.2em;}#sk-container-id-7 div.sk-label-container {text-align: center;}#sk-container-id-7 div.sk-container {/* jupyter's `normalize.less` sets `[hidden] { display: none; }` but bootstrap.min.css set `[hidden] { display: none !important; }` so we also need the `!important` here to be able to override the default hidden behavior on the sphinx rendered scikit-learn.org. See: https://github.com/scikit-learn/scikit-learn/issues/21755 */display: inline-block !important;position: relative;}#sk-container-id-7 div.sk-text-repr-fallback {display: none;}</style><div id=\"sk-container-id-7\" class=\"sk-top-container\"><div class=\"sk-text-repr-fallback\"><pre>VotingRegressor(estimators=[(&#x27;gbr&#x27;,\n",
       "                             GradientBoostingRegressor(alpha=1e-30,\n",
       "                                                       learning_rate=0.26,\n",
       "                                                       max_depth=11,\n",
       "                                                       max_features=&#x27;sqrt&#x27;,\n",
       "                                                       n_estimators=9,\n",
       "                                                       random_state=42,\n",
       "                                                       subsample=0.9400000000000001)),\n",
       "                            (&#x27;rfr&#x27;,\n",
       "                             RandomForestRegressor(max_features=&#x27;sqrt&#x27;,\n",
       "                                                   n_estimators=34,\n",
       "                                                   random_state=42)),\n",
       "                            (&#x27;bag&#x27;,\n",
       "                             BaggingRegressor(n_estimators=49, n_jobs=-1,\n",
       "                                              random_state=42)),\n",
       "                            (&#x27;ard&#x27;,\n",
       "                             ARDRe...\n",
       "                             LassoCV(cv=15, max_iter=5000, n_alphas=1000,\n",
       "                                     n_jobs=-1, random_state=42)),\n",
       "                            (&#x27;ridge&#x27;,\n",
       "                             RidgeCV(alphas=[1e-05, 0.0001, 0.001, 0.01, 0.1, 1,\n",
       "                                             10.0, 100.0],\n",
       "                                     cv=15)),\n",
       "                            (&#x27;knn&#x27;,\n",
       "                             KNeighborsRegressor(n_jobs=-1, n_neighbors=30, p=1,\n",
       "                                                 weights=&#x27;distance&#x27;)),\n",
       "                            (&#x27;huber&#x27;,\n",
       "                             HuberRegressor(alpha=0.01,\n",
       "                                            epsilon=10.891999999999783,\n",
       "                                            max_iter=1000))],\n",
       "                n_jobs=-1,\n",
       "                weights=array([5, 7, 3, 6, 2, 1, 8, 4], dtype=int64))</pre><b>In a Jupyter environment, please rerun this cell to show the HTML representation or trust the notebook. <br />On GitHub, the HTML representation is unable to render, please try loading this page with nbviewer.org.</b></div><div class=\"sk-container\" hidden><div class=\"sk-item sk-dashed-wrapped\"><div class=\"sk-label-container\"><div class=\"sk-label sk-toggleable\"><input class=\"sk-toggleable__control sk-hidden--visually\" id=\"sk-estimator-id-31\" type=\"checkbox\" ><label for=\"sk-estimator-id-31\" class=\"sk-toggleable__label sk-toggleable__label-arrow\">VotingRegressor</label><div class=\"sk-toggleable__content\"><pre>VotingRegressor(estimators=[(&#x27;gbr&#x27;,\n",
       "                             GradientBoostingRegressor(alpha=1e-30,\n",
       "                                                       learning_rate=0.26,\n",
       "                                                       max_depth=11,\n",
       "                                                       max_features=&#x27;sqrt&#x27;,\n",
       "                                                       n_estimators=9,\n",
       "                                                       random_state=42,\n",
       "                                                       subsample=0.9400000000000001)),\n",
       "                            (&#x27;rfr&#x27;,\n",
       "                             RandomForestRegressor(max_features=&#x27;sqrt&#x27;,\n",
       "                                                   n_estimators=34,\n",
       "                                                   random_state=42)),\n",
       "                            (&#x27;bag&#x27;,\n",
       "                             BaggingRegressor(n_estimators=49, n_jobs=-1,\n",
       "                                              random_state=42)),\n",
       "                            (&#x27;ard&#x27;,\n",
       "                             ARDRe...\n",
       "                             LassoCV(cv=15, max_iter=5000, n_alphas=1000,\n",
       "                                     n_jobs=-1, random_state=42)),\n",
       "                            (&#x27;ridge&#x27;,\n",
       "                             RidgeCV(alphas=[1e-05, 0.0001, 0.001, 0.01, 0.1, 1,\n",
       "                                             10.0, 100.0],\n",
       "                                     cv=15)),\n",
       "                            (&#x27;knn&#x27;,\n",
       "                             KNeighborsRegressor(n_jobs=-1, n_neighbors=30, p=1,\n",
       "                                                 weights=&#x27;distance&#x27;)),\n",
       "                            (&#x27;huber&#x27;,\n",
       "                             HuberRegressor(alpha=0.01,\n",
       "                                            epsilon=10.891999999999783,\n",
       "                                            max_iter=1000))],\n",
       "                n_jobs=-1,\n",
       "                weights=array([5, 7, 3, 6, 2, 1, 8, 4], dtype=int64))</pre></div></div></div><div class=\"sk-parallel\"><div class=\"sk-parallel-item\"><div class=\"sk-item\"><div class=\"sk-label-container\"><div class=\"sk-label sk-toggleable\"><label>gbr</label></div></div><div class=\"sk-serial\"><div class=\"sk-item\"><div class=\"sk-estimator sk-toggleable\"><input class=\"sk-toggleable__control sk-hidden--visually\" id=\"sk-estimator-id-32\" type=\"checkbox\" ><label for=\"sk-estimator-id-32\" class=\"sk-toggleable__label sk-toggleable__label-arrow\">GradientBoostingRegressor</label><div class=\"sk-toggleable__content\"><pre>GradientBoostingRegressor(alpha=1e-30, learning_rate=0.26, max_depth=11,\n",
       "                          max_features=&#x27;sqrt&#x27;, n_estimators=9, random_state=42,\n",
       "                          subsample=0.9400000000000001)</pre></div></div></div></div></div></div><div class=\"sk-parallel-item\"><div class=\"sk-item\"><div class=\"sk-label-container\"><div class=\"sk-label sk-toggleable\"><label>rfr</label></div></div><div class=\"sk-serial\"><div class=\"sk-item\"><div class=\"sk-estimator sk-toggleable\"><input class=\"sk-toggleable__control sk-hidden--visually\" id=\"sk-estimator-id-33\" type=\"checkbox\" ><label for=\"sk-estimator-id-33\" class=\"sk-toggleable__label sk-toggleable__label-arrow\">RandomForestRegressor</label><div class=\"sk-toggleable__content\"><pre>RandomForestRegressor(max_features=&#x27;sqrt&#x27;, n_estimators=34, random_state=42)</pre></div></div></div></div></div></div><div class=\"sk-parallel-item\"><div class=\"sk-item\"><div class=\"sk-label-container\"><div class=\"sk-label sk-toggleable\"><label>bag</label></div></div><div class=\"sk-serial\"><div class=\"sk-item\"><div class=\"sk-estimator sk-toggleable\"><input class=\"sk-toggleable__control sk-hidden--visually\" id=\"sk-estimator-id-34\" type=\"checkbox\" ><label for=\"sk-estimator-id-34\" class=\"sk-toggleable__label sk-toggleable__label-arrow\">BaggingRegressor</label><div class=\"sk-toggleable__content\"><pre>BaggingRegressor(n_estimators=49, n_jobs=-1, random_state=42)</pre></div></div></div></div></div></div><div class=\"sk-parallel-item\"><div class=\"sk-item\"><div class=\"sk-label-container\"><div class=\"sk-label sk-toggleable\"><label>ard</label></div></div><div class=\"sk-serial\"><div class=\"sk-item\"><div class=\"sk-estimator sk-toggleable\"><input class=\"sk-toggleable__control sk-hidden--visually\" id=\"sk-estimator-id-35\" type=\"checkbox\" ><label for=\"sk-estimator-id-35\" class=\"sk-toggleable__label sk-toggleable__label-arrow\">ARDRegression</label><div class=\"sk-toggleable__content\"><pre>ARDRegression(alpha_1=1e-50, alpha_2=1e-50, lambda_1=1e-50, lambda_2=1e-50,\n",
       "              n_iter=1000)</pre></div></div></div></div></div></div><div class=\"sk-parallel-item\"><div class=\"sk-item\"><div class=\"sk-label-container\"><div class=\"sk-label sk-toggleable\"><label>lasso</label></div></div><div class=\"sk-serial\"><div class=\"sk-item\"><div class=\"sk-estimator sk-toggleable\"><input class=\"sk-toggleable__control sk-hidden--visually\" id=\"sk-estimator-id-36\" type=\"checkbox\" ><label for=\"sk-estimator-id-36\" class=\"sk-toggleable__label sk-toggleable__label-arrow\">LassoCV</label><div class=\"sk-toggleable__content\"><pre>LassoCV(cv=15, max_iter=5000, n_alphas=1000, n_jobs=-1, random_state=42)</pre></div></div></div></div></div></div><div class=\"sk-parallel-item\"><div class=\"sk-item\"><div class=\"sk-label-container\"><div class=\"sk-label sk-toggleable\"><label>ridge</label></div></div><div class=\"sk-serial\"><div class=\"sk-item\"><div class=\"sk-estimator sk-toggleable\"><input class=\"sk-toggleable__control sk-hidden--visually\" id=\"sk-estimator-id-37\" type=\"checkbox\" ><label for=\"sk-estimator-id-37\" class=\"sk-toggleable__label sk-toggleable__label-arrow\">RidgeCV</label><div class=\"sk-toggleable__content\"><pre>RidgeCV(alphas=[1e-05, 0.0001, 0.001, 0.01, 0.1, 1, 10.0, 100.0], cv=15)</pre></div></div></div></div></div></div><div class=\"sk-parallel-item\"><div class=\"sk-item\"><div class=\"sk-label-container\"><div class=\"sk-label sk-toggleable\"><label>knn</label></div></div><div class=\"sk-serial\"><div class=\"sk-item\"><div class=\"sk-estimator sk-toggleable\"><input class=\"sk-toggleable__control sk-hidden--visually\" id=\"sk-estimator-id-38\" type=\"checkbox\" ><label for=\"sk-estimator-id-38\" class=\"sk-toggleable__label sk-toggleable__label-arrow\">KNeighborsRegressor</label><div class=\"sk-toggleable__content\"><pre>KNeighborsRegressor(n_jobs=-1, n_neighbors=30, p=1, weights=&#x27;distance&#x27;)</pre></div></div></div></div></div></div><div class=\"sk-parallel-item\"><div class=\"sk-item\"><div class=\"sk-label-container\"><div class=\"sk-label sk-toggleable\"><label>huber</label></div></div><div class=\"sk-serial\"><div class=\"sk-item\"><div class=\"sk-estimator sk-toggleable\"><input class=\"sk-toggleable__control sk-hidden--visually\" id=\"sk-estimator-id-39\" type=\"checkbox\" ><label for=\"sk-estimator-id-39\" class=\"sk-toggleable__label sk-toggleable__label-arrow\">HuberRegressor</label><div class=\"sk-toggleable__content\"><pre>HuberRegressor(alpha=0.01, epsilon=10.891999999999783, max_iter=1000)</pre></div></div></div></div></div></div></div></div></div></div>"
      ],
      "text/plain": [
       "VotingRegressor(estimators=[('gbr',\n",
       "                             GradientBoostingRegressor(alpha=1e-30,\n",
       "                                                       learning_rate=0.26,\n",
       "                                                       max_depth=11,\n",
       "                                                       max_features='sqrt',\n",
       "                                                       n_estimators=9,\n",
       "                                                       random_state=42,\n",
       "                                                       subsample=0.9400000000000001)),\n",
       "                            ('rfr',\n",
       "                             RandomForestRegressor(max_features='sqrt',\n",
       "                                                   n_estimators=34,\n",
       "                                                   random_state=42)),\n",
       "                            ('bag',\n",
       "                             BaggingRegressor(n_estimators=49, n_jobs=-1,\n",
       "                                              random_state=42)),\n",
       "                            ('ard',\n",
       "                             ARDRe...\n",
       "                             LassoCV(cv=15, max_iter=5000, n_alphas=1000,\n",
       "                                     n_jobs=-1, random_state=42)),\n",
       "                            ('ridge',\n",
       "                             RidgeCV(alphas=[1e-05, 0.0001, 0.001, 0.01, 0.1, 1,\n",
       "                                             10.0, 100.0],\n",
       "                                     cv=15)),\n",
       "                            ('knn',\n",
       "                             KNeighborsRegressor(n_jobs=-1, n_neighbors=30, p=1,\n",
       "                                                 weights='distance')),\n",
       "                            ('huber',\n",
       "                             HuberRegressor(alpha=0.01,\n",
       "                                            epsilon=10.891999999999783,\n",
       "                                            max_iter=1000))],\n",
       "                n_jobs=-1,\n",
       "                weights=array([5, 7, 3, 6, 2, 1, 8, 4], dtype=int64))"
      ]
     },
     "execution_count": 167,
     "metadata": {},
     "output_type": "execute_result"
    }
   ],
   "source": [
    "# Load vrg\n",
    "vrg = joblib.load('mod_params/vrg.pkl')\n",
    "vrg.fit(X_train_scaled, y_train)"
   ]
  },
  {
   "cell_type": "code",
   "execution_count": 170,
   "id": "2abd2dec",
   "metadata": {
    "scrolled": false
   },
   "outputs": [
    {
     "name": "stdout",
     "output_type": "stream",
     "text": [
      "Training Score: 0.8366256204825293\n",
      "Testing Score: 0.5677792009691872\n"
     ]
    }
   ],
   "source": [
    "# Display Score on train vs. test\n",
    "print(f'Training Score: {vrg.score(X_train_scaled, y_train)}')\n",
    "print(f'Testing Score: {vrg.score(X_test_scaled, y_test)}')"
   ]
  },
  {
   "cell_type": "markdown",
   "id": "69fb5ecd",
   "metadata": {},
   "source": [
    "## Plots"
   ]
  },
  {
   "cell_type": "code",
   "execution_count": 172,
   "id": "25ae6993",
   "metadata": {},
   "outputs": [
    {
     "data": {
      "image/png": "[encoded data removed]",
      "text/plain": [
       "<Figure size 640x480 with 1 Axes>"
      ]
     },
     "metadata": {},
     "output_type": "display_data"
    }
   ],
   "source": [
    "plt.figure()\n",
    "plt.scatter(y_test,vrg.predict(X_test_scaled))\n",
    "plt.plot([0,np.max(y_test)],[0,np.max(vrg.predict(X_test_scaled))],'--k')\n",
    "plt.axis('tight')\n",
    "plt.xlabel('True Price ($)')\n",
    "plt.ylabel('Predicted Price ($)')\n",
    "plt.title('Predicted vs. Actual Price (Voting Regressor)')\n",
    "#plt.savefig('figs/pred_vs_actual_vrg.png')"
   ]
  },
  {
   "cell_type": "code",
   "execution_count": 173,
   "id": "f2924a03",
   "metadata": {},
   "outputs": [
    {
     "data": {
      "image/png": "[encoded data removed]",
      "text/plain": [
       "<Figure size 640x480 with 1 Axes>"
      ]
     },
     "metadata": {},
     "output_type": "display_data"
    }
   ],
   "source": [
    "plt.figure()\n",
    "plt.plot(gbr_pred[:20],'gd',label='GBR')\n",
    "plt.plot(rfr_pred[:20],'b^',label='RFR')\n",
    "plt.plot(bag_pred[:20],'ys',label='BAG')\n",
    "plt.plot(ard_pred[:20],'cv',label='ARD')\n",
    "plt.plot(lasso_pred[:20],'pm',label='Lasso')\n",
    "plt.plot(ridge_pred[:20],'Pk',label='Ridge')\n",
    "plt.plot(knn_pred[:20],'x',label='Knear')\n",
    "plt.plot(huber_pred[:20],'H',markerfacecolor='aquamarine',label='Huber')\n",
    "plt.plot(vrg.predict(X_test_scaled)[:20],'r*',label='VRG', markersize=12)\n",
    "\n",
    "plt.tick_params(axis=\"x\", which=\"both\", bottom=False, top=False, labelbottom=False)\n",
    "plt.ylabel(\"Predicted\")\n",
    "plt.xlabel(\"First 20 Testing Samples\")\n",
    "plt.legend(bbox_to_anchor=(1.05, 1),\n",
    "                         loc='upper left', borderaxespad=0)\n",
    "plt.title(\"Regressor predictions and their Average\")\n",
    "#plt.savefig('figs/pred_vs_avg.png')"
   ]
  }
 ],
 "metadata": {
  "kernelspec": {
   "display_name": "mlenv2",
   "language": "python",
   "name": "mlenv2"
  },
  "language_info": {
   "codemirror_mode": {
    "name": "ipython",
    "version": 3
   },
   "file_extension": ".py",
   "mimetype": "text/x-python",
   "name": "python",
   "nbconvert_exporter": "python",
   "pygments_lexer": "ipython3",
   "version": "3.9.15"
  }
 },
 "nbformat": 4,
 "nbformat_minor": 5
}
